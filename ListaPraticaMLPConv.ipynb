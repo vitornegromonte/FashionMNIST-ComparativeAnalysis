{
  "cells": [
    {
      "cell_type": "markdown",
      "metadata": {
        "id": "SzcNr5C8FVQx"
      },
      "source": [
        "## Introdução à Aprendizagem Profunda\n",
        "**LISTA PRÁTICA DAS UNIDADES 1 E 2**\n",
        "- Discente: Vitor Negromonte (vnco)\n",
        "- Período: 2023.2"
      ]
    },
    {
      "cell_type": "markdown",
      "metadata": {
        "id": "hvhmts4k90-a"
      },
      "source": [
        "## Instruções e requisitos"
      ]
    },
    {
      "cell_type": "markdown",
      "metadata": {
        "id": "YC-HsxZHN5XU"
      },
      "source": [
        "- Pode ser feita com o grupo do projeto. Recomendo pair/group programming para que todos vejam um pouco de todas as partes.\n",
        "\n",
        "- Treine e avalie 4 modelos de classificação para a base de dados do FashionMNIST (https://www.kaggle.com/datasets/zalando-research/fashionmnist,\n",
        "https://pytorch.org/vision/stable/generated/torchvision.datasets.FashionMNIST.html).\n",
        "\n",
        "\n",
        "1.   Um modelo base que não seja uma rede neural, como _decision tree, xgboost, random forest_, etc. Recomendação: use o sklearn (https://scikit-learn.org/).\n",
        "\n",
        "2.   Uma MLP\n",
        "\n",
        "3. Uma rede convolucional criada por ti. Recomendação: https://pytorch.org/\n",
        "\n",
        "4. Use um modelo pré treinado já consolidado na literatura para fazer _transfer learning_. Recomendações: https://pytorch.org/hub/pytorch_vision_vgg/\n",
        "\n",
        "\n",
        "Compare os resultados dos modelos:\n",
        "* plote gráficos que mostrem as acurácias de cada modelo\n",
        "* Indique qual foi a classe na qual o modelo teve pior performance (indique qual métrica usou para concluir isso e faça para cada modelo)\n",
        "* argumente qual o melhor modelo levando em consideração o tempo de execução e acurácia.\n",
        "\n",
        "Recomendação use:\n",
        "https://pytorch.org/vision/main/generated/torchvision.datasets.MNIST.html .\n",
        "\n",
        "Recomendação:\n",
        "\n",
        "Faça um template de treino, validação e teste que funcione para uma API de modelo.\n",
        "\n",
        "Crie a API para cada modelo que será usado e use o template"
      ]
    },
    {
      "cell_type": "markdown",
      "metadata": {
        "id": "oK0gUqL9EuJD"
      },
      "source": [
        "## Imports e Downloads"
      ]
    },
    {
      "cell_type": "code",
      "execution_count": 68,
      "metadata": {
        "colab": {
          "base_uri": "https://localhost:8080/"
        },
        "id": "DbXuLORMvWAs",
        "outputId": "7e7b6735-9bb3-4176-cd13-5d8a0846da5c"
      },
      "outputs": [
        {
          "name": "stdout",
          "output_type": "stream",
          "text": [
            "Requirement already satisfied: torchviz in /usr/local/lib/python3.10/dist-packages (0.0.2)\n",
            "Requirement already satisfied: torch in /usr/local/lib/python3.10/dist-packages (from torchviz) (2.1.0+cu121)\n",
            "Requirement already satisfied: graphviz in /usr/local/lib/python3.10/dist-packages (from torchviz) (0.20.1)\n",
            "Requirement already satisfied: filelock in /usr/local/lib/python3.10/dist-packages (from torch->torchviz) (3.13.1)\n",
            "Requirement already satisfied: typing-extensions in /usr/local/lib/python3.10/dist-packages (from torch->torchviz) (4.5.0)\n",
            "Requirement already satisfied: sympy in /usr/local/lib/python3.10/dist-packages (from torch->torchviz) (1.12)\n",
            "Requirement already satisfied: networkx in /usr/local/lib/python3.10/dist-packages (from torch->torchviz) (3.2.1)\n",
            "Requirement already satisfied: jinja2 in /usr/local/lib/python3.10/dist-packages (from torch->torchviz) (3.1.2)\n",
            "Requirement already satisfied: fsspec in /usr/local/lib/python3.10/dist-packages (from torch->torchviz) (2023.6.0)\n",
            "Requirement already satisfied: triton==2.1.0 in /usr/local/lib/python3.10/dist-packages (from torch->torchviz) (2.1.0)\n",
            "Requirement already satisfied: MarkupSafe>=2.0 in /usr/local/lib/python3.10/dist-packages (from jinja2->torch->torchviz) (2.1.3)\n",
            "Requirement already satisfied: mpmath>=0.19 in /usr/local/lib/python3.10/dist-packages (from sympy->torch->torchviz) (1.3.0)\n"
          ]
        }
      ],
      "source": [
        "!pip install torchviz"
      ]
    },
    {
      "cell_type": "markdown",
      "metadata": {
        "id": "4pjksSzNN5XX"
      },
      "source": [
        "### Imports"
      ]
    },
    {
      "cell_type": "code",
      "execution_count": 69,
      "metadata": {
        "id": "sgzcKvcQEw40"
      },
      "outputs": [],
      "source": [
        "import random\n",
        "import time\n",
        "import os\n",
        "\n",
        "import pandas as pd\n",
        "import numpy as np\n",
        "import torch, torchvision\n",
        "from torchvision import datasets, transforms, models\n",
        "import matplotlib.pyplot as plt\n",
        "import seaborn as sns\n",
        "import torchviz\n",
        "import plotly.express as px\n",
        "from torch.utils.data import DataLoader, TensorDataset\n",
        "\n",
        "#import tensorflow as tf\n",
        "#import keras\n",
        "#from tensorflow.keras import models, layers\n",
        "#from tensorflow.keras.models import Model, Sequential\n",
        "#from tensorflow.keras.layers import Input, GlobalAveragePooling2D, Dense\n",
        "#from tensorflow.keras.applications import VGG16, VGG19, ResNet50, ResNet152V2, InceptionV3, DenseNet121 ,DenseNet201\n",
        "\n",
        "from sklearn.tree import DecisionTreeClassifier\n",
        "from sklearn.ensemble import RandomForestClassifier, AdaBoostClassifier, GradientBoostingClassifier\n",
        "from sklearn.neighbors import KNeighborsClassifier\n",
        "from sklearn.linear_model import SGDClassifier\n",
        "from sklearn.svm import SVC\n",
        "from sklearn.naive_bayes import GaussianNB\n",
        "from sklearn.metrics import accuracy_score, confusion_matrix, classification_report\n"
      ]
    },
    {
      "cell_type": "markdown",
      "metadata": {
        "id": "9faqF5q7N5Xe"
      },
      "source": [
        "### Downloading the dataset"
      ]
    },
    {
      "cell_type": "code",
      "execution_count": 70,
      "metadata": {
        "id": "1nA616HCN5Xg"
      },
      "outputs": [],
      "source": [
        "# Load the FashionMNIST dataset\n",
        "train_dataset = torchvision.datasets.FashionMNIST(root='./data', train=True, download=True, transform=transforms.ToTensor())\n",
        "test_dataset = torchvision.datasets.FashionMNIST(root='./data', train=False, download=True, transform=transforms.ToTensor())\n",
        "\n",
        "viz_train_x = train_dataset.data\n",
        "viz_train_y = train_dataset.targets"
      ]
    },
    {
      "cell_type": "markdown",
      "metadata": {
        "id": "e_ABsF-zhGq2"
      },
      "source": [
        "### Data preparation"
      ]
    },
    {
      "cell_type": "code",
      "execution_count": 71,
      "metadata": {
        "id": "B1fQ6dc8hHUo"
      },
      "outputs": [],
      "source": [
        "# Reshape and normalizing the dataset\n",
        "train_x = train_dataset.data.view(train_dataset.data.shape[0], -1).float() / 255.0\n",
        "test_x = test_dataset.data.view(test_dataset.data.shape[0], -1).float() / 255.0\n",
        "\n",
        "train_y = train_dataset.targets\n",
        "test_y = test_dataset.targets"
      ]
    },
    {
      "cell_type": "markdown",
      "metadata": {
        "id": "UAc_IgEsN5Xi"
      },
      "source": [
        "### Base model functions and constants"
      ]
    },
    {
      "cell_type": "code",
      "execution_count": 72,
      "metadata": {
        "id": "wiZBsGSUZMHG"
      },
      "outputs": [],
      "source": [
        "CLASS_NAMES = ['T-shirt/top', 'Trouser', 'Pullover', 'Dress', 'Coat', 'Sandal', 'Shirt', 'Sneaker', 'Bag', 'Ankle boot']\n",
        "MODELS_LISTS = []\n",
        "ACCURACIES = []\n",
        "EXECUTION_TIMES = []\n",
        "MOST_DIFFICULT_CLASS = []\n",
        "TPR_MIN = []\n",
        "\n",
        "DEVICE = torch.device(\"cuda\" if torch.cuda.is_available() else \"cpu\")\n",
        "\n",
        "# Function to return the execution time of a model\n",
        "def base_model_trainer(model):\n",
        "    start_time = time.time()\n",
        "    model.fit(train_x, train_y)\n",
        "    end_time = time.time()\n",
        "    return end_time - start_time\n",
        "\n",
        "# Function to evaluate a base model and return the accuracy, confusion matrix, classification report and execution time\n",
        "def evaluate_base_model(name, model, exec_time):\n",
        "    y_pred = model.predict(test_x)\n",
        "    accuracy = accuracy_score(test_y, y_pred)\n",
        "    print(f\"Accuracy of {name}: {accuracy:.4f}\\n\")\n",
        "\n",
        "    print(f'Execution time: {exec_time} \\n')\n",
        "\n",
        "    conf_matrix_result = confusion_matrix(test_y, y_pred)\n",
        "    print('Classification Report')\n",
        "    print(classification_report(test_y, y_pred))\n",
        "\n",
        "    print('\\nConfusion Matrix')\n",
        "    print(conf_matrix_result)\n",
        "    print(f'Execution time {exec_time} seconds\\n')\n",
        "\n",
        "    TPR = conf_matrix_result.diagonal() / conf_matrix_result.sum(axis=1)\n",
        "    print('True Positive Rate:')\n",
        "    print(f'TPR: {TPR} \\n')\n",
        "\n",
        "    print(f'Most dificult class {TPR.argmin()}')\n",
        "    MODELS_LISTS.append(name)\n",
        "    ACCURACIES.append(accuracy)\n",
        "    EXECUTION_TIMES.append(exec_time)\n",
        "    MOST_DIFFICULT_CLASS.append(TPR.argmin())\n",
        "    TPR_MIN.append(TPR.min())\n",
        "\n",
        "    return accuracy, conf_matrix_result, classification_report, exec_time, TPR_MIN\n",
        "\n",
        "def neural_network_trainer (model, batch_size = 128, epochs = 20):\n",
        "    start_time = time.time()\n",
        "\n",
        "    model.fit(train_x, train_y, batch_size =  batch_size, epochs = epochs)\n",
        "    end_time =  time.time()\n",
        "    execution_time =  end_time - start_time\n",
        "\n",
        "    return execution_time\n",
        "\n",
        "# A function to evaluate the model and print the accuracy, confusion matrix, classification report, execution time, TPR and the most difficult class\n",
        "def evaluate_neural_network(name, model, execution_time):\n",
        "    y_pred = model.predict(test_x)\n",
        "    y_pred = np.argmax(y_pred, axis =1)\n",
        "    accuracy = accuracy_score(test_y, y_pred)\n",
        "    print(f'Accuracy: {accuracy:.4f} \\n')\n",
        "\n",
        "    confusionMatrix = confusion_matrix(test_y, y_pred)\n",
        "    print('Classification Report')\n",
        "    print(classification_report(test_y, y_pred))\n",
        "\n",
        "    print('Confusion Matrix:')\n",
        "    print(confusionMatrix)\n",
        "    print(f'Exec time: {execution_time}')\n",
        "\n",
        "    TPR = confusionMatrix.diagonal() / confusionMatrix.sum(axis = 1)\n",
        "    print('True POsitive Rate')\n",
        "    print(TPR)\n",
        "\n",
        "    MODELS_LISTS.append(name)\n",
        "    ACCURACIES.append(accuracy)\n",
        "    EXECUTION_TIMES.append(execution_time)\n",
        "    MOST_DIFFICULT_CLASS.append(TPR.argmin())\n",
        "    TPR_MIN.append(TPR.min())"
      ]
    },
    {
      "cell_type": "markdown",
      "metadata": {
        "id": "5PfAFuCcN5Xm"
      },
      "source": [
        "## Exploratory Data Analysis (EDA)\n",
        "\n"
      ]
    },
    {
      "cell_type": "code",
      "execution_count": 73,
      "metadata": {
        "colab": {
          "base_uri": "https://localhost:8080/",
          "height": 452
        },
        "id": "7p1WogeoRp6c",
        "outputId": "bf78cc9f-0dd5-4d9a-88fc-deb142301723"
      },
      "outputs": [
        {
          "data": {
            "image/png": "[encoded data removed]",
            "text/plain": [
              "<Figure size 640x480 with 2 Axes>"
            ]
          },
          "metadata": {},
          "output_type": "display_data"
        }
      ],
      "source": [
        "plt.figure()\n",
        "plt.imshow(viz_train_x[6], cmap=plt.cm.binary)\n",
        "plt.title(CLASS_NAMES[viz_train_y[6]])\n",
        "plt.colorbar()\n",
        "plt.grid(False)\n",
        "plt.show()"
      ]
    },
    {
      "cell_type": "code",
      "execution_count": 74,
      "metadata": {
        "colab": {
          "base_uri": "https://localhost:8080/",
          "height": 348
        },
        "id": "sBEFpWZeN5Xp",
        "outputId": "678c09be-f9d7-4711-fc1f-2aa9bf9a9c6d"
      },
      "outputs": [
        {
          "data": {
            "image/png": "[encoded data removed]",
            "text/plain": [
              "<Figure size 1000x1000 with 10 Axes>"
            ]
          },
          "metadata": {},
          "output_type": "display_data"
        }
      ],
      "source": [
        "plt.figure(figsize=(10,10))\n",
        "for i in range(10):\n",
        "    plt.subplot(5,5,i+1)\n",
        "    plt.xticks([])\n",
        "    plt.yticks([])\n",
        "    plt.grid(False)\n",
        "    plt.imshow(viz_train_x[i], cmap=plt.cm.binary)\n",
        "    plt.xlabel(CLASS_NAMES[viz_train_y[i]])\n",
        "plt.show()"
      ]
    },
    {
      "cell_type": "code",
      "execution_count": 75,
      "metadata": {
        "colab": {
          "base_uri": "https://localhost:8080/",
          "height": 669
        },
        "id": "EKFlrbV7N5Xr",
        "outputId": "01dc1866-a5a3-4762-e1cd-f80787b5d66c"
      },
      "outputs": [
        {
          "name": "stdout",
          "output_type": "stream",
          "text": [
            "Distribuição de frequência das classes do conjunto de treinamento: \n",
            " {0: 6000, 1: 6000, 2: 6000, 3: 6000, 4: 6000, 5: 6000, 6: 6000, 7: 6000, 8: 6000, 9: 6000} \n",
            "\n"
          ]
        },
        {
          "data": {
            "text/html": [
              "<html>\n",
              "<head><meta charset=\"utf-8\" /></head>\n",
              "<body>\n",
              "    <div>            <script src=\"https://cdnjs.cloudflare.com/ajax/libs/mathjax/2.7.5/MathJax.js?config=TeX-AMS-MML_SVG\"></script><script type=\"text/javascript\">if (window.MathJax && window.MathJax.Hub && window.MathJax.Hub.Config) {window.MathJax.Hub.Config({SVG: {font: \"STIX-Web\"}});}</script>                <script type=\"text/javascript\">window.PlotlyConfig = {MathJaxConfig: 'local'};</script>\n",
              "        <script charset=\"utf-8\" src=\"https://cdn.plot.ly/plotly-2.24.1.min.js\"></script>                <div id=\"1ac513d8-1bb6-422d-b021-2a817f039794\" class=\"plotly-graph-div\" style=\"height:600px; width:1000px;\"></div>            <script type=\"text/javascript\">                                    window.PLOTLYENV=window.PLOTLYENV || {};                                    if (document.getElementById(\"1ac513d8-1bb6-422d-b021-2a817f039794\")) {                    Plotly.newPlot(                        \"1ac513d8-1bb6-422d-b021-2a817f039794\",                        [{\"alignmentgroup\":\"True\",\"hovertemplate\":\"Class=%{x}\\u003cbr\\u003eFrequency=%{text}\\u003cextra\\u003e\\u003c\\u002fextra\\u003e\",\"legendgroup\":\"\",\"marker\":{\"color\":\"#636efa\",\"pattern\":{\"shape\":\"\"}},\"name\":\"\",\"offsetgroup\":\"\",\"orientation\":\"v\",\"showlegend\":false,\"text\":[6000.0,6000.0,6000.0,6000.0,6000.0,6000.0,6000.0,6000.0,6000.0,6000.0],\"textposition\":\"auto\",\"x\":[0,1,2,3,4,5,6,7,8,9],\"xaxis\":\"x\",\"y\":[6000,6000,6000,6000,6000,6000,6000,6000,6000,6000],\"yaxis\":\"y\",\"type\":\"bar\"}],                        {\"template\":{\"data\":{\"histogram2dcontour\":[{\"type\":\"histogram2dcontour\",\"colorbar\":{\"outlinewidth\":0,\"ticks\":\"\"},\"colorscale\":[[0.0,\"#0d0887\"],[0.1111111111111111,\"#46039f\"],[0.2222222222222222,\"#7201a8\"],[0.3333333333333333,\"#9c179e\"],[0.4444444444444444,\"#bd3786\"],[0.5555555555555556,\"#d8576b\"],[0.6666666666666666,\"#ed7953\"],[0.7777777777777778,\"#fb9f3a\"],[0.8888888888888888,\"#fdca26\"],[1.0,\"#f0f921\"]]}],\"choropleth\":[{\"type\":\"choropleth\",\"colorbar\":{\"outlinewidth\":0,\"ticks\":\"\"}}],\"histogram2d\":[{\"type\":\"histogram2d\",\"colorbar\":{\"outlinewidth\":0,\"ticks\":\"\"},\"colorscale\":[[0.0,\"#0d0887\"],[0.1111111111111111,\"#46039f\"],[0.2222222222222222,\"#7201a8\"],[0.3333333333333333,\"#9c179e\"],[0.4444444444444444,\"#bd3786\"],[0.5555555555555556,\"#d8576b\"],[0.6666666666666666,\"#ed7953\"],[0.7777777777777778,\"#fb9f3a\"],[0.8888888888888888,\"#fdca26\"],[1.0,\"#f0f921\"]]}],\"heatmap\":[{\"type\":\"heatmap\",\"colorbar\":{\"outlinewidth\":0,\"ticks\":\"\"},\"colorscale\":[[0.0,\"#0d0887\"],[0.1111111111111111,\"#46039f\"],[0.2222222222222222,\"#7201a8\"],[0.3333333333333333,\"#9c179e\"],[0.4444444444444444,\"#bd3786\"],[0.5555555555555556,\"#d8576b\"],[0.6666666666666666,\"#ed7953\"],[0.7777777777777778,\"#fb9f3a\"],[0.8888888888888888,\"#fdca26\"],[1.0,\"#f0f921\"]]}],\"heatmapgl\":[{\"type\":\"heatmapgl\",\"colorbar\":{\"outlinewidth\":0,\"ticks\":\"\"},\"colorscale\":[[0.0,\"#0d0887\"],[0.1111111111111111,\"#46039f\"],[0.2222222222222222,\"#7201a8\"],[0.3333333333333333,\"#9c179e\"],[0.4444444444444444,\"#bd3786\"],[0.5555555555555556,\"#d8576b\"],[0.6666666666666666,\"#ed7953\"],[0.7777777777777778,\"#fb9f3a\"],[0.8888888888888888,\"#fdca26\"],[1.0,\"#f0f921\"]]}],\"contourcarpet\":[{\"type\":\"contourcarpet\",\"colorbar\":{\"outlinewidth\":0,\"ticks\":\"\"}}],\"contour\":[{\"type\":\"contour\",\"colorbar\":{\"outlinewidth\":0,\"ticks\":\"\"},\"colorscale\":[[0.0,\"#0d0887\"],[0.1111111111111111,\"#46039f\"],[0.2222222222222222,\"#7201a8\"],[0.3333333333333333,\"#9c179e\"],[0.4444444444444444,\"#bd3786\"],[0.5555555555555556,\"#d8576b\"],[0.6666666666666666,\"#ed7953\"],[0.7777777777777778,\"#fb9f3a\"],[0.8888888888888888,\"#fdca26\"],[1.0,\"#f0f921\"]]}],\"surface\":[{\"type\":\"surface\",\"colorbar\":{\"outlinewidth\":0,\"ticks\":\"\"},\"colorscale\":[[0.0,\"#0d0887\"],[0.1111111111111111,\"#46039f\"],[0.2222222222222222,\"#7201a8\"],[0.3333333333333333,\"#9c179e\"],[0.4444444444444444,\"#bd3786\"],[0.5555555555555556,\"#d8576b\"],[0.6666666666666666,\"#ed7953\"],[0.7777777777777778,\"#fb9f3a\"],[0.8888888888888888,\"#fdca26\"],[1.0,\"#f0f921\"]]}],\"mesh3d\":[{\"type\":\"mesh3d\",\"colorbar\":{\"outlinewidth\":0,\"ticks\":\"\"}}],\"scatter\":[{\"fillpattern\":{\"fillmode\":\"overlay\",\"size\":10,\"solidity\":0.2},\"type\":\"scatter\"}],\"parcoords\":[{\"type\":\"parcoords\",\"line\":{\"colorbar\":{\"outlinewidth\":0,\"ticks\":\"\"}}}],\"scatterpolargl\":[{\"type\":\"scatterpolargl\",\"marker\":{\"colorbar\":{\"outlinewidth\":0,\"ticks\":\"\"}}}],\"bar\":[{\"error_x\":{\"color\":\"#2a3f5f\"},\"error_y\":{\"color\":\"#2a3f5f\"},\"marker\":{\"line\":{\"color\":\"#E5ECF6\",\"width\":0.5},\"pattern\":{\"fillmode\":\"overlay\",\"size\":10,\"solidity\":0.2}},\"type\":\"bar\"}],\"scattergeo\":[{\"type\":\"scattergeo\",\"marker\":{\"colorbar\":{\"outlinewidth\":0,\"ticks\":\"\"}}}],\"scatterpolar\":[{\"type\":\"scatterpolar\",\"marker\":{\"colorbar\":{\"outlinewidth\":0,\"ticks\":\"\"}}}],\"histogram\":[{\"marker\":{\"pattern\":{\"fillmode\":\"overlay\",\"size\":10,\"solidity\":0.2}},\"type\":\"histogram\"}],\"scattergl\":[{\"type\":\"scattergl\",\"marker\":{\"colorbar\":{\"outlinewidth\":0,\"ticks\":\"\"}}}],\"scatter3d\":[{\"type\":\"scatter3d\",\"line\":{\"colorbar\":{\"outlinewidth\":0,\"ticks\":\"\"}},\"marker\":{\"colorbar\":{\"outlinewidth\":0,\"ticks\":\"\"}}}],\"scattermapbox\":[{\"type\":\"scattermapbox\",\"marker\":{\"colorbar\":{\"outlinewidth\":0,\"ticks\":\"\"}}}],\"scatterternary\":[{\"type\":\"scatterternary\",\"marker\":{\"colorbar\":{\"outlinewidth\":0,\"ticks\":\"\"}}}],\"scattercarpet\":[{\"type\":\"scattercarpet\",\"marker\":{\"colorbar\":{\"outlinewidth\":0,\"ticks\":\"\"}}}],\"carpet\":[{\"aaxis\":{\"endlinecolor\":\"#2a3f5f\",\"gridcolor\":\"white\",\"linecolor\":\"white\",\"minorgridcolor\":\"white\",\"startlinecolor\":\"#2a3f5f\"},\"baxis\":{\"endlinecolor\":\"#2a3f5f\",\"gridcolor\":\"white\",\"linecolor\":\"white\",\"minorgridcolor\":\"white\",\"startlinecolor\":\"#2a3f5f\"},\"type\":\"carpet\"}],\"table\":[{\"cells\":{\"fill\":{\"color\":\"#EBF0F8\"},\"line\":{\"color\":\"white\"}},\"header\":{\"fill\":{\"color\":\"#C8D4E3\"},\"line\":{\"color\":\"white\"}},\"type\":\"table\"}],\"barpolar\":[{\"marker\":{\"line\":{\"color\":\"#E5ECF6\",\"width\":0.5},\"pattern\":{\"fillmode\":\"overlay\",\"size\":10,\"solidity\":0.2}},\"type\":\"barpolar\"}],\"pie\":[{\"automargin\":true,\"type\":\"pie\"}]},\"layout\":{\"autotypenumbers\":\"strict\",\"colorway\":[\"#636efa\",\"#EF553B\",\"#00cc96\",\"#ab63fa\",\"#FFA15A\",\"#19d3f3\",\"#FF6692\",\"#B6E880\",\"#FF97FF\",\"#FECB52\"],\"font\":{\"color\":\"#2a3f5f\"},\"hovermode\":\"closest\",\"hoverlabel\":{\"align\":\"left\"},\"paper_bgcolor\":\"white\",\"plot_bgcolor\":\"#E5ECF6\",\"polar\":{\"bgcolor\":\"#E5ECF6\",\"angularaxis\":{\"gridcolor\":\"white\",\"linecolor\":\"white\",\"ticks\":\"\"},\"radialaxis\":{\"gridcolor\":\"white\",\"linecolor\":\"white\",\"ticks\":\"\"}},\"ternary\":{\"bgcolor\":\"#E5ECF6\",\"aaxis\":{\"gridcolor\":\"white\",\"linecolor\":\"white\",\"ticks\":\"\"},\"baxis\":{\"gridcolor\":\"white\",\"linecolor\":\"white\",\"ticks\":\"\"},\"caxis\":{\"gridcolor\":\"white\",\"linecolor\":\"white\",\"ticks\":\"\"}},\"coloraxis\":{\"colorbar\":{\"outlinewidth\":0,\"ticks\":\"\"}},\"colorscale\":{\"sequential\":[[0.0,\"#0d0887\"],[0.1111111111111111,\"#46039f\"],[0.2222222222222222,\"#7201a8\"],[0.3333333333333333,\"#9c179e\"],[0.4444444444444444,\"#bd3786\"],[0.5555555555555556,\"#d8576b\"],[0.6666666666666666,\"#ed7953\"],[0.7777777777777778,\"#fb9f3a\"],[0.8888888888888888,\"#fdca26\"],[1.0,\"#f0f921\"]],\"sequentialminus\":[[0.0,\"#0d0887\"],[0.1111111111111111,\"#46039f\"],[0.2222222222222222,\"#7201a8\"],[0.3333333333333333,\"#9c179e\"],[0.4444444444444444,\"#bd3786\"],[0.5555555555555556,\"#d8576b\"],[0.6666666666666666,\"#ed7953\"],[0.7777777777777778,\"#fb9f3a\"],[0.8888888888888888,\"#fdca26\"],[1.0,\"#f0f921\"]],\"diverging\":[[0,\"#8e0152\"],[0.1,\"#c51b7d\"],[0.2,\"#de77ae\"],[0.3,\"#f1b6da\"],[0.4,\"#fde0ef\"],[0.5,\"#f7f7f7\"],[0.6,\"#e6f5d0\"],[0.7,\"#b8e186\"],[0.8,\"#7fbc41\"],[0.9,\"#4d9221\"],[1,\"#276419\"]]},\"xaxis\":{\"gridcolor\":\"white\",\"linecolor\":\"white\",\"ticks\":\"\",\"title\":{\"standoff\":15},\"zerolinecolor\":\"white\",\"automargin\":true,\"zerolinewidth\":2},\"yaxis\":{\"gridcolor\":\"white\",\"linecolor\":\"white\",\"ticks\":\"\",\"title\":{\"standoff\":15},\"zerolinecolor\":\"white\",\"automargin\":true,\"zerolinewidth\":2},\"scene\":{\"xaxis\":{\"backgroundcolor\":\"#E5ECF6\",\"gridcolor\":\"white\",\"linecolor\":\"white\",\"showbackground\":true,\"ticks\":\"\",\"zerolinecolor\":\"white\",\"gridwidth\":2},\"yaxis\":{\"backgroundcolor\":\"#E5ECF6\",\"gridcolor\":\"white\",\"linecolor\":\"white\",\"showbackground\":true,\"ticks\":\"\",\"zerolinecolor\":\"white\",\"gridwidth\":2},\"zaxis\":{\"backgroundcolor\":\"#E5ECF6\",\"gridcolor\":\"white\",\"linecolor\":\"white\",\"showbackground\":true,\"ticks\":\"\",\"zerolinecolor\":\"white\",\"gridwidth\":2}},\"shapedefaults\":{\"line\":{\"color\":\"#2a3f5f\"}},\"annotationdefaults\":{\"arrowcolor\":\"#2a3f5f\",\"arrowhead\":0,\"arrowwidth\":1},\"geo\":{\"bgcolor\":\"white\",\"landcolor\":\"#E5ECF6\",\"subunitcolor\":\"white\",\"showland\":true,\"showlakes\":true,\"lakecolor\":\"white\"},\"title\":{\"x\":0.05},\"mapbox\":{\"style\":\"light\"}}},\"xaxis\":{\"anchor\":\"y\",\"domain\":[0.0,1.0],\"title\":{\"text\":\"Class\"}},\"yaxis\":{\"anchor\":\"x\",\"domain\":[0.0,1.0],\"title\":{\"text\":\"Frequency\"}},\"legend\":{\"tracegroupgap\":0},\"title\":{\"text\":\"Distribution of Labels in Training Dataset\"},\"barmode\":\"relative\",\"height\":600,\"width\":1000},                        {\"responsive\": true}                    ).then(function(){\n",
              "                            \n",
              "var gd = document.getElementById('1ac513d8-1bb6-422d-b021-2a817f039794');\n",
              "var x = new MutationObserver(function (mutations, observer) {{\n",
              "        var display = window.getComputedStyle(gd).display;\n",
              "        if (!display || display === 'none') {{\n",
              "            console.log([gd, 'removed!']);\n",
              "            Plotly.purge(gd);\n",
              "            observer.disconnect();\n",
              "        }}\n",
              "}});\n",
              "\n",
              "// Listen for the removal of the full notebook cells\n",
              "var notebookContainer = gd.closest('#notebook-container');\n",
              "if (notebookContainer) {{\n",
              "    x.observe(notebookContainer, {childList: true});\n",
              "}}\n",
              "\n",
              "// Listen for the clearing of the current output cell\n",
              "var outputEl = gd.closest('.output');\n",
              "if (outputEl) {{\n",
              "    x.observe(outputEl, {childList: true});\n",
              "}}\n",
              "\n",
              "                        })                };                            </script>        </div>\n",
              "</body>\n",
              "</html>"
            ]
          },
          "metadata": {},
          "output_type": "display_data"
        }
      ],
      "source": [
        "# Distribution of the labels in the traing dataset with numbers in each class\n",
        "unique, counts = np.unique(train_y, return_counts=True)\n",
        "print(\"Distribuição de frequência das classes do conjunto de treinamento: \\n\", dict(zip(unique, counts)), \"\\n\")\n",
        "\n",
        "# Create a DataFrame for plotting\n",
        "data = {'Class': unique, 'Count': counts}\n",
        "df = pd.DataFrame(data)\n",
        "\n",
        "fig = px.bar(df, x='Class', y='Count', text='Count',\n",
        "             labels={'Count': 'Frequency', 'Class': 'Class'},\n",
        "             title='Distribution of Labels in Training Dataset',\n",
        "             width=1000, height=600)\n",
        "\n",
        "fig.show()"
      ]
    },
    {
      "cell_type": "code",
      "execution_count": 76,
      "metadata": {
        "colab": {
          "base_uri": "https://localhost:8080/",
          "height": 669
        },
        "id": "AHAbA_blN5Xt",
        "outputId": "adec3c19-0e55-4c6f-ea9c-da55878ed126"
      },
      "outputs": [
        {
          "name": "stdout",
          "output_type": "stream",
          "text": [
            "Distribuição de frequência das classes do conjunto de teste: \n",
            " {0: 1000, 1: 1000, 2: 1000, 3: 1000, 4: 1000, 5: 1000, 6: 1000, 7: 1000, 8: 1000, 9: 1000} \n",
            "\n"
          ]
        },
        {
          "data": {
            "text/html": [
              "<html>\n",
              "<head><meta charset=\"utf-8\" /></head>\n",
              "<body>\n",
              "    <div>            <script src=\"https://cdnjs.cloudflare.com/ajax/libs/mathjax/2.7.5/MathJax.js?config=TeX-AMS-MML_SVG\"></script><script type=\"text/javascript\">if (window.MathJax && window.MathJax.Hub && window.MathJax.Hub.Config) {window.MathJax.Hub.Config({SVG: {font: \"STIX-Web\"}});}</script>                <script type=\"text/javascript\">window.PlotlyConfig = {MathJaxConfig: 'local'};</script>\n",
              "        <script charset=\"utf-8\" src=\"https://cdn.plot.ly/plotly-2.24.1.min.js\"></script>                <div id=\"7cd9fb4b-7fc1-4103-9f6e-bd0ce4b07923\" class=\"plotly-graph-div\" style=\"height:600px; width:1000px;\"></div>            <script type=\"text/javascript\">                                    window.PLOTLYENV=window.PLOTLYENV || {};                                    if (document.getElementById(\"7cd9fb4b-7fc1-4103-9f6e-bd0ce4b07923\")) {                    Plotly.newPlot(                        \"7cd9fb4b-7fc1-4103-9f6e-bd0ce4b07923\",                        [{\"alignmentgroup\":\"True\",\"hovertemplate\":\"Class=%{x}\\u003cbr\\u003eFrequency=%{text}\\u003cextra\\u003e\\u003c\\u002fextra\\u003e\",\"legendgroup\":\"\",\"marker\":{\"color\":\"#636efa\",\"pattern\":{\"shape\":\"\"}},\"name\":\"\",\"offsetgroup\":\"\",\"orientation\":\"v\",\"showlegend\":false,\"text\":[1000.0,1000.0,1000.0,1000.0,1000.0,1000.0,1000.0,1000.0,1000.0,1000.0],\"textposition\":\"auto\",\"x\":[0,1,2,3,4,5,6,7,8,9],\"xaxis\":\"x\",\"y\":[1000,1000,1000,1000,1000,1000,1000,1000,1000,1000],\"yaxis\":\"y\",\"type\":\"bar\"}],                        {\"template\":{\"data\":{\"histogram2dcontour\":[{\"type\":\"histogram2dcontour\",\"colorbar\":{\"outlinewidth\":0,\"ticks\":\"\"},\"colorscale\":[[0.0,\"#0d0887\"],[0.1111111111111111,\"#46039f\"],[0.2222222222222222,\"#7201a8\"],[0.3333333333333333,\"#9c179e\"],[0.4444444444444444,\"#bd3786\"],[0.5555555555555556,\"#d8576b\"],[0.6666666666666666,\"#ed7953\"],[0.7777777777777778,\"#fb9f3a\"],[0.8888888888888888,\"#fdca26\"],[1.0,\"#f0f921\"]]}],\"choropleth\":[{\"type\":\"choropleth\",\"colorbar\":{\"outlinewidth\":0,\"ticks\":\"\"}}],\"histogram2d\":[{\"type\":\"histogram2d\",\"colorbar\":{\"outlinewidth\":0,\"ticks\":\"\"},\"colorscale\":[[0.0,\"#0d0887\"],[0.1111111111111111,\"#46039f\"],[0.2222222222222222,\"#7201a8\"],[0.3333333333333333,\"#9c179e\"],[0.4444444444444444,\"#bd3786\"],[0.5555555555555556,\"#d8576b\"],[0.6666666666666666,\"#ed7953\"],[0.7777777777777778,\"#fb9f3a\"],[0.8888888888888888,\"#fdca26\"],[1.0,\"#f0f921\"]]}],\"heatmap\":[{\"type\":\"heatmap\",\"colorbar\":{\"outlinewidth\":0,\"ticks\":\"\"},\"colorscale\":[[0.0,\"#0d0887\"],[0.1111111111111111,\"#46039f\"],[0.2222222222222222,\"#7201a8\"],[0.3333333333333333,\"#9c179e\"],[0.4444444444444444,\"#bd3786\"],[0.5555555555555556,\"#d8576b\"],[0.6666666666666666,\"#ed7953\"],[0.7777777777777778,\"#fb9f3a\"],[0.8888888888888888,\"#fdca26\"],[1.0,\"#f0f921\"]]}],\"heatmapgl\":[{\"type\":\"heatmapgl\",\"colorbar\":{\"outlinewidth\":0,\"ticks\":\"\"},\"colorscale\":[[0.0,\"#0d0887\"],[0.1111111111111111,\"#46039f\"],[0.2222222222222222,\"#7201a8\"],[0.3333333333333333,\"#9c179e\"],[0.4444444444444444,\"#bd3786\"],[0.5555555555555556,\"#d8576b\"],[0.6666666666666666,\"#ed7953\"],[0.7777777777777778,\"#fb9f3a\"],[0.8888888888888888,\"#fdca26\"],[1.0,\"#f0f921\"]]}],\"contourcarpet\":[{\"type\":\"contourcarpet\",\"colorbar\":{\"outlinewidth\":0,\"ticks\":\"\"}}],\"contour\":[{\"type\":\"contour\",\"colorbar\":{\"outlinewidth\":0,\"ticks\":\"\"},\"colorscale\":[[0.0,\"#0d0887\"],[0.1111111111111111,\"#46039f\"],[0.2222222222222222,\"#7201a8\"],[0.3333333333333333,\"#9c179e\"],[0.4444444444444444,\"#bd3786\"],[0.5555555555555556,\"#d8576b\"],[0.6666666666666666,\"#ed7953\"],[0.7777777777777778,\"#fb9f3a\"],[0.8888888888888888,\"#fdca26\"],[1.0,\"#f0f921\"]]}],\"surface\":[{\"type\":\"surface\",\"colorbar\":{\"outlinewidth\":0,\"ticks\":\"\"},\"colorscale\":[[0.0,\"#0d0887\"],[0.1111111111111111,\"#46039f\"],[0.2222222222222222,\"#7201a8\"],[0.3333333333333333,\"#9c179e\"],[0.4444444444444444,\"#bd3786\"],[0.5555555555555556,\"#d8576b\"],[0.6666666666666666,\"#ed7953\"],[0.7777777777777778,\"#fb9f3a\"],[0.8888888888888888,\"#fdca26\"],[1.0,\"#f0f921\"]]}],\"mesh3d\":[{\"type\":\"mesh3d\",\"colorbar\":{\"outlinewidth\":0,\"ticks\":\"\"}}],\"scatter\":[{\"fillpattern\":{\"fillmode\":\"overlay\",\"size\":10,\"solidity\":0.2},\"type\":\"scatter\"}],\"parcoords\":[{\"type\":\"parcoords\",\"line\":{\"colorbar\":{\"outlinewidth\":0,\"ticks\":\"\"}}}],\"scatterpolargl\":[{\"type\":\"scatterpolargl\",\"marker\":{\"colorbar\":{\"outlinewidth\":0,\"ticks\":\"\"}}}],\"bar\":[{\"error_x\":{\"color\":\"#2a3f5f\"},\"error_y\":{\"color\":\"#2a3f5f\"},\"marker\":{\"line\":{\"color\":\"#E5ECF6\",\"width\":0.5},\"pattern\":{\"fillmode\":\"overlay\",\"size\":10,\"solidity\":0.2}},\"type\":\"bar\"}],\"scattergeo\":[{\"type\":\"scattergeo\",\"marker\":{\"colorbar\":{\"outlinewidth\":0,\"ticks\":\"\"}}}],\"scatterpolar\":[{\"type\":\"scatterpolar\",\"marker\":{\"colorbar\":{\"outlinewidth\":0,\"ticks\":\"\"}}}],\"histogram\":[{\"marker\":{\"pattern\":{\"fillmode\":\"overlay\",\"size\":10,\"solidity\":0.2}},\"type\":\"histogram\"}],\"scattergl\":[{\"type\":\"scattergl\",\"marker\":{\"colorbar\":{\"outlinewidth\":0,\"ticks\":\"\"}}}],\"scatter3d\":[{\"type\":\"scatter3d\",\"line\":{\"colorbar\":{\"outlinewidth\":0,\"ticks\":\"\"}},\"marker\":{\"colorbar\":{\"outlinewidth\":0,\"ticks\":\"\"}}}],\"scattermapbox\":[{\"type\":\"scattermapbox\",\"marker\":{\"colorbar\":{\"outlinewidth\":0,\"ticks\":\"\"}}}],\"scatterternary\":[{\"type\":\"scatterternary\",\"marker\":{\"colorbar\":{\"outlinewidth\":0,\"ticks\":\"\"}}}],\"scattercarpet\":[{\"type\":\"scattercarpet\",\"marker\":{\"colorbar\":{\"outlinewidth\":0,\"ticks\":\"\"}}}],\"carpet\":[{\"aaxis\":{\"endlinecolor\":\"#2a3f5f\",\"gridcolor\":\"white\",\"linecolor\":\"white\",\"minorgridcolor\":\"white\",\"startlinecolor\":\"#2a3f5f\"},\"baxis\":{\"endlinecolor\":\"#2a3f5f\",\"gridcolor\":\"white\",\"linecolor\":\"white\",\"minorgridcolor\":\"white\",\"startlinecolor\":\"#2a3f5f\"},\"type\":\"carpet\"}],\"table\":[{\"cells\":{\"fill\":{\"color\":\"#EBF0F8\"},\"line\":{\"color\":\"white\"}},\"header\":{\"fill\":{\"color\":\"#C8D4E3\"},\"line\":{\"color\":\"white\"}},\"type\":\"table\"}],\"barpolar\":[{\"marker\":{\"line\":{\"color\":\"#E5ECF6\",\"width\":0.5},\"pattern\":{\"fillmode\":\"overlay\",\"size\":10,\"solidity\":0.2}},\"type\":\"barpolar\"}],\"pie\":[{\"automargin\":true,\"type\":\"pie\"}]},\"layout\":{\"autotypenumbers\":\"strict\",\"colorway\":[\"#636efa\",\"#EF553B\",\"#00cc96\",\"#ab63fa\",\"#FFA15A\",\"#19d3f3\",\"#FF6692\",\"#B6E880\",\"#FF97FF\",\"#FECB52\"],\"font\":{\"color\":\"#2a3f5f\"},\"hovermode\":\"closest\",\"hoverlabel\":{\"align\":\"left\"},\"paper_bgcolor\":\"white\",\"plot_bgcolor\":\"#E5ECF6\",\"polar\":{\"bgcolor\":\"#E5ECF6\",\"angularaxis\":{\"gridcolor\":\"white\",\"linecolor\":\"white\",\"ticks\":\"\"},\"radialaxis\":{\"gridcolor\":\"white\",\"linecolor\":\"white\",\"ticks\":\"\"}},\"ternary\":{\"bgcolor\":\"#E5ECF6\",\"aaxis\":{\"gridcolor\":\"white\",\"linecolor\":\"white\",\"ticks\":\"\"},\"baxis\":{\"gridcolor\":\"white\",\"linecolor\":\"white\",\"ticks\":\"\"},\"caxis\":{\"gridcolor\":\"white\",\"linecolor\":\"white\",\"ticks\":\"\"}},\"coloraxis\":{\"colorbar\":{\"outlinewidth\":0,\"ticks\":\"\"}},\"colorscale\":{\"sequential\":[[0.0,\"#0d0887\"],[0.1111111111111111,\"#46039f\"],[0.2222222222222222,\"#7201a8\"],[0.3333333333333333,\"#9c179e\"],[0.4444444444444444,\"#bd3786\"],[0.5555555555555556,\"#d8576b\"],[0.6666666666666666,\"#ed7953\"],[0.7777777777777778,\"#fb9f3a\"],[0.8888888888888888,\"#fdca26\"],[1.0,\"#f0f921\"]],\"sequentialminus\":[[0.0,\"#0d0887\"],[0.1111111111111111,\"#46039f\"],[0.2222222222222222,\"#7201a8\"],[0.3333333333333333,\"#9c179e\"],[0.4444444444444444,\"#bd3786\"],[0.5555555555555556,\"#d8576b\"],[0.6666666666666666,\"#ed7953\"],[0.7777777777777778,\"#fb9f3a\"],[0.8888888888888888,\"#fdca26\"],[1.0,\"#f0f921\"]],\"diverging\":[[0,\"#8e0152\"],[0.1,\"#c51b7d\"],[0.2,\"#de77ae\"],[0.3,\"#f1b6da\"],[0.4,\"#fde0ef\"],[0.5,\"#f7f7f7\"],[0.6,\"#e6f5d0\"],[0.7,\"#b8e186\"],[0.8,\"#7fbc41\"],[0.9,\"#4d9221\"],[1,\"#276419\"]]},\"xaxis\":{\"gridcolor\":\"white\",\"linecolor\":\"white\",\"ticks\":\"\",\"title\":{\"standoff\":15},\"zerolinecolor\":\"white\",\"automargin\":true,\"zerolinewidth\":2},\"yaxis\":{\"gridcolor\":\"white\",\"linecolor\":\"white\",\"ticks\":\"\",\"title\":{\"standoff\":15},\"zerolinecolor\":\"white\",\"automargin\":true,\"zerolinewidth\":2},\"scene\":{\"xaxis\":{\"backgroundcolor\":\"#E5ECF6\",\"gridcolor\":\"white\",\"linecolor\":\"white\",\"showbackground\":true,\"ticks\":\"\",\"zerolinecolor\":\"white\",\"gridwidth\":2},\"yaxis\":{\"backgroundcolor\":\"#E5ECF6\",\"gridcolor\":\"white\",\"linecolor\":\"white\",\"showbackground\":true,\"ticks\":\"\",\"zerolinecolor\":\"white\",\"gridwidth\":2},\"zaxis\":{\"backgroundcolor\":\"#E5ECF6\",\"gridcolor\":\"white\",\"linecolor\":\"white\",\"showbackground\":true,\"ticks\":\"\",\"zerolinecolor\":\"white\",\"gridwidth\":2}},\"shapedefaults\":{\"line\":{\"color\":\"#2a3f5f\"}},\"annotationdefaults\":{\"arrowcolor\":\"#2a3f5f\",\"arrowhead\":0,\"arrowwidth\":1},\"geo\":{\"bgcolor\":\"white\",\"landcolor\":\"#E5ECF6\",\"subunitcolor\":\"white\",\"showland\":true,\"showlakes\":true,\"lakecolor\":\"white\"},\"title\":{\"x\":0.05},\"mapbox\":{\"style\":\"light\"}}},\"xaxis\":{\"anchor\":\"y\",\"domain\":[0.0,1.0],\"title\":{\"text\":\"Class\"}},\"yaxis\":{\"anchor\":\"x\",\"domain\":[0.0,1.0],\"title\":{\"text\":\"Frequency\"}},\"legend\":{\"tracegroupgap\":0},\"title\":{\"text\":\"Distribution of Labels in Training Dataset\"},\"barmode\":\"relative\",\"height\":600,\"width\":1000},                        {\"responsive\": true}                    ).then(function(){\n",
              "                            \n",
              "var gd = document.getElementById('7cd9fb4b-7fc1-4103-9f6e-bd0ce4b07923');\n",
              "var x = new MutationObserver(function (mutations, observer) {{\n",
              "        var display = window.getComputedStyle(gd).display;\n",
              "        if (!display || display === 'none') {{\n",
              "            console.log([gd, 'removed!']);\n",
              "            Plotly.purge(gd);\n",
              "            observer.disconnect();\n",
              "        }}\n",
              "}});\n",
              "\n",
              "// Listen for the removal of the full notebook cells\n",
              "var notebookContainer = gd.closest('#notebook-container');\n",
              "if (notebookContainer) {{\n",
              "    x.observe(notebookContainer, {childList: true});\n",
              "}}\n",
              "\n",
              "// Listen for the clearing of the current output cell\n",
              "var outputEl = gd.closest('.output');\n",
              "if (outputEl) {{\n",
              "    x.observe(outputEl, {childList: true});\n",
              "}}\n",
              "\n",
              "                        })                };                            </script>        </div>\n",
              "</body>\n",
              "</html>"
            ]
          },
          "metadata": {},
          "output_type": "display_data"
        }
      ],
      "source": [
        "# Distribution of the labels in the test dataset with numbers in each class\n",
        "unique, counts = np.unique(test_y, return_counts=True)\n",
        "print(\"Distribuição de frequência das classes do conjunto de teste: \\n\", dict(zip(unique, counts)), '\\n')\n",
        "\n",
        "# Create a DataFrame for plotting\n",
        "data = {'Class': unique, 'Count': counts}\n",
        "df = pd.DataFrame(data)\n",
        "\n",
        "fig = px.bar(df, x='Class', y='Count', text='Count',\n",
        "             labels={'Count': 'Frequency', 'Class': 'Class'},\n",
        "             title='Distribution of Labels in Training Dataset',\n",
        "             width=1000, height=600)\n",
        "\n",
        "fig.show()"
      ]
    },
    {
      "cell_type": "markdown",
      "metadata": {
        "id": "rz4Rv_MaCnvO"
      },
      "source": [
        "# Base Models"
      ]
    },
    {
      "cell_type": "markdown",
      "metadata": {
        "id": "zQE-0M1YN5Xv"
      },
      "source": [
        "## Random Forest"
      ]
    },
    {
      "cell_type": "code",
      "execution_count": 77,
      "metadata": {
        "colab": {
          "base_uri": "https://localhost:8080/"
        },
        "id": "ULd1TWZtWOJY",
        "outputId": "5cd0d1a3-d5b9-4bd5-ce89-596a2e804af6"
      },
      "outputs": [
        {
          "name": "stdout",
          "output_type": "stream",
          "text": [
            "Accuracy of Random Forest: 0.8773\n",
            "\n",
            "Execution time: 98.29899406433105 \n",
            "\n",
            "Classification Report\n",
            "              precision    recall  f1-score   support\n",
            "\n",
            "           0       0.82      0.87      0.84      1000\n",
            "           1       0.99      0.96      0.98      1000\n",
            "           2       0.77      0.80      0.78      1000\n",
            "           3       0.88      0.91      0.89      1000\n",
            "           4       0.76      0.81      0.79      1000\n",
            "           5       0.98      0.96      0.97      1000\n",
            "           6       0.72      0.59      0.65      1000\n",
            "           7       0.93      0.96      0.94      1000\n",
            "           8       0.95      0.97      0.96      1000\n",
            "           9       0.96      0.95      0.95      1000\n",
            "\n",
            "    accuracy                           0.88     10000\n",
            "   macro avg       0.88      0.88      0.88     10000\n",
            "weighted avg       0.88      0.88      0.88     10000\n",
            "\n",
            "\n",
            "Confusion Matrix\n",
            "[[867   0  13  27   4   1  76   0  12   0]\n",
            " [  3 964   3  20   4   0   5   0   1   0]\n",
            " [ 13   0 798  10 121   0  53   0   5   0]\n",
            " [ 18   2   9 908  28   0  33   0   2   0]\n",
            " [  0   0  94  38 811   0  53   0   4   0]\n",
            " [  0   0   0   1   0 957   0  29   1  12]\n",
            " [158   1 117  30  88   0 587   0  19   0]\n",
            " [  0   0   0   0   0  11   0 958   0  31]\n",
            " [  0   2   4   1   5   2   7   5 974   0]\n",
            " [  0   0   0   0   0   8   0  40   3 949]]\n",
            "Execution time 98.29899406433105 seconds\n",
            "\n",
            "True Positive Rate:\n",
            "TPR: [0.867 0.964 0.798 0.908 0.811 0.957 0.587 0.958 0.974 0.949] \n",
            "\n",
            "Most dificult class 6\n"
          ]
        },
        {
          "data": {
            "text/plain": [
              "(0.8773,\n",
              " array([[867,   0,  13,  27,   4,   1,  76,   0,  12,   0],\n",
              "        [  3, 964,   3,  20,   4,   0,   5,   0,   1,   0],\n",
              "        [ 13,   0, 798,  10, 121,   0,  53,   0,   5,   0],\n",
              "        [ 18,   2,   9, 908,  28,   0,  33,   0,   2,   0],\n",
              "        [  0,   0,  94,  38, 811,   0,  53,   0,   4,   0],\n",
              "        [  0,   0,   0,   1,   0, 957,   0,  29,   1,  12],\n",
              "        [158,   1, 117,  30,  88,   0, 587,   0,  19,   0],\n",
              "        [  0,   0,   0,   0,   0,  11,   0, 958,   0,  31],\n",
              "        [  0,   2,   4,   1,   5,   2,   7,   5, 974,   0],\n",
              "        [  0,   0,   0,   0,   0,   8,   0,  40,   3, 949]]),\n",
              " <function sklearn.metrics._classification.classification_report(y_true, y_pred, *, labels=None, target_names=None, sample_weight=None, digits=2, output_dict=False, zero_division='warn')>,\n",
              " 98.29899406433105,\n",
              " [0.587])"
            ]
          },
          "execution_count": 77,
          "metadata": {},
          "output_type": "execute_result"
        }
      ],
      "source": [
        "rf_classifier = RandomForestClassifier(\n",
        "    n_estimators=100,\n",
        "    criterion = 'entropy',\n",
        "    max_depth=100,\n",
        "    random_state=42)\n",
        "\n",
        "rf_exec_time = base_model_trainer(rf_classifier)\n",
        "\n",
        "evaluate_base_model(\n",
        "    'Random Forest',\n",
        "    rf_classifier,\n",
        "    rf_exec_time)\n"
      ]
    },
    {
      "cell_type": "markdown",
      "metadata": {
        "id": "m_0weBXYN5Xv"
      },
      "source": [
        "## Suport Vector Machine"
      ]
    },
    {
      "cell_type": "markdown",
      "metadata": {
        "id": "hsEehVRzNMAw"
      },
      "source": [
        "### Suport Vector Linear Classifier"
      ]
    },
    {
      "cell_type": "code",
      "execution_count": 78,
      "metadata": {
        "colab": {
          "base_uri": "https://localhost:8080/"
        },
        "id": "1RjJF1XpoRQl",
        "outputId": "85313538-2654-4a88-ba03-94c0829331b3"
      },
      "outputs": [
        {
          "name": "stdout",
          "output_type": "stream",
          "text": [
            "Accuracy of SVCLinear: 0.8463\n",
            "\n",
            "Execution time: 362.34680938720703 \n",
            "\n",
            "Classification Report\n",
            "              precision    recall  f1-score   support\n",
            "\n",
            "           0       0.75      0.81      0.78      1000\n",
            "           1       0.97      0.96      0.97      1000\n",
            "           2       0.73      0.77      0.75      1000\n",
            "           3       0.85      0.84      0.85      1000\n",
            "           4       0.76      0.77      0.77      1000\n",
            "           5       0.93      0.94      0.93      1000\n",
            "           6       0.63      0.56      0.59      1000\n",
            "           7       0.92      0.93      0.93      1000\n",
            "           8       0.95      0.93      0.94      1000\n",
            "           9       0.95      0.94      0.95      1000\n",
            "\n",
            "    accuracy                           0.85     10000\n",
            "   macro avg       0.85      0.85      0.85     10000\n",
            "weighted avg       0.85      0.85      0.85     10000\n",
            "\n",
            "\n",
            "Confusion Matrix\n",
            "[[815   2  13  45   4   1 108   0  12   0]\n",
            " [  6 962   2  22   3   0   4   0   1   0]\n",
            " [ 22   6 769   8 109   0  79   0   7   0]\n",
            " [ 54  15  19 842  27   0  40   0   3   0]\n",
            " [  1   2 114  33 773   0  72   0   5   0]\n",
            " [  1   0   0   1   0 936   0  38   3  21]\n",
            " [174   2 122  30  93   0 562   0  17   0]\n",
            " [  0   0   0   0   0  38   0 934   1  27]\n",
            " [ 12   1   8   8   2  15  25   4 925   0]\n",
            " [  0   0   0   0   0  15   1  39   0 945]]\n",
            "Execution time 362.34680938720703 seconds\n",
            "\n",
            "True Positive Rate:\n",
            "TPR: [0.815 0.962 0.769 0.842 0.773 0.936 0.562 0.934 0.925 0.945] \n",
            "\n",
            "Most dificult class 6\n"
          ]
        },
        {
          "data": {
            "text/plain": [
              "(0.8463,\n",
              " array([[815,   2,  13,  45,   4,   1, 108,   0,  12,   0],\n",
              "        [  6, 962,   2,  22,   3,   0,   4,   0,   1,   0],\n",
              "        [ 22,   6, 769,   8, 109,   0,  79,   0,   7,   0],\n",
              "        [ 54,  15,  19, 842,  27,   0,  40,   0,   3,   0],\n",
              "        [  1,   2, 114,  33, 773,   0,  72,   0,   5,   0],\n",
              "        [  1,   0,   0,   1,   0, 936,   0,  38,   3,  21],\n",
              "        [174,   2, 122,  30,  93,   0, 562,   0,  17,   0],\n",
              "        [  0,   0,   0,   0,   0,  38,   0, 934,   1,  27],\n",
              "        [ 12,   1,   8,   8,   2,  15,  25,   4, 925,   0],\n",
              "        [  0,   0,   0,   0,   0,  15,   1,  39,   0, 945]]),\n",
              " <function sklearn.metrics._classification.classification_report(y_true, y_pred, *, labels=None, target_names=None, sample_weight=None, digits=2, output_dict=False, zero_division='warn')>,\n",
              " 362.34680938720703,\n",
              " [0.587, 0.562])"
            ]
          },
          "execution_count": 78,
          "metadata": {},
          "output_type": "execute_result"
        }
      ],
      "source": [
        "svm_classifier = SVC(\n",
        "    kernel='linear',\n",
        "    random_state=42)\n",
        "\n",
        "\n",
        "svm_exec_time = base_model_trainer(svm_classifier)\n",
        "\n",
        "evaluate_base_model('SVCLinear',\n",
        "                    svm_classifier,\n",
        "                    svm_exec_time)"
      ]
    },
    {
      "cell_type": "markdown",
      "metadata": {
        "id": "w1L7fKvBNOqN"
      },
      "source": [
        "### Suport Vector Classifier"
      ]
    },
    {
      "cell_type": "code",
      "execution_count": 79,
      "metadata": {
        "colab": {
          "base_uri": "https://localhost:8080/"
        },
        "id": "ajUn7yFMWsEX",
        "outputId": "1e3a59ac-2108-4434-dd36-965ca6e531f5"
      },
      "outputs": [
        {
          "name": "stdout",
          "output_type": "stream",
          "text": [
            "Accuracy of SVM: 0.9002\n",
            "\n",
            "Execution time: 258.6090292930603 \n",
            "\n",
            "Classification Report\n",
            "              precision    recall  f1-score   support\n",
            "\n",
            "           0       0.84      0.85      0.85      1000\n",
            "           1       0.99      0.97      0.98      1000\n",
            "           2       0.81      0.84      0.82      1000\n",
            "           3       0.90      0.91      0.91      1000\n",
            "           4       0.83      0.83      0.83      1000\n",
            "           5       0.97      0.97      0.97      1000\n",
            "           6       0.75      0.72      0.73      1000\n",
            "           7       0.95      0.96      0.96      1000\n",
            "           8       0.98      0.98      0.98      1000\n",
            "           9       0.97      0.96      0.97      1000\n",
            "\n",
            "    accuracy                           0.90     10000\n",
            "   macro avg       0.90      0.90      0.90     10000\n",
            "weighted avg       0.90      0.90      0.90     10000\n",
            "\n",
            "\n",
            "Confusion Matrix\n",
            "[[853   0  13  21   6   1 100   0   6   0]\n",
            " [  3 973   2  17   3   0   2   0   0   0]\n",
            " [ 20   3 836   9  74   0  56   0   2   0]\n",
            " [ 24   2  13 910  27   0  19   0   5   0]\n",
            " [  0   1  82  21 835   0  60   0   1   0]\n",
            " [  0   0   0   1   0 974   0  17   1   7]\n",
            " [114   1  82  24  54   0 718   0   7   0]\n",
            " [  0   0   0   0   0  16   0 962   0  22]\n",
            " [  3   0   3   3   3   2   3   3 980   0]\n",
            " [  0   0   0   0   0   8   1  30   0 961]]\n",
            "Execution time 258.6090292930603 seconds\n",
            "\n",
            "True Positive Rate:\n",
            "TPR: [0.853 0.973 0.836 0.91  0.835 0.974 0.718 0.962 0.98  0.961] \n",
            "\n",
            "Most dificult class 6\n"
          ]
        },
        {
          "data": {
            "text/plain": [
              "(0.9002,\n",
              " array([[853,   0,  13,  21,   6,   1, 100,   0,   6,   0],\n",
              "        [  3, 973,   2,  17,   3,   0,   2,   0,   0,   0],\n",
              "        [ 20,   3, 836,   9,  74,   0,  56,   0,   2,   0],\n",
              "        [ 24,   2,  13, 910,  27,   0,  19,   0,   5,   0],\n",
              "        [  0,   1,  82,  21, 835,   0,  60,   0,   1,   0],\n",
              "        [  0,   0,   0,   1,   0, 974,   0,  17,   1,   7],\n",
              "        [114,   1,  82,  24,  54,   0, 718,   0,   7,   0],\n",
              "        [  0,   0,   0,   0,   0,  16,   0, 962,   0,  22],\n",
              "        [  3,   0,   3,   3,   3,   2,   3,   3, 980,   0],\n",
              "        [  0,   0,   0,   0,   0,   8,   1,  30,   0, 961]]),\n",
              " <function sklearn.metrics._classification.classification_report(y_true, y_pred, *, labels=None, target_names=None, sample_weight=None, digits=2, output_dict=False, zero_division='warn')>,\n",
              " 258.6090292930603,\n",
              " [0.587, 0.562, 0.718])"
            ]
          },
          "execution_count": 79,
          "metadata": {},
          "output_type": "execute_result"
        }
      ],
      "source": [
        "svm_classifier = SVC(\n",
        "    kernel='rbf',\n",
        "    C=10,\n",
        "    random_state=42)\n",
        "\n",
        "svm_exec_time = base_model_trainer(svm_classifier)\n",
        "\n",
        "evaluate_base_model('SVM',\n",
        "                    svm_classifier,\n",
        "                    svm_exec_time)"
      ]
    },
    {
      "cell_type": "markdown",
      "metadata": {
        "id": "sXjGJYmAN5Xv"
      },
      "source": [
        "## Decision Tree"
      ]
    },
    {
      "cell_type": "code",
      "execution_count": 80,
      "metadata": {
        "colab": {
          "base_uri": "https://localhost:8080/"
        },
        "id": "6Pdq1IJ1N5Xw",
        "outputId": "971adf09-00a2-4ef4-fa04-ee08ccf527a5"
      },
      "outputs": [
        {
          "name": "stdout",
          "output_type": "stream",
          "text": [
            "Accuracy of Decision tree: 0.8008\n",
            "\n",
            "Execution time: 21.846704244613647 \n",
            "\n",
            "Classification Report\n",
            "              precision    recall  f1-score   support\n",
            "\n",
            "           0       0.79      0.77      0.78      1000\n",
            "           1       0.97      0.92      0.95      1000\n",
            "           2       0.65      0.67      0.66      1000\n",
            "           3       0.82      0.81      0.82      1000\n",
            "           4       0.60      0.73      0.66      1000\n",
            "           5       0.94      0.86      0.90      1000\n",
            "           6       0.57      0.50      0.53      1000\n",
            "           7       0.86      0.93      0.90      1000\n",
            "           8       0.93      0.90      0.91      1000\n",
            "           9       0.91      0.91      0.91      1000\n",
            "\n",
            "    accuracy                           0.80     10000\n",
            "   macro avg       0.80      0.80      0.80     10000\n",
            "weighted avg       0.80      0.80      0.80     10000\n",
            "\n",
            "\n",
            "Confusion Matrix\n",
            "[[774   3  25  40  12   0 132   1   9   4]\n",
            " [ 13 924   4  40   7   0  10   0   1   1]\n",
            " [ 13   1 665   8 242   0  62   0   8   1]\n",
            " [ 32  10  26 811  62   2  50   0   6   1]\n",
            " [  4   0 124  39 734   0  96   0   3   0]\n",
            " [  2   4   0   1   1 864   0  70  21  37]\n",
            " [135   4 164  38 140   2 499   0  15   3]\n",
            " [  0   0   0   0   0  27   0 928   6  39]\n",
            " [  5   2  17  10  20   7  27   9 901   2]\n",
            " [  1   0   1   0   0  21   1  65   3 908]]\n",
            "Execution time 21.846704244613647 seconds\n",
            "\n",
            "True Positive Rate:\n",
            "TPR: [0.774 0.924 0.665 0.811 0.734 0.864 0.499 0.928 0.901 0.908] \n",
            "\n",
            "Most dificult class 6\n"
          ]
        },
        {
          "data": {
            "text/plain": [
              "(0.8008,\n",
              " array([[774,   3,  25,  40,  12,   0, 132,   1,   9,   4],\n",
              "        [ 13, 924,   4,  40,   7,   0,  10,   0,   1,   1],\n",
              "        [ 13,   1, 665,   8, 242,   0,  62,   0,   8,   1],\n",
              "        [ 32,  10,  26, 811,  62,   2,  50,   0,   6,   1],\n",
              "        [  4,   0, 124,  39, 734,   0,  96,   0,   3,   0],\n",
              "        [  2,   4,   0,   1,   1, 864,   0,  70,  21,  37],\n",
              "        [135,   4, 164,  38, 140,   2, 499,   0,  15,   3],\n",
              "        [  0,   0,   0,   0,   0,  27,   0, 928,   6,  39],\n",
              "        [  5,   2,  17,  10,  20,   7,  27,   9, 901,   2],\n",
              "        [  1,   0,   1,   0,   0,  21,   1,  65,   3, 908]]),\n",
              " <function sklearn.metrics._classification.classification_report(y_true, y_pred, *, labels=None, target_names=None, sample_weight=None, digits=2, output_dict=False, zero_division='warn')>,\n",
              " 21.846704244613647,\n",
              " [0.587, 0.562, 0.718, 0.499])"
            ]
          },
          "execution_count": 80,
          "metadata": {},
          "output_type": "execute_result"
        }
      ],
      "source": [
        "dt_classifier = DecisionTreeClassifier(\n",
        "    random_state=42,\n",
        "     max_depth = 10,\n",
        "    splitter='best',\n",
        "    min_samples_split=2)\n",
        "\n",
        "dt_exec_time = base_model_trainer(dt_classifier)\n",
        "\n",
        "evaluate_base_model(\n",
        "    'Decision tree',\n",
        "    dt_classifier,\n",
        "    dt_exec_time)"
      ]
    },
    {
      "cell_type": "markdown",
      "metadata": {
        "id": "JkK3GJt9N5Xx"
      },
      "source": [
        "## KNN"
      ]
    },
    {
      "cell_type": "code",
      "execution_count": 81,
      "metadata": {
        "colab": {
          "base_uri": "https://localhost:8080/"
        },
        "id": "anIaY4TB9mQG",
        "outputId": "4ba94041-6390-4998-c307-4e234360daa4"
      },
      "outputs": [
        {
          "name": "stdout",
          "output_type": "stream",
          "text": [
            "Accuracy of KNN: 0.8577\n",
            "\n",
            "Execution time: 0.02266716957092285 \n",
            "\n",
            "Classification Report\n",
            "              precision    recall  f1-score   support\n",
            "\n",
            "           0       0.79      0.84      0.82      1000\n",
            "           1       0.99      0.97      0.98      1000\n",
            "           2       0.75      0.80      0.78      1000\n",
            "           3       0.91      0.86      0.89      1000\n",
            "           4       0.79      0.78      0.78      1000\n",
            "           5       1.00      0.82      0.90      1000\n",
            "           6       0.64      0.61      0.62      1000\n",
            "           7       0.88      0.96      0.92      1000\n",
            "           8       0.97      0.96      0.96      1000\n",
            "           9       0.89      0.97      0.93      1000\n",
            "\n",
            "    accuracy                           0.86     10000\n",
            "   macro avg       0.86      0.86      0.86     10000\n",
            "weighted avg       0.86      0.86      0.86     10000\n",
            "\n",
            "\n",
            "Confusion Matrix\n",
            "[[844   0  17  16   4   0 111   1   7   0]\n",
            " [  5 971   4  12   4   0   3   0   1   0]\n",
            " [ 22   2 801  11  83   0  81   0   0   0]\n",
            " [ 32   5  13 864  40   0  43   0   3   0]\n",
            " [  1   1 106  23 779   0  88   0   2   0]\n",
            " [  1   0   0   0   0 820   5  93   1  80]\n",
            " [165   1 117  21  73   0 610   0  13   0]\n",
            " [  0   0   0   0   0   2   0 961   0  37]\n",
            " [  1   0   9   3   6   0  16   7 957   1]\n",
            " [  0   0   0   0   0   1   0  28   1 970]]\n",
            "Execution time 0.02266716957092285 seconds\n",
            "\n",
            "True Positive Rate:\n",
            "TPR: [0.844 0.971 0.801 0.864 0.779 0.82  0.61  0.961 0.957 0.97 ] \n",
            "\n",
            "Most dificult class 6\n"
          ]
        },
        {
          "data": {
            "text/plain": [
              "(0.8577,\n",
              " array([[844,   0,  17,  16,   4,   0, 111,   1,   7,   0],\n",
              "        [  5, 971,   4,  12,   4,   0,   3,   0,   1,   0],\n",
              "        [ 22,   2, 801,  11,  83,   0,  81,   0,   0,   0],\n",
              "        [ 32,   5,  13, 864,  40,   0,  43,   0,   3,   0],\n",
              "        [  1,   1, 106,  23, 779,   0,  88,   0,   2,   0],\n",
              "        [  1,   0,   0,   0,   0, 820,   5,  93,   1,  80],\n",
              "        [165,   1, 117,  21,  73,   0, 610,   0,  13,   0],\n",
              "        [  0,   0,   0,   0,   0,   2,   0, 961,   0,  37],\n",
              "        [  1,   0,   9,   3,   6,   0,  16,   7, 957,   1],\n",
              "        [  0,   0,   0,   0,   0,   1,   0,  28,   1, 970]]),\n",
              " <function sklearn.metrics._classification.classification_report(y_true, y_pred, *, labels=None, target_names=None, sample_weight=None, digits=2, output_dict=False, zero_division='warn')>,\n",
              " 0.02266716957092285,\n",
              " [0.587, 0.562, 0.718, 0.499, 0.61])"
            ]
          },
          "execution_count": 81,
          "metadata": {},
          "output_type": "execute_result"
        }
      ],
      "source": [
        "knn_classifier = KNeighborsClassifier(\n",
        "    n_neighbors=5,\n",
        "    algorithm = 'auto',\n",
        "    weights = 'distance')\n",
        "\n",
        "knn_exec_time = base_model_trainer(knn_classifier)\n",
        "\n",
        "evaluate_base_model(\n",
        "    'KNN',\n",
        "    knn_classifier,\n",
        "    knn_exec_time)"
      ]
    },
    {
      "cell_type": "markdown",
      "metadata": {
        "id": "ROmF3onPgukK"
      },
      "source": [
        "## Logistic Regression"
      ]
    },
    {
      "cell_type": "code",
      "execution_count": 82,
      "metadata": {
        "colab": {
          "base_uri": "https://localhost:8080/"
        },
        "id": "vZ1acflVgw_4",
        "outputId": "06ea5301-a0d9-416f-ca65-cdd7a145abff"
      },
      "outputs": [
        {
          "name": "stderr",
          "output_type": "stream",
          "text": [
            "/usr/local/lib/python3.10/dist-packages/sklearn/linear_model/_logistic.py:458: ConvergenceWarning:\n",
            "\n",
            "lbfgs failed to converge (status=1):\n",
            "STOP: TOTAL NO. of ITERATIONS REACHED LIMIT.\n",
            "\n",
            "Increase the number of iterations (max_iter) or scale the data as shown in:\n",
            "    https://scikit-learn.org/stable/modules/preprocessing.html\n",
            "Please also refer to the documentation for alternative solver options:\n",
            "    https://scikit-learn.org/stable/modules/linear_model.html#logistic-regression\n",
            "\n"
          ]
        },
        {
          "name": "stdout",
          "output_type": "stream",
          "text": [
            "Accuracy of Logistic Regression: 0.8413\n",
            "\n",
            "Execution time: 26.396975994110107 \n",
            "\n",
            "Classification Report\n",
            "              precision    recall  f1-score   support\n",
            "\n",
            "           0       0.79      0.82      0.81      1000\n",
            "           1       0.97      0.95      0.96      1000\n",
            "           2       0.72      0.73      0.73      1000\n",
            "           3       0.83      0.87      0.85      1000\n",
            "           4       0.72      0.76      0.74      1000\n",
            "           5       0.94      0.92      0.93      1000\n",
            "           6       0.64      0.54      0.59      1000\n",
            "           7       0.91      0.94      0.92      1000\n",
            "           8       0.92      0.95      0.93      1000\n",
            "           9       0.95      0.94      0.95      1000\n",
            "\n",
            "    accuracy                           0.84     10000\n",
            "   macro avg       0.84      0.84      0.84     10000\n",
            "weighted avg       0.84      0.84      0.84     10000\n",
            "\n",
            "\n",
            "Confusion Matrix\n",
            "[[818   3  15  49   6   4  91   0  14   0]\n",
            " [  5 953   4  27   5   0   3   1   2   0]\n",
            " [ 27   4 732  11 133   0  81   1  11   0]\n",
            " [ 27  16  14 867  34   0  37   0   5   0]\n",
            " [  0   4 117  39 755   0  74   0  11   0]\n",
            " [  2   0   0   1   0 918   0  50  11  18]\n",
            " [142   3 131  44 110   0 542   0  28   0]\n",
            " [  0   0   0   0   0  33   0 937   1  29]\n",
            " [  8   1   6  11   1   7  16   4 946   0]\n",
            " [  0   1   0   1   0  13   1  39   0 945]]\n",
            "Execution time 26.396975994110107 seconds\n",
            "\n",
            "True Positive Rate:\n",
            "TPR: [0.818 0.953 0.732 0.867 0.755 0.918 0.542 0.937 0.946 0.945] \n",
            "\n",
            "Most dificult class 6\n"
          ]
        },
        {
          "data": {
            "text/plain": [
              "(0.8413,\n",
              " array([[818,   3,  15,  49,   6,   4,  91,   0,  14,   0],\n",
              "        [  5, 953,   4,  27,   5,   0,   3,   1,   2,   0],\n",
              "        [ 27,   4, 732,  11, 133,   0,  81,   1,  11,   0],\n",
              "        [ 27,  16,  14, 867,  34,   0,  37,   0,   5,   0],\n",
              "        [  0,   4, 117,  39, 755,   0,  74,   0,  11,   0],\n",
              "        [  2,   0,   0,   1,   0, 918,   0,  50,  11,  18],\n",
              "        [142,   3, 131,  44, 110,   0, 542,   0,  28,   0],\n",
              "        [  0,   0,   0,   0,   0,  33,   0, 937,   1,  29],\n",
              "        [  8,   1,   6,  11,   1,   7,  16,   4, 946,   0],\n",
              "        [  0,   1,   0,   1,   0,  13,   1,  39,   0, 945]]),\n",
              " <function sklearn.metrics._classification.classification_report(y_true, y_pred, *, labels=None, target_names=None, sample_weight=None, digits=2, output_dict=False, zero_division='warn')>,\n",
              " 26.396975994110107,\n",
              " [0.587, 0.562, 0.718, 0.499, 0.61, 0.542])"
            ]
          },
          "execution_count": 82,
          "metadata": {},
          "output_type": "execute_result"
        }
      ],
      "source": [
        "# Logistic Regression\n",
        "from sklearn.linear_model import LogisticRegression\n",
        "\n",
        "lr_classifier = LogisticRegression(random_state=42,\n",
        "                                   C=1,\n",
        "                                   multi_class= 'ovr',\n",
        "                                   penalty='l2')\n",
        "\n",
        "lr_exec_time = base_model_trainer(lr_classifier)\n",
        "\n",
        "evaluate_base_model(\n",
        "    'Logistic Regression',\n",
        "    lr_classifier,\n",
        "    lr_exec_time)\n"
      ]
    },
    {
      "cell_type": "markdown",
      "metadata": {
        "id": "KV2lBDItWPBQ"
      },
      "source": [
        "## GaussianNB"
      ]
    },
    {
      "cell_type": "code",
      "execution_count": 83,
      "metadata": {
        "colab": {
          "base_uri": "https://localhost:8080/"
        },
        "id": "srHS2mRPiHzv",
        "outputId": "2f332f04-f5e1-4c3b-b64a-8118188899a2"
      },
      "outputs": [
        {
          "name": "stdout",
          "output_type": "stream",
          "text": [
            "Accuracy of Naive Bayes: 0.5856\n",
            "\n",
            "Execution time: 0.28972411155700684 \n",
            "\n",
            "Classification Report\n",
            "              precision    recall  f1-score   support\n",
            "\n",
            "           0       0.81      0.59      0.68      1000\n",
            "           1       0.64      0.94      0.76      1000\n",
            "           2       0.59      0.32      0.42      1000\n",
            "           3       0.44      0.55      0.49      1000\n",
            "           4       0.38      0.78      0.51      1000\n",
            "           5       0.93      0.28      0.43      1000\n",
            "           6       0.32      0.04      0.07      1000\n",
            "           7       0.51      0.99      0.67      1000\n",
            "           8       0.83      0.71      0.77      1000\n",
            "           9       0.91      0.67      0.77      1000\n",
            "\n",
            "    accuracy                           0.59     10000\n",
            "   macro avg       0.64      0.59      0.56     10000\n",
            "weighted avg       0.64      0.59      0.56     10000\n",
            "\n",
            "\n",
            "Confusion Matrix\n",
            "[[586  64  29 162 110   0  20   0  29   0]\n",
            " [  1 939  14  36   7   0   1   0   2   0]\n",
            " [  7  14 324  65 545   0  23   0  22   0]\n",
            " [  9 387   6 545  43   0   4   0   6   0]\n",
            " [  0  34  44 131 779   0   4   0   8   0]\n",
            " [  0   0   1   1   0 278   3 660   5  52]\n",
            " [117  34 112 200 435   0  40   0  62   0]\n",
            " [  0   0   0   0   0   3   0 988   0   9]\n",
            " [  0   2  19  85 149   3  27   4 710   1]\n",
            " [  0   0   1   1   0  16   3 304   8 667]]\n",
            "Execution time 0.28972411155700684 seconds\n",
            "\n",
            "True Positive Rate:\n",
            "TPR: [0.586 0.939 0.324 0.545 0.779 0.278 0.04  0.988 0.71  0.667] \n",
            "\n",
            "Most dificult class 6\n"
          ]
        },
        {
          "data": {
            "text/plain": [
              "(0.5856,\n",
              " array([[586,  64,  29, 162, 110,   0,  20,   0,  29,   0],\n",
              "        [  1, 939,  14,  36,   7,   0,   1,   0,   2,   0],\n",
              "        [  7,  14, 324,  65, 545,   0,  23,   0,  22,   0],\n",
              "        [  9, 387,   6, 545,  43,   0,   4,   0,   6,   0],\n",
              "        [  0,  34,  44, 131, 779,   0,   4,   0,   8,   0],\n",
              "        [  0,   0,   1,   1,   0, 278,   3, 660,   5,  52],\n",
              "        [117,  34, 112, 200, 435,   0,  40,   0,  62,   0],\n",
              "        [  0,   0,   0,   0,   0,   3,   0, 988,   0,   9],\n",
              "        [  0,   2,  19,  85, 149,   3,  27,   4, 710,   1],\n",
              "        [  0,   0,   1,   1,   0,  16,   3, 304,   8, 667]]),\n",
              " <function sklearn.metrics._classification.classification_report(y_true, y_pred, *, labels=None, target_names=None, sample_weight=None, digits=2, output_dict=False, zero_division='warn')>,\n",
              " 0.28972411155700684,\n",
              " [0.587, 0.562, 0.718, 0.499, 0.61, 0.542, 0.04])"
            ]
          },
          "execution_count": 83,
          "metadata": {},
          "output_type": "execute_result"
        }
      ],
      "source": [
        "# Naive Bayes classifier GaussianNB\n",
        "nb_classifier = GaussianNB()\n",
        "\n",
        "nb_exec_time = base_model_trainer(nb_classifier)\n",
        "\n",
        "evaluate_base_model('Naive Bayes',\n",
        "                    nb_classifier,\n",
        "                    nb_exec_time)"
      ]
    },
    {
      "cell_type": "markdown",
      "metadata": {
        "id": "as5dHc4xilkP"
      },
      "source": [
        "## AdaBoost"
      ]
    },
    {
      "cell_type": "code",
      "execution_count": 84,
      "metadata": {
        "colab": {
          "base_uri": "https://localhost:8080/"
        },
        "id": "h0-5Z0Vpinrd",
        "outputId": "5f0f0bf2-bbea-4040-924f-99b93677cae8"
      },
      "outputs": [
        {
          "name": "stdout",
          "output_type": "stream",
          "text": [
            "Accuracy of AdaBoost: 0.5928\n",
            "\n",
            "Execution time: 240.38440442085266 \n",
            "\n",
            "Classification Report\n",
            "              precision    recall  f1-score   support\n",
            "\n",
            "           0       0.47      0.05      0.09      1000\n",
            "           1       0.91      0.77      0.83      1000\n",
            "           2       0.34      0.68      0.45      1000\n",
            "           3       0.60      0.77      0.67      1000\n",
            "           4       0.54      0.56      0.55      1000\n",
            "           5       0.82      0.60      0.70      1000\n",
            "           6       0.24      0.18      0.21      1000\n",
            "           7       0.55      0.94      0.70      1000\n",
            "           8       0.93      0.85      0.89      1000\n",
            "           9       0.89      0.52      0.66      1000\n",
            "\n",
            "    accuracy                           0.59     10000\n",
            "   macro avg       0.63      0.59      0.57     10000\n",
            "weighted avg       0.63      0.59      0.57     10000\n",
            "\n",
            "\n",
            "Confusion Matrix\n",
            "[[ 51  21 371 150  33   0 365   0   8   1]\n",
            " [  5 766  13 200   8   0   8   0   0   0]\n",
            " [  9   2 678  11 216   0  80   0   4   0]\n",
            " [  4  37 124 771  50   1  12   0   1   0]\n",
            " [  3   3 323  53 565   0  51   0   2   0]\n",
            " [  0   0   0   1   0 605   0 325  16  53]\n",
            " [ 27  15 486 101 164   0 185   0  22   0]\n",
            " [  0   0   0   0   0  54   0 937   3   6]\n",
            " [ 10   1  11   6  13   8  70  28 851   2]\n",
            " [  0   0   0   0   0  72   0 400   9 519]]\n",
            "Execution time 240.38440442085266 seconds\n",
            "\n",
            "True Positive Rate:\n",
            "TPR: [0.051 0.766 0.678 0.771 0.565 0.605 0.185 0.937 0.851 0.519] \n",
            "\n",
            "Most dificult class 0\n"
          ]
        },
        {
          "data": {
            "text/plain": [
              "(0.5928,\n",
              " array([[ 51,  21, 371, 150,  33,   0, 365,   0,   8,   1],\n",
              "        [  5, 766,  13, 200,   8,   0,   8,   0,   0,   0],\n",
              "        [  9,   2, 678,  11, 216,   0,  80,   0,   4,   0],\n",
              "        [  4,  37, 124, 771,  50,   1,  12,   0,   1,   0],\n",
              "        [  3,   3, 323,  53, 565,   0,  51,   0,   2,   0],\n",
              "        [  0,   0,   0,   1,   0, 605,   0, 325,  16,  53],\n",
              "        [ 27,  15, 486, 101, 164,   0, 185,   0,  22,   0],\n",
              "        [  0,   0,   0,   0,   0,  54,   0, 937,   3,   6],\n",
              "        [ 10,   1,  11,   6,  13,   8,  70,  28, 851,   2],\n",
              "        [  0,   0,   0,   0,   0,  72,   0, 400,   9, 519]]),\n",
              " <function sklearn.metrics._classification.classification_report(y_true, y_pred, *, labels=None, target_names=None, sample_weight=None, digits=2, output_dict=False, zero_division='warn')>,\n",
              " 240.38440442085266,\n",
              " [0.587, 0.562, 0.718, 0.499, 0.61, 0.542, 0.04, 0.051])"
            ]
          },
          "execution_count": 84,
          "metadata": {},
          "output_type": "execute_result"
        }
      ],
      "source": [
        "# AdaBoost classifier\n",
        "ada_classifier = AdaBoostClassifier(\n",
        "    n_estimators=100,\n",
        "    random_state=42)\n",
        "\n",
        "ada_exec_time = base_model_trainer(ada_classifier)\n",
        "evaluate_base_model(\n",
        "    'AdaBoost',\n",
        "    ada_classifier,\n",
        "    ada_exec_time)"
      ]
    },
    {
      "cell_type": "markdown",
      "metadata": {
        "id": "zxc3SvpAlQo5"
      },
      "source": [
        "## Base Models Comparative Analysis"
      ]
    },
    {
      "cell_type": "code",
      "execution_count": 85,
      "metadata": {
        "colab": {
          "base_uri": "https://localhost:8080/"
        },
        "id": "BHarvL0WlTjP",
        "outputId": "86649796-4b7b-4766-8261-73c427f3a5e1"
      },
      "outputs": [
        {
          "name": "stdout",
          "output_type": "stream",
          "text": [
            "            Base Model  Accuracy Execution Time(s)\n",
            "0        Random Forest    0.8773           98.2990\n",
            "1            SVCLinear    0.8463          362.3468\n",
            "2                  SVM    0.9002          258.6090\n",
            "3        Decision tree    0.8008           21.8467\n",
            "4                  KNN    0.8577            0.0227\n",
            "5  Logistic Regression    0.8413           26.3970\n",
            "6          Naive Bayes    0.5856            0.2897\n",
            "7             AdaBoost    0.5928          240.3844\n"
          ]
        }
      ],
      "source": [
        "# Create a dataframe to store the results of the base models and their execution time and accuracy and print it out in a table\n",
        "results = pd.DataFrame({'Base Model': MODELS_LISTS, 'Accuracy': ACCURACIES, 'Execution Time(s)': [f\"{time:.4f}\" for time in EXECUTION_TIMES]})\n",
        "print(results)\n"
      ]
    },
    {
      "cell_type": "code",
      "execution_count": 86,
      "metadata": {
        "colab": {
          "base_uri": "https://localhost:8080/",
          "height": 717
        },
        "id": "ocxQZrpo2LMI",
        "outputId": "0bed88d9-475c-4957-8d4e-65478f3c3964"
      },
      "outputs": [
        {
          "data": {
            "text/html": [
              "<html>\n",
              "<head><meta charset=\"utf-8\" /></head>\n",
              "<body>\n",
              "    <div>            <script src=\"https://cdnjs.cloudflare.com/ajax/libs/mathjax/2.7.5/MathJax.js?config=TeX-AMS-MML_SVG\"></script><script type=\"text/javascript\">if (window.MathJax && window.MathJax.Hub && window.MathJax.Hub.Config) {window.MathJax.Hub.Config({SVG: {font: \"STIX-Web\"}});}</script>                <script type=\"text/javascript\">window.PlotlyConfig = {MathJaxConfig: 'local'};</script>\n",
              "        <script charset=\"utf-8\" src=\"https://cdn.plot.ly/plotly-2.24.1.min.js\"></script>                <div id=\"e5cfb594-0ae9-42f1-86f3-bd2ec66d01a8\" class=\"plotly-graph-div\" style=\"height:700px; width:100%;\"></div>            <script type=\"text/javascript\">                                    window.PLOTLYENV=window.PLOTLYENV || {};                                    if (document.getElementById(\"e5cfb594-0ae9-42f1-86f3-bd2ec66d01a8\")) {                    Plotly.newPlot(                        \"e5cfb594-0ae9-42f1-86f3-bd2ec66d01a8\",                        [{\"alignmentgroup\":\"True\",\"hovertemplate\":\"Base Model=%{x}\\u003cbr\\u003eAccuracy=%{text}\\u003cextra\\u003e\\u003c\\u002fextra\\u003e\",\"legendgroup\":\"SVM\",\"marker\":{\"color\":\"#636efa\",\"pattern\":{\"shape\":\"\"}},\"name\":\"SVM\",\"offsetgroup\":\"SVM\",\"orientation\":\"v\",\"showlegend\":true,\"text\":[0.9002],\"textposition\":\"outside\",\"x\":[\"SVM\"],\"xaxis\":\"x\",\"y\":[0.9002],\"yaxis\":\"y\",\"type\":\"bar\",\"texttemplate\":\"%{text:.2%}\"},{\"alignmentgroup\":\"True\",\"hovertemplate\":\"Base Model=%{x}\\u003cbr\\u003eAccuracy=%{text}\\u003cextra\\u003e\\u003c\\u002fextra\\u003e\",\"legendgroup\":\"Random Forest\",\"marker\":{\"color\":\"#EF553B\",\"pattern\":{\"shape\":\"\"}},\"name\":\"Random Forest\",\"offsetgroup\":\"Random Forest\",\"orientation\":\"v\",\"showlegend\":true,\"text\":[0.8773],\"textposition\":\"outside\",\"x\":[\"Random Forest\"],\"xaxis\":\"x\",\"y\":[0.8773],\"yaxis\":\"y\",\"type\":\"bar\",\"texttemplate\":\"%{text:.2%}\"},{\"alignmentgroup\":\"True\",\"hovertemplate\":\"Base Model=%{x}\\u003cbr\\u003eAccuracy=%{text}\\u003cextra\\u003e\\u003c\\u002fextra\\u003e\",\"legendgroup\":\"KNN\",\"marker\":{\"color\":\"#00cc96\",\"pattern\":{\"shape\":\"\"}},\"name\":\"KNN\",\"offsetgroup\":\"KNN\",\"orientation\":\"v\",\"showlegend\":true,\"text\":[0.8577],\"textposition\":\"outside\",\"x\":[\"KNN\"],\"xaxis\":\"x\",\"y\":[0.8577],\"yaxis\":\"y\",\"type\":\"bar\",\"texttemplate\":\"%{text:.2%}\"},{\"alignmentgroup\":\"True\",\"hovertemplate\":\"Base Model=%{x}\\u003cbr\\u003eAccuracy=%{text}\\u003cextra\\u003e\\u003c\\u002fextra\\u003e\",\"legendgroup\":\"SVCLinear\",\"marker\":{\"color\":\"#ab63fa\",\"pattern\":{\"shape\":\"\"}},\"name\":\"SVCLinear\",\"offsetgroup\":\"SVCLinear\",\"orientation\":\"v\",\"showlegend\":true,\"text\":[0.8463],\"textposition\":\"outside\",\"x\":[\"SVCLinear\"],\"xaxis\":\"x\",\"y\":[0.8463],\"yaxis\":\"y\",\"type\":\"bar\",\"texttemplate\":\"%{text:.2%}\"},{\"alignmentgroup\":\"True\",\"hovertemplate\":\"Base Model=%{x}\\u003cbr\\u003eAccuracy=%{text}\\u003cextra\\u003e\\u003c\\u002fextra\\u003e\",\"legendgroup\":\"Logistic Regression\",\"marker\":{\"color\":\"#FFA15A\",\"pattern\":{\"shape\":\"\"}},\"name\":\"Logistic Regression\",\"offsetgroup\":\"Logistic Regression\",\"orientation\":\"v\",\"showlegend\":true,\"text\":[0.8413],\"textposition\":\"outside\",\"x\":[\"Logistic Regression\"],\"xaxis\":\"x\",\"y\":[0.8413],\"yaxis\":\"y\",\"type\":\"bar\",\"texttemplate\":\"%{text:.2%}\"},{\"alignmentgroup\":\"True\",\"hovertemplate\":\"Base Model=%{x}\\u003cbr\\u003eAccuracy=%{text}\\u003cextra\\u003e\\u003c\\u002fextra\\u003e\",\"legendgroup\":\"Decision tree\",\"marker\":{\"color\":\"#19d3f3\",\"pattern\":{\"shape\":\"\"}},\"name\":\"Decision tree\",\"offsetgroup\":\"Decision tree\",\"orientation\":\"v\",\"showlegend\":true,\"text\":[0.8008],\"textposition\":\"outside\",\"x\":[\"Decision tree\"],\"xaxis\":\"x\",\"y\":[0.8008],\"yaxis\":\"y\",\"type\":\"bar\",\"texttemplate\":\"%{text:.2%}\"},{\"alignmentgroup\":\"True\",\"hovertemplate\":\"Base Model=%{x}\\u003cbr\\u003eAccuracy=%{text}\\u003cextra\\u003e\\u003c\\u002fextra\\u003e\",\"legendgroup\":\"AdaBoost\",\"marker\":{\"color\":\"#FF6692\",\"pattern\":{\"shape\":\"\"}},\"name\":\"AdaBoost\",\"offsetgroup\":\"AdaBoost\",\"orientation\":\"v\",\"showlegend\":true,\"text\":[0.5928],\"textposition\":\"outside\",\"x\":[\"AdaBoost\"],\"xaxis\":\"x\",\"y\":[0.5928],\"yaxis\":\"y\",\"type\":\"bar\",\"texttemplate\":\"%{text:.2%}\"},{\"alignmentgroup\":\"True\",\"hovertemplate\":\"Base Model=%{x}\\u003cbr\\u003eAccuracy=%{text}\\u003cextra\\u003e\\u003c\\u002fextra\\u003e\",\"legendgroup\":\"Naive Bayes\",\"marker\":{\"color\":\"#B6E880\",\"pattern\":{\"shape\":\"\"}},\"name\":\"Naive Bayes\",\"offsetgroup\":\"Naive Bayes\",\"orientation\":\"v\",\"showlegend\":true,\"text\":[0.5856],\"textposition\":\"outside\",\"x\":[\"Naive Bayes\"],\"xaxis\":\"x\",\"y\":[0.5856],\"yaxis\":\"y\",\"type\":\"bar\",\"texttemplate\":\"%{text:.2%}\"}],                        {\"template\":{\"data\":{\"histogram2dcontour\":[{\"type\":\"histogram2dcontour\",\"colorbar\":{\"outlinewidth\":0,\"ticks\":\"\"},\"colorscale\":[[0.0,\"#0d0887\"],[0.1111111111111111,\"#46039f\"],[0.2222222222222222,\"#7201a8\"],[0.3333333333333333,\"#9c179e\"],[0.4444444444444444,\"#bd3786\"],[0.5555555555555556,\"#d8576b\"],[0.6666666666666666,\"#ed7953\"],[0.7777777777777778,\"#fb9f3a\"],[0.8888888888888888,\"#fdca26\"],[1.0,\"#f0f921\"]]}],\"choropleth\":[{\"type\":\"choropleth\",\"colorbar\":{\"outlinewidth\":0,\"ticks\":\"\"}}],\"histogram2d\":[{\"type\":\"histogram2d\",\"colorbar\":{\"outlinewidth\":0,\"ticks\":\"\"},\"colorscale\":[[0.0,\"#0d0887\"],[0.1111111111111111,\"#46039f\"],[0.2222222222222222,\"#7201a8\"],[0.3333333333333333,\"#9c179e\"],[0.4444444444444444,\"#bd3786\"],[0.5555555555555556,\"#d8576b\"],[0.6666666666666666,\"#ed7953\"],[0.7777777777777778,\"#fb9f3a\"],[0.8888888888888888,\"#fdca26\"],[1.0,\"#f0f921\"]]}],\"heatmap\":[{\"type\":\"heatmap\",\"colorbar\":{\"outlinewidth\":0,\"ticks\":\"\"},\"colorscale\":[[0.0,\"#0d0887\"],[0.1111111111111111,\"#46039f\"],[0.2222222222222222,\"#7201a8\"],[0.3333333333333333,\"#9c179e\"],[0.4444444444444444,\"#bd3786\"],[0.5555555555555556,\"#d8576b\"],[0.6666666666666666,\"#ed7953\"],[0.7777777777777778,\"#fb9f3a\"],[0.8888888888888888,\"#fdca26\"],[1.0,\"#f0f921\"]]}],\"heatmapgl\":[{\"type\":\"heatmapgl\",\"colorbar\":{\"outlinewidth\":0,\"ticks\":\"\"},\"colorscale\":[[0.0,\"#0d0887\"],[0.1111111111111111,\"#46039f\"],[0.2222222222222222,\"#7201a8\"],[0.3333333333333333,\"#9c179e\"],[0.4444444444444444,\"#bd3786\"],[0.5555555555555556,\"#d8576b\"],[0.6666666666666666,\"#ed7953\"],[0.7777777777777778,\"#fb9f3a\"],[0.8888888888888888,\"#fdca26\"],[1.0,\"#f0f921\"]]}],\"contourcarpet\":[{\"type\":\"contourcarpet\",\"colorbar\":{\"outlinewidth\":0,\"ticks\":\"\"}}],\"contour\":[{\"type\":\"contour\",\"colorbar\":{\"outlinewidth\":0,\"ticks\":\"\"},\"colorscale\":[[0.0,\"#0d0887\"],[0.1111111111111111,\"#46039f\"],[0.2222222222222222,\"#7201a8\"],[0.3333333333333333,\"#9c179e\"],[0.4444444444444444,\"#bd3786\"],[0.5555555555555556,\"#d8576b\"],[0.6666666666666666,\"#ed7953\"],[0.7777777777777778,\"#fb9f3a\"],[0.8888888888888888,\"#fdca26\"],[1.0,\"#f0f921\"]]}],\"surface\":[{\"type\":\"surface\",\"colorbar\":{\"outlinewidth\":0,\"ticks\":\"\"},\"colorscale\":[[0.0,\"#0d0887\"],[0.1111111111111111,\"#46039f\"],[0.2222222222222222,\"#7201a8\"],[0.3333333333333333,\"#9c179e\"],[0.4444444444444444,\"#bd3786\"],[0.5555555555555556,\"#d8576b\"],[0.6666666666666666,\"#ed7953\"],[0.7777777777777778,\"#fb9f3a\"],[0.8888888888888888,\"#fdca26\"],[1.0,\"#f0f921\"]]}],\"mesh3d\":[{\"type\":\"mesh3d\",\"colorbar\":{\"outlinewidth\":0,\"ticks\":\"\"}}],\"scatter\":[{\"fillpattern\":{\"fillmode\":\"overlay\",\"size\":10,\"solidity\":0.2},\"type\":\"scatter\"}],\"parcoords\":[{\"type\":\"parcoords\",\"line\":{\"colorbar\":{\"outlinewidth\":0,\"ticks\":\"\"}}}],\"scatterpolargl\":[{\"type\":\"scatterpolargl\",\"marker\":{\"colorbar\":{\"outlinewidth\":0,\"ticks\":\"\"}}}],\"bar\":[{\"error_x\":{\"color\":\"#2a3f5f\"},\"error_y\":{\"color\":\"#2a3f5f\"},\"marker\":{\"line\":{\"color\":\"#E5ECF6\",\"width\":0.5},\"pattern\":{\"fillmode\":\"overlay\",\"size\":10,\"solidity\":0.2}},\"type\":\"bar\"}],\"scattergeo\":[{\"type\":\"scattergeo\",\"marker\":{\"colorbar\":{\"outlinewidth\":0,\"ticks\":\"\"}}}],\"scatterpolar\":[{\"type\":\"scatterpolar\",\"marker\":{\"colorbar\":{\"outlinewidth\":0,\"ticks\":\"\"}}}],\"histogram\":[{\"marker\":{\"pattern\":{\"fillmode\":\"overlay\",\"size\":10,\"solidity\":0.2}},\"type\":\"histogram\"}],\"scattergl\":[{\"type\":\"scattergl\",\"marker\":{\"colorbar\":{\"outlinewidth\":0,\"ticks\":\"\"}}}],\"scatter3d\":[{\"type\":\"scatter3d\",\"line\":{\"colorbar\":{\"outlinewidth\":0,\"ticks\":\"\"}},\"marker\":{\"colorbar\":{\"outlinewidth\":0,\"ticks\":\"\"}}}],\"scattermapbox\":[{\"type\":\"scattermapbox\",\"marker\":{\"colorbar\":{\"outlinewidth\":0,\"ticks\":\"\"}}}],\"scatterternary\":[{\"type\":\"scatterternary\",\"marker\":{\"colorbar\":{\"outlinewidth\":0,\"ticks\":\"\"}}}],\"scattercarpet\":[{\"type\":\"scattercarpet\",\"marker\":{\"colorbar\":{\"outlinewidth\":0,\"ticks\":\"\"}}}],\"carpet\":[{\"aaxis\":{\"endlinecolor\":\"#2a3f5f\",\"gridcolor\":\"white\",\"linecolor\":\"white\",\"minorgridcolor\":\"white\",\"startlinecolor\":\"#2a3f5f\"},\"baxis\":{\"endlinecolor\":\"#2a3f5f\",\"gridcolor\":\"white\",\"linecolor\":\"white\",\"minorgridcolor\":\"white\",\"startlinecolor\":\"#2a3f5f\"},\"type\":\"carpet\"}],\"table\":[{\"cells\":{\"fill\":{\"color\":\"#EBF0F8\"},\"line\":{\"color\":\"white\"}},\"header\":{\"fill\":{\"color\":\"#C8D4E3\"},\"line\":{\"color\":\"white\"}},\"type\":\"table\"}],\"barpolar\":[{\"marker\":{\"line\":{\"color\":\"#E5ECF6\",\"width\":0.5},\"pattern\":{\"fillmode\":\"overlay\",\"size\":10,\"solidity\":0.2}},\"type\":\"barpolar\"}],\"pie\":[{\"automargin\":true,\"type\":\"pie\"}]},\"layout\":{\"autotypenumbers\":\"strict\",\"colorway\":[\"#636efa\",\"#EF553B\",\"#00cc96\",\"#ab63fa\",\"#FFA15A\",\"#19d3f3\",\"#FF6692\",\"#B6E880\",\"#FF97FF\",\"#FECB52\"],\"font\":{\"color\":\"#2a3f5f\"},\"hovermode\":\"closest\",\"hoverlabel\":{\"align\":\"left\"},\"paper_bgcolor\":\"white\",\"plot_bgcolor\":\"#E5ECF6\",\"polar\":{\"bgcolor\":\"#E5ECF6\",\"angularaxis\":{\"gridcolor\":\"white\",\"linecolor\":\"white\",\"ticks\":\"\"},\"radialaxis\":{\"gridcolor\":\"white\",\"linecolor\":\"white\",\"ticks\":\"\"}},\"ternary\":{\"bgcolor\":\"#E5ECF6\",\"aaxis\":{\"gridcolor\":\"white\",\"linecolor\":\"white\",\"ticks\":\"\"},\"baxis\":{\"gridcolor\":\"white\",\"linecolor\":\"white\",\"ticks\":\"\"},\"caxis\":{\"gridcolor\":\"white\",\"linecolor\":\"white\",\"ticks\":\"\"}},\"coloraxis\":{\"colorbar\":{\"outlinewidth\":0,\"ticks\":\"\"}},\"colorscale\":{\"sequential\":[[0.0,\"#0d0887\"],[0.1111111111111111,\"#46039f\"],[0.2222222222222222,\"#7201a8\"],[0.3333333333333333,\"#9c179e\"],[0.4444444444444444,\"#bd3786\"],[0.5555555555555556,\"#d8576b\"],[0.6666666666666666,\"#ed7953\"],[0.7777777777777778,\"#fb9f3a\"],[0.8888888888888888,\"#fdca26\"],[1.0,\"#f0f921\"]],\"sequentialminus\":[[0.0,\"#0d0887\"],[0.1111111111111111,\"#46039f\"],[0.2222222222222222,\"#7201a8\"],[0.3333333333333333,\"#9c179e\"],[0.4444444444444444,\"#bd3786\"],[0.5555555555555556,\"#d8576b\"],[0.6666666666666666,\"#ed7953\"],[0.7777777777777778,\"#fb9f3a\"],[0.8888888888888888,\"#fdca26\"],[1.0,\"#f0f921\"]],\"diverging\":[[0,\"#8e0152\"],[0.1,\"#c51b7d\"],[0.2,\"#de77ae\"],[0.3,\"#f1b6da\"],[0.4,\"#fde0ef\"],[0.5,\"#f7f7f7\"],[0.6,\"#e6f5d0\"],[0.7,\"#b8e186\"],[0.8,\"#7fbc41\"],[0.9,\"#4d9221\"],[1,\"#276419\"]]},\"xaxis\":{\"gridcolor\":\"white\",\"linecolor\":\"white\",\"ticks\":\"\",\"title\":{\"standoff\":15},\"zerolinecolor\":\"white\",\"automargin\":true,\"zerolinewidth\":2},\"yaxis\":{\"gridcolor\":\"white\",\"linecolor\":\"white\",\"ticks\":\"\",\"title\":{\"standoff\":15},\"zerolinecolor\":\"white\",\"automargin\":true,\"zerolinewidth\":2},\"scene\":{\"xaxis\":{\"backgroundcolor\":\"#E5ECF6\",\"gridcolor\":\"white\",\"linecolor\":\"white\",\"showbackground\":true,\"ticks\":\"\",\"zerolinecolor\":\"white\",\"gridwidth\":2},\"yaxis\":{\"backgroundcolor\":\"#E5ECF6\",\"gridcolor\":\"white\",\"linecolor\":\"white\",\"showbackground\":true,\"ticks\":\"\",\"zerolinecolor\":\"white\",\"gridwidth\":2},\"zaxis\":{\"backgroundcolor\":\"#E5ECF6\",\"gridcolor\":\"white\",\"linecolor\":\"white\",\"showbackground\":true,\"ticks\":\"\",\"zerolinecolor\":\"white\",\"gridwidth\":2}},\"shapedefaults\":{\"line\":{\"color\":\"#2a3f5f\"}},\"annotationdefaults\":{\"arrowcolor\":\"#2a3f5f\",\"arrowhead\":0,\"arrowwidth\":1},\"geo\":{\"bgcolor\":\"white\",\"landcolor\":\"#E5ECF6\",\"subunitcolor\":\"white\",\"showland\":true,\"showlakes\":true,\"lakecolor\":\"white\"},\"title\":{\"x\":0.05},\"mapbox\":{\"style\":\"light\"}}},\"xaxis\":{\"anchor\":\"y\",\"domain\":[0.0,1.0],\"title\":{\"text\":\"Base Models\"},\"categoryorder\":\"array\",\"categoryarray\":[\"SVM\",\"Random Forest\",\"KNN\",\"SVCLinear\",\"Logistic Regression\",\"Decision tree\",\"AdaBoost\",\"Naive Bayes\"],\"tickangle\":0},\"yaxis\":{\"anchor\":\"x\",\"domain\":[0.0,1.0],\"title\":{\"text\":\"Accuracy\"}},\"legend\":{\"title\":{\"text\":\"Base Model\"},\"tracegroupgap\":0},\"title\":{\"text\":\"Model Accuracy Comparison\"},\"barmode\":\"relative\",\"height\":700,\"bargap\":0.2,\"hovermode\":\"x\"},                        {\"responsive\": true}                    ).then(function(){\n",
              "                            \n",
              "var gd = document.getElementById('e5cfb594-0ae9-42f1-86f3-bd2ec66d01a8');\n",
              "var x = new MutationObserver(function (mutations, observer) {{\n",
              "        var display = window.getComputedStyle(gd).display;\n",
              "        if (!display || display === 'none') {{\n",
              "            console.log([gd, 'removed!']);\n",
              "            Plotly.purge(gd);\n",
              "            observer.disconnect();\n",
              "        }}\n",
              "}});\n",
              "\n",
              "// Listen for the removal of the full notebook cells\n",
              "var notebookContainer = gd.closest('#notebook-container');\n",
              "if (notebookContainer) {{\n",
              "    x.observe(notebookContainer, {childList: true});\n",
              "}}\n",
              "\n",
              "// Listen for the clearing of the current output cell\n",
              "var outputEl = gd.closest('.output');\n",
              "if (outputEl) {{\n",
              "    x.observe(outputEl, {childList: true});\n",
              "}}\n",
              "\n",
              "                        })                };                            </script>        </div>\n",
              "</body>\n",
              "</html>"
            ]
          },
          "metadata": {},
          "output_type": "display_data"
        }
      ],
      "source": [
        "results = results.sort_values(by='Accuracy', ascending=False)\n",
        "\n",
        "# Bar plot using Plotly Express\n",
        "fig = px.bar(\n",
        "    results,\n",
        "    x='Base Model',\n",
        "    y='Accuracy',\n",
        "    color='Base Model',\n",
        "    text='Accuracy',\n",
        "    title='Model Accuracy Comparison',\n",
        "    labels={'Accuracy': 'Accuracy'},\n",
        "    height=700\n",
        ")\n",
        "\n",
        "# Add accuracy values on top of each bar\n",
        "fig.update_traces(texttemplate='%{text:.2%}', textposition='outside')\n",
        "\n",
        "# Customize layout\n",
        "fig.update_layout(\n",
        "    xaxis_title='Base Models',\n",
        "    yaxis_title='Accuracy',\n",
        "    xaxis_tickangle=0,\n",
        "    bargap=0.2,\n",
        "    hovermode='x',\n",
        ")\n",
        "\n",
        "# Show the plot\n",
        "fig.show()"
      ]
    },
    {
      "cell_type": "code",
      "execution_count": 87,
      "metadata": {
        "colab": {
          "base_uri": "https://localhost:8080/",
          "height": 717
        },
        "id": "Bq0Qdtua3NZu",
        "outputId": "74e90dbe-5648-499b-dc8e-0f4036ff57c3"
      },
      "outputs": [
        {
          "data": {
            "text/html": [
              "<html>\n",
              "<head><meta charset=\"utf-8\" /></head>\n",
              "<body>\n",
              "    <div>            <script src=\"https://cdnjs.cloudflare.com/ajax/libs/mathjax/2.7.5/MathJax.js?config=TeX-AMS-MML_SVG\"></script><script type=\"text/javascript\">if (window.MathJax && window.MathJax.Hub && window.MathJax.Hub.Config) {window.MathJax.Hub.Config({SVG: {font: \"STIX-Web\"}});}</script>                <script type=\"text/javascript\">window.PlotlyConfig = {MathJaxConfig: 'local'};</script>\n",
              "        <script charset=\"utf-8\" src=\"https://cdn.plot.ly/plotly-2.24.1.min.js\"></script>                <div id=\"fbb2f374-7a0c-4072-9bb2-e3b68a8994bc\" class=\"plotly-graph-div\" style=\"height:700px; width:100%;\"></div>            <script type=\"text/javascript\">                                    window.PLOTLYENV=window.PLOTLYENV || {};                                    if (document.getElementById(\"fbb2f374-7a0c-4072-9bb2-e3b68a8994bc\")) {                    Plotly.newPlot(                        \"fbb2f374-7a0c-4072-9bb2-e3b68a8994bc\",                        [{\"alignmentgroup\":\"True\",\"hovertemplate\":\"Base Model=%{x}\\u003cbr\\u003eSeconds=%{text}\\u003cextra\\u003e\\u003c\\u002fextra\\u003e\",\"legendgroup\":\"SVCLinear\",\"marker\":{\"color\":\"#636efa\",\"pattern\":{\"shape\":\"\"}},\"name\":\"SVCLinear\",\"offsetgroup\":\"SVCLinear\",\"orientation\":\"v\",\"showlegend\":true,\"text\":[362.3468],\"textposition\":\"outside\",\"x\":[\"SVCLinear\"],\"xaxis\":\"x\",\"y\":[362.3468],\"yaxis\":\"y\",\"type\":\"bar\",\"texttemplate\":\"%{text:.2f} seconds\"},{\"alignmentgroup\":\"True\",\"hovertemplate\":\"Base Model=%{x}\\u003cbr\\u003eSeconds=%{text}\\u003cextra\\u003e\\u003c\\u002fextra\\u003e\",\"legendgroup\":\"SVM\",\"marker\":{\"color\":\"#EF553B\",\"pattern\":{\"shape\":\"\"}},\"name\":\"SVM\",\"offsetgroup\":\"SVM\",\"orientation\":\"v\",\"showlegend\":true,\"text\":[258.609],\"textposition\":\"outside\",\"x\":[\"SVM\"],\"xaxis\":\"x\",\"y\":[258.609],\"yaxis\":\"y\",\"type\":\"bar\",\"texttemplate\":\"%{text:.2f} seconds\"},{\"alignmentgroup\":\"True\",\"hovertemplate\":\"Base Model=%{x}\\u003cbr\\u003eSeconds=%{text}\\u003cextra\\u003e\\u003c\\u002fextra\\u003e\",\"legendgroup\":\"AdaBoost\",\"marker\":{\"color\":\"#00cc96\",\"pattern\":{\"shape\":\"\"}},\"name\":\"AdaBoost\",\"offsetgroup\":\"AdaBoost\",\"orientation\":\"v\",\"showlegend\":true,\"text\":[240.3844],\"textposition\":\"outside\",\"x\":[\"AdaBoost\"],\"xaxis\":\"x\",\"y\":[240.3844],\"yaxis\":\"y\",\"type\":\"bar\",\"texttemplate\":\"%{text:.2f} seconds\"},{\"alignmentgroup\":\"True\",\"hovertemplate\":\"Base Model=%{x}\\u003cbr\\u003eSeconds=%{text}\\u003cextra\\u003e\\u003c\\u002fextra\\u003e\",\"legendgroup\":\"Random Forest\",\"marker\":{\"color\":\"#ab63fa\",\"pattern\":{\"shape\":\"\"}},\"name\":\"Random Forest\",\"offsetgroup\":\"Random Forest\",\"orientation\":\"v\",\"showlegend\":true,\"text\":[98.299],\"textposition\":\"outside\",\"x\":[\"Random Forest\"],\"xaxis\":\"x\",\"y\":[98.299],\"yaxis\":\"y\",\"type\":\"bar\",\"texttemplate\":\"%{text:.2f} seconds\"},{\"alignmentgroup\":\"True\",\"hovertemplate\":\"Base Model=%{x}\\u003cbr\\u003eSeconds=%{text}\\u003cextra\\u003e\\u003c\\u002fextra\\u003e\",\"legendgroup\":\"Logistic Regression\",\"marker\":{\"color\":\"#FFA15A\",\"pattern\":{\"shape\":\"\"}},\"name\":\"Logistic Regression\",\"offsetgroup\":\"Logistic Regression\",\"orientation\":\"v\",\"showlegend\":true,\"text\":[26.397],\"textposition\":\"outside\",\"x\":[\"Logistic Regression\"],\"xaxis\":\"x\",\"y\":[26.397],\"yaxis\":\"y\",\"type\":\"bar\",\"texttemplate\":\"%{text:.2f} seconds\"},{\"alignmentgroup\":\"True\",\"hovertemplate\":\"Base Model=%{x}\\u003cbr\\u003eSeconds=%{text}\\u003cextra\\u003e\\u003c\\u002fextra\\u003e\",\"legendgroup\":\"Decision tree\",\"marker\":{\"color\":\"#19d3f3\",\"pattern\":{\"shape\":\"\"}},\"name\":\"Decision tree\",\"offsetgroup\":\"Decision tree\",\"orientation\":\"v\",\"showlegend\":true,\"text\":[21.8467],\"textposition\":\"outside\",\"x\":[\"Decision tree\"],\"xaxis\":\"x\",\"y\":[21.8467],\"yaxis\":\"y\",\"type\":\"bar\",\"texttemplate\":\"%{text:.2f} seconds\"},{\"alignmentgroup\":\"True\",\"hovertemplate\":\"Base Model=%{x}\\u003cbr\\u003eSeconds=%{text}\\u003cextra\\u003e\\u003c\\u002fextra\\u003e\",\"legendgroup\":\"Naive Bayes\",\"marker\":{\"color\":\"#FF6692\",\"pattern\":{\"shape\":\"\"}},\"name\":\"Naive Bayes\",\"offsetgroup\":\"Naive Bayes\",\"orientation\":\"v\",\"showlegend\":true,\"text\":[0.2897],\"textposition\":\"outside\",\"x\":[\"Naive Bayes\"],\"xaxis\":\"x\",\"y\":[0.2897],\"yaxis\":\"y\",\"type\":\"bar\",\"texttemplate\":\"%{text:.2f} seconds\"},{\"alignmentgroup\":\"True\",\"hovertemplate\":\"Base Model=%{x}\\u003cbr\\u003eSeconds=%{text}\\u003cextra\\u003e\\u003c\\u002fextra\\u003e\",\"legendgroup\":\"KNN\",\"marker\":{\"color\":\"#B6E880\",\"pattern\":{\"shape\":\"\"}},\"name\":\"KNN\",\"offsetgroup\":\"KNN\",\"orientation\":\"v\",\"showlegend\":true,\"text\":[0.0227],\"textposition\":\"outside\",\"x\":[\"KNN\"],\"xaxis\":\"x\",\"y\":[0.0227],\"yaxis\":\"y\",\"type\":\"bar\",\"texttemplate\":\"%{text:.2f} seconds\"}],                        {\"template\":{\"data\":{\"histogram2dcontour\":[{\"type\":\"histogram2dcontour\",\"colorbar\":{\"outlinewidth\":0,\"ticks\":\"\"},\"colorscale\":[[0.0,\"#0d0887\"],[0.1111111111111111,\"#46039f\"],[0.2222222222222222,\"#7201a8\"],[0.3333333333333333,\"#9c179e\"],[0.4444444444444444,\"#bd3786\"],[0.5555555555555556,\"#d8576b\"],[0.6666666666666666,\"#ed7953\"],[0.7777777777777778,\"#fb9f3a\"],[0.8888888888888888,\"#fdca26\"],[1.0,\"#f0f921\"]]}],\"choropleth\":[{\"type\":\"choropleth\",\"colorbar\":{\"outlinewidth\":0,\"ticks\":\"\"}}],\"histogram2d\":[{\"type\":\"histogram2d\",\"colorbar\":{\"outlinewidth\":0,\"ticks\":\"\"},\"colorscale\":[[0.0,\"#0d0887\"],[0.1111111111111111,\"#46039f\"],[0.2222222222222222,\"#7201a8\"],[0.3333333333333333,\"#9c179e\"],[0.4444444444444444,\"#bd3786\"],[0.5555555555555556,\"#d8576b\"],[0.6666666666666666,\"#ed7953\"],[0.7777777777777778,\"#fb9f3a\"],[0.8888888888888888,\"#fdca26\"],[1.0,\"#f0f921\"]]}],\"heatmap\":[{\"type\":\"heatmap\",\"colorbar\":{\"outlinewidth\":0,\"ticks\":\"\"},\"colorscale\":[[0.0,\"#0d0887\"],[0.1111111111111111,\"#46039f\"],[0.2222222222222222,\"#7201a8\"],[0.3333333333333333,\"#9c179e\"],[0.4444444444444444,\"#bd3786\"],[0.5555555555555556,\"#d8576b\"],[0.6666666666666666,\"#ed7953\"],[0.7777777777777778,\"#fb9f3a\"],[0.8888888888888888,\"#fdca26\"],[1.0,\"#f0f921\"]]}],\"heatmapgl\":[{\"type\":\"heatmapgl\",\"colorbar\":{\"outlinewidth\":0,\"ticks\":\"\"},\"colorscale\":[[0.0,\"#0d0887\"],[0.1111111111111111,\"#46039f\"],[0.2222222222222222,\"#7201a8\"],[0.3333333333333333,\"#9c179e\"],[0.4444444444444444,\"#bd3786\"],[0.5555555555555556,\"#d8576b\"],[0.6666666666666666,\"#ed7953\"],[0.7777777777777778,\"#fb9f3a\"],[0.8888888888888888,\"#fdca26\"],[1.0,\"#f0f921\"]]}],\"contourcarpet\":[{\"type\":\"contourcarpet\",\"colorbar\":{\"outlinewidth\":0,\"ticks\":\"\"}}],\"contour\":[{\"type\":\"contour\",\"colorbar\":{\"outlinewidth\":0,\"ticks\":\"\"},\"colorscale\":[[0.0,\"#0d0887\"],[0.1111111111111111,\"#46039f\"],[0.2222222222222222,\"#7201a8\"],[0.3333333333333333,\"#9c179e\"],[0.4444444444444444,\"#bd3786\"],[0.5555555555555556,\"#d8576b\"],[0.6666666666666666,\"#ed7953\"],[0.7777777777777778,\"#fb9f3a\"],[0.8888888888888888,\"#fdca26\"],[1.0,\"#f0f921\"]]}],\"surface\":[{\"type\":\"surface\",\"colorbar\":{\"outlinewidth\":0,\"ticks\":\"\"},\"colorscale\":[[0.0,\"#0d0887\"],[0.1111111111111111,\"#46039f\"],[0.2222222222222222,\"#7201a8\"],[0.3333333333333333,\"#9c179e\"],[0.4444444444444444,\"#bd3786\"],[0.5555555555555556,\"#d8576b\"],[0.6666666666666666,\"#ed7953\"],[0.7777777777777778,\"#fb9f3a\"],[0.8888888888888888,\"#fdca26\"],[1.0,\"#f0f921\"]]}],\"mesh3d\":[{\"type\":\"mesh3d\",\"colorbar\":{\"outlinewidth\":0,\"ticks\":\"\"}}],\"scatter\":[{\"fillpattern\":{\"fillmode\":\"overlay\",\"size\":10,\"solidity\":0.2},\"type\":\"scatter\"}],\"parcoords\":[{\"type\":\"parcoords\",\"line\":{\"colorbar\":{\"outlinewidth\":0,\"ticks\":\"\"}}}],\"scatterpolargl\":[{\"type\":\"scatterpolargl\",\"marker\":{\"colorbar\":{\"outlinewidth\":0,\"ticks\":\"\"}}}],\"bar\":[{\"error_x\":{\"color\":\"#2a3f5f\"},\"error_y\":{\"color\":\"#2a3f5f\"},\"marker\":{\"line\":{\"color\":\"#E5ECF6\",\"width\":0.5},\"pattern\":{\"fillmode\":\"overlay\",\"size\":10,\"solidity\":0.2}},\"type\":\"bar\"}],\"scattergeo\":[{\"type\":\"scattergeo\",\"marker\":{\"colorbar\":{\"outlinewidth\":0,\"ticks\":\"\"}}}],\"scatterpolar\":[{\"type\":\"scatterpolar\",\"marker\":{\"colorbar\":{\"outlinewidth\":0,\"ticks\":\"\"}}}],\"histogram\":[{\"marker\":{\"pattern\":{\"fillmode\":\"overlay\",\"size\":10,\"solidity\":0.2}},\"type\":\"histogram\"}],\"scattergl\":[{\"type\":\"scattergl\",\"marker\":{\"colorbar\":{\"outlinewidth\":0,\"ticks\":\"\"}}}],\"scatter3d\":[{\"type\":\"scatter3d\",\"line\":{\"colorbar\":{\"outlinewidth\":0,\"ticks\":\"\"}},\"marker\":{\"colorbar\":{\"outlinewidth\":0,\"ticks\":\"\"}}}],\"scattermapbox\":[{\"type\":\"scattermapbox\",\"marker\":{\"colorbar\":{\"outlinewidth\":0,\"ticks\":\"\"}}}],\"scatterternary\":[{\"type\":\"scatterternary\",\"marker\":{\"colorbar\":{\"outlinewidth\":0,\"ticks\":\"\"}}}],\"scattercarpet\":[{\"type\":\"scattercarpet\",\"marker\":{\"colorbar\":{\"outlinewidth\":0,\"ticks\":\"\"}}}],\"carpet\":[{\"aaxis\":{\"endlinecolor\":\"#2a3f5f\",\"gridcolor\":\"white\",\"linecolor\":\"white\",\"minorgridcolor\":\"white\",\"startlinecolor\":\"#2a3f5f\"},\"baxis\":{\"endlinecolor\":\"#2a3f5f\",\"gridcolor\":\"white\",\"linecolor\":\"white\",\"minorgridcolor\":\"white\",\"startlinecolor\":\"#2a3f5f\"},\"type\":\"carpet\"}],\"table\":[{\"cells\":{\"fill\":{\"color\":\"#EBF0F8\"},\"line\":{\"color\":\"white\"}},\"header\":{\"fill\":{\"color\":\"#C8D4E3\"},\"line\":{\"color\":\"white\"}},\"type\":\"table\"}],\"barpolar\":[{\"marker\":{\"line\":{\"color\":\"#E5ECF6\",\"width\":0.5},\"pattern\":{\"fillmode\":\"overlay\",\"size\":10,\"solidity\":0.2}},\"type\":\"barpolar\"}],\"pie\":[{\"automargin\":true,\"type\":\"pie\"}]},\"layout\":{\"autotypenumbers\":\"strict\",\"colorway\":[\"#636efa\",\"#EF553B\",\"#00cc96\",\"#ab63fa\",\"#FFA15A\",\"#19d3f3\",\"#FF6692\",\"#B6E880\",\"#FF97FF\",\"#FECB52\"],\"font\":{\"color\":\"#2a3f5f\"},\"hovermode\":\"closest\",\"hoverlabel\":{\"align\":\"left\"},\"paper_bgcolor\":\"white\",\"plot_bgcolor\":\"#E5ECF6\",\"polar\":{\"bgcolor\":\"#E5ECF6\",\"angularaxis\":{\"gridcolor\":\"white\",\"linecolor\":\"white\",\"ticks\":\"\"},\"radialaxis\":{\"gridcolor\":\"white\",\"linecolor\":\"white\",\"ticks\":\"\"}},\"ternary\":{\"bgcolor\":\"#E5ECF6\",\"aaxis\":{\"gridcolor\":\"white\",\"linecolor\":\"white\",\"ticks\":\"\"},\"baxis\":{\"gridcolor\":\"white\",\"linecolor\":\"white\",\"ticks\":\"\"},\"caxis\":{\"gridcolor\":\"white\",\"linecolor\":\"white\",\"ticks\":\"\"}},\"coloraxis\":{\"colorbar\":{\"outlinewidth\":0,\"ticks\":\"\"}},\"colorscale\":{\"sequential\":[[0.0,\"#0d0887\"],[0.1111111111111111,\"#46039f\"],[0.2222222222222222,\"#7201a8\"],[0.3333333333333333,\"#9c179e\"],[0.4444444444444444,\"#bd3786\"],[0.5555555555555556,\"#d8576b\"],[0.6666666666666666,\"#ed7953\"],[0.7777777777777778,\"#fb9f3a\"],[0.8888888888888888,\"#fdca26\"],[1.0,\"#f0f921\"]],\"sequentialminus\":[[0.0,\"#0d0887\"],[0.1111111111111111,\"#46039f\"],[0.2222222222222222,\"#7201a8\"],[0.3333333333333333,\"#9c179e\"],[0.4444444444444444,\"#bd3786\"],[0.5555555555555556,\"#d8576b\"],[0.6666666666666666,\"#ed7953\"],[0.7777777777777778,\"#fb9f3a\"],[0.8888888888888888,\"#fdca26\"],[1.0,\"#f0f921\"]],\"diverging\":[[0,\"#8e0152\"],[0.1,\"#c51b7d\"],[0.2,\"#de77ae\"],[0.3,\"#f1b6da\"],[0.4,\"#fde0ef\"],[0.5,\"#f7f7f7\"],[0.6,\"#e6f5d0\"],[0.7,\"#b8e186\"],[0.8,\"#7fbc41\"],[0.9,\"#4d9221\"],[1,\"#276419\"]]},\"xaxis\":{\"gridcolor\":\"white\",\"linecolor\":\"white\",\"ticks\":\"\",\"title\":{\"standoff\":15},\"zerolinecolor\":\"white\",\"automargin\":true,\"zerolinewidth\":2},\"yaxis\":{\"gridcolor\":\"white\",\"linecolor\":\"white\",\"ticks\":\"\",\"title\":{\"standoff\":15},\"zerolinecolor\":\"white\",\"automargin\":true,\"zerolinewidth\":2},\"scene\":{\"xaxis\":{\"backgroundcolor\":\"#E5ECF6\",\"gridcolor\":\"white\",\"linecolor\":\"white\",\"showbackground\":true,\"ticks\":\"\",\"zerolinecolor\":\"white\",\"gridwidth\":2},\"yaxis\":{\"backgroundcolor\":\"#E5ECF6\",\"gridcolor\":\"white\",\"linecolor\":\"white\",\"showbackground\":true,\"ticks\":\"\",\"zerolinecolor\":\"white\",\"gridwidth\":2},\"zaxis\":{\"backgroundcolor\":\"#E5ECF6\",\"gridcolor\":\"white\",\"linecolor\":\"white\",\"showbackground\":true,\"ticks\":\"\",\"zerolinecolor\":\"white\",\"gridwidth\":2}},\"shapedefaults\":{\"line\":{\"color\":\"#2a3f5f\"}},\"annotationdefaults\":{\"arrowcolor\":\"#2a3f5f\",\"arrowhead\":0,\"arrowwidth\":1},\"geo\":{\"bgcolor\":\"white\",\"landcolor\":\"#E5ECF6\",\"subunitcolor\":\"white\",\"showland\":true,\"showlakes\":true,\"lakecolor\":\"white\"},\"title\":{\"x\":0.05},\"mapbox\":{\"style\":\"light\"}}},\"xaxis\":{\"anchor\":\"y\",\"domain\":[0.0,1.0],\"title\":{\"text\":\"Base Model\"},\"categoryorder\":\"array\",\"categoryarray\":[\"SVCLinear\",\"SVM\",\"AdaBoost\",\"Random Forest\",\"Logistic Regression\",\"Decision tree\",\"Naive Bayes\",\"KNN\"],\"tickangle\":0},\"yaxis\":{\"anchor\":\"x\",\"domain\":[0.0,1.0],\"title\":{\"text\":\"Execution Time (s)\"}},\"legend\":{\"title\":{\"text\":\"Base Model\"},\"tracegroupgap\":0},\"title\":{\"text\":\"Execution time comparasion\"},\"barmode\":\"relative\",\"height\":700,\"bargap\":0.2,\"hovermode\":\"x\"},                        {\"responsive\": true}                    ).then(function(){\n",
              "                            \n",
              "var gd = document.getElementById('fbb2f374-7a0c-4072-9bb2-e3b68a8994bc');\n",
              "var x = new MutationObserver(function (mutations, observer) {{\n",
              "        var display = window.getComputedStyle(gd).display;\n",
              "        if (!display || display === 'none') {{\n",
              "            console.log([gd, 'removed!']);\n",
              "            Plotly.purge(gd);\n",
              "            observer.disconnect();\n",
              "        }}\n",
              "}});\n",
              "\n",
              "// Listen for the removal of the full notebook cells\n",
              "var notebookContainer = gd.closest('#notebook-container');\n",
              "if (notebookContainer) {{\n",
              "    x.observe(notebookContainer, {childList: true});\n",
              "}}\n",
              "\n",
              "// Listen for the clearing of the current output cell\n",
              "var outputEl = gd.closest('.output');\n",
              "if (outputEl) {{\n",
              "    x.observe(outputEl, {childList: true});\n",
              "}}\n",
              "\n",
              "                        })                };                            </script>        </div>\n",
              "</body>\n",
              "</html>"
            ]
          },
          "metadata": {},
          "output_type": "display_data"
        }
      ],
      "source": [
        "#Convert 'Execution Time(s)' to numeric for sorting\n",
        "results['Execution Time(s)'] = pd.to_numeric(results['Execution Time(s)'])\n",
        "\n",
        "# Sort the dataframe by 'Execution Time(s)'\n",
        "results = results.sort_values(by='Execution Time(s)', ascending=False)\n",
        "\n",
        "# Bar plot using Plotly Express\n",
        "fig = px.bar(\n",
        "    results,\n",
        "    x='Base Model',\n",
        "    y='Execution Time(s)',\n",
        "    color='Base Model',\n",
        "    text='Execution Time(s)',\n",
        "    title='Execution time comparasion',\n",
        "    labels={'Execution Time(s)': 'Seconds'},\n",
        "    height=700\n",
        ")\n",
        "\n",
        "# Add time values on top of each bar\n",
        "fig.update_traces(texttemplate='%{text:.2f} seconds', textposition='outside')\n",
        "\n",
        "# Customize layout\n",
        "fig.update_layout(\n",
        "    xaxis_title='Base Model',\n",
        "    yaxis_title='Execution Time (s)',\n",
        "    xaxis_tickangle=0,\n",
        "    bargap=0.2,\n",
        "    hovermode='x',\n",
        ")\n",
        "\n",
        "# Show the plot\n",
        "fig.show()"
      ]
    },
    {
      "cell_type": "markdown",
      "metadata": {
        "id": "k22svyS6jVbs"
      },
      "source": [
        "# Data preparation for DL"
      ]
    },
    {
      "cell_type": "code",
      "execution_count": 90,
      "metadata": {
        "colab": {
          "base_uri": "https://localhost:8080/"
        },
        "id": "6aztpca_h1VW",
        "outputId": "d68720e6-5257-4074-c24d-1f17abf169e1"
      },
      "outputs": [
        {
          "name": "stdout",
          "output_type": "stream",
          "text": [
            "torch.Size([64, 1, 28, 28])\n"
          ]
        }
      ],
      "source": [
        "import torchvision.transforms as transforms\n",
        "\n",
        "# Transformações para normalização adicional (média e desvio padrão)\n",
        "transform = transforms.Compose([\n",
        "    transforms.ToTensor(),\n",
        "    transforms.Normalize((0.5,), (0.5,))\n",
        "])\n",
        "\n",
        "# Carregamento do conjunto de dados com transformação\n",
        "train_dataset = datasets.FashionMNIST(root='./data', train=True, transform=transform, download=True)\n",
        "test_dataset = datasets.FashionMNIST(root='./data', train=False, transform=transform, download=True)\n",
        "\n",
        "# Carregamento dos dados\n",
        "train_loader = torch.utils.data.DataLoader(dataset=train_dataset, batch_size=64, shuffle=True)\n",
        "test_loader = torch.utils.data.DataLoader(dataset=test_dataset, batch_size=64, shuffle=False)\n",
        "\n",
        "# Extraindo um batch de dados para exemplos\n",
        "dataiter = iter(train_loader)\n",
        "images, labels = next(dataiter)\n",
        "\n",
        "# Verificando a forma dos dados\n",
        "print(images.shape)  # Saída: torch.Size([64, 1, 28, 28]) - (número de amostras, canais, altura, largura)\n",
        "\n",
        "# Normalizando os rótulos\n",
        "train_y = train_dataset.targets\n",
        "test_y = test_dataset.targets\n"
      ]
    },
    {
      "cell_type": "code",
      "execution_count": 91,
      "metadata": {
        "colab": {
          "base_uri": "https://localhost:8080/"
        },
        "id": "LtjXLsvXjYSf",
        "outputId": "ba4b4283-8264-4b94-ec54-4fc4fbd41367"
      },
      "outputs": [
        {
          "name": "stderr",
          "output_type": "stream",
          "text": [
            "<ipython-input-91-1f900c9c747f>:3: UserWarning:\n",
            "\n",
            "To copy construct from a tensor, it is recommended to use sourceTensor.clone().detach() or sourceTensor.clone().detach().requires_grad_(True), rather than torch.tensor(sourceTensor).\n",
            "\n",
            "<ipython-input-91-1f900c9c747f>:4: UserWarning:\n",
            "\n",
            "To copy construct from a tensor, it is recommended to use sourceTensor.clone().detach() or sourceTensor.clone().detach().requires_grad_(True), rather than torch.tensor(sourceTensor).\n",
            "\n",
            "<ipython-input-91-1f900c9c747f>:5: UserWarning:\n",
            "\n",
            "To copy construct from a tensor, it is recommended to use sourceTensor.clone().detach() or sourceTensor.clone().detach().requires_grad_(True), rather than torch.tensor(sourceTensor).\n",
            "\n",
            "<ipython-input-91-1f900c9c747f>:6: UserWarning:\n",
            "\n",
            "To copy construct from a tensor, it is recommended to use sourceTensor.clone().detach() or sourceTensor.clone().detach().requires_grad_(True), rather than torch.tensor(sourceTensor).\n",
            "\n"
          ]
        }
      ],
      "source": [
        "# prepare the data for training a MLP model\n",
        "\n",
        "train_data_tensor = torch.tensor(train_x, dtype=torch.float)\n",
        "train_labels_tensor = torch.tensor(train_y, dtype=torch.long)\n",
        "test_data_tensor = torch.tensor(test_x, dtype=torch.float)\n",
        "test_labels_tensor = torch.tensor(test_y, dtype=torch.long)\n",
        "\n",
        "# Reshape the data\n",
        "train_data_tensor = train_data_tensor.reshape(-1, 1, 28, 28)\n",
        "test_data_tensor = test_data_tensor.reshape(-1, 1, 28, 28)\n",
        "\n",
        "# Create a dataset and a data loader\n",
        "from torch.utils.data import TensorDataset, DataLoader\n",
        "train_dataset = TensorDataset(train_data_tensor, train_labels_tensor)\n",
        "train_loader = DataLoader(train_dataset, batch_size=64, shuffle=True)"
      ]
    },
    {
      "cell_type": "markdown",
      "metadata": {
        "id": "2jx1ioMnCqC3"
      },
      "source": [
        "# Multilayer Perceptron"
      ]
    },
    {
      "cell_type": "code",
      "execution_count": 92,
      "metadata": {
        "id": "dh_cQPsCCu7Y"
      },
      "outputs": [],
      "source": [
        "mlp_model = torch.nn.Sequential(\n",
        "    torch.nn.Flatten(),\n",
        "    torch.nn.Linear(784, 512),  # Additional dense layer with 256 neurons\n",
        "    torch.nn.ReLU(),\n",
        "    torch.nn.Dropout(0.2),\n",
        "    torch.nn.Linear(512, 256),  # Original dense layer with 128 neurons\n",
        "    torch.nn.ReLU(),\n",
        "    torch.nn.Dropout(0.2),\n",
        "    torch.nn.Linear(256, 128),\n",
        "    torch.nn.ReLU(),\n",
        "    torch.nn.Dropout(0.2),\n",
        "    torch.nn.Linear(128, 64),\n",
        "    torch.nn.Linear(64, 10),\n",
        "\n",
        "    torch.nn.Softmax(dim=1)\n",
        ")\n",
        "\n",
        "\n",
        "# Move the model to GPU\n",
        "mlp_model = mlp_model.to(DEVICE)\n",
        "test_data_tensor = test_data_tensor.to(DEVICE)\n",
        "test_labels_tensor = test_labels_tensor.to(DEVICE)\n",
        "\n",
        "\n",
        "# Define the loss function and optimizer and metrics\n",
        "loss_fn = torch.nn.CrossEntropyLoss()\n",
        "optimizer = torch.optim.Adam(mlp_model.parameters(), lr=0.001, weight_decay=0.0001)\n",
        "metrics = ['accuracy']\n",
        "num_epochs = 10"
      ]
    },
    {
      "cell_type": "code",
      "execution_count": 93,
      "metadata": {
        "colab": {
          "base_uri": "https://localhost:8080/"
        },
        "id": "ygHNd2z23vea",
        "outputId": "c1aafbcc-5d38-4638-8d54-3471abd4d6c4"
      },
      "outputs": [
        {
          "name": "stdout",
          "output_type": "stream",
          "text": [
            "Epoch 1/10, Loss: 1.7624932527542114\n",
            "Epoch 2/10, Loss: 1.787207841873169\n",
            "Epoch 3/10, Loss: 1.6175637245178223\n",
            "Epoch 4/10, Loss: 1.6176005601882935\n",
            "Epoch 5/10, Loss: 1.5549015998840332\n",
            "Epoch 6/10, Loss: 1.617629885673523\n",
            "Epoch 7/10, Loss: 1.6175041198730469\n",
            "Epoch 8/10, Loss: 1.6277480125427246\n",
            "Epoch 9/10, Loss: 1.5236717462539673\n",
            "Epoch 10/10, Loss: 1.6851483583450317\n",
            "Accuracy of the model on the test dataset: 0.8223\n"
          ]
        }
      ],
      "source": [
        "start_time =  time.time()\n",
        "\n",
        "for epoch in range(num_epochs):\n",
        "    for inputs, labels in train_loader:\n",
        "\n",
        "        optimizer.zero_grad()  # Zero the gradients\n",
        "        inputs, labels = inputs.to(DEVICE), labels.to(DEVICE)  # Move data to GPU\n",
        "        outputs = mlp_model(inputs)  # Forward pass\n",
        "        loss = loss_fn(outputs, labels)  # Calculate the loss\n",
        "        loss.backward()  # Backward pass\n",
        "        optimizer.step()  # Update the weights\n",
        "\n",
        "    print(f'Epoch {epoch+1}/{num_epochs}, Loss: {loss.item()}')\n",
        "end_time = time.time()\n",
        "exec_time = end_time - start_time\n",
        "\n",
        "# Evaluate the model on the test dataset\n",
        "mlp_model.eval()\n",
        "with torch.no_grad():\n",
        "    outputs = mlp_model(test_data_tensor)\n",
        "    _, predicted = torch.max(outputs.data, 1)\n",
        "    total = test_labels_tensor.size(0)\n",
        "    correct = (predicted == test_labels_tensor).sum().item()\n",
        "    accuracy = correct / total\n",
        "    print(f'Accuracy of the model on the test dataset: {accuracy}')"
      ]
    },
    {
      "cell_type": "code",
      "execution_count": 117,
      "metadata": {
        "colab": {
          "base_uri": "https://localhost:8080/"
        },
        "id": "QTqCN56QHxX_",
        "outputId": "439afac2-af6a-4a3c-dca3-35c05137a623"
      },
      "outputs": [
        {
          "name": "stdout",
          "output_type": "stream",
          "text": [
            "Classification Report\n",
            "              precision    recall  f1-score   support\n",
            "\n",
            "           0       0.86      0.85      0.85      1000\n",
            "           1       0.99      0.99      0.99      1000\n",
            "           2       0.86      0.88      0.87      1000\n",
            "           3       0.88      0.94      0.91      1000\n",
            "           4       0.87      0.84      0.85      1000\n",
            "           5       0.99      0.97      0.98      1000\n",
            "           6       0.75      0.72      0.73      1000\n",
            "           7       0.94      0.99      0.96      1000\n",
            "           8       0.98      0.98      0.98      1000\n",
            "           9       0.98      0.96      0.97      1000\n",
            "\n",
            "    accuracy                           0.91     10000\n",
            "   macro avg       0.91      0.91      0.91     10000\n",
            "weighted avg       0.91      0.91      0.91     10000\n",
            "\n",
            "\n",
            "Confusion Matrix\n",
            "[[848   1  23  23   4   0  95   0   6   0]\n",
            " [  0 988   1   9   1   0   0   0   1   0]\n",
            " [ 11   1 875   9  49   0  55   0   0   0]\n",
            " [ 11   8   6 940  14   0  20   0   1   0]\n",
            " [  0   2  51  37 842   0  67   0   1   0]\n",
            " [  0   0   0   0   0 974   0  17   0   9]\n",
            " [112   2  62  41  57   0 719   0   7   0]\n",
            " [  0   0   0   0   0   5   0 986   0   9]\n",
            " [  2   0   2   4   3   2   2   3 981   1]\n",
            " [  0   0   1   0   0   3   0  38   0 958]]\n",
            "\n",
            "Execution time: 27.868101119995117 seconds\n",
            "\n",
            "True Positive Rate\n",
            "TPR: [0.848 0.988 0.875 0.94  0.842 0.974 0.719 0.986 0.981 0.958]\n",
            "\n",
            "The most difficult class is 6 - Shirt\n"
          ]
        }
      ],
      "source": [
        "# Print the classification report and confusion matrix\n",
        "print('Classification Report')\n",
        "print(classification_report(test_labels_tensor.cpu(), predicted.cpu()))\n",
        "\n",
        "print('\\nConfusion Matrix')\n",
        "print(confusion_matrix(test_labels_tensor.cpu(), predicted.cpu()))\n",
        "\n",
        "# Print the execution time\n",
        "print(f'\\nExecution time: {exec_time} seconds')\n",
        "\n",
        "# Print true positive rate for each class\n",
        "TPR = confusion_matrix(test_labels_tensor.cpu(), predicted.cpu()).diagonal() / confusion_matrix(test_labels_tensor.cpu(), predicted.cpu()).sum(axis=1)\n",
        "print('\\nTrue Positive Rate')\n",
        "print(f'TPR: {TPR}')\n",
        "\n",
        "# Print the most difficult class with the class number and name\n",
        "most_difficult_class = TPR.argmin()\n",
        "print(f'\\nThe most difficult class is {most_difficult_class} - {CLASS_NAMES[most_difficult_class]}')\n",
        "\n",
        "\n",
        "MODELS_LISTS.append('MLP')\n",
        "ACCURACIES.append(accuracy)\n",
        "EXECUTION_TIMES.append(exec_time)\n",
        "MOST_DIFFICULT_CLASS.append(TPR.argmin())\n",
        "TPR_MIN.append(TPR.min())"
      ]
    },
    {
      "cell_type": "markdown",
      "metadata": {
        "id": "3zV0XIuwCvbL"
      },
      "source": [
        "# Convolutional network"
      ]
    },
    {
      "cell_type": "code",
      "execution_count": 95,
      "metadata": {
        "id": "cPGE7nE-Suz8"
      },
      "outputs": [],
      "source": [
        "# convolutional neural network\n",
        "cnn_model = torch.nn.Sequential(\n",
        "    torch.nn.Conv2d(1, 32, kernel_size=3, padding=1),\n",
        "    torch.nn.ReLU(),\n",
        "    torch.nn.MaxPool2d(kernel_size=2, stride=2),\n",
        "    torch.nn.Conv2d(32, 64, kernel_size=3, padding=1),\n",
        "    torch.nn.ReLU(),\n",
        "    torch.nn.MaxPool2d(kernel_size=2, stride=2),\n",
        "    torch.nn.Conv2d(64, 128, kernel_size=3, padding=1),\n",
        "    torch.nn.ReLU(),\n",
        "    torch.nn.MaxPool2d(kernel_size=2, stride=2),\n",
        "    torch.nn.Flatten(),\n",
        "\n",
        "    torch.nn.Linear(128 * (28 // 8) * (28 // 8), 10),  # Adjust the input size\n",
        "    torch.nn.ReLU(),\n",
        "    torch.nn.Linear(10, 10)  # No activation function needed for the last linear layer\n",
        ")\n"
      ]
    },
    {
      "cell_type": "code",
      "execution_count": 96,
      "metadata": {
        "colab": {
          "base_uri": "https://localhost:8080/"
        },
        "id": "2WCbrZzJC1oz",
        "outputId": "39d7df1b-7237-4fe1-e34a-d5b24289f263"
      },
      "outputs": [
        {
          "name": "stdout",
          "output_type": "stream",
          "text": [
            "Epoch 1/10, Loss: 0.19618329405784607\n",
            "Epoch 2/10, Loss: 0.22630462050437927\n",
            "Epoch 3/10, Loss: 0.5854358077049255\n",
            "Epoch 4/10, Loss: 0.06816484034061432\n",
            "Epoch 5/10, Loss: 0.3152962028980255\n",
            "Epoch 6/10, Loss: 0.6948695182800293\n",
            "Epoch 7/10, Loss: 0.3434588313102722\n",
            "Epoch 8/10, Loss: 0.205098494887352\n",
            "Epoch 9/10, Loss: 0.16267217695713043\n",
            "Epoch 10/10, Loss: 0.22263193130493164\n",
            "Accuracy of the model on the test dataset: 0.9111\n"
          ]
        }
      ],
      "source": [
        "# Move the model to GPU\n",
        "cnn_model = cnn_model.to(DEVICE)\n",
        "\n",
        "# Define the loss function and optimizer and metrics\n",
        "loss_fn = torch.nn.CrossEntropyLoss()\n",
        "optimizer = torch.optim.Adam(cnn_model.parameters(), lr=0.001, weight_decay=0.0001)\n",
        "metrics = ['accuracy']\n",
        "num_epochs = 10\n",
        "start_time = time.time()\n",
        "for epoch in range(num_epochs):\n",
        "    for inputs, labels in train_loader:\n",
        "        optimizer.zero_grad()  # Zero the gradients\n",
        "        inputs, labels = inputs.to(DEVICE), labels.to(DEVICE)  # Move data to GPU\n",
        "        outputs = cnn_model(inputs)  # Forward pass\n",
        "        loss = loss_fn(outputs, labels)  # Calculate the loss\n",
        "        loss.backward()  # Backward pass\n",
        "        optimizer.step()  # Update the weights\n",
        "\n",
        "    print(f'Epoch {epoch+1}/{num_epochs}, Loss: {loss.item()}')\n",
        "\n",
        "end_time = time.time()\n",
        "exec_time = end_time - start_time\n",
        "# Evaluate the model on the test dataset\n",
        "cnn_model.eval()\n",
        "with torch.no_grad():\n",
        "    outputs = cnn_model(test_data_tensor)\n",
        "    _, predicted = torch.max(outputs.data, 1)\n",
        "    total = test_labels_tensor.size(0)\n",
        "    correct = (predicted == test_labels_tensor).sum().item()\n",
        "    accuracy = correct / total\n",
        "    print(f'Accuracy of the model on the test dataset: {accuracy}')\n"
      ]
    },
    {
      "cell_type": "code",
      "execution_count": 118,
      "metadata": {
        "colab": {
          "base_uri": "https://localhost:8080/"
        },
        "id": "ut3iB_T-T4xQ",
        "outputId": "4b418f25-7a3c-4167-d714-23528c01c18d"
      },
      "outputs": [
        {
          "name": "stdout",
          "output_type": "stream",
          "text": [
            "Classification Report\n",
            "              precision    recall  f1-score   support\n",
            "\n",
            "           0       0.86      0.85      0.85      1000\n",
            "           1       0.99      0.99      0.99      1000\n",
            "           2       0.86      0.88      0.87      1000\n",
            "           3       0.88      0.94      0.91      1000\n",
            "           4       0.87      0.84      0.85      1000\n",
            "           5       0.99      0.97      0.98      1000\n",
            "           6       0.75      0.72      0.73      1000\n",
            "           7       0.94      0.99      0.96      1000\n",
            "           8       0.98      0.98      0.98      1000\n",
            "           9       0.98      0.96      0.97      1000\n",
            "\n",
            "    accuracy                           0.91     10000\n",
            "   macro avg       0.91      0.91      0.91     10000\n",
            "weighted avg       0.91      0.91      0.91     10000\n",
            "\n",
            "\n",
            "Confusion Matrix\n",
            "[[848   1  23  23   4   0  95   0   6   0]\n",
            " [  0 988   1   9   1   0   0   0   1   0]\n",
            " [ 11   1 875   9  49   0  55   0   0   0]\n",
            " [ 11   8   6 940  14   0  20   0   1   0]\n",
            " [  0   2  51  37 842   0  67   0   1   0]\n",
            " [  0   0   0   0   0 974   0  17   0   9]\n",
            " [112   2  62  41  57   0 719   0   7   0]\n",
            " [  0   0   0   0   0   5   0 986   0   9]\n",
            " [  2   0   2   4   3   2   2   3 981   1]\n",
            " [  0   0   1   0   0   3   0  38   0 958]]\n",
            "\n",
            "Execution time: 27.868101119995117 seconds\n",
            "\n",
            "True Positive Rate\n",
            "TPR: [0.848 0.988 0.875 0.94  0.842 0.974 0.719 0.986 0.981 0.958]\n",
            "\n",
            "The most difficult class is 6 - Shirt\n"
          ]
        }
      ],
      "source": [
        "# Print the classification report and confusion matrix\n",
        "print('Classification Report')\n",
        "print(classification_report(test_labels_tensor.cpu(), predicted.cpu()))\n",
        "\n",
        "print('\\nConfusion Matrix')\n",
        "print(confusion_matrix(test_labels_tensor.cpu(), predicted.cpu()))\n",
        "\n",
        "# Print the execution time\n",
        "print(f'\\nExecution time: {exec_time} seconds')\n",
        "\n",
        "# Print true positive rate for each class\n",
        "TPR = confusion_matrix(test_labels_tensor.cpu(), predicted.cpu()).diagonal() / confusion_matrix(test_labels_tensor.cpu(), predicted.cpu()).sum(axis=1)\n",
        "print('\\nTrue Positive Rate')\n",
        "print(f'TPR: {TPR}')\n",
        "\n",
        "# Print the most difficult class with the class number and name\n",
        "most_difficult_class = TPR.argmin()\n",
        "print(f'\\nThe most difficult class is {most_difficult_class} - {CLASS_NAMES[most_difficult_class]}')\n",
        "\n",
        "\n",
        "MODELS_LISTS.append('CNN_model')\n",
        "ACCURACIES.append(accuracy)\n",
        "EXECUTION_TIMES.append(exec_time)\n",
        "MOST_DIFFICULT_CLASS.append(TPR.argmin())\n",
        "TPR_MIN.append(TPR.min())"
      ]
    },
    {
      "cell_type": "code",
      "execution_count": 98,
      "metadata": {
        "colab": {
          "base_uri": "https://localhost:8080/",
          "height": 1000
        },
        "id": "UOWIXzV6gYkg",
        "outputId": "c70d7667-6617-4f4d-b205-a0e905de8a77"
      },
      "outputs": [
        {
          "data": {
            "image/svg+xml": [
              "<?xml version=\"1.0\" encoding=\"UTF-8\" standalone=\"no\"?>\n",
              "<!DOCTYPE svg PUBLIC \"-//W3C//DTD SVG 1.1//EN\"\n",
              " \"http://www.w3.org/Graphics/SVG/1.1/DTD/svg11.dtd\">\n",
              "<!-- Generated by graphviz version 2.43.0 (0)\n",
              " -->\n",
              "<!-- Title: %3 Pages: 1 -->\n",
              "<svg width=\"622pt\" height=\"864pt\"\n",
              " viewBox=\"0.00 0.00 621.60 864.00\" xmlns=\"http://www.w3.org/2000/svg\" xmlns:xlink=\"http://www.w3.org/1999/xlink\">\n",
              "<g id=\"graph0\" class=\"graph\" transform=\"scale(1.09 1.09) rotate(0) translate(4 937)\">\n",
              "<title>%3</title>\n",
              "<polygon fill=\"white\" stroke=\"transparent\" points=\"-4,4 -4,-937 673,-937 673,4 -4,4\"/>\n",
              "<!-- 134257811135264 -->\n",
              "<g id=\"node1\" class=\"node\">\n",
              "<title>134257811135264</title>\n",
              "<polygon fill=\"#caff70\" stroke=\"black\" points=\"512,-31 447,-31 447,0 512,0 512,-31\"/>\n",
              "<text text-anchor=\"middle\" x=\"479.5\" y=\"-7\" font-family=\"monospace\" font-size=\"10.00\"> (1, 10)</text>\n",
              "</g>\n",
              "<!-- 134257810749040 -->\n",
              "<g id=\"node2\" class=\"node\">\n",
              "<title>134257810749040</title>\n",
              "<polygon fill=\"lightgrey\" stroke=\"black\" points=\"530,-86 429,-86 429,-67 530,-67 530,-86\"/>\n",
              "<text text-anchor=\"middle\" x=\"479.5\" y=\"-74\" font-family=\"monospace\" font-size=\"10.00\">AddmmBackward0</text>\n",
              "</g>\n",
              "<!-- 134257810749040&#45;&gt;134257811135264 -->\n",
              "<g id=\"edge35\" class=\"edge\">\n",
              "<title>134257810749040&#45;&gt;134257811135264</title>\n",
              "<path fill=\"none\" stroke=\"black\" d=\"M479.5,-66.79C479.5,-60.07 479.5,-50.4 479.5,-41.34\"/>\n",
              "<polygon fill=\"black\" stroke=\"black\" points=\"483,-41.19 479.5,-31.19 476,-41.19 483,-41.19\"/>\n",
              "</g>\n",
              "<!-- 134257810743280 -->\n",
              "<g id=\"node3\" class=\"node\">\n",
              "<title>134257810743280</title>\n",
              "<polygon fill=\"lightgrey\" stroke=\"black\" points=\"414,-141 313,-141 313,-122 414,-122 414,-141\"/>\n",
              "<text text-anchor=\"middle\" x=\"363.5\" y=\"-129\" font-family=\"monospace\" font-size=\"10.00\">AccumulateGrad</text>\n",
              "</g>\n",
              "<!-- 134257810743280&#45;&gt;134257810749040 -->\n",
              "<g id=\"edge1\" class=\"edge\">\n",
              "<title>134257810743280&#45;&gt;134257810749040</title>\n",
              "<path fill=\"none\" stroke=\"black\" d=\"M382.14,-121.98C400.8,-113.46 429.75,-100.23 451.24,-90.41\"/>\n",
              "<polygon fill=\"black\" stroke=\"black\" points=\"452.88,-93.51 460.52,-86.17 449.97,-87.14 452.88,-93.51\"/>\n",
              "</g>\n",
              "<!-- 134257810465200 -->\n",
              "<g id=\"node4\" class=\"node\">\n",
              "<title>134257810465200</title>\n",
              "<polygon fill=\"lightblue\" stroke=\"black\" points=\"393,-207 334,-207 334,-177 393,-177 393,-207\"/>\n",
              "<text text-anchor=\"middle\" x=\"363.5\" y=\"-195\" font-family=\"monospace\" font-size=\"10.00\">12.bias</text>\n",
              "<text text-anchor=\"middle\" x=\"363.5\" y=\"-184\" font-family=\"monospace\" font-size=\"10.00\"> (10)</text>\n",
              "</g>\n",
              "<!-- 134257810465200&#45;&gt;134257810743280 -->\n",
              "<g id=\"edge2\" class=\"edge\">\n",
              "<title>134257810465200&#45;&gt;134257810743280</title>\n",
              "<path fill=\"none\" stroke=\"black\" d=\"M363.5,-176.84C363.5,-169.21 363.5,-159.7 363.5,-151.45\"/>\n",
              "<polygon fill=\"black\" stroke=\"black\" points=\"367,-151.27 363.5,-141.27 360,-151.27 367,-151.27\"/>\n",
              "</g>\n",
              "<!-- 134257810745776 -->\n",
              "<g id=\"node5\" class=\"node\">\n",
              "<title>134257810745776</title>\n",
              "<polygon fill=\"lightgrey\" stroke=\"black\" points=\"527,-141 432,-141 432,-122 527,-122 527,-141\"/>\n",
              "<text text-anchor=\"middle\" x=\"479.5\" y=\"-129\" font-family=\"monospace\" font-size=\"10.00\">ReluBackward0</text>\n",
              "</g>\n",
              "<!-- 134257810745776&#45;&gt;134257810749040 -->\n",
              "<g id=\"edge3\" class=\"edge\">\n",
              "<title>134257810745776&#45;&gt;134257810749040</title>\n",
              "<path fill=\"none\" stroke=\"black\" d=\"M479.5,-121.75C479.5,-114.8 479.5,-104.85 479.5,-96.13\"/>\n",
              "<polygon fill=\"black\" stroke=\"black\" points=\"483,-96.09 479.5,-86.09 476,-96.09 483,-96.09\"/>\n",
              "</g>\n",
              "<!-- 134257810741456 -->\n",
              "<g id=\"node6\" class=\"node\">\n",
              "<title>134257810741456</title>\n",
              "<polygon fill=\"lightgrey\" stroke=\"black\" points=\"526,-201.5 425,-201.5 425,-182.5 526,-182.5 526,-201.5\"/>\n",
              "<text text-anchor=\"middle\" x=\"475.5\" y=\"-189.5\" font-family=\"monospace\" font-size=\"10.00\">AddmmBackward0</text>\n",
              "</g>\n",
              "<!-- 134257810741456&#45;&gt;134257810745776 -->\n",
              "<g id=\"edge4\" class=\"edge\">\n",
              "<title>134257810741456&#45;&gt;134257810745776</title>\n",
              "<path fill=\"none\" stroke=\"black\" d=\"M476.09,-182.37C476.65,-174.25 477.5,-161.81 478.21,-151.39\"/>\n",
              "<polygon fill=\"black\" stroke=\"black\" points=\"481.72,-151.38 478.91,-141.17 474.73,-150.91 481.72,-151.38\"/>\n",
              "</g>\n",
              "<!-- 134257810749136 -->\n",
              "<g id=\"node7\" class=\"node\">\n",
              "<title>134257810749136</title>\n",
              "<polygon fill=\"lightgrey\" stroke=\"black\" points=\"359,-267.5 258,-267.5 258,-248.5 359,-248.5 359,-267.5\"/>\n",
              "<text text-anchor=\"middle\" x=\"308.5\" y=\"-255.5\" font-family=\"monospace\" font-size=\"10.00\">AccumulateGrad</text>\n",
              "</g>\n",
              "<!-- 134257810749136&#45;&gt;134257810741456 -->\n",
              "<g id=\"edge5\" class=\"edge\">\n",
              "<title>134257810749136&#45;&gt;134257810741456</title>\n",
              "<path fill=\"none\" stroke=\"black\" d=\"M331.02,-248.37C359.99,-237.27 410.48,-217.92 443.44,-205.28\"/>\n",
              "<polygon fill=\"black\" stroke=\"black\" points=\"444.98,-208.44 453.07,-201.6 442.48,-201.91 444.98,-208.44\"/>\n",
              "</g>\n",
              "<!-- 134257810459760 -->\n",
              "<g id=\"node8\" class=\"node\">\n",
              "<title>134257810459760</title>\n",
              "<polygon fill=\"lightblue\" stroke=\"black\" points=\"324,-339 265,-339 265,-309 324,-309 324,-339\"/>\n",
              "<text text-anchor=\"middle\" x=\"294.5\" y=\"-327\" font-family=\"monospace\" font-size=\"10.00\">10.bias</text>\n",
              "<text text-anchor=\"middle\" x=\"294.5\" y=\"-316\" font-family=\"monospace\" font-size=\"10.00\"> (10)</text>\n",
              "</g>\n",
              "<!-- 134257810459760&#45;&gt;134257810749136 -->\n",
              "<g id=\"edge6\" class=\"edge\">\n",
              "<title>134257810459760&#45;&gt;134257810749136</title>\n",
              "<path fill=\"none\" stroke=\"black\" d=\"M297.61,-308.8C299.6,-299.7 302.2,-287.79 304.37,-277.9\"/>\n",
              "<polygon fill=\"black\" stroke=\"black\" points=\"307.85,-278.36 306.57,-267.84 301.01,-276.87 307.85,-278.36\"/>\n",
              "</g>\n",
              "<!-- 134257810742752 -->\n",
              "<g id=\"node9\" class=\"node\">\n",
              "<title>134257810742752</title>\n",
              "<polygon fill=\"lightgrey\" stroke=\"black\" points=\"485,-267.5 390,-267.5 390,-248.5 485,-248.5 485,-267.5\"/>\n",
              "<text text-anchor=\"middle\" x=\"437.5\" y=\"-255.5\" font-family=\"monospace\" font-size=\"10.00\">ViewBackward0</text>\n",
              "</g>\n",
              "<!-- 134257810742752&#45;&gt;134257810741456 -->\n",
              "<g id=\"edge7\" class=\"edge\">\n",
              "<title>134257810742752&#45;&gt;134257810741456</title>\n",
              "<path fill=\"none\" stroke=\"black\" d=\"M442.62,-248.37C448.32,-238.78 457.66,-223.05 464.93,-210.8\"/>\n",
              "<polygon fill=\"black\" stroke=\"black\" points=\"468.12,-212.29 470.21,-201.91 462.1,-208.72 468.12,-212.29\"/>\n",
              "</g>\n",
              "<!-- 134257810745296 -->\n",
              "<g id=\"node10\" class=\"node\">\n",
              "<title>134257810745296</title>\n",
              "<polygon fill=\"lightgrey\" stroke=\"black\" points=\"533,-333.5 342,-333.5 342,-314.5 533,-314.5 533,-333.5\"/>\n",
              "<text text-anchor=\"middle\" x=\"437.5\" y=\"-321.5\" font-family=\"monospace\" font-size=\"10.00\">MaxPool2DWithIndicesBackward0</text>\n",
              "</g>\n",
              "<!-- 134257810745296&#45;&gt;134257810742752 -->\n",
              "<g id=\"edge8\" class=\"edge\">\n",
              "<title>134257810745296&#45;&gt;134257810742752</title>\n",
              "<path fill=\"none\" stroke=\"black\" d=\"M437.5,-314.37C437.5,-305.16 437.5,-290.29 437.5,-278.27\"/>\n",
              "<polygon fill=\"black\" stroke=\"black\" points=\"441,-277.91 437.5,-267.91 434,-277.91 441,-277.91\"/>\n",
              "</g>\n",
              "<!-- 134257810747360 -->\n",
              "<g id=\"node11\" class=\"node\">\n",
              "<title>134257810747360</title>\n",
              "<polygon fill=\"lightgrey\" stroke=\"black\" points=\"485,-399.5 390,-399.5 390,-380.5 485,-380.5 485,-399.5\"/>\n",
              "<text text-anchor=\"middle\" x=\"437.5\" y=\"-387.5\" font-family=\"monospace\" font-size=\"10.00\">ReluBackward0</text>\n",
              "</g>\n",
              "<!-- 134257810747360&#45;&gt;134257810745296 -->\n",
              "<g id=\"edge9\" class=\"edge\">\n",
              "<title>134257810747360&#45;&gt;134257810745296</title>\n",
              "<path fill=\"none\" stroke=\"black\" d=\"M437.5,-380.37C437.5,-371.16 437.5,-356.29 437.5,-344.27\"/>\n",
              "<polygon fill=\"black\" stroke=\"black\" points=\"441,-343.91 437.5,-333.91 434,-343.91 441,-343.91\"/>\n",
              "</g>\n",
              "<!-- 134257810745104 -->\n",
              "<g id=\"node12\" class=\"node\">\n",
              "<title>134257810745104</title>\n",
              "<polygon fill=\"lightgrey\" stroke=\"black\" points=\"506,-460 369,-460 369,-441 506,-441 506,-460\"/>\n",
              "<text text-anchor=\"middle\" x=\"437.5\" y=\"-448\" font-family=\"monospace\" font-size=\"10.00\">ConvolutionBackward0</text>\n",
              "</g>\n",
              "<!-- 134257810745104&#45;&gt;134257810747360 -->\n",
              "<g id=\"edge10\" class=\"edge\">\n",
              "<title>134257810745104&#45;&gt;134257810747360</title>\n",
              "<path fill=\"none\" stroke=\"black\" d=\"M437.5,-440.87C437.5,-432.75 437.5,-420.31 437.5,-409.89\"/>\n",
              "<polygon fill=\"black\" stroke=\"black\" points=\"441,-409.67 437.5,-399.67 434,-409.67 441,-409.67\"/>\n",
              "</g>\n",
              "<!-- 134257810745152 -->\n",
              "<g id=\"node13\" class=\"node\">\n",
              "<title>134257810745152</title>\n",
              "<polygon fill=\"lightgrey\" stroke=\"black\" points=\"369,-515 178,-515 178,-496 369,-496 369,-515\"/>\n",
              "<text text-anchor=\"middle\" x=\"273.5\" y=\"-503\" font-family=\"monospace\" font-size=\"10.00\">MaxPool2DWithIndicesBackward0</text>\n",
              "</g>\n",
              "<!-- 134257810745152&#45;&gt;134257810745104 -->\n",
              "<g id=\"edge11\" class=\"edge\">\n",
              "<title>134257810745152&#45;&gt;134257810745104</title>\n",
              "<path fill=\"none\" stroke=\"black\" d=\"M299.85,-495.98C327.26,-487.13 370.39,-473.19 401.06,-463.28\"/>\n",
              "<polygon fill=\"black\" stroke=\"black\" points=\"402.5,-466.49 410.94,-460.08 400.35,-459.83 402.5,-466.49\"/>\n",
              "</g>\n",
              "<!-- 134257810751200 -->\n",
              "<g id=\"node14\" class=\"node\">\n",
              "<title>134257810751200</title>\n",
              "<polygon fill=\"lightgrey\" stroke=\"black\" points=\"321,-575.5 226,-575.5 226,-556.5 321,-556.5 321,-575.5\"/>\n",
              "<text text-anchor=\"middle\" x=\"273.5\" y=\"-563.5\" font-family=\"monospace\" font-size=\"10.00\">ReluBackward0</text>\n",
              "</g>\n",
              "<!-- 134257810751200&#45;&gt;134257810745152 -->\n",
              "<g id=\"edge12\" class=\"edge\">\n",
              "<title>134257810751200&#45;&gt;134257810745152</title>\n",
              "<path fill=\"none\" stroke=\"black\" d=\"M273.5,-556.37C273.5,-548.25 273.5,-535.81 273.5,-525.39\"/>\n",
              "<polygon fill=\"black\" stroke=\"black\" points=\"277,-525.17 273.5,-515.17 270,-525.17 277,-525.17\"/>\n",
              "</g>\n",
              "<!-- 134257810745392 -->\n",
              "<g id=\"node15\" class=\"node\">\n",
              "<title>134257810745392</title>\n",
              "<polygon fill=\"lightgrey\" stroke=\"black\" points=\"342,-636 205,-636 205,-617 342,-617 342,-636\"/>\n",
              "<text text-anchor=\"middle\" x=\"273.5\" y=\"-624\" font-family=\"monospace\" font-size=\"10.00\">ConvolutionBackward0</text>\n",
              "</g>\n",
              "<!-- 134257810745392&#45;&gt;134257810751200 -->\n",
              "<g id=\"edge13\" class=\"edge\">\n",
              "<title>134257810745392&#45;&gt;134257810751200</title>\n",
              "<path fill=\"none\" stroke=\"black\" d=\"M273.5,-616.87C273.5,-608.75 273.5,-596.31 273.5,-585.89\"/>\n",
              "<polygon fill=\"black\" stroke=\"black\" points=\"277,-585.67 273.5,-575.67 270,-585.67 277,-585.67\"/>\n",
              "</g>\n",
              "<!-- 134257810742512 -->\n",
              "<g id=\"node16\" class=\"node\">\n",
              "<title>134257810742512</title>\n",
              "<polygon fill=\"lightgrey\" stroke=\"black\" points=\"205,-691 14,-691 14,-672 205,-672 205,-691\"/>\n",
              "<text text-anchor=\"middle\" x=\"109.5\" y=\"-679\" font-family=\"monospace\" font-size=\"10.00\">MaxPool2DWithIndicesBackward0</text>\n",
              "</g>\n",
              "<!-- 134257810742512&#45;&gt;134257810745392 -->\n",
              "<g id=\"edge14\" class=\"edge\">\n",
              "<title>134257810742512&#45;&gt;134257810745392</title>\n",
              "<path fill=\"none\" stroke=\"black\" d=\"M135.85,-671.98C163.26,-663.13 206.39,-649.19 237.06,-639.28\"/>\n",
              "<polygon fill=\"black\" stroke=\"black\" points=\"238.5,-642.49 246.94,-636.08 236.35,-635.83 238.5,-642.49\"/>\n",
              "</g>\n",
              "<!-- 134257810741168 -->\n",
              "<g id=\"node17\" class=\"node\">\n",
              "<title>134257810741168</title>\n",
              "<polygon fill=\"lightgrey\" stroke=\"black\" points=\"157,-751.5 62,-751.5 62,-732.5 157,-732.5 157,-751.5\"/>\n",
              "<text text-anchor=\"middle\" x=\"109.5\" y=\"-739.5\" font-family=\"monospace\" font-size=\"10.00\">ReluBackward0</text>\n",
              "</g>\n",
              "<!-- 134257810741168&#45;&gt;134257810742512 -->\n",
              "<g id=\"edge15\" class=\"edge\">\n",
              "<title>134257810741168&#45;&gt;134257810742512</title>\n",
              "<path fill=\"none\" stroke=\"black\" d=\"M109.5,-732.37C109.5,-724.25 109.5,-711.81 109.5,-701.39\"/>\n",
              "<polygon fill=\"black\" stroke=\"black\" points=\"113,-701.17 109.5,-691.17 106,-701.17 113,-701.17\"/>\n",
              "</g>\n",
              "<!-- 134257810745536 -->\n",
              "<g id=\"node18\" class=\"node\">\n",
              "<title>134257810745536</title>\n",
              "<polygon fill=\"lightgrey\" stroke=\"black\" points=\"178,-812 41,-812 41,-793 178,-793 178,-812\"/>\n",
              "<text text-anchor=\"middle\" x=\"109.5\" y=\"-800\" font-family=\"monospace\" font-size=\"10.00\">ConvolutionBackward0</text>\n",
              "</g>\n",
              "<!-- 134257810745536&#45;&gt;134257810741168 -->\n",
              "<g id=\"edge16\" class=\"edge\">\n",
              "<title>134257810745536&#45;&gt;134257810741168</title>\n",
              "<path fill=\"none\" stroke=\"black\" d=\"M109.5,-792.87C109.5,-784.75 109.5,-772.31 109.5,-761.89\"/>\n",
              "<polygon fill=\"black\" stroke=\"black\" points=\"113,-761.67 109.5,-751.67 106,-761.67 113,-761.67\"/>\n",
              "</g>\n",
              "<!-- 134257810745488 -->\n",
              "<g id=\"node19\" class=\"node\">\n",
              "<title>134257810745488</title>\n",
              "<polygon fill=\"lightgrey\" stroke=\"black\" points=\"101,-867 0,-867 0,-848 101,-848 101,-867\"/>\n",
              "<text text-anchor=\"middle\" x=\"50.5\" y=\"-855\" font-family=\"monospace\" font-size=\"10.00\">AccumulateGrad</text>\n",
              "</g>\n",
              "<!-- 134257810745488&#45;&gt;134257810745536 -->\n",
              "<g id=\"edge17\" class=\"edge\">\n",
              "<title>134257810745488&#45;&gt;134257810745536</title>\n",
              "<path fill=\"none\" stroke=\"black\" d=\"M59.98,-847.98C68.7,-840.15 81.84,-828.34 92.4,-818.86\"/>\n",
              "<polygon fill=\"black\" stroke=\"black\" points=\"94.75,-821.46 99.85,-812.17 90.07,-816.25 94.75,-821.46\"/>\n",
              "</g>\n",
              "<!-- 134257845597536 -->\n",
              "<g id=\"node20\" class=\"node\">\n",
              "<title>134257845597536</title>\n",
              "<polygon fill=\"lightblue\" stroke=\"black\" points=\"101,-933 0,-933 0,-903 101,-903 101,-933\"/>\n",
              "<text text-anchor=\"middle\" x=\"50.5\" y=\"-921\" font-family=\"monospace\" font-size=\"10.00\">0.weight</text>\n",
              "<text text-anchor=\"middle\" x=\"50.5\" y=\"-910\" font-family=\"monospace\" font-size=\"10.00\"> (32, 1, 3, 3)</text>\n",
              "</g>\n",
              "<!-- 134257845597536&#45;&gt;134257810745488 -->\n",
              "<g id=\"edge18\" class=\"edge\">\n",
              "<title>134257845597536&#45;&gt;134257810745488</title>\n",
              "<path fill=\"none\" stroke=\"black\" d=\"M50.5,-902.84C50.5,-895.21 50.5,-885.7 50.5,-877.45\"/>\n",
              "<polygon fill=\"black\" stroke=\"black\" points=\"54,-877.27 50.5,-867.27 47,-877.27 54,-877.27\"/>\n",
              "</g>\n",
              "<!-- 134257810745632 -->\n",
              "<g id=\"node21\" class=\"node\">\n",
              "<title>134257810745632</title>\n",
              "<polygon fill=\"lightgrey\" stroke=\"black\" points=\"220,-867 119,-867 119,-848 220,-848 220,-867\"/>\n",
              "<text text-anchor=\"middle\" x=\"169.5\" y=\"-855\" font-family=\"monospace\" font-size=\"10.00\">AccumulateGrad</text>\n",
              "</g>\n",
              "<!-- 134257810745632&#45;&gt;134257810745536 -->\n",
              "<g id=\"edge19\" class=\"edge\">\n",
              "<title>134257810745632&#45;&gt;134257810745536</title>\n",
              "<path fill=\"none\" stroke=\"black\" d=\"M159.86,-847.98C150.99,-840.15 137.63,-828.34 126.89,-818.86\"/>\n",
              "<polygon fill=\"black\" stroke=\"black\" points=\"129.13,-816.17 119.32,-812.17 124.49,-821.41 129.13,-816.17\"/>\n",
              "</g>\n",
              "<!-- 134257810937456 -->\n",
              "<g id=\"node22\" class=\"node\">\n",
              "<title>134257810937456</title>\n",
              "<polygon fill=\"lightblue\" stroke=\"black\" points=\"196.5,-933 142.5,-933 142.5,-903 196.5,-903 196.5,-933\"/>\n",
              "<text text-anchor=\"middle\" x=\"169.5\" y=\"-921\" font-family=\"monospace\" font-size=\"10.00\">0.bias</text>\n",
              "<text text-anchor=\"middle\" x=\"169.5\" y=\"-910\" font-family=\"monospace\" font-size=\"10.00\"> (32)</text>\n",
              "</g>\n",
              "<!-- 134257810937456&#45;&gt;134257810745632 -->\n",
              "<g id=\"edge20\" class=\"edge\">\n",
              "<title>134257810937456&#45;&gt;134257810745632</title>\n",
              "<path fill=\"none\" stroke=\"black\" d=\"M169.5,-902.84C169.5,-895.21 169.5,-885.7 169.5,-877.45\"/>\n",
              "<polygon fill=\"black\" stroke=\"black\" points=\"173,-877.27 169.5,-867.27 166,-877.27 173,-877.27\"/>\n",
              "</g>\n",
              "<!-- 134257810749568 -->\n",
              "<g id=\"node23\" class=\"node\">\n",
              "<title>134257810749568</title>\n",
              "<polygon fill=\"lightgrey\" stroke=\"black\" points=\"324,-691 223,-691 223,-672 324,-672 324,-691\"/>\n",
              "<text text-anchor=\"middle\" x=\"273.5\" y=\"-679\" font-family=\"monospace\" font-size=\"10.00\">AccumulateGrad</text>\n",
              "</g>\n",
              "<!-- 134257810749568&#45;&gt;134257810745392 -->\n",
              "<g id=\"edge21\" class=\"edge\">\n",
              "<title>134257810749568&#45;&gt;134257810745392</title>\n",
              "<path fill=\"none\" stroke=\"black\" d=\"M273.5,-671.75C273.5,-664.8 273.5,-654.85 273.5,-646.13\"/>\n",
              "<polygon fill=\"black\" stroke=\"black\" points=\"277,-646.09 273.5,-636.09 270,-646.09 277,-646.09\"/>\n",
              "</g>\n",
              "<!-- 134257810946656 -->\n",
              "<g id=\"node24\" class=\"node\">\n",
              "<title>134257810946656</title>\n",
              "<polygon fill=\"lightblue\" stroke=\"black\" points=\"327,-757 220,-757 220,-727 327,-727 327,-757\"/>\n",
              "<text text-anchor=\"middle\" x=\"273.5\" y=\"-745\" font-family=\"monospace\" font-size=\"10.00\">3.weight</text>\n",
              "<text text-anchor=\"middle\" x=\"273.5\" y=\"-734\" font-family=\"monospace\" font-size=\"10.00\"> (64, 32, 3, 3)</text>\n",
              "</g>\n",
              "<!-- 134257810946656&#45;&gt;134257810749568 -->\n",
              "<g id=\"edge22\" class=\"edge\">\n",
              "<title>134257810946656&#45;&gt;134257810749568</title>\n",
              "<path fill=\"none\" stroke=\"black\" d=\"M273.5,-726.84C273.5,-719.21 273.5,-709.7 273.5,-701.45\"/>\n",
              "<polygon fill=\"black\" stroke=\"black\" points=\"277,-701.27 273.5,-691.27 270,-701.27 277,-701.27\"/>\n",
              "</g>\n",
              "<!-- 134257810744192 -->\n",
              "<g id=\"node25\" class=\"node\">\n",
              "<title>134257810744192</title>\n",
              "<polygon fill=\"lightgrey\" stroke=\"black\" points=\"443,-691 342,-691 342,-672 443,-672 443,-691\"/>\n",
              "<text text-anchor=\"middle\" x=\"392.5\" y=\"-679\" font-family=\"monospace\" font-size=\"10.00\">AccumulateGrad</text>\n",
              "</g>\n",
              "<!-- 134257810744192&#45;&gt;134257810745392 -->\n",
              "<g id=\"edge23\" class=\"edge\">\n",
              "<title>134257810744192&#45;&gt;134257810745392</title>\n",
              "<path fill=\"none\" stroke=\"black\" d=\"M373.38,-671.98C354.15,-663.42 324.27,-650.11 302.19,-640.28\"/>\n",
              "<polygon fill=\"black\" stroke=\"black\" points=\"303.53,-637.04 292.97,-636.17 300.68,-643.44 303.53,-637.04\"/>\n",
              "</g>\n",
              "<!-- 134257810947616 -->\n",
              "<g id=\"node26\" class=\"node\">\n",
              "<title>134257810947616</title>\n",
              "<polygon fill=\"lightblue\" stroke=\"black\" points=\"419.5,-757 365.5,-757 365.5,-727 419.5,-727 419.5,-757\"/>\n",
              "<text text-anchor=\"middle\" x=\"392.5\" y=\"-745\" font-family=\"monospace\" font-size=\"10.00\">3.bias</text>\n",
              "<text text-anchor=\"middle\" x=\"392.5\" y=\"-734\" font-family=\"monospace\" font-size=\"10.00\"> (64)</text>\n",
              "</g>\n",
              "<!-- 134257810947616&#45;&gt;134257810744192 -->\n",
              "<g id=\"edge24\" class=\"edge\">\n",
              "<title>134257810947616&#45;&gt;134257810744192</title>\n",
              "<path fill=\"none\" stroke=\"black\" d=\"M392.5,-726.84C392.5,-719.21 392.5,-709.7 392.5,-701.45\"/>\n",
              "<polygon fill=\"black\" stroke=\"black\" points=\"396,-701.27 392.5,-691.27 389,-701.27 396,-701.27\"/>\n",
              "</g>\n",
              "<!-- 134257810744240 -->\n",
              "<g id=\"node27\" class=\"node\">\n",
              "<title>134257810744240</title>\n",
              "<polygon fill=\"lightgrey\" stroke=\"black\" points=\"488,-515 387,-515 387,-496 488,-496 488,-515\"/>\n",
              "<text text-anchor=\"middle\" x=\"437.5\" y=\"-503\" font-family=\"monospace\" font-size=\"10.00\">AccumulateGrad</text>\n",
              "</g>\n",
              "<!-- 134257810744240&#45;&gt;134257810745104 -->\n",
              "<g id=\"edge25\" class=\"edge\">\n",
              "<title>134257810744240&#45;&gt;134257810745104</title>\n",
              "<path fill=\"none\" stroke=\"black\" d=\"M437.5,-495.75C437.5,-488.8 437.5,-478.85 437.5,-470.13\"/>\n",
              "<polygon fill=\"black\" stroke=\"black\" points=\"441,-470.09 437.5,-460.09 434,-470.09 441,-470.09\"/>\n",
              "</g>\n",
              "<!-- 134259915262368 -->\n",
              "<g id=\"node28\" class=\"node\">\n",
              "<title>134259915262368</title>\n",
              "<polygon fill=\"lightblue\" stroke=\"black\" points=\"494,-581 381,-581 381,-551 494,-551 494,-581\"/>\n",
              "<text text-anchor=\"middle\" x=\"437.5\" y=\"-569\" font-family=\"monospace\" font-size=\"10.00\">6.weight</text>\n",
              "<text text-anchor=\"middle\" x=\"437.5\" y=\"-558\" font-family=\"monospace\" font-size=\"10.00\"> (128, 64, 3, 3)</text>\n",
              "</g>\n",
              "<!-- 134259915262368&#45;&gt;134257810744240 -->\n",
              "<g id=\"edge26\" class=\"edge\">\n",
              "<title>134259915262368&#45;&gt;134257810744240</title>\n",
              "<path fill=\"none\" stroke=\"black\" d=\"M437.5,-550.84C437.5,-543.21 437.5,-533.7 437.5,-525.45\"/>\n",
              "<polygon fill=\"black\" stroke=\"black\" points=\"441,-525.27 437.5,-515.27 434,-525.27 441,-525.27\"/>\n",
              "</g>\n",
              "<!-- 134257810741504 -->\n",
              "<g id=\"node29\" class=\"node\">\n",
              "<title>134257810741504</title>\n",
              "<polygon fill=\"lightgrey\" stroke=\"black\" points=\"607,-515 506,-515 506,-496 607,-496 607,-515\"/>\n",
              "<text text-anchor=\"middle\" x=\"556.5\" y=\"-503\" font-family=\"monospace\" font-size=\"10.00\">AccumulateGrad</text>\n",
              "</g>\n",
              "<!-- 134257810741504&#45;&gt;134257810745104 -->\n",
              "<g id=\"edge27\" class=\"edge\">\n",
              "<title>134257810741504&#45;&gt;134257810745104</title>\n",
              "<path fill=\"none\" stroke=\"black\" d=\"M537.38,-495.98C518.15,-487.42 488.27,-474.11 466.19,-464.28\"/>\n",
              "<polygon fill=\"black\" stroke=\"black\" points=\"467.53,-461.04 456.97,-460.17 464.68,-467.44 467.53,-461.04\"/>\n",
              "</g>\n",
              "<!-- 134257810464560 -->\n",
              "<g id=\"node30\" class=\"node\">\n",
              "<title>134257810464560</title>\n",
              "<polygon fill=\"lightblue\" stroke=\"black\" points=\"583.5,-581 529.5,-581 529.5,-551 583.5,-551 583.5,-581\"/>\n",
              "<text text-anchor=\"middle\" x=\"556.5\" y=\"-569\" font-family=\"monospace\" font-size=\"10.00\">6.bias</text>\n",
              "<text text-anchor=\"middle\" x=\"556.5\" y=\"-558\" font-family=\"monospace\" font-size=\"10.00\"> (128)</text>\n",
              "</g>\n",
              "<!-- 134257810464560&#45;&gt;134257810741504 -->\n",
              "<g id=\"edge28\" class=\"edge\">\n",
              "<title>134257810464560&#45;&gt;134257810741504</title>\n",
              "<path fill=\"none\" stroke=\"black\" d=\"M556.5,-550.84C556.5,-543.21 556.5,-533.7 556.5,-525.45\"/>\n",
              "<polygon fill=\"black\" stroke=\"black\" points=\"560,-525.27 556.5,-515.27 553,-525.27 560,-525.27\"/>\n",
              "</g>\n",
              "<!-- 134257810745056 -->\n",
              "<g id=\"node31\" class=\"node\">\n",
              "<title>134257810745056</title>\n",
              "<polygon fill=\"lightgrey\" stroke=\"black\" points=\"580,-267.5 503,-267.5 503,-248.5 580,-248.5 580,-267.5\"/>\n",
              "<text text-anchor=\"middle\" x=\"541.5\" y=\"-255.5\" font-family=\"monospace\" font-size=\"10.00\">TBackward0</text>\n",
              "</g>\n",
              "<!-- 134257810745056&#45;&gt;134257810741456 -->\n",
              "<g id=\"edge29\" class=\"edge\">\n",
              "<title>134257810745056&#45;&gt;134257810741456</title>\n",
              "<path fill=\"none\" stroke=\"black\" d=\"M532.6,-248.37C522.23,-238.31 504.87,-221.48 492.01,-209.01\"/>\n",
              "<polygon fill=\"black\" stroke=\"black\" points=\"494.3,-206.35 484.68,-201.91 489.43,-211.38 494.3,-206.35\"/>\n",
              "</g>\n",
              "<!-- 134257810749472 -->\n",
              "<g id=\"node32\" class=\"node\">\n",
              "<title>134257810749472</title>\n",
              "<polygon fill=\"lightgrey\" stroke=\"black\" points=\"652,-333.5 551,-333.5 551,-314.5 652,-314.5 652,-333.5\"/>\n",
              "<text text-anchor=\"middle\" x=\"601.5\" y=\"-321.5\" font-family=\"monospace\" font-size=\"10.00\">AccumulateGrad</text>\n",
              "</g>\n",
              "<!-- 134257810749472&#45;&gt;134257810745056 -->\n",
              "<g id=\"edge30\" class=\"edge\">\n",
              "<title>134257810749472&#45;&gt;134257810745056</title>\n",
              "<path fill=\"none\" stroke=\"black\" d=\"M593.41,-314.37C584.07,-304.4 568.49,-287.79 556.84,-275.36\"/>\n",
              "<polygon fill=\"black\" stroke=\"black\" points=\"559.24,-272.81 549.85,-267.91 554.13,-277.59 559.24,-272.81\"/>\n",
              "</g>\n",
              "<!-- 134257810938496 -->\n",
              "<g id=\"node33\" class=\"node\">\n",
              "<title>134257810938496</title>\n",
              "<polygon fill=\"lightblue\" stroke=\"black\" points=\"643,-405 560,-405 560,-375 643,-375 643,-405\"/>\n",
              "<text text-anchor=\"middle\" x=\"601.5\" y=\"-393\" font-family=\"monospace\" font-size=\"10.00\">10.weight</text>\n",
              "<text text-anchor=\"middle\" x=\"601.5\" y=\"-382\" font-family=\"monospace\" font-size=\"10.00\"> (10, 1152)</text>\n",
              "</g>\n",
              "<!-- 134257810938496&#45;&gt;134257810749472 -->\n",
              "<g id=\"edge31\" class=\"edge\">\n",
              "<title>134257810938496&#45;&gt;134257810749472</title>\n",
              "<path fill=\"none\" stroke=\"black\" d=\"M601.5,-374.8C601.5,-365.7 601.5,-353.79 601.5,-343.9\"/>\n",
              "<polygon fill=\"black\" stroke=\"black\" points=\"605,-343.84 601.5,-333.84 598,-343.84 605,-343.84\"/>\n",
              "</g>\n",
              "<!-- 134257810745680 -->\n",
              "<g id=\"node34\" class=\"node\">\n",
              "<title>134257810745680</title>\n",
              "<polygon fill=\"lightgrey\" stroke=\"black\" points=\"630,-141 553,-141 553,-122 630,-122 630,-141\"/>\n",
              "<text text-anchor=\"middle\" x=\"591.5\" y=\"-129\" font-family=\"monospace\" font-size=\"10.00\">TBackward0</text>\n",
              "</g>\n",
              "<!-- 134257810745680&#45;&gt;134257810749040 -->\n",
              "<g id=\"edge32\" class=\"edge\">\n",
              "<title>134257810745680&#45;&gt;134257810749040</title>\n",
              "<path fill=\"none\" stroke=\"black\" d=\"M573.51,-121.98C555.57,-113.5 527.78,-100.35 507.07,-90.54\"/>\n",
              "<polygon fill=\"black\" stroke=\"black\" points=\"508.36,-87.28 497.82,-86.17 505.36,-93.61 508.36,-87.28\"/>\n",
              "</g>\n",
              "<!-- 134257810743232 -->\n",
              "<g id=\"node35\" class=\"node\">\n",
              "<title>134257810743232</title>\n",
              "<polygon fill=\"lightgrey\" stroke=\"black\" points=\"646,-201.5 545,-201.5 545,-182.5 646,-182.5 646,-201.5\"/>\n",
              "<text text-anchor=\"middle\" x=\"595.5\" y=\"-189.5\" font-family=\"monospace\" font-size=\"10.00\">AccumulateGrad</text>\n",
              "</g>\n",
              "<!-- 134257810743232&#45;&gt;134257810745680 -->\n",
              "<g id=\"edge33\" class=\"edge\">\n",
              "<title>134257810743232&#45;&gt;134257810745680</title>\n",
              "<path fill=\"none\" stroke=\"black\" d=\"M594.91,-182.37C594.35,-174.25 593.5,-161.81 592.79,-151.39\"/>\n",
              "<polygon fill=\"black\" stroke=\"black\" points=\"596.27,-150.91 592.09,-141.17 589.28,-151.38 596.27,-150.91\"/>\n",
              "</g>\n",
              "<!-- 134257810466160 -->\n",
              "<g id=\"node36\" class=\"node\">\n",
              "<title>134257810466160</title>\n",
              "<polygon fill=\"lightblue\" stroke=\"black\" points=\"669,-273 598,-273 598,-243 669,-243 669,-273\"/>\n",
              "<text text-anchor=\"middle\" x=\"633.5\" y=\"-261\" font-family=\"monospace\" font-size=\"10.00\">12.weight</text>\n",
              "<text text-anchor=\"middle\" x=\"633.5\" y=\"-250\" font-family=\"monospace\" font-size=\"10.00\"> (10, 10)</text>\n",
              "</g>\n",
              "<!-- 134257810466160&#45;&gt;134257810743232 -->\n",
              "<g id=\"edge34\" class=\"edge\">\n",
              "<title>134257810466160&#45;&gt;134257810743232</title>\n",
              "<path fill=\"none\" stroke=\"black\" d=\"M625.07,-242.8C619.43,-233.31 611.98,-220.76 605.97,-210.63\"/>\n",
              "<polygon fill=\"black\" stroke=\"black\" points=\"608.87,-208.66 600.75,-201.84 602.85,-212.23 608.87,-208.66\"/>\n",
              "</g>\n",
              "</g>\n",
              "</svg>\n"
            ],
            "text/plain": [
              "<graphviz.graphs.Digraph at 0x7a1b551e19c0>"
            ]
          },
          "execution_count": 98,
          "metadata": {},
          "output_type": "execute_result"
        }
      ],
      "source": [
        "# Diagram of the model architecture using torchviz\n",
        "from torchviz import make_dot\n",
        "x = torch.randn(1, 1, 28, 28)\n",
        "x = x.to(DEVICE)\n",
        "y = cnn_model(x)\n",
        "dot = make_dot(y, params=dict(list(cnn_model.named_parameters()) + [('x', x)]))\n",
        "dot"
      ]
    },
    {
      "cell_type": "code",
      "execution_count": 99,
      "metadata": {
        "colab": {
          "base_uri": "https://localhost:8080/",
          "height": 36
        },
        "id": "8rm-EZsHn1Ss",
        "outputId": "5aab848e-4695-4e36-c100-c922a8d8cae4"
      },
      "outputs": [
        {
          "data": {
            "application/vnd.google.colaboratory.intrinsic+json": {
              "type": "string"
            },
            "text/plain": [
              "'cnn_model_diagram.png'"
            ]
          },
          "execution_count": 99,
          "metadata": {},
          "output_type": "execute_result"
        }
      ],
      "source": [
        "dot.render('cnn_model_diagram', format='png')"
      ]
    },
    {
      "cell_type": "markdown",
      "metadata": {
        "id": "sUxkMdIuC1-8"
      },
      "source": [
        "# Transfer learning models"
      ]
    },
    {
      "cell_type": "markdown",
      "metadata": {
        "id": "zQDZOT6YmyFC"
      },
      "source": [
        "Observação: Decidi por utilizar Keras (TensorFlow back-end) para utilizar o modelos pré-treinados devido a sua documentação mais extensa e afins."
      ]
    },
    {
      "cell_type": "markdown",
      "metadata": {
        "id": "y4y2s-ZatVxN"
      },
      "source": [
        "## Downloading the dataset"
      ]
    },
    {
      "cell_type": "code",
      "execution_count": 100,
      "metadata": {
        "id": "upUUBJOWoqkJ"
      },
      "outputs": [],
      "source": [
        "(x_train, y_train), (x_test, y_test) = tf.keras.datasets.fashion_mnist.load_data()"
      ]
    },
    {
      "cell_type": "markdown",
      "metadata": {},
      "source": [
        "## Data preparation"
      ]
    },
    {
      "cell_type": "code",
      "execution_count": 101,
      "metadata": {
        "id": "HgvaixnUwBw_"
      },
      "outputs": [],
      "source": [
        "max_limit = 1200\n",
        "train_indices = np.random.choice(len(x_train), max_limit, replace=False)\n",
        "test_indices = np.random.choice(len(x_test), max_limit, replace=False)\n",
        "\n",
        "x_train = x_train[train_indices]\n",
        "y_train = y_train[train_indices]\n",
        "\n",
        "x_test = x_test[test_indices]\n",
        "y_test = y_test[test_indices]"
      ]
    },
    {
      "cell_type": "code",
      "execution_count": 102,
      "metadata": {
        "id": "oEa3E2umwZnX"
      },
      "outputs": [],
      "source": [
        "x_train = tf.expand_dims(x_train, axis = -1)\n",
        "x_test = tf.expand_dims(x_test, axis = -1)\n",
        "\n",
        "x_train = tf.concat( [x_train, x_train, x_train], axis = -1)\n",
        "x_test = tf.concat( [x_test, x_test, x_test], axis = -1)\n",
        "\n",
        "# One hot encoding\n",
        "y_train = tf.keras.utils.to_categorical(y_train, num_classes=10)\n",
        "y_test = tf.keras.utils.to_categorical(y_test, num_classes=10)"
      ]
    },
    {
      "cell_type": "code",
      "execution_count": 103,
      "metadata": {
        "id": "BmR8VNEVy_a5"
      },
      "outputs": [],
      "source": [
        "x_train = tf.image.resize(x_train, (224, 224))\n",
        "x_test = tf.image.resize(x_test, (224, 224))"
      ]
    },
    {
      "cell_type": "markdown",
      "metadata": {},
      "source": [
        "## Neural networks functions\n"
      ]
    },
    {
      "cell_type": "code",
      "execution_count": null,
      "metadata": {},
      "outputs": [],
      "source": [
        "def neural_network_trainer (model, batch_size = 128, epochs = 20):\n",
        "    start_time = time.time()\n",
        "\n",
        "    model.fit(x_train, y_train, batch_size =  batch_size, epochs = epochs)\n",
        "    end_time =  time.time()\n",
        "    execution_time =  end_time - start_time\n",
        "\n",
        "    return execution_time\n",
        "\n",
        "def evaluate_neural_network(name, model, execution_time):\n",
        "    y_pred = model.predict(x_test)\n",
        "    y_pred = np.argmax(y_pred, axis =1)\n",
        "    accuracy = accuracy_score(np.argmax(y_test, axis = 1), y_pred)\n",
        "    print(f'Accuracy: {accuracy:.4f} \\n')\n",
        "\n",
        "    confusionMatrix = confusion_matrix(np.argmax(y_test, axis = 1), y_pred)\n",
        "    print('Classification Report')\n",
        "    print(classification_report(np.argmax(y_test, axis = 1), y_pred))\n",
        "\n",
        "    print('Confusion Matrix:')\n",
        "    print(confusionMatrix)\n",
        "    print(f'Exec time: {execution_time}')\n",
        "\n",
        "    TPR = confusionMatrix.diagonal() / confusionMatrix.sum(axis = 1)\n",
        "    print('True POsitive Rate')\n",
        "    print(TPR)\n",
        "\n",
        "    MODELS_LISTS.append(name)\n",
        "    ACCURACIES.append(accuracy)\n",
        "    EXECUTION_TIMES.append(execution_time)\n",
        "    MOST_DIFFICULT_CLASS.append(TPR.argmin())\n",
        "    TPR_MIN.append(TPR.min())"
      ]
    },
    {
      "cell_type": "markdown",
      "metadata": {
        "id": "-ZJy2TWYN5Xy"
      },
      "source": [
        "## VGG"
      ]
    },
    {
      "cell_type": "code",
      "execution_count": null,
      "metadata": {},
      "outputs": [],
      "source": [
        "# Load VGG16 model from pytorch hub and set the pretrained parameter to True to load the pretrained weights for the model from ImageNet\n",
        "vgg16_model = torch.hub.load('pytorch/vision:v0.10.0', 'vgg16', pretrained=True)\n",
        "# Print the model architecture\n",
        "print(vgg16_model)\n",
        "\n",
        "# Evaluate the model on the test dataset using the neural network trainer function\n",
        "execution_time = neural_network_trainer(vgg16_model, batch_size=128, epochs=20)\n",
        "evaluate_neural_network('VGG16', vgg16_model, execution_time)"
      ]
    },
    {
      "cell_type": "markdown",
      "metadata": {
        "id": "hZ6gDaNSU0vt"
      },
      "source": [
        "### VGG16"
      ]
    },
    {
      "cell_type": "code",
      "execution_count": 105,
      "metadata": {
        "colab": {
          "base_uri": "https://localhost:8080/"
        },
        "id": "IQaxjAfTsHYp",
        "outputId": "e2dd9a16-c76c-4f26-ff7a-1a80c0e62775"
      },
      "outputs": [
        {
          "name": "stdout",
          "output_type": "stream",
          "text": [
            "Epoch 1/10\n",
            "8/8 [==============================] - 2s 87ms/step - loss: 2.1467 - accuracy: 0.3080\n",
            "Epoch 2/10\n",
            "8/8 [==============================] - 1s 83ms/step - loss: 1.2592 - accuracy: 0.5950\n",
            "Epoch 3/10\n",
            "8/8 [==============================] - 1s 84ms/step - loss: 0.8996 - accuracy: 0.6910\n",
            "Epoch 4/10\n",
            "8/8 [==============================] - 1s 84ms/step - loss: 0.6836 - accuracy: 0.7500\n",
            "Epoch 5/10\n",
            "8/8 [==============================] - 1s 82ms/step - loss: 0.6263 - accuracy: 0.7810\n",
            "Epoch 6/10\n",
            "8/8 [==============================] - 1s 84ms/step - loss: 0.4992 - accuracy: 0.8210\n",
            "Epoch 7/10\n",
            "8/8 [==============================] - 1s 82ms/step - loss: 0.4429 - accuracy: 0.8390\n",
            "Epoch 8/10\n",
            "8/8 [==============================] - 1s 82ms/step - loss: 0.3759 - accuracy: 0.8660\n",
            "Epoch 9/10\n",
            "8/8 [==============================] - 1s 82ms/step - loss: 0.3272 - accuracy: 0.8890\n",
            "Epoch 10/10\n",
            "8/8 [==============================] - 1s 81ms/step - loss: 0.3261 - accuracy: 0.8850\n",
            "32/32 [==============================] - 1s 22ms/step\n",
            "Accuracy: 0.7850 \n",
            "\n",
            "Classification Report\n",
            "              precision    recall  f1-score   support\n",
            "\n",
            "           0       0.91      0.57      0.70        84\n",
            "           1       0.95      0.95      0.95       108\n",
            "           2       0.76      0.63      0.69        93\n",
            "           3       0.85      0.73      0.79        94\n",
            "           4       0.75      0.56      0.64        99\n",
            "           5       0.97      0.70      0.81       106\n",
            "           6       0.44      0.79      0.56       105\n",
            "           7       0.76      0.97      0.85        97\n",
            "           8       0.91      0.94      0.92       111\n",
            "           9       0.92      0.93      0.93       103\n",
            "\n",
            "    accuracy                           0.79      1000\n",
            "   macro avg       0.82      0.78      0.79      1000\n",
            "weighted avg       0.82      0.79      0.79      1000\n",
            "\n",
            "Confusion Matrix:\n",
            "[[ 48   1   3   4   0   0  24   0   3   1]\n",
            " [  1 103   0   2   1   0   1   0   0   0]\n",
            " [  0   0  59   0   5   0  27   0   2   0]\n",
            " [  1   2   5  69   2   0  15   0   0   0]\n",
            " [  0   0   7   3  55   0  34   0   0   0]\n",
            " [  0   0   0   0   0  74   0  26   2   4]\n",
            " [  3   2   4   2   9   0  83   0   2   0]\n",
            " [  0   0   0   0   0   0   0  94   0   3]\n",
            " [  0   0   0   0   1   1   5   0 104   0]\n",
            " [  0   0   0   1   0   1   0   4   1  96]]\n",
            "Exec time: 8.55341625213623\n",
            "True POsitive Rate\n",
            "[0.57142857 0.9537037  0.6344086  0.73404255 0.55555556 0.69811321\n",
            " 0.79047619 0.96907216 0.93693694 0.93203883]\n"
          ]
        }
      ],
      "source": [
        "# Load VGG16 base model\n",
        "vgg16_base = VGG16(weights=\"imagenet\", include_top=False, input_shape=(224, 224, 3))\n",
        "\n",
        "# Freeze the layers of the VGG16 base model\n",
        "for layer in vgg16_base.layers:\n",
        "    layer.trainable = False\n",
        "\n",
        "# Create a Sequential model\n",
        "modelVGG16 = Sequential()\n",
        "\n",
        "# Add the VGG16 base model to the Sequential model\n",
        "modelVGG16.add(vgg16_base)\n",
        "\n",
        "# Add GlobalAveragePooling2D layer\n",
        "modelVGG16.add(GlobalAveragePooling2D())\n",
        "\n",
        "# Add Dense layer with softmax activation for classification\n",
        "modelVGG16.add(Dense(512, activation='relu'))\n",
        "\n",
        "modelVGG16.add(layers.Dropout(0.2))\n",
        "\n",
        "modelVGG16.add(Dense(256, activation = 'relu'))\n",
        "\n",
        "modelVGG16.add(layers.Dropout(0.2))\n",
        "\n",
        "modelVGG16.add(Dense(128, activation = 'relu'))\n",
        "\n",
        "modelVGG16.add(Dense(64, activation = 'relu'))\n",
        "\n",
        "modelVGG16.add(layers.Dense(10, activation = 'softmax'))\n",
        "\n",
        "# Compile the model\n",
        "modelVGG16.compile(loss='categorical_crossentropy', optimizer='adam', metrics=['accuracy'])\n",
        "\n",
        "# Train and evaluate the model\n",
        "execution_time = neural_network_trainer(modelVGG16)\n",
        "evaluate_neural_network('VGG16', modelVGG16, execution_time)\n"
      ]
    },
    {
      "cell_type": "markdown",
      "metadata": {
        "id": "kHCvZqECqN06"
      },
      "source": [
        "### VGG19"
      ]
    },
    {
      "cell_type": "code",
      "execution_count": 106,
      "metadata": {
        "colab": {
          "base_uri": "https://localhost:8080/"
        },
        "id": "pqAnXFazqRSF",
        "outputId": "45d16541-1a4f-4479-ac05-7c594b819507"
      },
      "outputs": [
        {
          "name": "stdout",
          "output_type": "stream",
          "text": [
            "Epoch 1/10\n",
            "8/8 [==============================] - 3s 95ms/step - loss: 2.2246 - accuracy: 0.2940\n",
            "Epoch 2/10\n",
            "8/8 [==============================] - 1s 95ms/step - loss: 1.0898 - accuracy: 0.6220\n",
            "Epoch 3/10\n",
            "8/8 [==============================] - 1s 95ms/step - loss: 0.7594 - accuracy: 0.7180\n",
            "Epoch 4/10\n",
            "8/8 [==============================] - 1s 95ms/step - loss: 0.5898 - accuracy: 0.7840\n",
            "Epoch 5/10\n",
            "8/8 [==============================] - 1s 95ms/step - loss: 0.5395 - accuracy: 0.8120\n",
            "Epoch 6/10\n",
            "8/8 [==============================] - 1s 99ms/step - loss: 0.4342 - accuracy: 0.8300\n",
            "Epoch 7/10\n",
            "8/8 [==============================] - 1s 93ms/step - loss: 0.4039 - accuracy: 0.8400\n",
            "Epoch 8/10\n",
            "8/8 [==============================] - 1s 94ms/step - loss: 0.3447 - accuracy: 0.8840\n",
            "Epoch 9/10\n",
            "8/8 [==============================] - 1s 93ms/step - loss: 0.2951 - accuracy: 0.8920\n",
            "Epoch 10/10\n",
            "8/8 [==============================] - 1s 93ms/step - loss: 0.2487 - accuracy: 0.9100\n",
            "32/32 [==============================] - 1s 25ms/step\n",
            "Accuracy: 0.8290 \n",
            "\n",
            "Classification Report\n",
            "              precision    recall  f1-score   support\n",
            "\n",
            "           0       0.80      0.80      0.80        84\n",
            "           1       0.98      0.97      0.98       108\n",
            "           2       0.73      0.71      0.72        93\n",
            "           3       0.79      0.81      0.80        94\n",
            "           4       0.69      0.75      0.72        99\n",
            "           5       0.98      0.83      0.90       106\n",
            "           6       0.60      0.57      0.59       105\n",
            "           7       0.83      0.94      0.88        97\n",
            "           8       0.96      0.96      0.96       111\n",
            "           9       0.90      0.92      0.91       103\n",
            "\n",
            "    accuracy                           0.83      1000\n",
            "   macro avg       0.83      0.83      0.83      1000\n",
            "weighted avg       0.83      0.83      0.83      1000\n",
            "\n",
            "Confusion Matrix:\n",
            "[[ 67   0   4   5   1   0   6   0   1   0]\n",
            " [  1 105   0   1   0   0   1   0   0   0]\n",
            " [  0   0  66   3  12   0  12   0   0   0]\n",
            " [  0   1   6  76   4   0   7   0   0   0]\n",
            " [  0   0   9   4  74   0  12   0   0   0]\n",
            " [  0   0   0   0   0  88   0  13   1   4]\n",
            " [ 15   1   6   6  16   0  60   0   1   0]\n",
            " [  0   0   0   0   0   0   0  91   0   6]\n",
            " [  1   0   0   0   0   1   2   0 107   0]\n",
            " [  0   0   0   1   0   1   0   5   1  95]]\n",
            "Exec time: 9.530380725860596\n",
            "True POsitive Rate\n",
            "[0.79761905 0.97222222 0.70967742 0.80851064 0.74747475 0.83018868\n",
            " 0.57142857 0.93814433 0.96396396 0.9223301 ]\n"
          ]
        }
      ],
      "source": [
        "# Load VGG16 base model\n",
        "vgg19_base = VGG19(weights=\"imagenet\", include_top=False, input_shape=(224, 224, 3))\n",
        "\n",
        "# Freeze the layers of the VGG16 base model\n",
        "for layer in vgg19_base.layers:\n",
        "    layer.trainable = False\n",
        "\n",
        "# Create a Sequential model\n",
        "modelVGG19 = Sequential()\n",
        "\n",
        "# Add the VGG16 base model to the Sequential model\n",
        "modelVGG19.add(vgg19_base)\n",
        "\n",
        "# Add GlobalAveragePooling2D layer\n",
        "modelVGG19.add(GlobalAveragePooling2D())\n",
        "\n",
        "# Add Dense layer with softmax activation for classification\n",
        "modelVGG19.add(Dense(512, activation='relu'))\n",
        "\n",
        "modelVGG19.add(layers.Dropout(0.2))\n",
        "\n",
        "modelVGG19.add(Dense(256, activation = 'relu'))\n",
        "\n",
        "modelVGG19.add(layers.Dropout(0.2))\n",
        "\n",
        "modelVGG19.add(Dense(128, activation = 'relu'))\n",
        "\n",
        "modelVGG19.add(Dense(64, activation = 'relu'))\n",
        "\n",
        "modelVGG19.add(layers.Dense(10, activation = 'softmax'))\n",
        "\n",
        "# Compile the model\n",
        "modelVGG19.compile(loss='categorical_crossentropy', optimizer='adam', metrics=['accuracy'])\n",
        "\n",
        "# Train and evaluate the model\n",
        "execution_time = neural_network_trainer(modelVGG19)\n",
        "evaluate_neural_network('VGG19', modelVGG19, execution_time)"
      ]
    },
    {
      "cell_type": "markdown",
      "metadata": {
        "id": "JIR_eaQ8N5Xz"
      },
      "source": [
        "## ResNet"
      ]
    },
    {
      "cell_type": "markdown",
      "metadata": {
        "id": "5u7Ny5GL25Oz"
      },
      "source": [
        "### ResNet 50"
      ]
    },
    {
      "cell_type": "code",
      "execution_count": 107,
      "metadata": {
        "colab": {
          "base_uri": "https://localhost:8080/"
        },
        "id": "knkpGwS31xLW",
        "outputId": "31187eaf-175c-42d2-9745-fdda018b26f9"
      },
      "outputs": [
        {
          "name": "stdout",
          "output_type": "stream",
          "text": [
            "Epoch 1/10\n",
            "8/8 [==============================] - 6s 83ms/step - loss: 1.8051 - accuracy: 0.3640\n",
            "Epoch 2/10\n",
            "8/8 [==============================] - 1s 81ms/step - loss: 0.8671 - accuracy: 0.7050\n",
            "Epoch 3/10\n",
            "8/8 [==============================] - 1s 78ms/step - loss: 0.6705 - accuracy: 0.7490\n",
            "Epoch 4/10\n",
            "8/8 [==============================] - 1s 78ms/step - loss: 0.5073 - accuracy: 0.8240\n",
            "Epoch 5/10\n",
            "8/8 [==============================] - 1s 78ms/step - loss: 0.4661 - accuracy: 0.8340\n",
            "Epoch 6/10\n",
            "8/8 [==============================] - 1s 80ms/step - loss: 0.3690 - accuracy: 0.8710\n",
            "Epoch 7/10\n",
            "8/8 [==============================] - 1s 78ms/step - loss: 0.3129 - accuracy: 0.8930\n",
            "Epoch 8/10\n",
            "8/8 [==============================] - 1s 78ms/step - loss: 0.2674 - accuracy: 0.9010\n",
            "Epoch 9/10\n",
            "8/8 [==============================] - 1s 77ms/step - loss: 0.2570 - accuracy: 0.9070\n",
            "Epoch 10/10\n",
            "8/8 [==============================] - 1s 76ms/step - loss: 0.2067 - accuracy: 0.9270\n",
            "32/32 [==============================] - 2s 21ms/step\n",
            "Accuracy: 0.8250 \n",
            "\n",
            "Classification Report\n",
            "              precision    recall  f1-score   support\n",
            "\n",
            "           0       0.72      0.83      0.77        84\n",
            "           1       0.98      0.97      0.98       108\n",
            "           2       0.77      0.74      0.75        93\n",
            "           3       0.87      0.73      0.80        94\n",
            "           4       0.55      0.82      0.66        99\n",
            "           5       0.99      0.84      0.91       106\n",
            "           6       0.69      0.42      0.52       105\n",
            "           7       0.83      0.97      0.90        97\n",
            "           8       0.97      0.97      0.97       111\n",
            "           9       0.93      0.93      0.93       103\n",
            "\n",
            "    accuracy                           0.82      1000\n",
            "   macro avg       0.83      0.82      0.82      1000\n",
            "weighted avg       0.84      0.82      0.82      1000\n",
            "\n",
            "Confusion Matrix:\n",
            "[[ 70   0   3   3   0   0   8   0   0   0]\n",
            " [  0 105   1   1   1   0   0   0   0   0]\n",
            " [  1   0  69   0  19   0   4   0   0   0]\n",
            " [  7   2   1  69  10   0   5   0   0   0]\n",
            " [  1   0  11   3  81   0   3   0   0   0]\n",
            " [  0   0   0   0   0  89   0  12   1   4]\n",
            " [ 17   0   5   3  34   0  44   0   2   0]\n",
            " [  0   0   0   0   0   0   0  94   0   3]\n",
            " [  1   0   0   0   1   1   0   0 108   0]\n",
            " [  0   0   0   0   0   0   0   7   0  96]]\n",
            "Exec time: 12.055576801300049\n",
            "True POsitive Rate\n",
            "[0.83333333 0.97222222 0.74193548 0.73404255 0.81818182 0.83962264\n",
            " 0.41904762 0.96907216 0.97297297 0.93203883]\n"
          ]
        }
      ],
      "source": [
        "resnet50_base = ResNet50(include_top = False, weights = 'imagenet', input_shape = (224, 224, 3))\n",
        "\n",
        "for layer in resnet50_base.layers:\n",
        "  layer.trainable = False\n",
        "\n",
        "modelResNet50 = Sequential()\n",
        "modelResNet50.add(resnet50_base)\n",
        "modelResNet50.add(GlobalAveragePooling2D())\n",
        "modelResNet50.add(Dense(512, activation = 'relu'))\n",
        "modelResNet50.add(layers.Dropout(0.2))\n",
        "\n",
        "modelResNet50.add(Dense(256, activation = 'relu'))\n",
        "\n",
        "modelResNet50.add(layers.Dropout(0.2))\n",
        "\n",
        "modelResNet50.add(Dense(128, activation = 'relu'))\n",
        "\n",
        "modelResNet50.add(Dense(64, activation = 'relu'))\n",
        "\n",
        "modelResNet50.add(layers.Dense(10, activation = 'softmax'))\n",
        "\n",
        "# Compile the model\n",
        "modelResNet50.compile(loss='categorical_crossentropy', optimizer='adam', metrics=['accuracy'])\n",
        "\n",
        "# Train and evaluate the model\n",
        "execution_time = neural_network_trainer(modelResNet50)\n",
        "evaluate_neural_network('ResNet50', modelResNet50, execution_time)\n",
        "\n"
      ]
    },
    {
      "cell_type": "markdown",
      "metadata": {
        "id": "F7IbFdzD3LuK"
      },
      "source": [
        "### ResNet 152V2"
      ]
    },
    {
      "cell_type": "code",
      "execution_count": 108,
      "metadata": {
        "colab": {
          "base_uri": "https://localhost:8080/"
        },
        "id": "ZEb_lmRw3bLX",
        "outputId": "fdb7d3e2-01e4-4501-e7d4-c09747449d46"
      },
      "outputs": [
        {
          "name": "stdout",
          "output_type": "stream",
          "text": [
            "Epoch 1/10\n",
            "8/8 [==============================] - 11s 168ms/step - loss: 132.7547 - accuracy: 0.1190\n",
            "Epoch 2/10\n",
            "8/8 [==============================] - 1s 170ms/step - loss: 41.7627 - accuracy: 0.1260\n",
            "Epoch 3/10\n",
            "8/8 [==============================] - 1s 169ms/step - loss: 17.8437 - accuracy: 0.1410\n",
            "Epoch 4/10\n",
            "8/8 [==============================] - 1s 170ms/step - loss: 8.8929 - accuracy: 0.1300\n",
            "Epoch 5/10\n",
            "8/8 [==============================] - 1s 166ms/step - loss: 4.4638 - accuracy: 0.1680\n",
            "Epoch 6/10\n",
            "8/8 [==============================] - 1s 166ms/step - loss: 2.8881 - accuracy: 0.1970\n",
            "Epoch 7/10\n",
            "8/8 [==============================] - 1s 170ms/step - loss: 2.2758 - accuracy: 0.2460\n",
            "Epoch 8/10\n",
            "8/8 [==============================] - 1s 168ms/step - loss: 2.0457 - accuracy: 0.2720\n",
            "Epoch 9/10\n",
            "8/8 [==============================] - 1s 166ms/step - loss: 1.9709 - accuracy: 0.2880\n",
            "Epoch 10/10\n",
            "8/8 [==============================] - 1s 165ms/step - loss: 1.9774 - accuracy: 0.2830\n",
            "32/32 [==============================] - 4s 48ms/step\n",
            "Accuracy: 0.3850 \n",
            "\n",
            "Classification Report\n",
            "              precision    recall  f1-score   support\n",
            "\n",
            "           0       0.06      0.02      0.03        84\n",
            "           1       0.59      0.84      0.69       108\n",
            "           2       0.13      0.06      0.09        93\n",
            "           3       0.49      0.51      0.50        94\n",
            "           4       0.29      0.27      0.28        99\n",
            "           5       0.48      0.39      0.43       106\n",
            "           6       0.15      0.35      0.21       105\n",
            "           7       0.58      0.96      0.73        97\n",
            "           8       0.93      0.13      0.22       111\n",
            "           9       0.43      0.25      0.32       103\n",
            "\n",
            "    accuracy                           0.38      1000\n",
            "   macro avg       0.41      0.38      0.35      1000\n",
            "weighted avg       0.43      0.39      0.36      1000\n",
            "\n",
            "Confusion Matrix:\n",
            "[[ 2 12  6 12  5  0 47  0  0  0]\n",
            " [ 1 91  0 15  0  0  1  0  0  0]\n",
            " [13  2  6  1 27  0 44  0  0  0]\n",
            " [ 1 31  1 48  3  0 10  0  0  0]\n",
            " [ 7  4 14 10 27  1 36  0  0  0]\n",
            " [ 0  0  0  0  0 41  5 53  1  6]\n",
            " [ 5  9 13 10 30  0 37  0  0  1]\n",
            " [ 0  0  0  0  0  1  0 93  0  3]\n",
            " [ 5  5  6  2  1  6 43  5 14 24]\n",
            " [ 0  0  1  0  0 36 32  8  0 26]]\n",
            "Exec time: 22.934617042541504\n",
            "True POsitive Rate\n",
            "[0.02380952 0.84259259 0.06451613 0.5106383  0.27272727 0.38679245\n",
            " 0.35238095 0.95876289 0.12612613 0.25242718]\n"
          ]
        }
      ],
      "source": [
        "resnet152v2_base = ResNet152V2(include_top = False, weights='imagenet', input_shape = (224, 224, 3))\n",
        "\n",
        "for layer in resnet152v2_base.layers:\n",
        "  layer.trainable = False\n",
        "\n",
        "modelResNet152 = Sequential()\n",
        "modelResNet152.add(resnet152v2_base)\n",
        "modelResNet152.add(GlobalAveragePooling2D())\n",
        "modelResNet152.add(Dense(512, activation = 'relu'))\n",
        "modelResNet152.add(layers.Dropout(0.2))\n",
        "modelResNet152.add(Dense(256, activation = 'relu'))\n",
        "modelResNet152.add(layers.Dropout(0.2))\n",
        "modelResNet152.add(Dense(128, activation = 'relu'))\n",
        "modelResNet152.add(Dense(64, activation = 'relu'))\n",
        "modelResNet152.add(layers.Dense(10, activation = 'softmax'))\n",
        "\n",
        "modelResNet152.compile(optimizer = 'adam', loss = 'categorical_crossentropy', metrics = ['accuracy'])\n",
        "\n",
        "execution_time = neural_network_trainer(modelResNet152)\n",
        "evaluate_neural_network('ResNet152', modelResNet152, execution_time)"
      ]
    },
    {
      "cell_type": "markdown",
      "metadata": {
        "id": "lvpAbVeUN5Xz"
      },
      "source": [
        "## GoogLeNet (InceptionV3)"
      ]
    },
    {
      "cell_type": "code",
      "execution_count": 109,
      "metadata": {
        "colab": {
          "base_uri": "https://localhost:8080/"
        },
        "id": "t-3oBRUG5Cd4",
        "outputId": "90e6414a-5cd4-4584-a5df-81e8e877d353"
      },
      "outputs": [
        {
          "name": "stdout",
          "output_type": "stream",
          "text": [
            "Epoch 1/10\n",
            "8/8 [==============================] - 6s 57ms/step - loss: 17.1918 - accuracy: 0.1530\n",
            "Epoch 2/10\n",
            "8/8 [==============================] - 0s 59ms/step - loss: 5.0400 - accuracy: 0.2930\n",
            "Epoch 3/10\n",
            "8/8 [==============================] - 0s 60ms/step - loss: 3.5315 - accuracy: 0.3000\n",
            "Epoch 4/10\n",
            "8/8 [==============================] - 0s 55ms/step - loss: 2.3833 - accuracy: 0.3440\n",
            "Epoch 5/10\n",
            "8/8 [==============================] - 0s 55ms/step - loss: 2.0036 - accuracy: 0.3840\n",
            "Epoch 6/10\n",
            "8/8 [==============================] - 0s 55ms/step - loss: 1.6739 - accuracy: 0.4470\n",
            "Epoch 7/10\n",
            "8/8 [==============================] - 0s 57ms/step - loss: 1.5433 - accuracy: 0.4650\n",
            "Epoch 8/10\n",
            "8/8 [==============================] - 0s 57ms/step - loss: 1.4389 - accuracy: 0.5000\n",
            "Epoch 9/10\n",
            "8/8 [==============================] - 0s 54ms/step - loss: 1.3450 - accuracy: 0.4990\n",
            "Epoch 10/10\n",
            "8/8 [==============================] - 0s 53ms/step - loss: 1.2387 - accuracy: 0.5670\n",
            "32/32 [==============================] - 2s 16ms/step\n",
            "Accuracy: 0.6310 \n",
            "\n",
            "Classification Report\n",
            "              precision    recall  f1-score   support\n",
            "\n",
            "           0       0.44      0.79      0.56        84\n",
            "           1       0.97      0.91      0.94       108\n",
            "           2       0.40      0.25      0.30        93\n",
            "           3       0.75      0.60      0.66        94\n",
            "           4       0.34      0.58      0.42        99\n",
            "           5       0.82      0.58      0.68       106\n",
            "           6       0.30      0.12      0.18       105\n",
            "           7       0.78      0.80      0.79        97\n",
            "           8       0.78      0.74      0.76       111\n",
            "           9       0.78      0.94      0.85       103\n",
            "\n",
            "    accuracy                           0.63      1000\n",
            "   macro avg       0.64      0.63      0.62      1000\n",
            "weighted avg       0.64      0.63      0.62      1000\n",
            "\n",
            "Confusion Matrix:\n",
            "[[66  0  0  5  6  2  5  0  0  0]\n",
            " [ 2 98  0  5  3  0  0  0  0  0]\n",
            " [14  0 23  1 42  1  9  0  3  0]\n",
            " [11  2  2 56 16  1  5  0  1  0]\n",
            " [13  0 17  2 57  0  9  0  1  0]\n",
            " [ 2  1  0  0  0 61  1 18 12 11]\n",
            " [32  0 11  3 41  1 13  0  4  0]\n",
            " [ 0  0  0  0  0  5  0 78  1 13]\n",
            " [10  0  5  1  5  2  1  2 82  3]\n",
            " [ 0  0  0  2  0  1  0  2  1 97]]\n",
            "Exec time: 9.740024089813232\n",
            "True POsitive Rate\n",
            "[0.78571429 0.90740741 0.24731183 0.59574468 0.57575758 0.5754717\n",
            " 0.12380952 0.80412371 0.73873874 0.94174757]\n"
          ]
        }
      ],
      "source": [
        "modelgooglenet_base = InceptionV3(include_top = False, weights = 'imagenet', input_shape = (224, 224, 3))\n",
        "\n",
        "for layer in modelgooglenet_base.layers:\n",
        "  layer. trainable = False\n",
        "\n",
        "modelInceptionV3 = Sequential()\n",
        "modelInceptionV3.add(modelgooglenet_base)\n",
        "modelInceptionV3.add(GlobalAveragePooling2D())\n",
        "modelInceptionV3.add(Dense(512, activation = 'relu'))\n",
        "modelInceptionV3.add(layers.Dropout(0.2))\n",
        "modelInceptionV3.add(Dense(256, activation = 'relu'))\n",
        "modelInceptionV3.add(layers.Dropout(0.2))\n",
        "modelInceptionV3.add(Dense(128, activation = 'relu'))\n",
        "modelInceptionV3.add(Dense(64, activation = 'relu'))\n",
        "modelInceptionV3.add(layers.Dense(10, activation = 'softmax'))\n",
        "\n",
        "modelInceptionV3.compile(optimizer = 'adam', loss = 'categorical_crossentropy', metrics = ['accuracy'])\n",
        "\n",
        "execution_time = neural_network_trainer(modelInceptionV3)\n",
        "evaluate_neural_network('InceptionV3', modelInceptionV3, execution_time)\n"
      ]
    },
    {
      "cell_type": "markdown",
      "metadata": {
        "id": "AflAjGWn6XK9"
      },
      "source": [
        "## DenseNet"
      ]
    },
    {
      "cell_type": "markdown",
      "metadata": {
        "id": "O1wpzw076Pj7"
      },
      "source": [
        "### DenseNet121"
      ]
    },
    {
      "cell_type": "code",
      "execution_count": 110,
      "metadata": {
        "colab": {
          "base_uri": "https://localhost:8080/"
        },
        "id": "F65tMY2G6crE",
        "outputId": "b96df5e8-f514-400e-cfeb-4b03bc5a7e5b"
      },
      "outputs": [
        {
          "name": "stdout",
          "output_type": "stream",
          "text": [
            "Epoch 1/10\n",
            "8/8 [==============================] - 8s 88ms/step - loss: 3.4272 - accuracy: 0.1470\n",
            "Epoch 2/10\n",
            "8/8 [==============================] - 1s 85ms/step - loss: 2.0500 - accuracy: 0.2620\n",
            "Epoch 3/10\n",
            "8/8 [==============================] - 1s 85ms/step - loss: 1.6652 - accuracy: 0.3780\n",
            "Epoch 4/10\n",
            "8/8 [==============================] - 1s 84ms/step - loss: 1.4657 - accuracy: 0.4400\n",
            "Epoch 5/10\n",
            "8/8 [==============================] - 1s 88ms/step - loss: 1.3087 - accuracy: 0.5130\n",
            "Epoch 6/10\n",
            "8/8 [==============================] - 1s 86ms/step - loss: 1.1793 - accuracy: 0.5560\n",
            "Epoch 7/10\n",
            "8/8 [==============================] - 1s 84ms/step - loss: 1.1046 - accuracy: 0.5940\n",
            "Epoch 8/10\n",
            "8/8 [==============================] - 1s 84ms/step - loss: 0.9998 - accuracy: 0.6300\n",
            "Epoch 9/10\n",
            "8/8 [==============================] - 1s 84ms/step - loss: 0.9682 - accuracy: 0.6540\n",
            "Epoch 10/10\n",
            "8/8 [==============================] - 1s 83ms/step - loss: 0.9147 - accuracy: 0.6670\n",
            "32/32 [==============================] - 3s 26ms/step\n",
            "Accuracy: 0.6790 \n",
            "\n",
            "Classification Report\n",
            "              precision    recall  f1-score   support\n",
            "\n",
            "           0       0.59      0.62      0.60        84\n",
            "           1       0.95      0.93      0.94       108\n",
            "           2       0.55      0.29      0.38        93\n",
            "           3       0.67      0.68      0.67        94\n",
            "           4       0.45      0.55      0.49        99\n",
            "           5       0.87      0.75      0.81       106\n",
            "           6       0.36      0.46      0.40       105\n",
            "           7       0.75      0.89      0.81        97\n",
            "           8       0.81      0.74      0.77       111\n",
            "           9       0.87      0.83      0.85       103\n",
            "\n",
            "    accuracy                           0.68      1000\n",
            "   macro avg       0.69      0.67      0.67      1000\n",
            "weighted avg       0.69      0.68      0.68      1000\n",
            "\n",
            "Confusion Matrix:\n",
            "[[ 52   0   3   6   2   3  16   1   1   0]\n",
            " [  0 100   1   4   0   0   3   0   0   0]\n",
            " [  4   1  27   1  34   0  26   0   0   0]\n",
            " [ 10   2   1  64   3   0  10   0   4   0]\n",
            " [  2   0   9   9  54   0  23   0   1   1]\n",
            " [  0   0   0   0   0  80   2  18   3   3]\n",
            " [ 15   1   7   6  24   0  48   0   4   0]\n",
            " [  0   0   0   0   0   6   0  86   0   5]\n",
            " [  3   1   1   6   2   2   6   4  82   4]\n",
            " [  2   0   0   0   1   1   1   6   6  86]]\n",
            "Exec time: 13.798139333724976\n",
            "True POsitive Rate\n",
            "[0.61904762 0.92592593 0.29032258 0.68085106 0.54545455 0.75471698\n",
            " 0.45714286 0.88659794 0.73873874 0.83495146]\n"
          ]
        }
      ],
      "source": [
        "densenet121_base = DenseNet121(include_top = False, weights = 'imagenet', input_shape = (224, 224, 3))\n",
        "\n",
        "for layer in densenet121_base.layers:\n",
        "  layer.trainable = False\n",
        "\n",
        "\n",
        "modelDenseNet121 = Sequential()\n",
        "modelDenseNet121.add(densenet121_base)\n",
        "modelDenseNet121.add(GlobalAveragePooling2D())\n",
        "modelDenseNet121.add(Dense(512, activation = 'relu'))\n",
        "modelDenseNet121.add(layers.Dropout(0.2))\n",
        "modelDenseNet121.add(Dense(256, activation = 'relu'))\n",
        "modelDenseNet121.add(layers.Dropout(0.2))\n",
        "modelDenseNet121.add(Dense(128, activation = 'relu'))\n",
        "modelDenseNet121.add(Dense(64, activation = 'relu'))\n",
        "modelDenseNet121.add(layers.Dense(10, activation = 'softmax'))\n",
        "\n",
        "modelDenseNet121.compile(optimizer = 'adam', loss = 'categorical_crossentropy', metrics = ['accuracy'])\n",
        "\n",
        "execution_time = neural_network_trainer(modelDenseNet121)\n",
        "evaluate_neural_network('DenseNet121', modelDenseNet121, execution_time)"
      ]
    },
    {
      "cell_type": "markdown",
      "metadata": {
        "id": "FCCKsojB6RBC"
      },
      "source": [
        "### DenseNet201"
      ]
    },
    {
      "cell_type": "code",
      "execution_count": 111,
      "metadata": {
        "colab": {
          "base_uri": "https://localhost:8080/"
        },
        "id": "i97Jf_G979Yq",
        "outputId": "96ace4fd-0d1d-430a-8a36-2dfe3ca74193"
      },
      "outputs": [
        {
          "name": "stdout",
          "output_type": "stream",
          "text": [
            "Epoch 1/10\n",
            "8/8 [==============================] - 96s 339ms/step - loss: 1.5718 - accuracy: 0.4630\n",
            "Epoch 2/10\n",
            "8/8 [==============================] - 3s 337ms/step - loss: 0.6246 - accuracy: 0.7850\n",
            "Epoch 3/10\n",
            "8/8 [==============================] - 3s 339ms/step - loss: 0.5423 - accuracy: 0.8110\n",
            "Epoch 4/10\n",
            "8/8 [==============================] - 3s 338ms/step - loss: 0.4677 - accuracy: 0.8440\n",
            "Epoch 5/10\n",
            "8/8 [==============================] - 3s 338ms/step - loss: 0.3537 - accuracy: 0.8730\n",
            "Epoch 6/10\n",
            "8/8 [==============================] - 3s 337ms/step - loss: 0.2816 - accuracy: 0.9090\n",
            "Epoch 7/10\n",
            "8/8 [==============================] - 3s 339ms/step - loss: 0.2678 - accuracy: 0.9060\n",
            "Epoch 8/10\n",
            "8/8 [==============================] - 3s 340ms/step - loss: 0.2046 - accuracy: 0.9380\n",
            "Epoch 9/10\n",
            "8/8 [==============================] - 3s 336ms/step - loss: 0.1307 - accuracy: 0.9540\n",
            "Epoch 10/10\n",
            "8/8 [==============================] - 3s 336ms/step - loss: 0.1138 - accuracy: 0.9630\n",
            "32/32 [==============================] - 4s 39ms/step\n",
            "Accuracy: 0.6580 \n",
            "\n",
            "Classification Report\n",
            "              precision    recall  f1-score   support\n",
            "\n",
            "           0       0.65      0.83      0.73        84\n",
            "           1       1.00      0.64      0.78       108\n",
            "           2       0.60      0.82      0.69        93\n",
            "           3       0.83      0.72      0.77        94\n",
            "           4       0.44      0.47      0.46        99\n",
            "           5       0.57      0.99      0.73       106\n",
            "           6       0.67      0.04      0.07       105\n",
            "           7       1.00      0.22      0.36        97\n",
            "           8       0.55      0.93      0.69       111\n",
            "           9       0.86      0.92      0.89       103\n",
            "\n",
            "    accuracy                           0.66      1000\n",
            "   macro avg       0.72      0.66      0.62      1000\n",
            "weighted avg       0.72      0.66      0.62      1000\n",
            "\n",
            "Confusion Matrix:\n",
            "[[ 70   0   4   3   2   2   0   0   3   0]\n",
            " [  0  69   1   1  36   0   0   0   1   0]\n",
            " [  4   0  76   2   4   1   0   0   6   0]\n",
            " [  8   0   4  68   7   4   0   0   3   0]\n",
            " [  6   0  31   3  47   0   2   0  10   0]\n",
            " [  0   0   0   0   1 105   0   0   0   0]\n",
            " [ 18   0  10   3   5   5   4   0  60   0]\n",
            " [  0   0   0   0   0  59   0  21   1  16]\n",
            " [  2   0   1   1   0   4   0   0 103   0]\n",
            " [  0   0   0   1   4   3   0   0   0  95]]\n",
            "Exec time: 121.00558042526245\n",
            "True POsitive Rate\n",
            "[0.83333333 0.63888889 0.8172043  0.72340426 0.47474747 0.99056604\n",
            " 0.03809524 0.21649485 0.92792793 0.9223301 ]\n"
          ]
        }
      ],
      "source": [
        "densenet201_base = DenseNet201(include_top = False, weights = 'imagenet', input_shape = (224, 224, 3))\n",
        "\n",
        "for layer in densenet121_base.layers:\n",
        "  layer.trainable = False\n",
        "\n",
        "\n",
        "modelDenseNet201 = Sequential()\n",
        "modelDenseNet201.add(densenet201_base)\n",
        "modelDenseNet201.add(GlobalAveragePooling2D())\n",
        "modelDenseNet201.add(Dense(512, activation = 'relu'))\n",
        "modelDenseNet201.add(layers.Dropout(0.2))\n",
        "modelDenseNet201.add(Dense(256, activation = 'relu'))\n",
        "modelDenseNet201.add(layers.Dropout(0.2))\n",
        "modelDenseNet201.add(Dense(128, activation = 'relu'))\n",
        "modelDenseNet201.add(Dense(64, activation = 'relu'))\n",
        "modelDenseNet201.add(layers.Dense(10, activation = 'softmax'))\n",
        "\n",
        "modelDenseNet201.compile(optimizer = 'adam', loss = 'categorical_crossentropy', metrics = ['accuracy'])\n",
        "\n",
        "execution_time = neural_network_trainer(modelDenseNet201)\n",
        "evaluate_neural_network('DenseNet201', modelDenseNet201, execution_time)"
      ]
    },
    {
      "cell_type": "markdown",
      "metadata": {
        "id": "NpiZ9wBtC9OS"
      },
      "source": [
        "# Comparative analysis"
      ]
    },
    {
      "cell_type": "code",
      "execution_count": 121,
      "metadata": {
        "colab": {
          "base_uri": "https://localhost:8080/",
          "height": 1000
        },
        "id": "K0dPyNTdC-gN",
        "outputId": "472fc5dc-abf6-4c89-9c2c-767deb66c498"
      },
      "outputs": [
        {
          "name": "stdout",
          "output_type": "stream",
          "text": [
            "                  Model  Accuracy Execution Time(s)\n",
            "0         Random Forest    0.8773           98.2990\n",
            "1             SVCLinear    0.8463          362.3468\n",
            "2                   SVM    0.9002          258.6090\n",
            "3         Decision tree    0.8008           21.8467\n",
            "4                   KNN    0.8577            0.0227\n",
            "5   Logistic Regression    0.8413           26.3970\n",
            "6           Naive Bayes    0.5856            0.2897\n",
            "7              AdaBoost    0.5928          240.3844\n",
            "8                 VGG16    0.7850            8.5534\n",
            "9                 VGG19    0.8290            9.5304\n",
            "10             ResNet50    0.8250           12.0556\n",
            "11            ResNet152    0.3850           22.9346\n",
            "12          InceptionV3    0.6310            9.7400\n",
            "13          DenseNet121    0.6790           13.7981\n",
            "14          DenseNet201    0.6580          121.0056\n",
            "15                  MLP    0.9111           27.8681\n",
            "16            CNN_model    0.9111           27.8681\n"
          ]
        },
        {
          "data": {
            "text/html": [
              "<html>\n",
              "<head><meta charset=\"utf-8\" /></head>\n",
              "<body>\n",
              "    <div>            <script src=\"https://cdnjs.cloudflare.com/ajax/libs/mathjax/2.7.5/MathJax.js?config=TeX-AMS-MML_SVG\"></script><script type=\"text/javascript\">if (window.MathJax && window.MathJax.Hub && window.MathJax.Hub.Config) {window.MathJax.Hub.Config({SVG: {font: \"STIX-Web\"}});}</script>                <script type=\"text/javascript\">window.PlotlyConfig = {MathJaxConfig: 'local'};</script>\n",
              "        <script charset=\"utf-8\" src=\"https://cdn.plot.ly/plotly-2.24.1.min.js\"></script>                <div id=\"3fd350c0-76a6-48ef-bf8e-ddb2c6fc09e1\" class=\"plotly-graph-div\" style=\"height:700px; width:100%;\"></div>            <script type=\"text/javascript\">                                    window.PLOTLYENV=window.PLOTLYENV || {};                                    if (document.getElementById(\"3fd350c0-76a6-48ef-bf8e-ddb2c6fc09e1\")) {                    Plotly.newPlot(                        \"3fd350c0-76a6-48ef-bf8e-ddb2c6fc09e1\",                        [{\"alignmentgroup\":\"True\",\"hovertemplate\":\"Model=%{x}\\u003cbr\\u003eAccuracy=%{text}\\u003cextra\\u003e\\u003c\\u002fextra\\u003e\",\"legendgroup\":\"CNN_model\",\"marker\":{\"color\":\"#636efa\",\"pattern\":{\"shape\":\"\"}},\"name\":\"CNN_model\",\"offsetgroup\":\"CNN_model\",\"orientation\":\"v\",\"showlegend\":true,\"text\":[0.9111],\"textposition\":\"outside\",\"x\":[\"CNN_model\"],\"xaxis\":\"x\",\"y\":[0.9111],\"yaxis\":\"y\",\"type\":\"bar\",\"texttemplate\":\"%{text:.2%}\"},{\"alignmentgroup\":\"True\",\"hovertemplate\":\"Model=%{x}\\u003cbr\\u003eAccuracy=%{text}\\u003cextra\\u003e\\u003c\\u002fextra\\u003e\",\"legendgroup\":\"MLP\",\"marker\":{\"color\":\"#EF553B\",\"pattern\":{\"shape\":\"\"}},\"name\":\"MLP\",\"offsetgroup\":\"MLP\",\"orientation\":\"v\",\"showlegend\":true,\"text\":[0.9111],\"textposition\":\"outside\",\"x\":[\"MLP\"],\"xaxis\":\"x\",\"y\":[0.9111],\"yaxis\":\"y\",\"type\":\"bar\",\"texttemplate\":\"%{text:.2%}\"},{\"alignmentgroup\":\"True\",\"hovertemplate\":\"Model=%{x}\\u003cbr\\u003eAccuracy=%{text}\\u003cextra\\u003e\\u003c\\u002fextra\\u003e\",\"legendgroup\":\"SVM\",\"marker\":{\"color\":\"#00cc96\",\"pattern\":{\"shape\":\"\"}},\"name\":\"SVM\",\"offsetgroup\":\"SVM\",\"orientation\":\"v\",\"showlegend\":true,\"text\":[0.9002],\"textposition\":\"outside\",\"x\":[\"SVM\"],\"xaxis\":\"x\",\"y\":[0.9002],\"yaxis\":\"y\",\"type\":\"bar\",\"texttemplate\":\"%{text:.2%}\"},{\"alignmentgroup\":\"True\",\"hovertemplate\":\"Model=%{x}\\u003cbr\\u003eAccuracy=%{text}\\u003cextra\\u003e\\u003c\\u002fextra\\u003e\",\"legendgroup\":\"Random Forest\",\"marker\":{\"color\":\"#ab63fa\",\"pattern\":{\"shape\":\"\"}},\"name\":\"Random Forest\",\"offsetgroup\":\"Random Forest\",\"orientation\":\"v\",\"showlegend\":true,\"text\":[0.8773],\"textposition\":\"outside\",\"x\":[\"Random Forest\"],\"xaxis\":\"x\",\"y\":[0.8773],\"yaxis\":\"y\",\"type\":\"bar\",\"texttemplate\":\"%{text:.2%}\"},{\"alignmentgroup\":\"True\",\"hovertemplate\":\"Model=%{x}\\u003cbr\\u003eAccuracy=%{text}\\u003cextra\\u003e\\u003c\\u002fextra\\u003e\",\"legendgroup\":\"KNN\",\"marker\":{\"color\":\"#FFA15A\",\"pattern\":{\"shape\":\"\"}},\"name\":\"KNN\",\"offsetgroup\":\"KNN\",\"orientation\":\"v\",\"showlegend\":true,\"text\":[0.8577],\"textposition\":\"outside\",\"x\":[\"KNN\"],\"xaxis\":\"x\",\"y\":[0.8577],\"yaxis\":\"y\",\"type\":\"bar\",\"texttemplate\":\"%{text:.2%}\"},{\"alignmentgroup\":\"True\",\"hovertemplate\":\"Model=%{x}\\u003cbr\\u003eAccuracy=%{text}\\u003cextra\\u003e\\u003c\\u002fextra\\u003e\",\"legendgroup\":\"SVCLinear\",\"marker\":{\"color\":\"#19d3f3\",\"pattern\":{\"shape\":\"\"}},\"name\":\"SVCLinear\",\"offsetgroup\":\"SVCLinear\",\"orientation\":\"v\",\"showlegend\":true,\"text\":[0.8463],\"textposition\":\"outside\",\"x\":[\"SVCLinear\"],\"xaxis\":\"x\",\"y\":[0.8463],\"yaxis\":\"y\",\"type\":\"bar\",\"texttemplate\":\"%{text:.2%}\"},{\"alignmentgroup\":\"True\",\"hovertemplate\":\"Model=%{x}\\u003cbr\\u003eAccuracy=%{text}\\u003cextra\\u003e\\u003c\\u002fextra\\u003e\",\"legendgroup\":\"Logistic Regression\",\"marker\":{\"color\":\"#FF6692\",\"pattern\":{\"shape\":\"\"}},\"name\":\"Logistic Regression\",\"offsetgroup\":\"Logistic Regression\",\"orientation\":\"v\",\"showlegend\":true,\"text\":[0.8413],\"textposition\":\"outside\",\"x\":[\"Logistic Regression\"],\"xaxis\":\"x\",\"y\":[0.8413],\"yaxis\":\"y\",\"type\":\"bar\",\"texttemplate\":\"%{text:.2%}\"},{\"alignmentgroup\":\"True\",\"hovertemplate\":\"Model=%{x}\\u003cbr\\u003eAccuracy=%{text}\\u003cextra\\u003e\\u003c\\u002fextra\\u003e\",\"legendgroup\":\"VGG19\",\"marker\":{\"color\":\"#B6E880\",\"pattern\":{\"shape\":\"\"}},\"name\":\"VGG19\",\"offsetgroup\":\"VGG19\",\"orientation\":\"v\",\"showlegend\":true,\"text\":[0.829],\"textposition\":\"outside\",\"x\":[\"VGG19\"],\"xaxis\":\"x\",\"y\":[0.829],\"yaxis\":\"y\",\"type\":\"bar\",\"texttemplate\":\"%{text:.2%}\"},{\"alignmentgroup\":\"True\",\"hovertemplate\":\"Model=%{x}\\u003cbr\\u003eAccuracy=%{text}\\u003cextra\\u003e\\u003c\\u002fextra\\u003e\",\"legendgroup\":\"ResNet50\",\"marker\":{\"color\":\"#FF97FF\",\"pattern\":{\"shape\":\"\"}},\"name\":\"ResNet50\",\"offsetgroup\":\"ResNet50\",\"orientation\":\"v\",\"showlegend\":true,\"text\":[0.825],\"textposition\":\"outside\",\"x\":[\"ResNet50\"],\"xaxis\":\"x\",\"y\":[0.825],\"yaxis\":\"y\",\"type\":\"bar\",\"texttemplate\":\"%{text:.2%}\"},{\"alignmentgroup\":\"True\",\"hovertemplate\":\"Model=%{x}\\u003cbr\\u003eAccuracy=%{text}\\u003cextra\\u003e\\u003c\\u002fextra\\u003e\",\"legendgroup\":\"Decision tree\",\"marker\":{\"color\":\"#FECB52\",\"pattern\":{\"shape\":\"\"}},\"name\":\"Decision tree\",\"offsetgroup\":\"Decision tree\",\"orientation\":\"v\",\"showlegend\":true,\"text\":[0.8008],\"textposition\":\"outside\",\"x\":[\"Decision tree\"],\"xaxis\":\"x\",\"y\":[0.8008],\"yaxis\":\"y\",\"type\":\"bar\",\"texttemplate\":\"%{text:.2%}\"},{\"alignmentgroup\":\"True\",\"hovertemplate\":\"Model=%{x}\\u003cbr\\u003eAccuracy=%{text}\\u003cextra\\u003e\\u003c\\u002fextra\\u003e\",\"legendgroup\":\"VGG16\",\"marker\":{\"color\":\"#636efa\",\"pattern\":{\"shape\":\"\"}},\"name\":\"VGG16\",\"offsetgroup\":\"VGG16\",\"orientation\":\"v\",\"showlegend\":true,\"text\":[0.785],\"textposition\":\"outside\",\"x\":[\"VGG16\"],\"xaxis\":\"x\",\"y\":[0.785],\"yaxis\":\"y\",\"type\":\"bar\",\"texttemplate\":\"%{text:.2%}\"},{\"alignmentgroup\":\"True\",\"hovertemplate\":\"Model=%{x}\\u003cbr\\u003eAccuracy=%{text}\\u003cextra\\u003e\\u003c\\u002fextra\\u003e\",\"legendgroup\":\"DenseNet121\",\"marker\":{\"color\":\"#EF553B\",\"pattern\":{\"shape\":\"\"}},\"name\":\"DenseNet121\",\"offsetgroup\":\"DenseNet121\",\"orientation\":\"v\",\"showlegend\":true,\"text\":[0.679],\"textposition\":\"outside\",\"x\":[\"DenseNet121\"],\"xaxis\":\"x\",\"y\":[0.679],\"yaxis\":\"y\",\"type\":\"bar\",\"texttemplate\":\"%{text:.2%}\"},{\"alignmentgroup\":\"True\",\"hovertemplate\":\"Model=%{x}\\u003cbr\\u003eAccuracy=%{text}\\u003cextra\\u003e\\u003c\\u002fextra\\u003e\",\"legendgroup\":\"DenseNet201\",\"marker\":{\"color\":\"#00cc96\",\"pattern\":{\"shape\":\"\"}},\"name\":\"DenseNet201\",\"offsetgroup\":\"DenseNet201\",\"orientation\":\"v\",\"showlegend\":true,\"text\":[0.658],\"textposition\":\"outside\",\"x\":[\"DenseNet201\"],\"xaxis\":\"x\",\"y\":[0.658],\"yaxis\":\"y\",\"type\":\"bar\",\"texttemplate\":\"%{text:.2%}\"},{\"alignmentgroup\":\"True\",\"hovertemplate\":\"Model=%{x}\\u003cbr\\u003eAccuracy=%{text}\\u003cextra\\u003e\\u003c\\u002fextra\\u003e\",\"legendgroup\":\"InceptionV3\",\"marker\":{\"color\":\"#ab63fa\",\"pattern\":{\"shape\":\"\"}},\"name\":\"InceptionV3\",\"offsetgroup\":\"InceptionV3\",\"orientation\":\"v\",\"showlegend\":true,\"text\":[0.631],\"textposition\":\"outside\",\"x\":[\"InceptionV3\"],\"xaxis\":\"x\",\"y\":[0.631],\"yaxis\":\"y\",\"type\":\"bar\",\"texttemplate\":\"%{text:.2%}\"},{\"alignmentgroup\":\"True\",\"hovertemplate\":\"Model=%{x}\\u003cbr\\u003eAccuracy=%{text}\\u003cextra\\u003e\\u003c\\u002fextra\\u003e\",\"legendgroup\":\"AdaBoost\",\"marker\":{\"color\":\"#FFA15A\",\"pattern\":{\"shape\":\"\"}},\"name\":\"AdaBoost\",\"offsetgroup\":\"AdaBoost\",\"orientation\":\"v\",\"showlegend\":true,\"text\":[0.5928],\"textposition\":\"outside\",\"x\":[\"AdaBoost\"],\"xaxis\":\"x\",\"y\":[0.5928],\"yaxis\":\"y\",\"type\":\"bar\",\"texttemplate\":\"%{text:.2%}\"},{\"alignmentgroup\":\"True\",\"hovertemplate\":\"Model=%{x}\\u003cbr\\u003eAccuracy=%{text}\\u003cextra\\u003e\\u003c\\u002fextra\\u003e\",\"legendgroup\":\"Naive Bayes\",\"marker\":{\"color\":\"#19d3f3\",\"pattern\":{\"shape\":\"\"}},\"name\":\"Naive Bayes\",\"offsetgroup\":\"Naive Bayes\",\"orientation\":\"v\",\"showlegend\":true,\"text\":[0.5856],\"textposition\":\"outside\",\"x\":[\"Naive Bayes\"],\"xaxis\":\"x\",\"y\":[0.5856],\"yaxis\":\"y\",\"type\":\"bar\",\"texttemplate\":\"%{text:.2%}\"},{\"alignmentgroup\":\"True\",\"hovertemplate\":\"Model=%{x}\\u003cbr\\u003eAccuracy=%{text}\\u003cextra\\u003e\\u003c\\u002fextra\\u003e\",\"legendgroup\":\"ResNet152\",\"marker\":{\"color\":\"#FF6692\",\"pattern\":{\"shape\":\"\"}},\"name\":\"ResNet152\",\"offsetgroup\":\"ResNet152\",\"orientation\":\"v\",\"showlegend\":true,\"text\":[0.385],\"textposition\":\"outside\",\"x\":[\"ResNet152\"],\"xaxis\":\"x\",\"y\":[0.385],\"yaxis\":\"y\",\"type\":\"bar\",\"texttemplate\":\"%{text:.2%}\"}],                        {\"template\":{\"data\":{\"histogram2dcontour\":[{\"type\":\"histogram2dcontour\",\"colorbar\":{\"outlinewidth\":0,\"ticks\":\"\"},\"colorscale\":[[0.0,\"#0d0887\"],[0.1111111111111111,\"#46039f\"],[0.2222222222222222,\"#7201a8\"],[0.3333333333333333,\"#9c179e\"],[0.4444444444444444,\"#bd3786\"],[0.5555555555555556,\"#d8576b\"],[0.6666666666666666,\"#ed7953\"],[0.7777777777777778,\"#fb9f3a\"],[0.8888888888888888,\"#fdca26\"],[1.0,\"#f0f921\"]]}],\"choropleth\":[{\"type\":\"choropleth\",\"colorbar\":{\"outlinewidth\":0,\"ticks\":\"\"}}],\"histogram2d\":[{\"type\":\"histogram2d\",\"colorbar\":{\"outlinewidth\":0,\"ticks\":\"\"},\"colorscale\":[[0.0,\"#0d0887\"],[0.1111111111111111,\"#46039f\"],[0.2222222222222222,\"#7201a8\"],[0.3333333333333333,\"#9c179e\"],[0.4444444444444444,\"#bd3786\"],[0.5555555555555556,\"#d8576b\"],[0.6666666666666666,\"#ed7953\"],[0.7777777777777778,\"#fb9f3a\"],[0.8888888888888888,\"#fdca26\"],[1.0,\"#f0f921\"]]}],\"heatmap\":[{\"type\":\"heatmap\",\"colorbar\":{\"outlinewidth\":0,\"ticks\":\"\"},\"colorscale\":[[0.0,\"#0d0887\"],[0.1111111111111111,\"#46039f\"],[0.2222222222222222,\"#7201a8\"],[0.3333333333333333,\"#9c179e\"],[0.4444444444444444,\"#bd3786\"],[0.5555555555555556,\"#d8576b\"],[0.6666666666666666,\"#ed7953\"],[0.7777777777777778,\"#fb9f3a\"],[0.8888888888888888,\"#fdca26\"],[1.0,\"#f0f921\"]]}],\"heatmapgl\":[{\"type\":\"heatmapgl\",\"colorbar\":{\"outlinewidth\":0,\"ticks\":\"\"},\"colorscale\":[[0.0,\"#0d0887\"],[0.1111111111111111,\"#46039f\"],[0.2222222222222222,\"#7201a8\"],[0.3333333333333333,\"#9c179e\"],[0.4444444444444444,\"#bd3786\"],[0.5555555555555556,\"#d8576b\"],[0.6666666666666666,\"#ed7953\"],[0.7777777777777778,\"#fb9f3a\"],[0.8888888888888888,\"#fdca26\"],[1.0,\"#f0f921\"]]}],\"contourcarpet\":[{\"type\":\"contourcarpet\",\"colorbar\":{\"outlinewidth\":0,\"ticks\":\"\"}}],\"contour\":[{\"type\":\"contour\",\"colorbar\":{\"outlinewidth\":0,\"ticks\":\"\"},\"colorscale\":[[0.0,\"#0d0887\"],[0.1111111111111111,\"#46039f\"],[0.2222222222222222,\"#7201a8\"],[0.3333333333333333,\"#9c179e\"],[0.4444444444444444,\"#bd3786\"],[0.5555555555555556,\"#d8576b\"],[0.6666666666666666,\"#ed7953\"],[0.7777777777777778,\"#fb9f3a\"],[0.8888888888888888,\"#fdca26\"],[1.0,\"#f0f921\"]]}],\"surface\":[{\"type\":\"surface\",\"colorbar\":{\"outlinewidth\":0,\"ticks\":\"\"},\"colorscale\":[[0.0,\"#0d0887\"],[0.1111111111111111,\"#46039f\"],[0.2222222222222222,\"#7201a8\"],[0.3333333333333333,\"#9c179e\"],[0.4444444444444444,\"#bd3786\"],[0.5555555555555556,\"#d8576b\"],[0.6666666666666666,\"#ed7953\"],[0.7777777777777778,\"#fb9f3a\"],[0.8888888888888888,\"#fdca26\"],[1.0,\"#f0f921\"]]}],\"mesh3d\":[{\"type\":\"mesh3d\",\"colorbar\":{\"outlinewidth\":0,\"ticks\":\"\"}}],\"scatter\":[{\"fillpattern\":{\"fillmode\":\"overlay\",\"size\":10,\"solidity\":0.2},\"type\":\"scatter\"}],\"parcoords\":[{\"type\":\"parcoords\",\"line\":{\"colorbar\":{\"outlinewidth\":0,\"ticks\":\"\"}}}],\"scatterpolargl\":[{\"type\":\"scatterpolargl\",\"marker\":{\"colorbar\":{\"outlinewidth\":0,\"ticks\":\"\"}}}],\"bar\":[{\"error_x\":{\"color\":\"#2a3f5f\"},\"error_y\":{\"color\":\"#2a3f5f\"},\"marker\":{\"line\":{\"color\":\"#E5ECF6\",\"width\":0.5},\"pattern\":{\"fillmode\":\"overlay\",\"size\":10,\"solidity\":0.2}},\"type\":\"bar\"}],\"scattergeo\":[{\"type\":\"scattergeo\",\"marker\":{\"colorbar\":{\"outlinewidth\":0,\"ticks\":\"\"}}}],\"scatterpolar\":[{\"type\":\"scatterpolar\",\"marker\":{\"colorbar\":{\"outlinewidth\":0,\"ticks\":\"\"}}}],\"histogram\":[{\"marker\":{\"pattern\":{\"fillmode\":\"overlay\",\"size\":10,\"solidity\":0.2}},\"type\":\"histogram\"}],\"scattergl\":[{\"type\":\"scattergl\",\"marker\":{\"colorbar\":{\"outlinewidth\":0,\"ticks\":\"\"}}}],\"scatter3d\":[{\"type\":\"scatter3d\",\"line\":{\"colorbar\":{\"outlinewidth\":0,\"ticks\":\"\"}},\"marker\":{\"colorbar\":{\"outlinewidth\":0,\"ticks\":\"\"}}}],\"scattermapbox\":[{\"type\":\"scattermapbox\",\"marker\":{\"colorbar\":{\"outlinewidth\":0,\"ticks\":\"\"}}}],\"scatterternary\":[{\"type\":\"scatterternary\",\"marker\":{\"colorbar\":{\"outlinewidth\":0,\"ticks\":\"\"}}}],\"scattercarpet\":[{\"type\":\"scattercarpet\",\"marker\":{\"colorbar\":{\"outlinewidth\":0,\"ticks\":\"\"}}}],\"carpet\":[{\"aaxis\":{\"endlinecolor\":\"#2a3f5f\",\"gridcolor\":\"white\",\"linecolor\":\"white\",\"minorgridcolor\":\"white\",\"startlinecolor\":\"#2a3f5f\"},\"baxis\":{\"endlinecolor\":\"#2a3f5f\",\"gridcolor\":\"white\",\"linecolor\":\"white\",\"minorgridcolor\":\"white\",\"startlinecolor\":\"#2a3f5f\"},\"type\":\"carpet\"}],\"table\":[{\"cells\":{\"fill\":{\"color\":\"#EBF0F8\"},\"line\":{\"color\":\"white\"}},\"header\":{\"fill\":{\"color\":\"#C8D4E3\"},\"line\":{\"color\":\"white\"}},\"type\":\"table\"}],\"barpolar\":[{\"marker\":{\"line\":{\"color\":\"#E5ECF6\",\"width\":0.5},\"pattern\":{\"fillmode\":\"overlay\",\"size\":10,\"solidity\":0.2}},\"type\":\"barpolar\"}],\"pie\":[{\"automargin\":true,\"type\":\"pie\"}]},\"layout\":{\"autotypenumbers\":\"strict\",\"colorway\":[\"#636efa\",\"#EF553B\",\"#00cc96\",\"#ab63fa\",\"#FFA15A\",\"#19d3f3\",\"#FF6692\",\"#B6E880\",\"#FF97FF\",\"#FECB52\"],\"font\":{\"color\":\"#2a3f5f\"},\"hovermode\":\"closest\",\"hoverlabel\":{\"align\":\"left\"},\"paper_bgcolor\":\"white\",\"plot_bgcolor\":\"#E5ECF6\",\"polar\":{\"bgcolor\":\"#E5ECF6\",\"angularaxis\":{\"gridcolor\":\"white\",\"linecolor\":\"white\",\"ticks\":\"\"},\"radialaxis\":{\"gridcolor\":\"white\",\"linecolor\":\"white\",\"ticks\":\"\"}},\"ternary\":{\"bgcolor\":\"#E5ECF6\",\"aaxis\":{\"gridcolor\":\"white\",\"linecolor\":\"white\",\"ticks\":\"\"},\"baxis\":{\"gridcolor\":\"white\",\"linecolor\":\"white\",\"ticks\":\"\"},\"caxis\":{\"gridcolor\":\"white\",\"linecolor\":\"white\",\"ticks\":\"\"}},\"coloraxis\":{\"colorbar\":{\"outlinewidth\":0,\"ticks\":\"\"}},\"colorscale\":{\"sequential\":[[0.0,\"#0d0887\"],[0.1111111111111111,\"#46039f\"],[0.2222222222222222,\"#7201a8\"],[0.3333333333333333,\"#9c179e\"],[0.4444444444444444,\"#bd3786\"],[0.5555555555555556,\"#d8576b\"],[0.6666666666666666,\"#ed7953\"],[0.7777777777777778,\"#fb9f3a\"],[0.8888888888888888,\"#fdca26\"],[1.0,\"#f0f921\"]],\"sequentialminus\":[[0.0,\"#0d0887\"],[0.1111111111111111,\"#46039f\"],[0.2222222222222222,\"#7201a8\"],[0.3333333333333333,\"#9c179e\"],[0.4444444444444444,\"#bd3786\"],[0.5555555555555556,\"#d8576b\"],[0.6666666666666666,\"#ed7953\"],[0.7777777777777778,\"#fb9f3a\"],[0.8888888888888888,\"#fdca26\"],[1.0,\"#f0f921\"]],\"diverging\":[[0,\"#8e0152\"],[0.1,\"#c51b7d\"],[0.2,\"#de77ae\"],[0.3,\"#f1b6da\"],[0.4,\"#fde0ef\"],[0.5,\"#f7f7f7\"],[0.6,\"#e6f5d0\"],[0.7,\"#b8e186\"],[0.8,\"#7fbc41\"],[0.9,\"#4d9221\"],[1,\"#276419\"]]},\"xaxis\":{\"gridcolor\":\"white\",\"linecolor\":\"white\",\"ticks\":\"\",\"title\":{\"standoff\":15},\"zerolinecolor\":\"white\",\"automargin\":true,\"zerolinewidth\":2},\"yaxis\":{\"gridcolor\":\"white\",\"linecolor\":\"white\",\"ticks\":\"\",\"title\":{\"standoff\":15},\"zerolinecolor\":\"white\",\"automargin\":true,\"zerolinewidth\":2},\"scene\":{\"xaxis\":{\"backgroundcolor\":\"#E5ECF6\",\"gridcolor\":\"white\",\"linecolor\":\"white\",\"showbackground\":true,\"ticks\":\"\",\"zerolinecolor\":\"white\",\"gridwidth\":2},\"yaxis\":{\"backgroundcolor\":\"#E5ECF6\",\"gridcolor\":\"white\",\"linecolor\":\"white\",\"showbackground\":true,\"ticks\":\"\",\"zerolinecolor\":\"white\",\"gridwidth\":2},\"zaxis\":{\"backgroundcolor\":\"#E5ECF6\",\"gridcolor\":\"white\",\"linecolor\":\"white\",\"showbackground\":true,\"ticks\":\"\",\"zerolinecolor\":\"white\",\"gridwidth\":2}},\"shapedefaults\":{\"line\":{\"color\":\"#2a3f5f\"}},\"annotationdefaults\":{\"arrowcolor\":\"#2a3f5f\",\"arrowhead\":0,\"arrowwidth\":1},\"geo\":{\"bgcolor\":\"white\",\"landcolor\":\"#E5ECF6\",\"subunitcolor\":\"white\",\"showland\":true,\"showlakes\":true,\"lakecolor\":\"white\"},\"title\":{\"x\":0.05},\"mapbox\":{\"style\":\"light\"}}},\"xaxis\":{\"anchor\":\"y\",\"domain\":[0.0,1.0],\"title\":{\"text\":\"Model\"},\"categoryorder\":\"array\",\"categoryarray\":[\"CNN_model\",\"MLP\",\"SVM\",\"Random Forest\",\"KNN\",\"SVCLinear\",\"Logistic Regression\",\"VGG19\",\"ResNet50\",\"Decision tree\",\"VGG16\",\"DenseNet121\",\"DenseNet201\",\"InceptionV3\",\"AdaBoost\",\"Naive Bayes\",\"ResNet152\"],\"tickangle\":0},\"yaxis\":{\"anchor\":\"x\",\"domain\":[0.0,1.0],\"title\":{\"text\":\"Accuracy\"}},\"legend\":{\"title\":{\"text\":\"Model\"},\"tracegroupgap\":0},\"title\":{\"text\":\"Model Accuracy Comparison\"},\"barmode\":\"relative\",\"height\":700,\"bargap\":0.2,\"hovermode\":\"x\"},                        {\"responsive\": true}                    ).then(function(){\n",
              "                            \n",
              "var gd = document.getElementById('3fd350c0-76a6-48ef-bf8e-ddb2c6fc09e1');\n",
              "var x = new MutationObserver(function (mutations, observer) {{\n",
              "        var display = window.getComputedStyle(gd).display;\n",
              "        if (!display || display === 'none') {{\n",
              "            console.log([gd, 'removed!']);\n",
              "            Plotly.purge(gd);\n",
              "            observer.disconnect();\n",
              "        }}\n",
              "}});\n",
              "\n",
              "// Listen for the removal of the full notebook cells\n",
              "var notebookContainer = gd.closest('#notebook-container');\n",
              "if (notebookContainer) {{\n",
              "    x.observe(notebookContainer, {childList: true});\n",
              "}}\n",
              "\n",
              "// Listen for the clearing of the current output cell\n",
              "var outputEl = gd.closest('.output');\n",
              "if (outputEl) {{\n",
              "    x.observe(outputEl, {childList: true});\n",
              "}}\n",
              "\n",
              "                        })                };                            </script>        </div>\n",
              "</body>\n",
              "</html>"
            ]
          },
          "metadata": {},
          "output_type": "display_data"
        }
      ],
      "source": [
        "# Create a dataframe to store the results of the base models and their execution time and accuracy and print it out in a table\n",
        "results = pd.DataFrame({'Model': MODELS_LISTS, 'Accuracy': ACCURACIES, 'Execution Time(s)': [f\"{time:.4f}\" for time in EXECUTION_TIMES]})\n",
        "print(results)\n",
        "\n",
        "\n",
        "results = results.sort_values(by='Accuracy', ascending=False)\n",
        "\n",
        "# Bar plot using Plotly Express\n",
        "fig = px.bar(\n",
        "    results,\n",
        "    x='Model',\n",
        "    y='Accuracy',\n",
        "    color='Model',\n",
        "    text='Accuracy',\n",
        "    title='Model Accuracy Comparison',\n",
        "    labels={'Accuracy': 'Accuracy'},\n",
        "    height=700\n",
        ")\n",
        "\n",
        "# Add accuracy values on top of each bar\n",
        "fig.update_traces(texttemplate='%{text:.2%}', textposition='outside')\n",
        "\n",
        "# Customize layout\n",
        "fig.update_layout(\n",
        "    xaxis_title='Model',\n",
        "    yaxis_title='Accuracy',\n",
        "    xaxis_tickangle=0,\n",
        "    bargap=0.2,\n",
        "    hovermode='x',\n",
        ")\n",
        "\n",
        "# Show the plot\n",
        "fig.show()"
      ]
    },
    {
      "cell_type": "code",
      "execution_count": 122,
      "metadata": {
        "colab": {
          "base_uri": "https://localhost:8080/",
          "height": 717
        },
        "id": "Si_stjKzE_HV",
        "outputId": "43ded9d4-1569-4fff-a778-23e53d8ebfc6"
      },
      "outputs": [
        {
          "data": {
            "text/html": [
              "<html>\n",
              "<head><meta charset=\"utf-8\" /></head>\n",
              "<body>\n",
              "    <div>            <script src=\"https://cdnjs.cloudflare.com/ajax/libs/mathjax/2.7.5/MathJax.js?config=TeX-AMS-MML_SVG\"></script><script type=\"text/javascript\">if (window.MathJax && window.MathJax.Hub && window.MathJax.Hub.Config) {window.MathJax.Hub.Config({SVG: {font: \"STIX-Web\"}});}</script>                <script type=\"text/javascript\">window.PlotlyConfig = {MathJaxConfig: 'local'};</script>\n",
              "        <script charset=\"utf-8\" src=\"https://cdn.plot.ly/plotly-2.24.1.min.js\"></script>                <div id=\"e7e80aed-0d02-46ea-b51a-f0d2ea238a95\" class=\"plotly-graph-div\" style=\"height:700px; width:100%;\"></div>            <script type=\"text/javascript\">                                    window.PLOTLYENV=window.PLOTLYENV || {};                                    if (document.getElementById(\"e7e80aed-0d02-46ea-b51a-f0d2ea238a95\")) {                    Plotly.newPlot(                        \"e7e80aed-0d02-46ea-b51a-f0d2ea238a95\",                        [{\"alignmentgroup\":\"True\",\"hovertemplate\":\"Model=%{x}\\u003cbr\\u003eSeconds=%{text}\\u003cextra\\u003e\\u003c\\u002fextra\\u003e\",\"legendgroup\":\"SVCLinear\",\"marker\":{\"color\":\"#636efa\",\"pattern\":{\"shape\":\"\"}},\"name\":\"SVCLinear\",\"offsetgroup\":\"SVCLinear\",\"orientation\":\"v\",\"showlegend\":true,\"text\":[362.3468],\"textposition\":\"outside\",\"x\":[\"SVCLinear\"],\"xaxis\":\"x\",\"y\":[362.3468],\"yaxis\":\"y\",\"type\":\"bar\",\"texttemplate\":\"%{text:.2f} seconds\"},{\"alignmentgroup\":\"True\",\"hovertemplate\":\"Model=%{x}\\u003cbr\\u003eSeconds=%{text}\\u003cextra\\u003e\\u003c\\u002fextra\\u003e\",\"legendgroup\":\"SVM\",\"marker\":{\"color\":\"#EF553B\",\"pattern\":{\"shape\":\"\"}},\"name\":\"SVM\",\"offsetgroup\":\"SVM\",\"orientation\":\"v\",\"showlegend\":true,\"text\":[258.609],\"textposition\":\"outside\",\"x\":[\"SVM\"],\"xaxis\":\"x\",\"y\":[258.609],\"yaxis\":\"y\",\"type\":\"bar\",\"texttemplate\":\"%{text:.2f} seconds\"},{\"alignmentgroup\":\"True\",\"hovertemplate\":\"Model=%{x}\\u003cbr\\u003eSeconds=%{text}\\u003cextra\\u003e\\u003c\\u002fextra\\u003e\",\"legendgroup\":\"AdaBoost\",\"marker\":{\"color\":\"#00cc96\",\"pattern\":{\"shape\":\"\"}},\"name\":\"AdaBoost\",\"offsetgroup\":\"AdaBoost\",\"orientation\":\"v\",\"showlegend\":true,\"text\":[240.3844],\"textposition\":\"outside\",\"x\":[\"AdaBoost\"],\"xaxis\":\"x\",\"y\":[240.3844],\"yaxis\":\"y\",\"type\":\"bar\",\"texttemplate\":\"%{text:.2f} seconds\"},{\"alignmentgroup\":\"True\",\"hovertemplate\":\"Model=%{x}\\u003cbr\\u003eSeconds=%{text}\\u003cextra\\u003e\\u003c\\u002fextra\\u003e\",\"legendgroup\":\"DenseNet201\",\"marker\":{\"color\":\"#ab63fa\",\"pattern\":{\"shape\":\"\"}},\"name\":\"DenseNet201\",\"offsetgroup\":\"DenseNet201\",\"orientation\":\"v\",\"showlegend\":true,\"text\":[121.0056],\"textposition\":\"outside\",\"x\":[\"DenseNet201\"],\"xaxis\":\"x\",\"y\":[121.0056],\"yaxis\":\"y\",\"type\":\"bar\",\"texttemplate\":\"%{text:.2f} seconds\"},{\"alignmentgroup\":\"True\",\"hovertemplate\":\"Model=%{x}\\u003cbr\\u003eSeconds=%{text}\\u003cextra\\u003e\\u003c\\u002fextra\\u003e\",\"legendgroup\":\"Random Forest\",\"marker\":{\"color\":\"#FFA15A\",\"pattern\":{\"shape\":\"\"}},\"name\":\"Random Forest\",\"offsetgroup\":\"Random Forest\",\"orientation\":\"v\",\"showlegend\":true,\"text\":[98.299],\"textposition\":\"outside\",\"x\":[\"Random Forest\"],\"xaxis\":\"x\",\"y\":[98.299],\"yaxis\":\"y\",\"type\":\"bar\",\"texttemplate\":\"%{text:.2f} seconds\"},{\"alignmentgroup\":\"True\",\"hovertemplate\":\"Model=%{x}\\u003cbr\\u003eSeconds=%{text}\\u003cextra\\u003e\\u003c\\u002fextra\\u003e\",\"legendgroup\":\"CNN_model\",\"marker\":{\"color\":\"#19d3f3\",\"pattern\":{\"shape\":\"\"}},\"name\":\"CNN_model\",\"offsetgroup\":\"CNN_model\",\"orientation\":\"v\",\"showlegend\":true,\"text\":[27.8681],\"textposition\":\"outside\",\"x\":[\"CNN_model\"],\"xaxis\":\"x\",\"y\":[27.8681],\"yaxis\":\"y\",\"type\":\"bar\",\"texttemplate\":\"%{text:.2f} seconds\"},{\"alignmentgroup\":\"True\",\"hovertemplate\":\"Model=%{x}\\u003cbr\\u003eSeconds=%{text}\\u003cextra\\u003e\\u003c\\u002fextra\\u003e\",\"legendgroup\":\"MLP\",\"marker\":{\"color\":\"#FF6692\",\"pattern\":{\"shape\":\"\"}},\"name\":\"MLP\",\"offsetgroup\":\"MLP\",\"orientation\":\"v\",\"showlegend\":true,\"text\":[27.8681],\"textposition\":\"outside\",\"x\":[\"MLP\"],\"xaxis\":\"x\",\"y\":[27.8681],\"yaxis\":\"y\",\"type\":\"bar\",\"texttemplate\":\"%{text:.2f} seconds\"},{\"alignmentgroup\":\"True\",\"hovertemplate\":\"Model=%{x}\\u003cbr\\u003eSeconds=%{text}\\u003cextra\\u003e\\u003c\\u002fextra\\u003e\",\"legendgroup\":\"Logistic Regression\",\"marker\":{\"color\":\"#B6E880\",\"pattern\":{\"shape\":\"\"}},\"name\":\"Logistic Regression\",\"offsetgroup\":\"Logistic Regression\",\"orientation\":\"v\",\"showlegend\":true,\"text\":[26.397],\"textposition\":\"outside\",\"x\":[\"Logistic Regression\"],\"xaxis\":\"x\",\"y\":[26.397],\"yaxis\":\"y\",\"type\":\"bar\",\"texttemplate\":\"%{text:.2f} seconds\"},{\"alignmentgroup\":\"True\",\"hovertemplate\":\"Model=%{x}\\u003cbr\\u003eSeconds=%{text}\\u003cextra\\u003e\\u003c\\u002fextra\\u003e\",\"legendgroup\":\"ResNet152\",\"marker\":{\"color\":\"#FF97FF\",\"pattern\":{\"shape\":\"\"}},\"name\":\"ResNet152\",\"offsetgroup\":\"ResNet152\",\"orientation\":\"v\",\"showlegend\":true,\"text\":[22.9346],\"textposition\":\"outside\",\"x\":[\"ResNet152\"],\"xaxis\":\"x\",\"y\":[22.9346],\"yaxis\":\"y\",\"type\":\"bar\",\"texttemplate\":\"%{text:.2f} seconds\"},{\"alignmentgroup\":\"True\",\"hovertemplate\":\"Model=%{x}\\u003cbr\\u003eSeconds=%{text}\\u003cextra\\u003e\\u003c\\u002fextra\\u003e\",\"legendgroup\":\"Decision tree\",\"marker\":{\"color\":\"#FECB52\",\"pattern\":{\"shape\":\"\"}},\"name\":\"Decision tree\",\"offsetgroup\":\"Decision tree\",\"orientation\":\"v\",\"showlegend\":true,\"text\":[21.8467],\"textposition\":\"outside\",\"x\":[\"Decision tree\"],\"xaxis\":\"x\",\"y\":[21.8467],\"yaxis\":\"y\",\"type\":\"bar\",\"texttemplate\":\"%{text:.2f} seconds\"},{\"alignmentgroup\":\"True\",\"hovertemplate\":\"Model=%{x}\\u003cbr\\u003eSeconds=%{text}\\u003cextra\\u003e\\u003c\\u002fextra\\u003e\",\"legendgroup\":\"DenseNet121\",\"marker\":{\"color\":\"#636efa\",\"pattern\":{\"shape\":\"\"}},\"name\":\"DenseNet121\",\"offsetgroup\":\"DenseNet121\",\"orientation\":\"v\",\"showlegend\":true,\"text\":[13.7981],\"textposition\":\"outside\",\"x\":[\"DenseNet121\"],\"xaxis\":\"x\",\"y\":[13.7981],\"yaxis\":\"y\",\"type\":\"bar\",\"texttemplate\":\"%{text:.2f} seconds\"},{\"alignmentgroup\":\"True\",\"hovertemplate\":\"Model=%{x}\\u003cbr\\u003eSeconds=%{text}\\u003cextra\\u003e\\u003c\\u002fextra\\u003e\",\"legendgroup\":\"ResNet50\",\"marker\":{\"color\":\"#EF553B\",\"pattern\":{\"shape\":\"\"}},\"name\":\"ResNet50\",\"offsetgroup\":\"ResNet50\",\"orientation\":\"v\",\"showlegend\":true,\"text\":[12.0556],\"textposition\":\"outside\",\"x\":[\"ResNet50\"],\"xaxis\":\"x\",\"y\":[12.0556],\"yaxis\":\"y\",\"type\":\"bar\",\"texttemplate\":\"%{text:.2f} seconds\"},{\"alignmentgroup\":\"True\",\"hovertemplate\":\"Model=%{x}\\u003cbr\\u003eSeconds=%{text}\\u003cextra\\u003e\\u003c\\u002fextra\\u003e\",\"legendgroup\":\"InceptionV3\",\"marker\":{\"color\":\"#00cc96\",\"pattern\":{\"shape\":\"\"}},\"name\":\"InceptionV3\",\"offsetgroup\":\"InceptionV3\",\"orientation\":\"v\",\"showlegend\":true,\"text\":[9.74],\"textposition\":\"outside\",\"x\":[\"InceptionV3\"],\"xaxis\":\"x\",\"y\":[9.74],\"yaxis\":\"y\",\"type\":\"bar\",\"texttemplate\":\"%{text:.2f} seconds\"},{\"alignmentgroup\":\"True\",\"hovertemplate\":\"Model=%{x}\\u003cbr\\u003eSeconds=%{text}\\u003cextra\\u003e\\u003c\\u002fextra\\u003e\",\"legendgroup\":\"VGG19\",\"marker\":{\"color\":\"#ab63fa\",\"pattern\":{\"shape\":\"\"}},\"name\":\"VGG19\",\"offsetgroup\":\"VGG19\",\"orientation\":\"v\",\"showlegend\":true,\"text\":[9.5304],\"textposition\":\"outside\",\"x\":[\"VGG19\"],\"xaxis\":\"x\",\"y\":[9.5304],\"yaxis\":\"y\",\"type\":\"bar\",\"texttemplate\":\"%{text:.2f} seconds\"},{\"alignmentgroup\":\"True\",\"hovertemplate\":\"Model=%{x}\\u003cbr\\u003eSeconds=%{text}\\u003cextra\\u003e\\u003c\\u002fextra\\u003e\",\"legendgroup\":\"VGG16\",\"marker\":{\"color\":\"#FFA15A\",\"pattern\":{\"shape\":\"\"}},\"name\":\"VGG16\",\"offsetgroup\":\"VGG16\",\"orientation\":\"v\",\"showlegend\":true,\"text\":[8.5534],\"textposition\":\"outside\",\"x\":[\"VGG16\"],\"xaxis\":\"x\",\"y\":[8.5534],\"yaxis\":\"y\",\"type\":\"bar\",\"texttemplate\":\"%{text:.2f} seconds\"},{\"alignmentgroup\":\"True\",\"hovertemplate\":\"Model=%{x}\\u003cbr\\u003eSeconds=%{text}\\u003cextra\\u003e\\u003c\\u002fextra\\u003e\",\"legendgroup\":\"Naive Bayes\",\"marker\":{\"color\":\"#19d3f3\",\"pattern\":{\"shape\":\"\"}},\"name\":\"Naive Bayes\",\"offsetgroup\":\"Naive Bayes\",\"orientation\":\"v\",\"showlegend\":true,\"text\":[0.2897],\"textposition\":\"outside\",\"x\":[\"Naive Bayes\"],\"xaxis\":\"x\",\"y\":[0.2897],\"yaxis\":\"y\",\"type\":\"bar\",\"texttemplate\":\"%{text:.2f} seconds\"},{\"alignmentgroup\":\"True\",\"hovertemplate\":\"Model=%{x}\\u003cbr\\u003eSeconds=%{text}\\u003cextra\\u003e\\u003c\\u002fextra\\u003e\",\"legendgroup\":\"KNN\",\"marker\":{\"color\":\"#FF6692\",\"pattern\":{\"shape\":\"\"}},\"name\":\"KNN\",\"offsetgroup\":\"KNN\",\"orientation\":\"v\",\"showlegend\":true,\"text\":[0.0227],\"textposition\":\"outside\",\"x\":[\"KNN\"],\"xaxis\":\"x\",\"y\":[0.0227],\"yaxis\":\"y\",\"type\":\"bar\",\"texttemplate\":\"%{text:.2f} seconds\"}],                        {\"template\":{\"data\":{\"histogram2dcontour\":[{\"type\":\"histogram2dcontour\",\"colorbar\":{\"outlinewidth\":0,\"ticks\":\"\"},\"colorscale\":[[0.0,\"#0d0887\"],[0.1111111111111111,\"#46039f\"],[0.2222222222222222,\"#7201a8\"],[0.3333333333333333,\"#9c179e\"],[0.4444444444444444,\"#bd3786\"],[0.5555555555555556,\"#d8576b\"],[0.6666666666666666,\"#ed7953\"],[0.7777777777777778,\"#fb9f3a\"],[0.8888888888888888,\"#fdca26\"],[1.0,\"#f0f921\"]]}],\"choropleth\":[{\"type\":\"choropleth\",\"colorbar\":{\"outlinewidth\":0,\"ticks\":\"\"}}],\"histogram2d\":[{\"type\":\"histogram2d\",\"colorbar\":{\"outlinewidth\":0,\"ticks\":\"\"},\"colorscale\":[[0.0,\"#0d0887\"],[0.1111111111111111,\"#46039f\"],[0.2222222222222222,\"#7201a8\"],[0.3333333333333333,\"#9c179e\"],[0.4444444444444444,\"#bd3786\"],[0.5555555555555556,\"#d8576b\"],[0.6666666666666666,\"#ed7953\"],[0.7777777777777778,\"#fb9f3a\"],[0.8888888888888888,\"#fdca26\"],[1.0,\"#f0f921\"]]}],\"heatmap\":[{\"type\":\"heatmap\",\"colorbar\":{\"outlinewidth\":0,\"ticks\":\"\"},\"colorscale\":[[0.0,\"#0d0887\"],[0.1111111111111111,\"#46039f\"],[0.2222222222222222,\"#7201a8\"],[0.3333333333333333,\"#9c179e\"],[0.4444444444444444,\"#bd3786\"],[0.5555555555555556,\"#d8576b\"],[0.6666666666666666,\"#ed7953\"],[0.7777777777777778,\"#fb9f3a\"],[0.8888888888888888,\"#fdca26\"],[1.0,\"#f0f921\"]]}],\"heatmapgl\":[{\"type\":\"heatmapgl\",\"colorbar\":{\"outlinewidth\":0,\"ticks\":\"\"},\"colorscale\":[[0.0,\"#0d0887\"],[0.1111111111111111,\"#46039f\"],[0.2222222222222222,\"#7201a8\"],[0.3333333333333333,\"#9c179e\"],[0.4444444444444444,\"#bd3786\"],[0.5555555555555556,\"#d8576b\"],[0.6666666666666666,\"#ed7953\"],[0.7777777777777778,\"#fb9f3a\"],[0.8888888888888888,\"#fdca26\"],[1.0,\"#f0f921\"]]}],\"contourcarpet\":[{\"type\":\"contourcarpet\",\"colorbar\":{\"outlinewidth\":0,\"ticks\":\"\"}}],\"contour\":[{\"type\":\"contour\",\"colorbar\":{\"outlinewidth\":0,\"ticks\":\"\"},\"colorscale\":[[0.0,\"#0d0887\"],[0.1111111111111111,\"#46039f\"],[0.2222222222222222,\"#7201a8\"],[0.3333333333333333,\"#9c179e\"],[0.4444444444444444,\"#bd3786\"],[0.5555555555555556,\"#d8576b\"],[0.6666666666666666,\"#ed7953\"],[0.7777777777777778,\"#fb9f3a\"],[0.8888888888888888,\"#fdca26\"],[1.0,\"#f0f921\"]]}],\"surface\":[{\"type\":\"surface\",\"colorbar\":{\"outlinewidth\":0,\"ticks\":\"\"},\"colorscale\":[[0.0,\"#0d0887\"],[0.1111111111111111,\"#46039f\"],[0.2222222222222222,\"#7201a8\"],[0.3333333333333333,\"#9c179e\"],[0.4444444444444444,\"#bd3786\"],[0.5555555555555556,\"#d8576b\"],[0.6666666666666666,\"#ed7953\"],[0.7777777777777778,\"#fb9f3a\"],[0.8888888888888888,\"#fdca26\"],[1.0,\"#f0f921\"]]}],\"mesh3d\":[{\"type\":\"mesh3d\",\"colorbar\":{\"outlinewidth\":0,\"ticks\":\"\"}}],\"scatter\":[{\"fillpattern\":{\"fillmode\":\"overlay\",\"size\":10,\"solidity\":0.2},\"type\":\"scatter\"}],\"parcoords\":[{\"type\":\"parcoords\",\"line\":{\"colorbar\":{\"outlinewidth\":0,\"ticks\":\"\"}}}],\"scatterpolargl\":[{\"type\":\"scatterpolargl\",\"marker\":{\"colorbar\":{\"outlinewidth\":0,\"ticks\":\"\"}}}],\"bar\":[{\"error_x\":{\"color\":\"#2a3f5f\"},\"error_y\":{\"color\":\"#2a3f5f\"},\"marker\":{\"line\":{\"color\":\"#E5ECF6\",\"width\":0.5},\"pattern\":{\"fillmode\":\"overlay\",\"size\":10,\"solidity\":0.2}},\"type\":\"bar\"}],\"scattergeo\":[{\"type\":\"scattergeo\",\"marker\":{\"colorbar\":{\"outlinewidth\":0,\"ticks\":\"\"}}}],\"scatterpolar\":[{\"type\":\"scatterpolar\",\"marker\":{\"colorbar\":{\"outlinewidth\":0,\"ticks\":\"\"}}}],\"histogram\":[{\"marker\":{\"pattern\":{\"fillmode\":\"overlay\",\"size\":10,\"solidity\":0.2}},\"type\":\"histogram\"}],\"scattergl\":[{\"type\":\"scattergl\",\"marker\":{\"colorbar\":{\"outlinewidth\":0,\"ticks\":\"\"}}}],\"scatter3d\":[{\"type\":\"scatter3d\",\"line\":{\"colorbar\":{\"outlinewidth\":0,\"ticks\":\"\"}},\"marker\":{\"colorbar\":{\"outlinewidth\":0,\"ticks\":\"\"}}}],\"scattermapbox\":[{\"type\":\"scattermapbox\",\"marker\":{\"colorbar\":{\"outlinewidth\":0,\"ticks\":\"\"}}}],\"scatterternary\":[{\"type\":\"scatterternary\",\"marker\":{\"colorbar\":{\"outlinewidth\":0,\"ticks\":\"\"}}}],\"scattercarpet\":[{\"type\":\"scattercarpet\",\"marker\":{\"colorbar\":{\"outlinewidth\":0,\"ticks\":\"\"}}}],\"carpet\":[{\"aaxis\":{\"endlinecolor\":\"#2a3f5f\",\"gridcolor\":\"white\",\"linecolor\":\"white\",\"minorgridcolor\":\"white\",\"startlinecolor\":\"#2a3f5f\"},\"baxis\":{\"endlinecolor\":\"#2a3f5f\",\"gridcolor\":\"white\",\"linecolor\":\"white\",\"minorgridcolor\":\"white\",\"startlinecolor\":\"#2a3f5f\"},\"type\":\"carpet\"}],\"table\":[{\"cells\":{\"fill\":{\"color\":\"#EBF0F8\"},\"line\":{\"color\":\"white\"}},\"header\":{\"fill\":{\"color\":\"#C8D4E3\"},\"line\":{\"color\":\"white\"}},\"type\":\"table\"}],\"barpolar\":[{\"marker\":{\"line\":{\"color\":\"#E5ECF6\",\"width\":0.5},\"pattern\":{\"fillmode\":\"overlay\",\"size\":10,\"solidity\":0.2}},\"type\":\"barpolar\"}],\"pie\":[{\"automargin\":true,\"type\":\"pie\"}]},\"layout\":{\"autotypenumbers\":\"strict\",\"colorway\":[\"#636efa\",\"#EF553B\",\"#00cc96\",\"#ab63fa\",\"#FFA15A\",\"#19d3f3\",\"#FF6692\",\"#B6E880\",\"#FF97FF\",\"#FECB52\"],\"font\":{\"color\":\"#2a3f5f\"},\"hovermode\":\"closest\",\"hoverlabel\":{\"align\":\"left\"},\"paper_bgcolor\":\"white\",\"plot_bgcolor\":\"#E5ECF6\",\"polar\":{\"bgcolor\":\"#E5ECF6\",\"angularaxis\":{\"gridcolor\":\"white\",\"linecolor\":\"white\",\"ticks\":\"\"},\"radialaxis\":{\"gridcolor\":\"white\",\"linecolor\":\"white\",\"ticks\":\"\"}},\"ternary\":{\"bgcolor\":\"#E5ECF6\",\"aaxis\":{\"gridcolor\":\"white\",\"linecolor\":\"white\",\"ticks\":\"\"},\"baxis\":{\"gridcolor\":\"white\",\"linecolor\":\"white\",\"ticks\":\"\"},\"caxis\":{\"gridcolor\":\"white\",\"linecolor\":\"white\",\"ticks\":\"\"}},\"coloraxis\":{\"colorbar\":{\"outlinewidth\":0,\"ticks\":\"\"}},\"colorscale\":{\"sequential\":[[0.0,\"#0d0887\"],[0.1111111111111111,\"#46039f\"],[0.2222222222222222,\"#7201a8\"],[0.3333333333333333,\"#9c179e\"],[0.4444444444444444,\"#bd3786\"],[0.5555555555555556,\"#d8576b\"],[0.6666666666666666,\"#ed7953\"],[0.7777777777777778,\"#fb9f3a\"],[0.8888888888888888,\"#fdca26\"],[1.0,\"#f0f921\"]],\"sequentialminus\":[[0.0,\"#0d0887\"],[0.1111111111111111,\"#46039f\"],[0.2222222222222222,\"#7201a8\"],[0.3333333333333333,\"#9c179e\"],[0.4444444444444444,\"#bd3786\"],[0.5555555555555556,\"#d8576b\"],[0.6666666666666666,\"#ed7953\"],[0.7777777777777778,\"#fb9f3a\"],[0.8888888888888888,\"#fdca26\"],[1.0,\"#f0f921\"]],\"diverging\":[[0,\"#8e0152\"],[0.1,\"#c51b7d\"],[0.2,\"#de77ae\"],[0.3,\"#f1b6da\"],[0.4,\"#fde0ef\"],[0.5,\"#f7f7f7\"],[0.6,\"#e6f5d0\"],[0.7,\"#b8e186\"],[0.8,\"#7fbc41\"],[0.9,\"#4d9221\"],[1,\"#276419\"]]},\"xaxis\":{\"gridcolor\":\"white\",\"linecolor\":\"white\",\"ticks\":\"\",\"title\":{\"standoff\":15},\"zerolinecolor\":\"white\",\"automargin\":true,\"zerolinewidth\":2},\"yaxis\":{\"gridcolor\":\"white\",\"linecolor\":\"white\",\"ticks\":\"\",\"title\":{\"standoff\":15},\"zerolinecolor\":\"white\",\"automargin\":true,\"zerolinewidth\":2},\"scene\":{\"xaxis\":{\"backgroundcolor\":\"#E5ECF6\",\"gridcolor\":\"white\",\"linecolor\":\"white\",\"showbackground\":true,\"ticks\":\"\",\"zerolinecolor\":\"white\",\"gridwidth\":2},\"yaxis\":{\"backgroundcolor\":\"#E5ECF6\",\"gridcolor\":\"white\",\"linecolor\":\"white\",\"showbackground\":true,\"ticks\":\"\",\"zerolinecolor\":\"white\",\"gridwidth\":2},\"zaxis\":{\"backgroundcolor\":\"#E5ECF6\",\"gridcolor\":\"white\",\"linecolor\":\"white\",\"showbackground\":true,\"ticks\":\"\",\"zerolinecolor\":\"white\",\"gridwidth\":2}},\"shapedefaults\":{\"line\":{\"color\":\"#2a3f5f\"}},\"annotationdefaults\":{\"arrowcolor\":\"#2a3f5f\",\"arrowhead\":0,\"arrowwidth\":1},\"geo\":{\"bgcolor\":\"white\",\"landcolor\":\"#E5ECF6\",\"subunitcolor\":\"white\",\"showland\":true,\"showlakes\":true,\"lakecolor\":\"white\"},\"title\":{\"x\":0.05},\"mapbox\":{\"style\":\"light\"}}},\"xaxis\":{\"anchor\":\"y\",\"domain\":[0.0,1.0],\"title\":{\"text\":\"Model\"},\"categoryorder\":\"array\",\"categoryarray\":[\"SVCLinear\",\"SVM\",\"AdaBoost\",\"DenseNet201\",\"Random Forest\",\"CNN_model\",\"MLP\",\"Logistic Regression\",\"ResNet152\",\"Decision tree\",\"DenseNet121\",\"ResNet50\",\"InceptionV3\",\"VGG19\",\"VGG16\",\"Naive Bayes\",\"KNN\"],\"tickangle\":0},\"yaxis\":{\"anchor\":\"x\",\"domain\":[0.0,1.0],\"title\":{\"text\":\"Execution Time (s)\"}},\"legend\":{\"title\":{\"text\":\"Model\"},\"tracegroupgap\":0},\"title\":{\"text\":\"Execution time comparasion\"},\"barmode\":\"relative\",\"height\":700,\"bargap\":0.2,\"hovermode\":\"x\"},                        {\"responsive\": true}                    ).then(function(){\n",
              "                            \n",
              "var gd = document.getElementById('e7e80aed-0d02-46ea-b51a-f0d2ea238a95');\n",
              "var x = new MutationObserver(function (mutations, observer) {{\n",
              "        var display = window.getComputedStyle(gd).display;\n",
              "        if (!display || display === 'none') {{\n",
              "            console.log([gd, 'removed!']);\n",
              "            Plotly.purge(gd);\n",
              "            observer.disconnect();\n",
              "        }}\n",
              "}});\n",
              "\n",
              "// Listen for the removal of the full notebook cells\n",
              "var notebookContainer = gd.closest('#notebook-container');\n",
              "if (notebookContainer) {{\n",
              "    x.observe(notebookContainer, {childList: true});\n",
              "}}\n",
              "\n",
              "// Listen for the clearing of the current output cell\n",
              "var outputEl = gd.closest('.output');\n",
              "if (outputEl) {{\n",
              "    x.observe(outputEl, {childList: true});\n",
              "}}\n",
              "\n",
              "                        })                };                            </script>        </div>\n",
              "</body>\n",
              "</html>"
            ]
          },
          "metadata": {},
          "output_type": "display_data"
        }
      ],
      "source": [
        "#Convert 'Execution Time(s)' to numeric for sorting\n",
        "results['Execution Time(s)'] = pd.to_numeric(results['Execution Time(s)'])\n",
        "\n",
        "# Sort the dataframe by 'Execution Time(s)'\n",
        "results = results.sort_values(by='Execution Time(s)', ascending=False)\n",
        "\n",
        "# Bar plot using Plotly Express\n",
        "fig = px.bar(\n",
        "    results,\n",
        "    x='Model',\n",
        "    y='Execution Time(s)',\n",
        "    color='Model',\n",
        "    text='Execution Time(s)',\n",
        "    title='Execution time comparasion',\n",
        "    labels={'Execution Time(s)': 'Seconds'},\n",
        "    height=700\n",
        ")\n",
        "\n",
        "# Add time values on top of each bar\n",
        "fig.update_traces(texttemplate='%{text:.2f} seconds', textposition='outside')\n",
        "\n",
        "# Customize layout\n",
        "fig.update_layout(\n",
        "    xaxis_title='Model',\n",
        "    yaxis_title='Execution Time (s)',\n",
        "    xaxis_tickangle=0,\n",
        "    bargap=0.2,\n",
        "    hovermode='x',\n",
        ")\n",
        "\n",
        "# Show the plot\n",
        "fig.show()"
      ]
    },
    {
      "cell_type": "code",
      "execution_count": null,
      "metadata": {},
      "outputs": [],
      "source": [
        "# Plot the TPR min for each model\n",
        "fig = px.bar(\n",
        "    results,\n",
        "    x='Model',\n",
        "    y='TPR min',\n",
        "    color='Model',\n",
        "    text='TPR min',\n",
        "    title='TPR min comparasion',\n",
        "    labels={'TPR min': 'TPR min'},\n",
        "    height=700\n",
        ")\n",
        "\n",
        "# Customize layout\n",
        "fig.update_layout(\n",
        "    xaxis_title='Model',\n",
        "    yaxis_title='TPR_min',\n",
        "    xaxis_tickangle=0,\n",
        "    bargap=0.2,\n",
        "    hovermode='x',\n",
        ")\n",
        "fig.show()"
      ]
    },
    {
      "cell_type": "code",
      "execution_count": null,
      "metadata": {},
      "outputs": [],
      "source": [
        "# Plot the most difficult class for each model\n",
        "fig = px.bar(\n",
        "    results,\n",
        "    x='Model',\n",
        "    y='Most difficult class',\n",
        "    color='Model',\n",
        "    text='Most difficult class',\n",
        "    title='Most difficult class comparasion',\n",
        "    labels={'Most difficult class': 'Most difficult class'},\n",
        "    height=700\n",
        ")\n",
        "\n",
        "# Customize layout\n",
        "fig.update_layout(\n",
        "    xaxis_title='Model',\n",
        "    yaxis_title='Most difficult class',\n",
        "    xaxis_tickangle=0,\n",
        "    bargap=0.2,\n",
        "    hovermode='x',\n",
        ")\n",
        "\n",
        "# Show the plot\n",
        "fig.show()"
      ]
    },
    {
      "cell_type": "code",
      "execution_count": null,
      "metadata": {},
      "outputs": [],
      "source": [
        "# Plot a piechart for the most difficult class for each model\n",
        "fig = px.pie(\n",
        "    results,\n",
        "    values='Most difficult class',\n",
        "    names='Model',\n",
        "    title='Most difficult class comparasion'\n",
        ")\n",
        "\n",
        "# Show the plot\n",
        "fig.show()"
      ]
    },
    {
      "cell_type": "markdown",
      "metadata": {
        "id": "Rl81rqIsGP0f"
      },
      "source": [
        "## Conclusões\n",
        "\n",
        "1. **Base models:**\n",
        "   - Árvore de Decisão: Obteve uma precisão de 80,08% com um tempo de execução relativamente baixo de 21,85 segundos.\n",
        "   - Random Forest: Superou a Árvore de Decisão com uma precisão de 87,73%, mas levou mais tempo para executar (98,30 segundos).\n",
        "   - SVM: Alcançou a maior precisão entre os modelos base (90,02%), mas com um tempo de execução moderado de 258,61 segundos.\n",
        "   - KNN: Alcançou um bom equilíbrio entre precisão (85,77%) e um tempo de execução muito baixo (0,02 segundos).\n",
        "   - Regressão Logística: Mostrou uma precisão decente (84,13%) e um tempo de execução razoável de 26,40 segundos.\n",
        "   - Naive Bayes: A menor precisão entre os modelos base (58,56%), mas executou muito rápido (0,29 segundos).\n",
        "   - AdaBoost: Semelhante ao Naive Bayes em termos de precisão (59,28%), mas demorou significativamente mais (240,38 segundos).\n",
        "\n",
        "2. **Redes Neurais Convolucionais (CNNs):**\n",
        "   - VGG16: Obteve uma precisão de 78,50% com um tempo de execução relativamente baixo de 8,55 segundos.\n",
        "   - VGG19: Melhorou ligeiramente a precisão em comparação com a VGG16 (82,90%)e  com um tempo de execução semelhante (9,53 segundos).\n",
        "   - ResNet50: Alcançou uma precisão competitiva de 82,50% com um tempo de execução moderado de 12,06 segundos.\n",
        "   - ResNet152: Menor precisão (38,50%) em comparação com outras CNNs e um tempo de execução mais longo (22,93 segundos).\n",
        "   - InceptionV3: Precisão moderada (63,10%) e tempo de execução moderado (9,74 segundos).\n",
        "   - DenseNet121: Alcançou um bom equilíbrio com uma precisão de 67,90% e um tempo de execução moderado de 13,80 segundos.\n",
        "   - DenseNet201: Precisão ligeiramente menor (65,80%) em comparação com a DenseNet121, mas com um tempo de execução mais longo (121,01 segundos).\n",
        "\n",
        "3. **MLP e CNN:**\n",
        "   - MLP: Obteve a maior precisão entre todos os modelos (91,11%) com um tempo de execução razoável de 27,87 segundos.\n",
        "   - CNN_model: Obteve a mesma precisão e tempo de execução do modelo MLP.\n",
        "\n",
        "**Resumo Geral:**\n",
        "- Entre os modelos base, o SVM alcançou a maior precisão, enquanto o KNN demonstrou um bom equilíbrio entre precisão e tempo de execução.\n",
        "- CNNs geralmente se saíram bem, com VGG19 e ResNet50 sendo escolhas competitivas.\n",
        "- O MLP superou outros modelos, alcançando a maior precisão com um tempo de execução razoável.\n",
        "\n",
        "Considerações para a Seleção do Modelo:\n",
        "- Se houver uma compensação entre precisão e tempo de execução, o KNN pode ser uma boa escolha.\n",
        "- CNNs como VGG19 e ResNet50 se saíram bem na análise.\n",
        "- Em relação ao tempo e a precisão, o CNN model ou MLP se mostram as melhores opções neste cenário.\n",
        "\n",
        "A escolha final depende de requisitos específicos, como a importância da precisão, os recursos computacionais disponíveis e a compensação entre precisão e tempo de execução."
      ]
    }
  ],
  "metadata": {
    "colab": {
      "provenance": []
    },
    "kernelspec": {
      "display_name": "Python 3",
      "name": "python3"
    },
    "language_info": {
      "codemirror_mode": {
        "name": "ipython",
        "version": 3
      },
      "file_extension": ".py",
      "mimetype": "text/x-python",
      "name": "python",
      "nbconvert_exporter": "python",
      "pygments_lexer": "ipython3",
      "version": "3.11.7"
    }
  },
  "nbformat": 4,
  "nbformat_minor": 0
}
