{
  "cells": [
    {
      "cell_type": "markdown",
      "metadata": {
        "id": "SzcNr5C8FVQx"
      },
      "source": [
        "## Introdução à Aprendizagem Profunda\n",
        "**LISTA PRÁTICA DAS UNIDADES 1 E 2**\n",
        "- Discente: Vitor Negromonte (vnco)\n",
        "- Período: 2023.2"
      ]
    },
    {
      "cell_type": "markdown",
      "metadata": {
        "id": "hvhmts4k90-a"
      },
      "source": [
        "## Instruções e requisitos"
      ]
    },
    {
      "cell_type": "markdown",
      "metadata": {
        "id": "YC-HsxZHN5XU"
      },
      "source": [
        "- Pode ser feita com o grupo do projeto. Recomendo pair/group programming para que todos vejam um pouco de todas as partes.\n",
        "\n",
        "- Treine e avalie 4 modelos de classificação para a base de dados do FashionMNIST (https://www.kaggle.com/datasets/zalando-research/fashionmnist,\n",
        "https://pytorch.org/vision/stable/generated/torchvision.datasets.FashionMNIST.html).\n",
        "\n",
        "\n",
        "1.   Um modelo base que não seja uma rede neural, como _decision tree, xgboost, random forest_, etc. Recomendação: use o sklearn (https://scikit-learn.org/).\n",
        "\n",
        "2.   Uma MLP\n",
        "\n",
        "3. Uma rede convolucional criada por ti. Recomendação: https://pytorch.org/\n",
        "\n",
        "4. Use um modelo pré treinado já consolidado na literatura para fazer _transfer learning_. Recomendações: https://pytorch.org/hub/pytorch_vision_vgg/\n",
        "\n",
        "\n",
        "Compare os resultados dos modelos:\n",
        "* plote gráficos que mostrem as acurácias de cada modelo\n",
        "* Indique qual foi a classe na qual o modelo teve pior performance (indique qual métrica usou para concluir isso e faça para cada modelo)\n",
        "* argumente qual o melhor modelo levando em consideração o tempo de execução e acurácia.\n",
        "\n",
        "Recomendação use:\n",
        "https://pytorch.org/vision/main/generated/torchvision.datasets.MNIST.html .\n",
        "\n",
        "Recomendação:\n",
        "\n",
        "Faça um template de treino, validação e teste que funcione para uma API de modelo.\n",
        "\n",
        "Crie a API para cada modelo que será usado e use o template"
      ]
    },
    {
      "cell_type": "markdown",
      "metadata": {
        "id": "oK0gUqL9EuJD"
      },
      "source": [
        "## Imports e Downloads"
      ]
    },
    {
      "cell_type": "markdown",
      "metadata": {
        "id": "4pjksSzNN5XX"
      },
      "source": [
        "### Imports"
      ]
    },
    {
      "cell_type": "code",
      "execution_count": 1,
      "metadata": {
        "id": "sgzcKvcQEw40"
      },
      "outputs": [],
      "source": [
        "import random\n",
        "import time\n",
        "import os\n",
        "\n",
        "import pandas as pd\n",
        "import numpy as np\n",
        "import torch, torchvision\n",
        "from torchvision import datasets, transforms, models\n",
        "import matplotlib.pyplot as plt\n",
        "import seaborn as sns\n",
        "import plotly.express as px\n",
        "from torch.utils.data import DataLoader, TensorDataset\n",
        "\n",
        "from sklearn.tree import DecisionTreeClassifier\n",
        "from sklearn.ensemble import RandomForestClassifier, AdaBoostClassifier, GradientBoostingClassifier\n",
        "from sklearn.neighbors import KNeighborsClassifier\n",
        "from sklearn.linear_model import SGDClassifier\n",
        "from sklearn.svm import SVC\n",
        "from sklearn.naive_bayes import GaussianNB\n",
        "from sklearn.metrics import accuracy_score, confusion_matrix, classification_report\n"
      ]
    },
    {
      "cell_type": "markdown",
      "metadata": {
        "id": "9faqF5q7N5Xe"
      },
      "source": [
        "### Downloading the dataset"
      ]
    },
    {
      "cell_type": "code",
      "execution_count": 2,
      "metadata": {
        "colab": {
          "base_uri": "https://localhost:8080/"
        },
        "id": "1nA616HCN5Xg",
        "outputId": "705a358d-ec9e-485b-aaba-b672ddfbf90b"
      },
      "outputs": [
        {
          "name": "stdout",
          "output_type": "stream",
          "text": [
            "Downloading http://fashion-mnist.s3-website.eu-central-1.amazonaws.com/train-images-idx3-ubyte.gz\n",
            "Downloading http://fashion-mnist.s3-website.eu-central-1.amazonaws.com/train-images-idx3-ubyte.gz to ./data/FashionMNIST/raw/train-images-idx3-ubyte.gz\n"
          ]
        },
        {
          "name": "stderr",
          "output_type": "stream",
          "text": [
            "100%|██████████| 26421880/26421880 [00:01<00:00, 15363898.40it/s]\n"
          ]
        },
        {
          "name": "stdout",
          "output_type": "stream",
          "text": [
            "Extracting ./data/FashionMNIST/raw/train-images-idx3-ubyte.gz to ./data/FashionMNIST/raw\n",
            "\n",
            "Downloading http://fashion-mnist.s3-website.eu-central-1.amazonaws.com/train-labels-idx1-ubyte.gz\n",
            "Downloading http://fashion-mnist.s3-website.eu-central-1.amazonaws.com/train-labels-idx1-ubyte.gz to ./data/FashionMNIST/raw/train-labels-idx1-ubyte.gz\n"
          ]
        },
        {
          "name": "stderr",
          "output_type": "stream",
          "text": [
            "100%|██████████| 29515/29515 [00:00<00:00, 280901.29it/s]\n"
          ]
        },
        {
          "name": "stdout",
          "output_type": "stream",
          "text": [
            "Extracting ./data/FashionMNIST/raw/train-labels-idx1-ubyte.gz to ./data/FashionMNIST/raw\n",
            "\n",
            "Downloading http://fashion-mnist.s3-website.eu-central-1.amazonaws.com/t10k-images-idx3-ubyte.gz\n",
            "Downloading http://fashion-mnist.s3-website.eu-central-1.amazonaws.com/t10k-images-idx3-ubyte.gz to ./data/FashionMNIST/raw/t10k-images-idx3-ubyte.gz\n"
          ]
        },
        {
          "name": "stderr",
          "output_type": "stream",
          "text": [
            "100%|██████████| 4422102/4422102 [00:00<00:00, 4902631.42it/s]\n"
          ]
        },
        {
          "name": "stdout",
          "output_type": "stream",
          "text": [
            "Extracting ./data/FashionMNIST/raw/t10k-images-idx3-ubyte.gz to ./data/FashionMNIST/raw\n",
            "\n",
            "Downloading http://fashion-mnist.s3-website.eu-central-1.amazonaws.com/t10k-labels-idx1-ubyte.gz\n",
            "Downloading http://fashion-mnist.s3-website.eu-central-1.amazonaws.com/t10k-labels-idx1-ubyte.gz to ./data/FashionMNIST/raw/t10k-labels-idx1-ubyte.gz\n"
          ]
        },
        {
          "name": "stderr",
          "output_type": "stream",
          "text": [
            "100%|██████████| 5148/5148 [00:00<00:00, 19159074.53it/s]\n"
          ]
        },
        {
          "name": "stdout",
          "output_type": "stream",
          "text": [
            "Extracting ./data/FashionMNIST/raw/t10k-labels-idx1-ubyte.gz to ./data/FashionMNIST/raw\n",
            "\n"
          ]
        }
      ],
      "source": [
        "# Load the FashionMNIST dataset\n",
        "train_dataset = torchvision.datasets.FashionMNIST(root='./data', train=True, download=True, transform=transforms.ToTensor())\n",
        "test_dataset = torchvision.datasets.FashionMNIST(root='./data', train=False, download=True, transform=transforms.ToTensor())\n",
        "\n",
        "viz_train_x = train_dataset.data\n",
        "viz_train_y = train_dataset.targets"
      ]
    },
    {
      "cell_type": "markdown",
      "metadata": {
        "id": "e_ABsF-zhGq2"
      },
      "source": [
        "### Data preparation"
      ]
    },
    {
      "cell_type": "code",
      "execution_count": 3,
      "metadata": {
        "id": "B1fQ6dc8hHUo"
      },
      "outputs": [],
      "source": [
        "# Reshape and normalizing the dataset\n",
        "train_x = train_dataset.data.view(train_dataset.data.shape[0], -1).float() / 255.0\n",
        "test_x = test_dataset.data.view(test_dataset.data.shape[0], -1).float() / 255.0\n",
        "\n",
        "train_y = train_dataset.targets\n",
        "test_y = test_dataset.targets"
      ]
    },
    {
      "cell_type": "markdown",
      "metadata": {
        "id": "UAc_IgEsN5Xi"
      },
      "source": [
        "### Functions and constants"
      ]
    },
    {
      "cell_type": "code",
      "execution_count": 4,
      "metadata": {
        "id": "wiZBsGSUZMHG"
      },
      "outputs": [],
      "source": [
        "CLASS_NAMES = ['T-shirt/top', 'Trouser', 'Pullover', 'Dress', 'Coat', 'Sandal', 'Shirt', 'Sneaker', 'Bag', 'Ankle boot']\n",
        "MODELS_LISTS = []\n",
        "ACCURACIES = []\n",
        "EXECUTION_TIMES = []\n",
        "MOST_DIFFICULT_CLASS = []\n",
        "TPR_MIN = []\n",
        "\n",
        "DEVICE = torch.device(\"cuda\" if torch.cuda.is_available() else \"cpu\")\n",
        "\n",
        "# Function to return the execution time of a model\n",
        "def get_execution_time(model):\n",
        "    start_time = time.time()\n",
        "    model.fit(train_x, train_y)\n",
        "    end_time = time.time()\n",
        "    return end_time - start_time\n",
        "\n",
        "# Function to evaluate a base model and return the accuracy, confusion matrix, classification report and execution time\n",
        "def evaluate_base_model(name, model, exec_time):\n",
        "    y_pred = model.predict(test_x)\n",
        "    accuracy = accuracy_score(test_y, y_pred)\n",
        "    print(f\"Accuracy of {name}: {accuracy:.4f}\\n\")\n",
        "\n",
        "    print(f'Execution time: {exec_time} \\n')\n",
        "\n",
        "    conf_matrix_result = confusion_matrix(test_y, y_pred)\n",
        "    print('Classification Report')\n",
        "    print(classification_report(test_y, y_pred))\n",
        "\n",
        "    print('\\nConfusion Matrix')\n",
        "    print(conf_matrix_result)\n",
        "    print(f'Execution time {exec_time} seconds\\n')\n",
        "\n",
        "    TPR = conf_matrix_result.diagonal() / conf_matrix_result.sum(axis=1)\n",
        "    print('True Positive Rate:')\n",
        "    print(f'TPR: {TPR} \\n')\n",
        "\n",
        "    print(f'Most dificult class {TPR.argmin()}')\n",
        "    MODELS_LISTS.append(name)\n",
        "    ACCURACIES.append(accuracy)\n",
        "    EXECUTION_TIMES.append(exec_time)\n",
        "    MOST_DIFFICULT_CLASS.append(TPR.argmin())\n",
        "    TPR_MIN.append(TPR.min())\n",
        "\n",
        "    return accuracy, conf_matrix_result, classification_report, exec_time, TPR_MIN\n",
        "\n",
        "def train_neural_network(model_name, model, train_loader, epochs, DEVICE='cuda'):\n",
        "    # Define the loss function and optimizer and metrics\n",
        "    loss_fn = torch.nn.CrossEntropyLoss()\n",
        "    optimizer = torch.optim.Adam(model.parameters(), lr=0.001, weight_decay=0.0001)\n",
        "    metrics = ['accuracy']\n",
        "    num_epochs = epochs\n",
        "\n",
        "    start_time = time.time()\n",
        "\n",
        "    for epoch in range(num_epochs):\n",
        "        for inputs, labels in train_loader:\n",
        "            optimizer.zero_grad()  # Zero the gradients\n",
        "            inputs, labels = inputs.to(DEVICE), labels.to(DEVICE)  # Move data to GPU\n",
        "            outputs = model(inputs)  # Forward pass\n",
        "            loss = loss_fn(outputs, labels)  # Calculate the loss\n",
        "            loss.backward()  # Backward pass\n",
        "            optimizer.step()  # Update the weights\n",
        "\n",
        "        print(f'Epoch {epoch+1}/{num_epochs}, Loss: {loss.item()}')\n",
        "\n",
        "    end_time = time.time()\n",
        "    exec_time = end_time - start_time\n",
        "\n",
        "    return exec_time\n",
        "\n",
        "def evaluate_model(model_name, model, test_data_tensor, test_labels_tensor, exec_time):\n",
        "    model.eval()  # Set the model to evaluation mode\n",
        "    with torch.no_grad():\n",
        "        outputs = model(test_data_tensor)\n",
        "        _, predicted = torch.max(outputs.data, 1)\n",
        "        total = test_labels_tensor.size(0)\n",
        "        correct = (predicted == test_labels_tensor).sum().item()\n",
        "        accuracy = correct / total\n",
        "\n",
        "       # Print the classification report and confusion matrix\n",
        "        print('Classification Report')\n",
        "        class_report = classification_report(test_labels_tensor.cpu(), predicted.cpu())\n",
        "        print(class_report)\n",
        "\n",
        "        print('\\nConfusion Matrix')\n",
        "        conf_matrix = confusion_matrix(test_labels_tensor.cpu(), predicted.cpu())\n",
        "        print(conf_matrix)\n",
        "\n",
        "        # Print true positive rate for each class\n",
        "        TPR = conf_matrix.diagonal() / conf_matrix.sum(axis=1)\n",
        "        print('\\nTrue Positive Rate')\n",
        "        print(f'TPR: {TPR}')\n",
        "\n",
        "        # Print the most difficult class with the class number and name\n",
        "        most_difficult_class = TPR.argmin()\n",
        "        print(f'\\nThe most difficult class is {most_difficult_class} - {CLASS_NAMES[most_difficult_class]}')\n",
        "\n",
        "        print(f'\\nExecution time: {exec_time} seconds')\n",
        "\n",
        "        # Append results to lists\n",
        "        MODELS_LISTS.append(model_name)\n",
        "        ACCURACIES.append(accuracy)\n",
        "        EXECUTION_TIMES.append(exec_time)\n",
        "        MOST_DIFFICULT_CLASS.append(most_difficult_class)\n",
        "        TPR_MIN.append(TPR.min())\n",
        "\n",
        "    return accuracy, conf_matrix, class_report, exec_time, TPR_MIN"
      ]
    },
    {
      "cell_type": "markdown",
      "metadata": {
        "id": "5PfAFuCcN5Xm"
      },
      "source": [
        "## Exploratory Data Analysis (EDA)\n",
        "\n"
      ]
    },
    {
      "cell_type": "code",
      "execution_count": 5,
      "metadata": {
        "colab": {
          "base_uri": "https://localhost:8080/",
          "height": 452
        },
        "id": "7p1WogeoRp6c",
        "outputId": "52476b08-6a17-4d85-9ee7-afbe54f6fcf6"
      },
      "outputs": [
        {
          "data": {
            "image/png": "[encoded data removed]",
            "text/plain": [
              "<Figure size 640x480 with 2 Axes>"
            ]
          },
          "metadata": {},
          "output_type": "display_data"
        }
      ],
      "source": [
        "plt.figure()\n",
        "plt.imshow(viz_train_x[6], cmap=plt.cm.binary)\n",
        "plt.title(CLASS_NAMES[viz_train_y[6]])\n",
        "plt.colorbar()\n",
        "plt.grid(False)\n",
        "plt.show()"
      ]
    },
    {
      "cell_type": "code",
      "execution_count": 6,
      "metadata": {
        "colab": {
          "base_uri": "https://localhost:8080/",
          "height": 348
        },
        "id": "sBEFpWZeN5Xp",
        "outputId": "e97c03ee-5c4f-484f-c727-3234e3625594"
      },
      "outputs": [
        {
          "data": {
            "image/png": "[encoded data removed]",
            "text/plain": [
              "<Figure size 1000x1000 with 10 Axes>"
            ]
          },
          "metadata": {},
          "output_type": "display_data"
        }
      ],
      "source": [
        "plt.figure(figsize=(10,10))\n",
        "for i in range(10):\n",
        "    plt.subplot(5,5,i+1)\n",
        "    plt.xticks([])\n",
        "    plt.yticks([])\n",
        "    plt.grid(False)\n",
        "    plt.imshow(viz_train_x[i], cmap=plt.cm.binary)\n",
        "    plt.xlabel(CLASS_NAMES[viz_train_y[i]])\n",
        "plt.show()"
      ]
    },
    {
      "cell_type": "code",
      "execution_count": 7,
      "metadata": {
        "colab": {
          "base_uri": "https://localhost:8080/",
          "height": 669
        },
        "id": "EKFlrbV7N5Xr",
        "outputId": "6b5abe09-0dda-4cd8-daff-e6edd3e115af"
      },
      "outputs": [
        {
          "name": "stdout",
          "output_type": "stream",
          "text": [
            "Distribuição de frequência das classes do conjunto de treinamento: \n",
            " {0: 6000, 1: 6000, 2: 6000, 3: 6000, 4: 6000, 5: 6000, 6: 6000, 7: 6000, 8: 6000, 9: 6000} \n",
            "\n"
          ]
        },
        {
          "data": {
            "text/html": [
              "<html>\n",
              "<head><meta charset=\"utf-8\" /></head>\n",
              "<body>\n",
              "    <div>            <script src=\"https://cdnjs.cloudflare.com/ajax/libs/mathjax/2.7.5/MathJax.js?config=TeX-AMS-MML_SVG\"></script><script type=\"text/javascript\">if (window.MathJax && window.MathJax.Hub && window.MathJax.Hub.Config) {window.MathJax.Hub.Config({SVG: {font: \"STIX-Web\"}});}</script>                <script type=\"text/javascript\">window.PlotlyConfig = {MathJaxConfig: 'local'};</script>\n",
              "        <script charset=\"utf-8\" src=\"https://cdn.plot.ly/plotly-2.24.1.min.js\"></script>                <div id=\"d24868a3-2d9a-48ee-b0f1-947aa15216a9\" class=\"plotly-graph-div\" style=\"height:600px; width:1000px;\"></div>            <script type=\"text/javascript\">                                    window.PLOTLYENV=window.PLOTLYENV || {};                                    if (document.getElementById(\"d24868a3-2d9a-48ee-b0f1-947aa15216a9\")) {                    Plotly.newPlot(                        \"d24868a3-2d9a-48ee-b0f1-947aa15216a9\",                        [{\"alignmentgroup\":\"True\",\"hovertemplate\":\"Class=%{x}\\u003cbr\\u003eFrequency=%{text}\\u003cextra\\u003e\\u003c\\u002fextra\\u003e\",\"legendgroup\":\"\",\"marker\":{\"color\":\"#636efa\",\"pattern\":{\"shape\":\"\"}},\"name\":\"\",\"offsetgroup\":\"\",\"orientation\":\"v\",\"showlegend\":false,\"text\":[6000.0,6000.0,6000.0,6000.0,6000.0,6000.0,6000.0,6000.0,6000.0,6000.0],\"textposition\":\"auto\",\"x\":[0,1,2,3,4,5,6,7,8,9],\"xaxis\":\"x\",\"y\":[6000,6000,6000,6000,6000,6000,6000,6000,6000,6000],\"yaxis\":\"y\",\"type\":\"bar\"}],                        {\"template\":{\"data\":{\"histogram2dcontour\":[{\"type\":\"histogram2dcontour\",\"colorbar\":{\"outlinewidth\":0,\"ticks\":\"\"},\"colorscale\":[[0.0,\"#0d0887\"],[0.1111111111111111,\"#46039f\"],[0.2222222222222222,\"#7201a8\"],[0.3333333333333333,\"#9c179e\"],[0.4444444444444444,\"#bd3786\"],[0.5555555555555556,\"#d8576b\"],[0.6666666666666666,\"#ed7953\"],[0.7777777777777778,\"#fb9f3a\"],[0.8888888888888888,\"#fdca26\"],[1.0,\"#f0f921\"]]}],\"choropleth\":[{\"type\":\"choropleth\",\"colorbar\":{\"outlinewidth\":0,\"ticks\":\"\"}}],\"histogram2d\":[{\"type\":\"histogram2d\",\"colorbar\":{\"outlinewidth\":0,\"ticks\":\"\"},\"colorscale\":[[0.0,\"#0d0887\"],[0.1111111111111111,\"#46039f\"],[0.2222222222222222,\"#7201a8\"],[0.3333333333333333,\"#9c179e\"],[0.4444444444444444,\"#bd3786\"],[0.5555555555555556,\"#d8576b\"],[0.6666666666666666,\"#ed7953\"],[0.7777777777777778,\"#fb9f3a\"],[0.8888888888888888,\"#fdca26\"],[1.0,\"#f0f921\"]]}],\"heatmap\":[{\"type\":\"heatmap\",\"colorbar\":{\"outlinewidth\":0,\"ticks\":\"\"},\"colorscale\":[[0.0,\"#0d0887\"],[0.1111111111111111,\"#46039f\"],[0.2222222222222222,\"#7201a8\"],[0.3333333333333333,\"#9c179e\"],[0.4444444444444444,\"#bd3786\"],[0.5555555555555556,\"#d8576b\"],[0.6666666666666666,\"#ed7953\"],[0.7777777777777778,\"#fb9f3a\"],[0.8888888888888888,\"#fdca26\"],[1.0,\"#f0f921\"]]}],\"heatmapgl\":[{\"type\":\"heatmapgl\",\"colorbar\":{\"outlinewidth\":0,\"ticks\":\"\"},\"colorscale\":[[0.0,\"#0d0887\"],[0.1111111111111111,\"#46039f\"],[0.2222222222222222,\"#7201a8\"],[0.3333333333333333,\"#9c179e\"],[0.4444444444444444,\"#bd3786\"],[0.5555555555555556,\"#d8576b\"],[0.6666666666666666,\"#ed7953\"],[0.7777777777777778,\"#fb9f3a\"],[0.8888888888888888,\"#fdca26\"],[1.0,\"#f0f921\"]]}],\"contourcarpet\":[{\"type\":\"contourcarpet\",\"colorbar\":{\"outlinewidth\":0,\"ticks\":\"\"}}],\"contour\":[{\"type\":\"contour\",\"colorbar\":{\"outlinewidth\":0,\"ticks\":\"\"},\"colorscale\":[[0.0,\"#0d0887\"],[0.1111111111111111,\"#46039f\"],[0.2222222222222222,\"#7201a8\"],[0.3333333333333333,\"#9c179e\"],[0.4444444444444444,\"#bd3786\"],[0.5555555555555556,\"#d8576b\"],[0.6666666666666666,\"#ed7953\"],[0.7777777777777778,\"#fb9f3a\"],[0.8888888888888888,\"#fdca26\"],[1.0,\"#f0f921\"]]}],\"surface\":[{\"type\":\"surface\",\"colorbar\":{\"outlinewidth\":0,\"ticks\":\"\"},\"colorscale\":[[0.0,\"#0d0887\"],[0.1111111111111111,\"#46039f\"],[0.2222222222222222,\"#7201a8\"],[0.3333333333333333,\"#9c179e\"],[0.4444444444444444,\"#bd3786\"],[0.5555555555555556,\"#d8576b\"],[0.6666666666666666,\"#ed7953\"],[0.7777777777777778,\"#fb9f3a\"],[0.8888888888888888,\"#fdca26\"],[1.0,\"#f0f921\"]]}],\"mesh3d\":[{\"type\":\"mesh3d\",\"colorbar\":{\"outlinewidth\":0,\"ticks\":\"\"}}],\"scatter\":[{\"fillpattern\":{\"fillmode\":\"overlay\",\"size\":10,\"solidity\":0.2},\"type\":\"scatter\"}],\"parcoords\":[{\"type\":\"parcoords\",\"line\":{\"colorbar\":{\"outlinewidth\":0,\"ticks\":\"\"}}}],\"scatterpolargl\":[{\"type\":\"scatterpolargl\",\"marker\":{\"colorbar\":{\"outlinewidth\":0,\"ticks\":\"\"}}}],\"bar\":[{\"error_x\":{\"color\":\"#2a3f5f\"},\"error_y\":{\"color\":\"#2a3f5f\"},\"marker\":{\"line\":{\"color\":\"#E5ECF6\",\"width\":0.5},\"pattern\":{\"fillmode\":\"overlay\",\"size\":10,\"solidity\":0.2}},\"type\":\"bar\"}],\"scattergeo\":[{\"type\":\"scattergeo\",\"marker\":{\"colorbar\":{\"outlinewidth\":0,\"ticks\":\"\"}}}],\"scatterpolar\":[{\"type\":\"scatterpolar\",\"marker\":{\"colorbar\":{\"outlinewidth\":0,\"ticks\":\"\"}}}],\"histogram\":[{\"marker\":{\"pattern\":{\"fillmode\":\"overlay\",\"size\":10,\"solidity\":0.2}},\"type\":\"histogram\"}],\"scattergl\":[{\"type\":\"scattergl\",\"marker\":{\"colorbar\":{\"outlinewidth\":0,\"ticks\":\"\"}}}],\"scatter3d\":[{\"type\":\"scatter3d\",\"line\":{\"colorbar\":{\"outlinewidth\":0,\"ticks\":\"\"}},\"marker\":{\"colorbar\":{\"outlinewidth\":0,\"ticks\":\"\"}}}],\"scattermapbox\":[{\"type\":\"scattermapbox\",\"marker\":{\"colorbar\":{\"outlinewidth\":0,\"ticks\":\"\"}}}],\"scatterternary\":[{\"type\":\"scatterternary\",\"marker\":{\"colorbar\":{\"outlinewidth\":0,\"ticks\":\"\"}}}],\"scattercarpet\":[{\"type\":\"scattercarpet\",\"marker\":{\"colorbar\":{\"outlinewidth\":0,\"ticks\":\"\"}}}],\"carpet\":[{\"aaxis\":{\"endlinecolor\":\"#2a3f5f\",\"gridcolor\":\"white\",\"linecolor\":\"white\",\"minorgridcolor\":\"white\",\"startlinecolor\":\"#2a3f5f\"},\"baxis\":{\"endlinecolor\":\"#2a3f5f\",\"gridcolor\":\"white\",\"linecolor\":\"white\",\"minorgridcolor\":\"white\",\"startlinecolor\":\"#2a3f5f\"},\"type\":\"carpet\"}],\"table\":[{\"cells\":{\"fill\":{\"color\":\"#EBF0F8\"},\"line\":{\"color\":\"white\"}},\"header\":{\"fill\":{\"color\":\"#C8D4E3\"},\"line\":{\"color\":\"white\"}},\"type\":\"table\"}],\"barpolar\":[{\"marker\":{\"line\":{\"color\":\"#E5ECF6\",\"width\":0.5},\"pattern\":{\"fillmode\":\"overlay\",\"size\":10,\"solidity\":0.2}},\"type\":\"barpolar\"}],\"pie\":[{\"automargin\":true,\"type\":\"pie\"}]},\"layout\":{\"autotypenumbers\":\"strict\",\"colorway\":[\"#636efa\",\"#EF553B\",\"#00cc96\",\"#ab63fa\",\"#FFA15A\",\"#19d3f3\",\"#FF6692\",\"#B6E880\",\"#FF97FF\",\"#FECB52\"],\"font\":{\"color\":\"#2a3f5f\"},\"hovermode\":\"closest\",\"hoverlabel\":{\"align\":\"left\"},\"paper_bgcolor\":\"white\",\"plot_bgcolor\":\"#E5ECF6\",\"polar\":{\"bgcolor\":\"#E5ECF6\",\"angularaxis\":{\"gridcolor\":\"white\",\"linecolor\":\"white\",\"ticks\":\"\"},\"radialaxis\":{\"gridcolor\":\"white\",\"linecolor\":\"white\",\"ticks\":\"\"}},\"ternary\":{\"bgcolor\":\"#E5ECF6\",\"aaxis\":{\"gridcolor\":\"white\",\"linecolor\":\"white\",\"ticks\":\"\"},\"baxis\":{\"gridcolor\":\"white\",\"linecolor\":\"white\",\"ticks\":\"\"},\"caxis\":{\"gridcolor\":\"white\",\"linecolor\":\"white\",\"ticks\":\"\"}},\"coloraxis\":{\"colorbar\":{\"outlinewidth\":0,\"ticks\":\"\"}},\"colorscale\":{\"sequential\":[[0.0,\"#0d0887\"],[0.1111111111111111,\"#46039f\"],[0.2222222222222222,\"#7201a8\"],[0.3333333333333333,\"#9c179e\"],[0.4444444444444444,\"#bd3786\"],[0.5555555555555556,\"#d8576b\"],[0.6666666666666666,\"#ed7953\"],[0.7777777777777778,\"#fb9f3a\"],[0.8888888888888888,\"#fdca26\"],[1.0,\"#f0f921\"]],\"sequentialminus\":[[0.0,\"#0d0887\"],[0.1111111111111111,\"#46039f\"],[0.2222222222222222,\"#7201a8\"],[0.3333333333333333,\"#9c179e\"],[0.4444444444444444,\"#bd3786\"],[0.5555555555555556,\"#d8576b\"],[0.6666666666666666,\"#ed7953\"],[0.7777777777777778,\"#fb9f3a\"],[0.8888888888888888,\"#fdca26\"],[1.0,\"#f0f921\"]],\"diverging\":[[0,\"#8e0152\"],[0.1,\"#c51b7d\"],[0.2,\"#de77ae\"],[0.3,\"#f1b6da\"],[0.4,\"#fde0ef\"],[0.5,\"#f7f7f7\"],[0.6,\"#e6f5d0\"],[0.7,\"#b8e186\"],[0.8,\"#7fbc41\"],[0.9,\"#4d9221\"],[1,\"#276419\"]]},\"xaxis\":{\"gridcolor\":\"white\",\"linecolor\":\"white\",\"ticks\":\"\",\"title\":{\"standoff\":15},\"zerolinecolor\":\"white\",\"automargin\":true,\"zerolinewidth\":2},\"yaxis\":{\"gridcolor\":\"white\",\"linecolor\":\"white\",\"ticks\":\"\",\"title\":{\"standoff\":15},\"zerolinecolor\":\"white\",\"automargin\":true,\"zerolinewidth\":2},\"scene\":{\"xaxis\":{\"backgroundcolor\":\"#E5ECF6\",\"gridcolor\":\"white\",\"linecolor\":\"white\",\"showbackground\":true,\"ticks\":\"\",\"zerolinecolor\":\"white\",\"gridwidth\":2},\"yaxis\":{\"backgroundcolor\":\"#E5ECF6\",\"gridcolor\":\"white\",\"linecolor\":\"white\",\"showbackground\":true,\"ticks\":\"\",\"zerolinecolor\":\"white\",\"gridwidth\":2},\"zaxis\":{\"backgroundcolor\":\"#E5ECF6\",\"gridcolor\":\"white\",\"linecolor\":\"white\",\"showbackground\":true,\"ticks\":\"\",\"zerolinecolor\":\"white\",\"gridwidth\":2}},\"shapedefaults\":{\"line\":{\"color\":\"#2a3f5f\"}},\"annotationdefaults\":{\"arrowcolor\":\"#2a3f5f\",\"arrowhead\":0,\"arrowwidth\":1},\"geo\":{\"bgcolor\":\"white\",\"landcolor\":\"#E5ECF6\",\"subunitcolor\":\"white\",\"showland\":true,\"showlakes\":true,\"lakecolor\":\"white\"},\"title\":{\"x\":0.05},\"mapbox\":{\"style\":\"light\"}}},\"xaxis\":{\"anchor\":\"y\",\"domain\":[0.0,1.0],\"title\":{\"text\":\"Class\"}},\"yaxis\":{\"anchor\":\"x\",\"domain\":[0.0,1.0],\"title\":{\"text\":\"Frequency\"}},\"legend\":{\"tracegroupgap\":0},\"title\":{\"text\":\"Distribution of Labels in Training Dataset\"},\"barmode\":\"relative\",\"height\":600,\"width\":1000},                        {\"responsive\": true}                    ).then(function(){\n",
              "                            \n",
              "var gd = document.getElementById('d24868a3-2d9a-48ee-b0f1-947aa15216a9');\n",
              "var x = new MutationObserver(function (mutations, observer) {{\n",
              "        var display = window.getComputedStyle(gd).display;\n",
              "        if (!display || display === 'none') {{\n",
              "            console.log([gd, 'removed!']);\n",
              "            Plotly.purge(gd);\n",
              "            observer.disconnect();\n",
              "        }}\n",
              "}});\n",
              "\n",
              "// Listen for the removal of the full notebook cells\n",
              "var notebookContainer = gd.closest('#notebook-container');\n",
              "if (notebookContainer) {{\n",
              "    x.observe(notebookContainer, {childList: true});\n",
              "}}\n",
              "\n",
              "// Listen for the clearing of the current output cell\n",
              "var outputEl = gd.closest('.output');\n",
              "if (outputEl) {{\n",
              "    x.observe(outputEl, {childList: true});\n",
              "}}\n",
              "\n",
              "                        })                };                            </script>        </div>\n",
              "</body>\n",
              "</html>"
            ]
          },
          "metadata": {},
          "output_type": "display_data"
        }
      ],
      "source": [
        "# Distribution of the labels in the traing dataset with numbers in each class\n",
        "unique, counts = np.unique(train_y, return_counts=True)\n",
        "print(\"Distribuição de frequência das classes do conjunto de treinamento: \\n\", dict(zip(unique, counts)), \"\\n\")\n",
        "\n",
        "# Create a DataFrame for plotting\n",
        "data = {'Class': unique, 'Count': counts}\n",
        "df = pd.DataFrame(data)\n",
        "\n",
        "fig = px.bar(df, x='Class', y='Count', text='Count',\n",
        "             labels={'Count': 'Frequency', 'Class': 'Class'},\n",
        "             title='Distribution of Labels in Training Dataset',\n",
        "             width=1000, height=600)\n",
        "\n",
        "fig.show()"
      ]
    },
    {
      "cell_type": "code",
      "execution_count": 8,
      "metadata": {
        "colab": {
          "base_uri": "https://localhost:8080/",
          "height": 669
        },
        "id": "AHAbA_blN5Xt",
        "outputId": "731316be-a174-46b7-a346-02938d40d197"
      },
      "outputs": [
        {
          "name": "stdout",
          "output_type": "stream",
          "text": [
            "Distribuição de frequência das classes do conjunto de teste: \n",
            " {0: 1000, 1: 1000, 2: 1000, 3: 1000, 4: 1000, 5: 1000, 6: 1000, 7: 1000, 8: 1000, 9: 1000} \n",
            "\n"
          ]
        },
        {
          "data": {
            "text/html": [
              "<html>\n",
              "<head><meta charset=\"utf-8\" /></head>\n",
              "<body>\n",
              "    <div>            <script src=\"https://cdnjs.cloudflare.com/ajax/libs/mathjax/2.7.5/MathJax.js?config=TeX-AMS-MML_SVG\"></script><script type=\"text/javascript\">if (window.MathJax && window.MathJax.Hub && window.MathJax.Hub.Config) {window.MathJax.Hub.Config({SVG: {font: \"STIX-Web\"}});}</script>                <script type=\"text/javascript\">window.PlotlyConfig = {MathJaxConfig: 'local'};</script>\n",
              "        <script charset=\"utf-8\" src=\"https://cdn.plot.ly/plotly-2.24.1.min.js\"></script>                <div id=\"770ab010-615e-4838-9f67-e3feb1a9da66\" class=\"plotly-graph-div\" style=\"height:600px; width:1000px;\"></div>            <script type=\"text/javascript\">                                    window.PLOTLYENV=window.PLOTLYENV || {};                                    if (document.getElementById(\"770ab010-615e-4838-9f67-e3feb1a9da66\")) {                    Plotly.newPlot(                        \"770ab010-615e-4838-9f67-e3feb1a9da66\",                        [{\"alignmentgroup\":\"True\",\"hovertemplate\":\"Class=%{x}\\u003cbr\\u003eFrequency=%{text}\\u003cextra\\u003e\\u003c\\u002fextra\\u003e\",\"legendgroup\":\"\",\"marker\":{\"color\":\"#636efa\",\"pattern\":{\"shape\":\"\"}},\"name\":\"\",\"offsetgroup\":\"\",\"orientation\":\"v\",\"showlegend\":false,\"text\":[1000.0,1000.0,1000.0,1000.0,1000.0,1000.0,1000.0,1000.0,1000.0,1000.0],\"textposition\":\"auto\",\"x\":[0,1,2,3,4,5,6,7,8,9],\"xaxis\":\"x\",\"y\":[1000,1000,1000,1000,1000,1000,1000,1000,1000,1000],\"yaxis\":\"y\",\"type\":\"bar\"}],                        {\"template\":{\"data\":{\"histogram2dcontour\":[{\"type\":\"histogram2dcontour\",\"colorbar\":{\"outlinewidth\":0,\"ticks\":\"\"},\"colorscale\":[[0.0,\"#0d0887\"],[0.1111111111111111,\"#46039f\"],[0.2222222222222222,\"#7201a8\"],[0.3333333333333333,\"#9c179e\"],[0.4444444444444444,\"#bd3786\"],[0.5555555555555556,\"#d8576b\"],[0.6666666666666666,\"#ed7953\"],[0.7777777777777778,\"#fb9f3a\"],[0.8888888888888888,\"#fdca26\"],[1.0,\"#f0f921\"]]}],\"choropleth\":[{\"type\":\"choropleth\",\"colorbar\":{\"outlinewidth\":0,\"ticks\":\"\"}}],\"histogram2d\":[{\"type\":\"histogram2d\",\"colorbar\":{\"outlinewidth\":0,\"ticks\":\"\"},\"colorscale\":[[0.0,\"#0d0887\"],[0.1111111111111111,\"#46039f\"],[0.2222222222222222,\"#7201a8\"],[0.3333333333333333,\"#9c179e\"],[0.4444444444444444,\"#bd3786\"],[0.5555555555555556,\"#d8576b\"],[0.6666666666666666,\"#ed7953\"],[0.7777777777777778,\"#fb9f3a\"],[0.8888888888888888,\"#fdca26\"],[1.0,\"#f0f921\"]]}],\"heatmap\":[{\"type\":\"heatmap\",\"colorbar\":{\"outlinewidth\":0,\"ticks\":\"\"},\"colorscale\":[[0.0,\"#0d0887\"],[0.1111111111111111,\"#46039f\"],[0.2222222222222222,\"#7201a8\"],[0.3333333333333333,\"#9c179e\"],[0.4444444444444444,\"#bd3786\"],[0.5555555555555556,\"#d8576b\"],[0.6666666666666666,\"#ed7953\"],[0.7777777777777778,\"#fb9f3a\"],[0.8888888888888888,\"#fdca26\"],[1.0,\"#f0f921\"]]}],\"heatmapgl\":[{\"type\":\"heatmapgl\",\"colorbar\":{\"outlinewidth\":0,\"ticks\":\"\"},\"colorscale\":[[0.0,\"#0d0887\"],[0.1111111111111111,\"#46039f\"],[0.2222222222222222,\"#7201a8\"],[0.3333333333333333,\"#9c179e\"],[0.4444444444444444,\"#bd3786\"],[0.5555555555555556,\"#d8576b\"],[0.6666666666666666,\"#ed7953\"],[0.7777777777777778,\"#fb9f3a\"],[0.8888888888888888,\"#fdca26\"],[1.0,\"#f0f921\"]]}],\"contourcarpet\":[{\"type\":\"contourcarpet\",\"colorbar\":{\"outlinewidth\":0,\"ticks\":\"\"}}],\"contour\":[{\"type\":\"contour\",\"colorbar\":{\"outlinewidth\":0,\"ticks\":\"\"},\"colorscale\":[[0.0,\"#0d0887\"],[0.1111111111111111,\"#46039f\"],[0.2222222222222222,\"#7201a8\"],[0.3333333333333333,\"#9c179e\"],[0.4444444444444444,\"#bd3786\"],[0.5555555555555556,\"#d8576b\"],[0.6666666666666666,\"#ed7953\"],[0.7777777777777778,\"#fb9f3a\"],[0.8888888888888888,\"#fdca26\"],[1.0,\"#f0f921\"]]}],\"surface\":[{\"type\":\"surface\",\"colorbar\":{\"outlinewidth\":0,\"ticks\":\"\"},\"colorscale\":[[0.0,\"#0d0887\"],[0.1111111111111111,\"#46039f\"],[0.2222222222222222,\"#7201a8\"],[0.3333333333333333,\"#9c179e\"],[0.4444444444444444,\"#bd3786\"],[0.5555555555555556,\"#d8576b\"],[0.6666666666666666,\"#ed7953\"],[0.7777777777777778,\"#fb9f3a\"],[0.8888888888888888,\"#fdca26\"],[1.0,\"#f0f921\"]]}],\"mesh3d\":[{\"type\":\"mesh3d\",\"colorbar\":{\"outlinewidth\":0,\"ticks\":\"\"}}],\"scatter\":[{\"fillpattern\":{\"fillmode\":\"overlay\",\"size\":10,\"solidity\":0.2},\"type\":\"scatter\"}],\"parcoords\":[{\"type\":\"parcoords\",\"line\":{\"colorbar\":{\"outlinewidth\":0,\"ticks\":\"\"}}}],\"scatterpolargl\":[{\"type\":\"scatterpolargl\",\"marker\":{\"colorbar\":{\"outlinewidth\":0,\"ticks\":\"\"}}}],\"bar\":[{\"error_x\":{\"color\":\"#2a3f5f\"},\"error_y\":{\"color\":\"#2a3f5f\"},\"marker\":{\"line\":{\"color\":\"#E5ECF6\",\"width\":0.5},\"pattern\":{\"fillmode\":\"overlay\",\"size\":10,\"solidity\":0.2}},\"type\":\"bar\"}],\"scattergeo\":[{\"type\":\"scattergeo\",\"marker\":{\"colorbar\":{\"outlinewidth\":0,\"ticks\":\"\"}}}],\"scatterpolar\":[{\"type\":\"scatterpolar\",\"marker\":{\"colorbar\":{\"outlinewidth\":0,\"ticks\":\"\"}}}],\"histogram\":[{\"marker\":{\"pattern\":{\"fillmode\":\"overlay\",\"size\":10,\"solidity\":0.2}},\"type\":\"histogram\"}],\"scattergl\":[{\"type\":\"scattergl\",\"marker\":{\"colorbar\":{\"outlinewidth\":0,\"ticks\":\"\"}}}],\"scatter3d\":[{\"type\":\"scatter3d\",\"line\":{\"colorbar\":{\"outlinewidth\":0,\"ticks\":\"\"}},\"marker\":{\"colorbar\":{\"outlinewidth\":0,\"ticks\":\"\"}}}],\"scattermapbox\":[{\"type\":\"scattermapbox\",\"marker\":{\"colorbar\":{\"outlinewidth\":0,\"ticks\":\"\"}}}],\"scatterternary\":[{\"type\":\"scatterternary\",\"marker\":{\"colorbar\":{\"outlinewidth\":0,\"ticks\":\"\"}}}],\"scattercarpet\":[{\"type\":\"scattercarpet\",\"marker\":{\"colorbar\":{\"outlinewidth\":0,\"ticks\":\"\"}}}],\"carpet\":[{\"aaxis\":{\"endlinecolor\":\"#2a3f5f\",\"gridcolor\":\"white\",\"linecolor\":\"white\",\"minorgridcolor\":\"white\",\"startlinecolor\":\"#2a3f5f\"},\"baxis\":{\"endlinecolor\":\"#2a3f5f\",\"gridcolor\":\"white\",\"linecolor\":\"white\",\"minorgridcolor\":\"white\",\"startlinecolor\":\"#2a3f5f\"},\"type\":\"carpet\"}],\"table\":[{\"cells\":{\"fill\":{\"color\":\"#EBF0F8\"},\"line\":{\"color\":\"white\"}},\"header\":{\"fill\":{\"color\":\"#C8D4E3\"},\"line\":{\"color\":\"white\"}},\"type\":\"table\"}],\"barpolar\":[{\"marker\":{\"line\":{\"color\":\"#E5ECF6\",\"width\":0.5},\"pattern\":{\"fillmode\":\"overlay\",\"size\":10,\"solidity\":0.2}},\"type\":\"barpolar\"}],\"pie\":[{\"automargin\":true,\"type\":\"pie\"}]},\"layout\":{\"autotypenumbers\":\"strict\",\"colorway\":[\"#636efa\",\"#EF553B\",\"#00cc96\",\"#ab63fa\",\"#FFA15A\",\"#19d3f3\",\"#FF6692\",\"#B6E880\",\"#FF97FF\",\"#FECB52\"],\"font\":{\"color\":\"#2a3f5f\"},\"hovermode\":\"closest\",\"hoverlabel\":{\"align\":\"left\"},\"paper_bgcolor\":\"white\",\"plot_bgcolor\":\"#E5ECF6\",\"polar\":{\"bgcolor\":\"#E5ECF6\",\"angularaxis\":{\"gridcolor\":\"white\",\"linecolor\":\"white\",\"ticks\":\"\"},\"radialaxis\":{\"gridcolor\":\"white\",\"linecolor\":\"white\",\"ticks\":\"\"}},\"ternary\":{\"bgcolor\":\"#E5ECF6\",\"aaxis\":{\"gridcolor\":\"white\",\"linecolor\":\"white\",\"ticks\":\"\"},\"baxis\":{\"gridcolor\":\"white\",\"linecolor\":\"white\",\"ticks\":\"\"},\"caxis\":{\"gridcolor\":\"white\",\"linecolor\":\"white\",\"ticks\":\"\"}},\"coloraxis\":{\"colorbar\":{\"outlinewidth\":0,\"ticks\":\"\"}},\"colorscale\":{\"sequential\":[[0.0,\"#0d0887\"],[0.1111111111111111,\"#46039f\"],[0.2222222222222222,\"#7201a8\"],[0.3333333333333333,\"#9c179e\"],[0.4444444444444444,\"#bd3786\"],[0.5555555555555556,\"#d8576b\"],[0.6666666666666666,\"#ed7953\"],[0.7777777777777778,\"#fb9f3a\"],[0.8888888888888888,\"#fdca26\"],[1.0,\"#f0f921\"]],\"sequentialminus\":[[0.0,\"#0d0887\"],[0.1111111111111111,\"#46039f\"],[0.2222222222222222,\"#7201a8\"],[0.3333333333333333,\"#9c179e\"],[0.4444444444444444,\"#bd3786\"],[0.5555555555555556,\"#d8576b\"],[0.6666666666666666,\"#ed7953\"],[0.7777777777777778,\"#fb9f3a\"],[0.8888888888888888,\"#fdca26\"],[1.0,\"#f0f921\"]],\"diverging\":[[0,\"#8e0152\"],[0.1,\"#c51b7d\"],[0.2,\"#de77ae\"],[0.3,\"#f1b6da\"],[0.4,\"#fde0ef\"],[0.5,\"#f7f7f7\"],[0.6,\"#e6f5d0\"],[0.7,\"#b8e186\"],[0.8,\"#7fbc41\"],[0.9,\"#4d9221\"],[1,\"#276419\"]]},\"xaxis\":{\"gridcolor\":\"white\",\"linecolor\":\"white\",\"ticks\":\"\",\"title\":{\"standoff\":15},\"zerolinecolor\":\"white\",\"automargin\":true,\"zerolinewidth\":2},\"yaxis\":{\"gridcolor\":\"white\",\"linecolor\":\"white\",\"ticks\":\"\",\"title\":{\"standoff\":15},\"zerolinecolor\":\"white\",\"automargin\":true,\"zerolinewidth\":2},\"scene\":{\"xaxis\":{\"backgroundcolor\":\"#E5ECF6\",\"gridcolor\":\"white\",\"linecolor\":\"white\",\"showbackground\":true,\"ticks\":\"\",\"zerolinecolor\":\"white\",\"gridwidth\":2},\"yaxis\":{\"backgroundcolor\":\"#E5ECF6\",\"gridcolor\":\"white\",\"linecolor\":\"white\",\"showbackground\":true,\"ticks\":\"\",\"zerolinecolor\":\"white\",\"gridwidth\":2},\"zaxis\":{\"backgroundcolor\":\"#E5ECF6\",\"gridcolor\":\"white\",\"linecolor\":\"white\",\"showbackground\":true,\"ticks\":\"\",\"zerolinecolor\":\"white\",\"gridwidth\":2}},\"shapedefaults\":{\"line\":{\"color\":\"#2a3f5f\"}},\"annotationdefaults\":{\"arrowcolor\":\"#2a3f5f\",\"arrowhead\":0,\"arrowwidth\":1},\"geo\":{\"bgcolor\":\"white\",\"landcolor\":\"#E5ECF6\",\"subunitcolor\":\"white\",\"showland\":true,\"showlakes\":true,\"lakecolor\":\"white\"},\"title\":{\"x\":0.05},\"mapbox\":{\"style\":\"light\"}}},\"xaxis\":{\"anchor\":\"y\",\"domain\":[0.0,1.0],\"title\":{\"text\":\"Class\"}},\"yaxis\":{\"anchor\":\"x\",\"domain\":[0.0,1.0],\"title\":{\"text\":\"Frequency\"}},\"legend\":{\"tracegroupgap\":0},\"title\":{\"text\":\"Distribution of Labels in Training Dataset\"},\"barmode\":\"relative\",\"height\":600,\"width\":1000},                        {\"responsive\": true}                    ).then(function(){\n",
              "                            \n",
              "var gd = document.getElementById('770ab010-615e-4838-9f67-e3feb1a9da66');\n",
              "var x = new MutationObserver(function (mutations, observer) {{\n",
              "        var display = window.getComputedStyle(gd).display;\n",
              "        if (!display || display === 'none') {{\n",
              "            console.log([gd, 'removed!']);\n",
              "            Plotly.purge(gd);\n",
              "            observer.disconnect();\n",
              "        }}\n",
              "}});\n",
              "\n",
              "// Listen for the removal of the full notebook cells\n",
              "var notebookContainer = gd.closest('#notebook-container');\n",
              "if (notebookContainer) {{\n",
              "    x.observe(notebookContainer, {childList: true});\n",
              "}}\n",
              "\n",
              "// Listen for the clearing of the current output cell\n",
              "var outputEl = gd.closest('.output');\n",
              "if (outputEl) {{\n",
              "    x.observe(outputEl, {childList: true});\n",
              "}}\n",
              "\n",
              "                        })                };                            </script>        </div>\n",
              "</body>\n",
              "</html>"
            ]
          },
          "metadata": {},
          "output_type": "display_data"
        }
      ],
      "source": [
        "# Distribution of the labels in the test dataset with numbers in each class\n",
        "unique, counts = np.unique(test_y, return_counts=True)\n",
        "print(\"Distribuição de frequência das classes do conjunto de teste: \\n\", dict(zip(unique, counts)), '\\n')\n",
        "\n",
        "# Create a DataFrame for plotting\n",
        "data = {'Class': unique, 'Count': counts}\n",
        "df = pd.DataFrame(data)\n",
        "\n",
        "fig = px.bar(df, x='Class', y='Count', text='Count',\n",
        "             labels={'Count': 'Frequency', 'Class': 'Class'},\n",
        "             title='Distribution of Labels in Training Dataset',\n",
        "             width=1000, height=600)\n",
        "\n",
        "fig.show()"
      ]
    },
    {
      "cell_type": "markdown",
      "metadata": {
        "id": "rz4Rv_MaCnvO"
      },
      "source": [
        "# Base Models"
      ]
    },
    {
      "cell_type": "markdown",
      "metadata": {
        "id": "zQE-0M1YN5Xv"
      },
      "source": [
        "## Random Forest"
      ]
    },
    {
      "cell_type": "code",
      "execution_count": null,
      "metadata": {
        "colab": {
          "base_uri": "https://localhost:8080/"
        },
        "id": "ULd1TWZtWOJY",
        "outputId": "5cd0d1a3-d5b9-4bd5-ce89-596a2e804af6"
      },
      "outputs": [
        {
          "name": "stdout",
          "output_type": "stream",
          "text": [
            "Accuracy of Random Forest: 0.8773\n",
            "\n",
            "Execution time: 98.29899406433105 \n",
            "\n",
            "Classification Report\n",
            "              precision    recall  f1-score   support\n",
            "\n",
            "           0       0.82      0.87      0.84      1000\n",
            "           1       0.99      0.96      0.98      1000\n",
            "           2       0.77      0.80      0.78      1000\n",
            "           3       0.88      0.91      0.89      1000\n",
            "           4       0.76      0.81      0.79      1000\n",
            "           5       0.98      0.96      0.97      1000\n",
            "           6       0.72      0.59      0.65      1000\n",
            "           7       0.93      0.96      0.94      1000\n",
            "           8       0.95      0.97      0.96      1000\n",
            "           9       0.96      0.95      0.95      1000\n",
            "\n",
            "    accuracy                           0.88     10000\n",
            "   macro avg       0.88      0.88      0.88     10000\n",
            "weighted avg       0.88      0.88      0.88     10000\n",
            "\n",
            "\n",
            "Confusion Matrix\n",
            "[[867   0  13  27   4   1  76   0  12   0]\n",
            " [  3 964   3  20   4   0   5   0   1   0]\n",
            " [ 13   0 798  10 121   0  53   0   5   0]\n",
            " [ 18   2   9 908  28   0  33   0   2   0]\n",
            " [  0   0  94  38 811   0  53   0   4   0]\n",
            " [  0   0   0   1   0 957   0  29   1  12]\n",
            " [158   1 117  30  88   0 587   0  19   0]\n",
            " [  0   0   0   0   0  11   0 958   0  31]\n",
            " [  0   2   4   1   5   2   7   5 974   0]\n",
            " [  0   0   0   0   0   8   0  40   3 949]]\n",
            "Execution time 98.29899406433105 seconds\n",
            "\n",
            "True Positive Rate:\n",
            "TPR: [0.867 0.964 0.798 0.908 0.811 0.957 0.587 0.958 0.974 0.949] \n",
            "\n",
            "Most dificult class 6\n"
          ]
        },
        {
          "data": {
            "text/plain": [
              "(0.8773,\n",
              " array([[867,   0,  13,  27,   4,   1,  76,   0,  12,   0],\n",
              "        [  3, 964,   3,  20,   4,   0,   5,   0,   1,   0],\n",
              "        [ 13,   0, 798,  10, 121,   0,  53,   0,   5,   0],\n",
              "        [ 18,   2,   9, 908,  28,   0,  33,   0,   2,   0],\n",
              "        [  0,   0,  94,  38, 811,   0,  53,   0,   4,   0],\n",
              "        [  0,   0,   0,   1,   0, 957,   0,  29,   1,  12],\n",
              "        [158,   1, 117,  30,  88,   0, 587,   0,  19,   0],\n",
              "        [  0,   0,   0,   0,   0,  11,   0, 958,   0,  31],\n",
              "        [  0,   2,   4,   1,   5,   2,   7,   5, 974,   0],\n",
              "        [  0,   0,   0,   0,   0,   8,   0,  40,   3, 949]]),\n",
              " <function sklearn.metrics._classification.classification_report(y_true, y_pred, *, labels=None, target_names=None, sample_weight=None, digits=2, output_dict=False, zero_division='warn')>,\n",
              " 98.29899406433105,\n",
              " [0.587])"
            ]
          },
          "execution_count": 77,
          "metadata": {},
          "output_type": "execute_result"
        }
      ],
      "source": [
        "rf_classifier = RandomForestClassifier(\n",
        "    n_estimators=100,\n",
        "    criterion = 'entropy',\n",
        "    max_depth=100,\n",
        "    random_state=42)\n",
        "\n",
        "rf_exec_time = get_execution_time(rf_classifier)\n",
        "\n",
        "evaluate_base_model(\n",
        "    'Random Forest',\n",
        "    rf_classifier,\n",
        "    rf_exec_time)\n"
      ]
    },
    {
      "cell_type": "markdown",
      "metadata": {
        "id": "m_0weBXYN5Xv"
      },
      "source": [
        "## Suport Vector Machine"
      ]
    },
    {
      "cell_type": "markdown",
      "metadata": {
        "id": "hsEehVRzNMAw"
      },
      "source": [
        "### Suport Vector Linear Classifier"
      ]
    },
    {
      "cell_type": "code",
      "execution_count": null,
      "metadata": {
        "colab": {
          "base_uri": "https://localhost:8080/"
        },
        "id": "1RjJF1XpoRQl",
        "outputId": "85313538-2654-4a88-ba03-94c0829331b3"
      },
      "outputs": [
        {
          "name": "stdout",
          "output_type": "stream",
          "text": [
            "Accuracy of SVCLinear: 0.8463\n",
            "\n",
            "Execution time: 362.34680938720703 \n",
            "\n",
            "Classification Report\n",
            "              precision    recall  f1-score   support\n",
            "\n",
            "           0       0.75      0.81      0.78      1000\n",
            "           1       0.97      0.96      0.97      1000\n",
            "           2       0.73      0.77      0.75      1000\n",
            "           3       0.85      0.84      0.85      1000\n",
            "           4       0.76      0.77      0.77      1000\n",
            "           5       0.93      0.94      0.93      1000\n",
            "           6       0.63      0.56      0.59      1000\n",
            "           7       0.92      0.93      0.93      1000\n",
            "           8       0.95      0.93      0.94      1000\n",
            "           9       0.95      0.94      0.95      1000\n",
            "\n",
            "    accuracy                           0.85     10000\n",
            "   macro avg       0.85      0.85      0.85     10000\n",
            "weighted avg       0.85      0.85      0.85     10000\n",
            "\n",
            "\n",
            "Confusion Matrix\n",
            "[[815   2  13  45   4   1 108   0  12   0]\n",
            " [  6 962   2  22   3   0   4   0   1   0]\n",
            " [ 22   6 769   8 109   0  79   0   7   0]\n",
            " [ 54  15  19 842  27   0  40   0   3   0]\n",
            " [  1   2 114  33 773   0  72   0   5   0]\n",
            " [  1   0   0   1   0 936   0  38   3  21]\n",
            " [174   2 122  30  93   0 562   0  17   0]\n",
            " [  0   0   0   0   0  38   0 934   1  27]\n",
            " [ 12   1   8   8   2  15  25   4 925   0]\n",
            " [  0   0   0   0   0  15   1  39   0 945]]\n",
            "Execution time 362.34680938720703 seconds\n",
            "\n",
            "True Positive Rate:\n",
            "TPR: [0.815 0.962 0.769 0.842 0.773 0.936 0.562 0.934 0.925 0.945] \n",
            "\n",
            "Most dificult class 6\n"
          ]
        },
        {
          "data": {
            "text/plain": [
              "(0.8463,\n",
              " array([[815,   2,  13,  45,   4,   1, 108,   0,  12,   0],\n",
              "        [  6, 962,   2,  22,   3,   0,   4,   0,   1,   0],\n",
              "        [ 22,   6, 769,   8, 109,   0,  79,   0,   7,   0],\n",
              "        [ 54,  15,  19, 842,  27,   0,  40,   0,   3,   0],\n",
              "        [  1,   2, 114,  33, 773,   0,  72,   0,   5,   0],\n",
              "        [  1,   0,   0,   1,   0, 936,   0,  38,   3,  21],\n",
              "        [174,   2, 122,  30,  93,   0, 562,   0,  17,   0],\n",
              "        [  0,   0,   0,   0,   0,  38,   0, 934,   1,  27],\n",
              "        [ 12,   1,   8,   8,   2,  15,  25,   4, 925,   0],\n",
              "        [  0,   0,   0,   0,   0,  15,   1,  39,   0, 945]]),\n",
              " <function sklearn.metrics._classification.classification_report(y_true, y_pred, *, labels=None, target_names=None, sample_weight=None, digits=2, output_dict=False, zero_division='warn')>,\n",
              " 362.34680938720703,\n",
              " [0.587, 0.562])"
            ]
          },
          "execution_count": 78,
          "metadata": {},
          "output_type": "execute_result"
        }
      ],
      "source": [
        "svm_classifier = SVC(\n",
        "    kernel='linear',\n",
        "    random_state=42)\n",
        "\n",
        "\n",
        "svm_exec_time = get_execution_time(svm_classifier)\n",
        "\n",
        "evaluate_base_model('SVCLinear',\n",
        "                    svm_classifier,\n",
        "                    svm_exec_time)"
      ]
    },
    {
      "cell_type": "markdown",
      "metadata": {
        "id": "w1L7fKvBNOqN"
      },
      "source": [
        "### Suport Vector Classifier"
      ]
    },
    {
      "cell_type": "code",
      "execution_count": null,
      "metadata": {
        "colab": {
          "base_uri": "https://localhost:8080/"
        },
        "id": "ajUn7yFMWsEX",
        "outputId": "1e3a59ac-2108-4434-dd36-965ca6e531f5"
      },
      "outputs": [
        {
          "name": "stdout",
          "output_type": "stream",
          "text": [
            "Accuracy of SVM: 0.9002\n",
            "\n",
            "Execution time: 258.6090292930603 \n",
            "\n",
            "Classification Report\n",
            "              precision    recall  f1-score   support\n",
            "\n",
            "           0       0.84      0.85      0.85      1000\n",
            "           1       0.99      0.97      0.98      1000\n",
            "           2       0.81      0.84      0.82      1000\n",
            "           3       0.90      0.91      0.91      1000\n",
            "           4       0.83      0.83      0.83      1000\n",
            "           5       0.97      0.97      0.97      1000\n",
            "           6       0.75      0.72      0.73      1000\n",
            "           7       0.95      0.96      0.96      1000\n",
            "           8       0.98      0.98      0.98      1000\n",
            "           9       0.97      0.96      0.97      1000\n",
            "\n",
            "    accuracy                           0.90     10000\n",
            "   macro avg       0.90      0.90      0.90     10000\n",
            "weighted avg       0.90      0.90      0.90     10000\n",
            "\n",
            "\n",
            "Confusion Matrix\n",
            "[[853   0  13  21   6   1 100   0   6   0]\n",
            " [  3 973   2  17   3   0   2   0   0   0]\n",
            " [ 20   3 836   9  74   0  56   0   2   0]\n",
            " [ 24   2  13 910  27   0  19   0   5   0]\n",
            " [  0   1  82  21 835   0  60   0   1   0]\n",
            " [  0   0   0   1   0 974   0  17   1   7]\n",
            " [114   1  82  24  54   0 718   0   7   0]\n",
            " [  0   0   0   0   0  16   0 962   0  22]\n",
            " [  3   0   3   3   3   2   3   3 980   0]\n",
            " [  0   0   0   0   0   8   1  30   0 961]]\n",
            "Execution time 258.6090292930603 seconds\n",
            "\n",
            "True Positive Rate:\n",
            "TPR: [0.853 0.973 0.836 0.91  0.835 0.974 0.718 0.962 0.98  0.961] \n",
            "\n",
            "Most dificult class 6\n"
          ]
        },
        {
          "data": {
            "text/plain": [
              "(0.9002,\n",
              " array([[853,   0,  13,  21,   6,   1, 100,   0,   6,   0],\n",
              "        [  3, 973,   2,  17,   3,   0,   2,   0,   0,   0],\n",
              "        [ 20,   3, 836,   9,  74,   0,  56,   0,   2,   0],\n",
              "        [ 24,   2,  13, 910,  27,   0,  19,   0,   5,   0],\n",
              "        [  0,   1,  82,  21, 835,   0,  60,   0,   1,   0],\n",
              "        [  0,   0,   0,   1,   0, 974,   0,  17,   1,   7],\n",
              "        [114,   1,  82,  24,  54,   0, 718,   0,   7,   0],\n",
              "        [  0,   0,   0,   0,   0,  16,   0, 962,   0,  22],\n",
              "        [  3,   0,   3,   3,   3,   2,   3,   3, 980,   0],\n",
              "        [  0,   0,   0,   0,   0,   8,   1,  30,   0, 961]]),\n",
              " <function sklearn.metrics._classification.classification_report(y_true, y_pred, *, labels=None, target_names=None, sample_weight=None, digits=2, output_dict=False, zero_division='warn')>,\n",
              " 258.6090292930603,\n",
              " [0.587, 0.562, 0.718])"
            ]
          },
          "execution_count": 79,
          "metadata": {},
          "output_type": "execute_result"
        }
      ],
      "source": [
        "svm_classifier = SVC(\n",
        "    kernel='rbf',\n",
        "    C=10,\n",
        "    random_state=42)\n",
        "\n",
        "svm_exec_time = get_execution_time(svm_classifier)\n",
        "\n",
        "evaluate_base_model('SVM',\n",
        "                    svm_classifier,\n",
        "                    svm_exec_time)"
      ]
    },
    {
      "cell_type": "markdown",
      "metadata": {
        "id": "sXjGJYmAN5Xv"
      },
      "source": [
        "## Decision Tree"
      ]
    },
    {
      "cell_type": "code",
      "execution_count": null,
      "metadata": {
        "colab": {
          "base_uri": "https://localhost:8080/"
        },
        "id": "6Pdq1IJ1N5Xw",
        "outputId": "971adf09-00a2-4ef4-fa04-ee08ccf527a5"
      },
      "outputs": [
        {
          "name": "stdout",
          "output_type": "stream",
          "text": [
            "Accuracy of Decision tree: 0.8008\n",
            "\n",
            "Execution time: 21.846704244613647 \n",
            "\n",
            "Classification Report\n",
            "              precision    recall  f1-score   support\n",
            "\n",
            "           0       0.79      0.77      0.78      1000\n",
            "           1       0.97      0.92      0.95      1000\n",
            "           2       0.65      0.67      0.66      1000\n",
            "           3       0.82      0.81      0.82      1000\n",
            "           4       0.60      0.73      0.66      1000\n",
            "           5       0.94      0.86      0.90      1000\n",
            "           6       0.57      0.50      0.53      1000\n",
            "           7       0.86      0.93      0.90      1000\n",
            "           8       0.93      0.90      0.91      1000\n",
            "           9       0.91      0.91      0.91      1000\n",
            "\n",
            "    accuracy                           0.80     10000\n",
            "   macro avg       0.80      0.80      0.80     10000\n",
            "weighted avg       0.80      0.80      0.80     10000\n",
            "\n",
            "\n",
            "Confusion Matrix\n",
            "[[774   3  25  40  12   0 132   1   9   4]\n",
            " [ 13 924   4  40   7   0  10   0   1   1]\n",
            " [ 13   1 665   8 242   0  62   0   8   1]\n",
            " [ 32  10  26 811  62   2  50   0   6   1]\n",
            " [  4   0 124  39 734   0  96   0   3   0]\n",
            " [  2   4   0   1   1 864   0  70  21  37]\n",
            " [135   4 164  38 140   2 499   0  15   3]\n",
            " [  0   0   0   0   0  27   0 928   6  39]\n",
            " [  5   2  17  10  20   7  27   9 901   2]\n",
            " [  1   0   1   0   0  21   1  65   3 908]]\n",
            "Execution time 21.846704244613647 seconds\n",
            "\n",
            "True Positive Rate:\n",
            "TPR: [0.774 0.924 0.665 0.811 0.734 0.864 0.499 0.928 0.901 0.908] \n",
            "\n",
            "Most dificult class 6\n"
          ]
        },
        {
          "data": {
            "text/plain": [
              "(0.8008,\n",
              " array([[774,   3,  25,  40,  12,   0, 132,   1,   9,   4],\n",
              "        [ 13, 924,   4,  40,   7,   0,  10,   0,   1,   1],\n",
              "        [ 13,   1, 665,   8, 242,   0,  62,   0,   8,   1],\n",
              "        [ 32,  10,  26, 811,  62,   2,  50,   0,   6,   1],\n",
              "        [  4,   0, 124,  39, 734,   0,  96,   0,   3,   0],\n",
              "        [  2,   4,   0,   1,   1, 864,   0,  70,  21,  37],\n",
              "        [135,   4, 164,  38, 140,   2, 499,   0,  15,   3],\n",
              "        [  0,   0,   0,   0,   0,  27,   0, 928,   6,  39],\n",
              "        [  5,   2,  17,  10,  20,   7,  27,   9, 901,   2],\n",
              "        [  1,   0,   1,   0,   0,  21,   1,  65,   3, 908]]),\n",
              " <function sklearn.metrics._classification.classification_report(y_true, y_pred, *, labels=None, target_names=None, sample_weight=None, digits=2, output_dict=False, zero_division='warn')>,\n",
              " 21.846704244613647,\n",
              " [0.587, 0.562, 0.718, 0.499])"
            ]
          },
          "execution_count": 80,
          "metadata": {},
          "output_type": "execute_result"
        }
      ],
      "source": [
        "dt_classifier = DecisionTreeClassifier(\n",
        "    random_state=42,\n",
        "     max_depth = 10,\n",
        "    splitter='best',\n",
        "    min_samples_split=2)\n",
        "\n",
        "dt_exec_time = get_execution_time(dt_classifier)\n",
        "\n",
        "evaluate_base_model(\n",
        "    'Decision tree',\n",
        "    dt_classifier,\n",
        "    dt_exec_time)"
      ]
    },
    {
      "cell_type": "markdown",
      "metadata": {
        "id": "JkK3GJt9N5Xx"
      },
      "source": [
        "## KNN"
      ]
    },
    {
      "cell_type": "code",
      "execution_count": null,
      "metadata": {
        "colab": {
          "base_uri": "https://localhost:8080/"
        },
        "id": "anIaY4TB9mQG",
        "outputId": "4ba94041-6390-4998-c307-4e234360daa4"
      },
      "outputs": [
        {
          "name": "stdout",
          "output_type": "stream",
          "text": [
            "Accuracy of KNN: 0.8577\n",
            "\n",
            "Execution time: 0.02266716957092285 \n",
            "\n",
            "Classification Report\n",
            "              precision    recall  f1-score   support\n",
            "\n",
            "           0       0.79      0.84      0.82      1000\n",
            "           1       0.99      0.97      0.98      1000\n",
            "           2       0.75      0.80      0.78      1000\n",
            "           3       0.91      0.86      0.89      1000\n",
            "           4       0.79      0.78      0.78      1000\n",
            "           5       1.00      0.82      0.90      1000\n",
            "           6       0.64      0.61      0.62      1000\n",
            "           7       0.88      0.96      0.92      1000\n",
            "           8       0.97      0.96      0.96      1000\n",
            "           9       0.89      0.97      0.93      1000\n",
            "\n",
            "    accuracy                           0.86     10000\n",
            "   macro avg       0.86      0.86      0.86     10000\n",
            "weighted avg       0.86      0.86      0.86     10000\n",
            "\n",
            "\n",
            "Confusion Matrix\n",
            "[[844   0  17  16   4   0 111   1   7   0]\n",
            " [  5 971   4  12   4   0   3   0   1   0]\n",
            " [ 22   2 801  11  83   0  81   0   0   0]\n",
            " [ 32   5  13 864  40   0  43   0   3   0]\n",
            " [  1   1 106  23 779   0  88   0   2   0]\n",
            " [  1   0   0   0   0 820   5  93   1  80]\n",
            " [165   1 117  21  73   0 610   0  13   0]\n",
            " [  0   0   0   0   0   2   0 961   0  37]\n",
            " [  1   0   9   3   6   0  16   7 957   1]\n",
            " [  0   0   0   0   0   1   0  28   1 970]]\n",
            "Execution time 0.02266716957092285 seconds\n",
            "\n",
            "True Positive Rate:\n",
            "TPR: [0.844 0.971 0.801 0.864 0.779 0.82  0.61  0.961 0.957 0.97 ] \n",
            "\n",
            "Most dificult class 6\n"
          ]
        },
        {
          "data": {
            "text/plain": [
              "(0.8577,\n",
              " array([[844,   0,  17,  16,   4,   0, 111,   1,   7,   0],\n",
              "        [  5, 971,   4,  12,   4,   0,   3,   0,   1,   0],\n",
              "        [ 22,   2, 801,  11,  83,   0,  81,   0,   0,   0],\n",
              "        [ 32,   5,  13, 864,  40,   0,  43,   0,   3,   0],\n",
              "        [  1,   1, 106,  23, 779,   0,  88,   0,   2,   0],\n",
              "        [  1,   0,   0,   0,   0, 820,   5,  93,   1,  80],\n",
              "        [165,   1, 117,  21,  73,   0, 610,   0,  13,   0],\n",
              "        [  0,   0,   0,   0,   0,   2,   0, 961,   0,  37],\n",
              "        [  1,   0,   9,   3,   6,   0,  16,   7, 957,   1],\n",
              "        [  0,   0,   0,   0,   0,   1,   0,  28,   1, 970]]),\n",
              " <function sklearn.metrics._classification.classification_report(y_true, y_pred, *, labels=None, target_names=None, sample_weight=None, digits=2, output_dict=False, zero_division='warn')>,\n",
              " 0.02266716957092285,\n",
              " [0.587, 0.562, 0.718, 0.499, 0.61])"
            ]
          },
          "execution_count": 81,
          "metadata": {},
          "output_type": "execute_result"
        }
      ],
      "source": [
        "knn_classifier = KNeighborsClassifier(\n",
        "    n_neighbors=5,\n",
        "    algorithm = 'auto',\n",
        "    weights = 'distance')\n",
        "\n",
        "knn_exec_time = get_execution_time(knn_classifier)\n",
        "\n",
        "evaluate_base_model(\n",
        "    'KNN',\n",
        "    knn_classifier,\n",
        "    knn_exec_time)"
      ]
    },
    {
      "cell_type": "markdown",
      "metadata": {
        "id": "ROmF3onPgukK"
      },
      "source": [
        "## Logistic Regression"
      ]
    },
    {
      "cell_type": "code",
      "execution_count": null,
      "metadata": {
        "colab": {
          "base_uri": "https://localhost:8080/"
        },
        "id": "vZ1acflVgw_4",
        "outputId": "06ea5301-a0d9-416f-ca65-cdd7a145abff"
      },
      "outputs": [
        {
          "name": "stderr",
          "output_type": "stream",
          "text": [
            "/usr/local/lib/python3.10/dist-packages/sklearn/linear_model/_logistic.py:458: ConvergenceWarning:\n",
            "\n",
            "lbfgs failed to converge (status=1):\n",
            "STOP: TOTAL NO. of ITERATIONS REACHED LIMIT.\n",
            "\n",
            "Increase the number of iterations (max_iter) or scale the data as shown in:\n",
            "    https://scikit-learn.org/stable/modules/preprocessing.html\n",
            "Please also refer to the documentation for alternative solver options:\n",
            "    https://scikit-learn.org/stable/modules/linear_model.html#logistic-regression\n",
            "\n"
          ]
        },
        {
          "name": "stdout",
          "output_type": "stream",
          "text": [
            "Accuracy of Logistic Regression: 0.8413\n",
            "\n",
            "Execution time: 26.396975994110107 \n",
            "\n",
            "Classification Report\n",
            "              precision    recall  f1-score   support\n",
            "\n",
            "           0       0.79      0.82      0.81      1000\n",
            "           1       0.97      0.95      0.96      1000\n",
            "           2       0.72      0.73      0.73      1000\n",
            "           3       0.83      0.87      0.85      1000\n",
            "           4       0.72      0.76      0.74      1000\n",
            "           5       0.94      0.92      0.93      1000\n",
            "           6       0.64      0.54      0.59      1000\n",
            "           7       0.91      0.94      0.92      1000\n",
            "           8       0.92      0.95      0.93      1000\n",
            "           9       0.95      0.94      0.95      1000\n",
            "\n",
            "    accuracy                           0.84     10000\n",
            "   macro avg       0.84      0.84      0.84     10000\n",
            "weighted avg       0.84      0.84      0.84     10000\n",
            "\n",
            "\n",
            "Confusion Matrix\n",
            "[[818   3  15  49   6   4  91   0  14   0]\n",
            " [  5 953   4  27   5   0   3   1   2   0]\n",
            " [ 27   4 732  11 133   0  81   1  11   0]\n",
            " [ 27  16  14 867  34   0  37   0   5   0]\n",
            " [  0   4 117  39 755   0  74   0  11   0]\n",
            " [  2   0   0   1   0 918   0  50  11  18]\n",
            " [142   3 131  44 110   0 542   0  28   0]\n",
            " [  0   0   0   0   0  33   0 937   1  29]\n",
            " [  8   1   6  11   1   7  16   4 946   0]\n",
            " [  0   1   0   1   0  13   1  39   0 945]]\n",
            "Execution time 26.396975994110107 seconds\n",
            "\n",
            "True Positive Rate:\n",
            "TPR: [0.818 0.953 0.732 0.867 0.755 0.918 0.542 0.937 0.946 0.945] \n",
            "\n",
            "Most dificult class 6\n"
          ]
        },
        {
          "data": {
            "text/plain": [
              "(0.8413,\n",
              " array([[818,   3,  15,  49,   6,   4,  91,   0,  14,   0],\n",
              "        [  5, 953,   4,  27,   5,   0,   3,   1,   2,   0],\n",
              "        [ 27,   4, 732,  11, 133,   0,  81,   1,  11,   0],\n",
              "        [ 27,  16,  14, 867,  34,   0,  37,   0,   5,   0],\n",
              "        [  0,   4, 117,  39, 755,   0,  74,   0,  11,   0],\n",
              "        [  2,   0,   0,   1,   0, 918,   0,  50,  11,  18],\n",
              "        [142,   3, 131,  44, 110,   0, 542,   0,  28,   0],\n",
              "        [  0,   0,   0,   0,   0,  33,   0, 937,   1,  29],\n",
              "        [  8,   1,   6,  11,   1,   7,  16,   4, 946,   0],\n",
              "        [  0,   1,   0,   1,   0,  13,   1,  39,   0, 945]]),\n",
              " <function sklearn.metrics._classification.classification_report(y_true, y_pred, *, labels=None, target_names=None, sample_weight=None, digits=2, output_dict=False, zero_division='warn')>,\n",
              " 26.396975994110107,\n",
              " [0.587, 0.562, 0.718, 0.499, 0.61, 0.542])"
            ]
          },
          "execution_count": 82,
          "metadata": {},
          "output_type": "execute_result"
        }
      ],
      "source": [
        "# Logistic Regression\n",
        "from sklearn.linear_model import LogisticRegression\n",
        "\n",
        "lr_classifier = LogisticRegression(random_state=42,\n",
        "                                   C=1,\n",
        "                                   multi_class= 'ovr',\n",
        "                                   penalty='l2')\n",
        "\n",
        "lr_exec_time = get_execution_time(lr_classifier)\n",
        "\n",
        "evaluate_base_model(\n",
        "    'Logistic Regression',\n",
        "    lr_classifier,\n",
        "    lr_exec_time)\n"
      ]
    },
    {
      "cell_type": "markdown",
      "metadata": {
        "id": "KV2lBDItWPBQ"
      },
      "source": [
        "## GaussianNB"
      ]
    },
    {
      "cell_type": "code",
      "execution_count": null,
      "metadata": {
        "colab": {
          "base_uri": "https://localhost:8080/"
        },
        "id": "srHS2mRPiHzv",
        "outputId": "2f332f04-f5e1-4c3b-b64a-8118188899a2"
      },
      "outputs": [
        {
          "name": "stdout",
          "output_type": "stream",
          "text": [
            "Accuracy of Naive Bayes: 0.5856\n",
            "\n",
            "Execution time: 0.28972411155700684 \n",
            "\n",
            "Classification Report\n",
            "              precision    recall  f1-score   support\n",
            "\n",
            "           0       0.81      0.59      0.68      1000\n",
            "           1       0.64      0.94      0.76      1000\n",
            "           2       0.59      0.32      0.42      1000\n",
            "           3       0.44      0.55      0.49      1000\n",
            "           4       0.38      0.78      0.51      1000\n",
            "           5       0.93      0.28      0.43      1000\n",
            "           6       0.32      0.04      0.07      1000\n",
            "           7       0.51      0.99      0.67      1000\n",
            "           8       0.83      0.71      0.77      1000\n",
            "           9       0.91      0.67      0.77      1000\n",
            "\n",
            "    accuracy                           0.59     10000\n",
            "   macro avg       0.64      0.59      0.56     10000\n",
            "weighted avg       0.64      0.59      0.56     10000\n",
            "\n",
            "\n",
            "Confusion Matrix\n",
            "[[586  64  29 162 110   0  20   0  29   0]\n",
            " [  1 939  14  36   7   0   1   0   2   0]\n",
            " [  7  14 324  65 545   0  23   0  22   0]\n",
            " [  9 387   6 545  43   0   4   0   6   0]\n",
            " [  0  34  44 131 779   0   4   0   8   0]\n",
            " [  0   0   1   1   0 278   3 660   5  52]\n",
            " [117  34 112 200 435   0  40   0  62   0]\n",
            " [  0   0   0   0   0   3   0 988   0   9]\n",
            " [  0   2  19  85 149   3  27   4 710   1]\n",
            " [  0   0   1   1   0  16   3 304   8 667]]\n",
            "Execution time 0.28972411155700684 seconds\n",
            "\n",
            "True Positive Rate:\n",
            "TPR: [0.586 0.939 0.324 0.545 0.779 0.278 0.04  0.988 0.71  0.667] \n",
            "\n",
            "Most dificult class 6\n"
          ]
        },
        {
          "data": {
            "text/plain": [
              "(0.5856,\n",
              " array([[586,  64,  29, 162, 110,   0,  20,   0,  29,   0],\n",
              "        [  1, 939,  14,  36,   7,   0,   1,   0,   2,   0],\n",
              "        [  7,  14, 324,  65, 545,   0,  23,   0,  22,   0],\n",
              "        [  9, 387,   6, 545,  43,   0,   4,   0,   6,   0],\n",
              "        [  0,  34,  44, 131, 779,   0,   4,   0,   8,   0],\n",
              "        [  0,   0,   1,   1,   0, 278,   3, 660,   5,  52],\n",
              "        [117,  34, 112, 200, 435,   0,  40,   0,  62,   0],\n",
              "        [  0,   0,   0,   0,   0,   3,   0, 988,   0,   9],\n",
              "        [  0,   2,  19,  85, 149,   3,  27,   4, 710,   1],\n",
              "        [  0,   0,   1,   1,   0,  16,   3, 304,   8, 667]]),\n",
              " <function sklearn.metrics._classification.classification_report(y_true, y_pred, *, labels=None, target_names=None, sample_weight=None, digits=2, output_dict=False, zero_division='warn')>,\n",
              " 0.28972411155700684,\n",
              " [0.587, 0.562, 0.718, 0.499, 0.61, 0.542, 0.04])"
            ]
          },
          "execution_count": 83,
          "metadata": {},
          "output_type": "execute_result"
        }
      ],
      "source": [
        "# Naive Bayes classifier GaussianNB\n",
        "nb_classifier = GaussianNB()\n",
        "\n",
        "nb_exec_time = get_execution_time(nb_classifier)\n",
        "\n",
        "evaluate_base_model('Naive Bayes',\n",
        "                    nb_classifier,\n",
        "                    nb_exec_time)"
      ]
    },
    {
      "cell_type": "markdown",
      "metadata": {
        "id": "as5dHc4xilkP"
      },
      "source": [
        "## AdaBoost"
      ]
    },
    {
      "cell_type": "code",
      "execution_count": null,
      "metadata": {
        "colab": {
          "base_uri": "https://localhost:8080/"
        },
        "id": "h0-5Z0Vpinrd",
        "outputId": "5f0f0bf2-bbea-4040-924f-99b93677cae8"
      },
      "outputs": [
        {
          "name": "stdout",
          "output_type": "stream",
          "text": [
            "Accuracy of AdaBoost: 0.5928\n",
            "\n",
            "Execution time: 240.38440442085266 \n",
            "\n",
            "Classification Report\n",
            "              precision    recall  f1-score   support\n",
            "\n",
            "           0       0.47      0.05      0.09      1000\n",
            "           1       0.91      0.77      0.83      1000\n",
            "           2       0.34      0.68      0.45      1000\n",
            "           3       0.60      0.77      0.67      1000\n",
            "           4       0.54      0.56      0.55      1000\n",
            "           5       0.82      0.60      0.70      1000\n",
            "           6       0.24      0.18      0.21      1000\n",
            "           7       0.55      0.94      0.70      1000\n",
            "           8       0.93      0.85      0.89      1000\n",
            "           9       0.89      0.52      0.66      1000\n",
            "\n",
            "    accuracy                           0.59     10000\n",
            "   macro avg       0.63      0.59      0.57     10000\n",
            "weighted avg       0.63      0.59      0.57     10000\n",
            "\n",
            "\n",
            "Confusion Matrix\n",
            "[[ 51  21 371 150  33   0 365   0   8   1]\n",
            " [  5 766  13 200   8   0   8   0   0   0]\n",
            " [  9   2 678  11 216   0  80   0   4   0]\n",
            " [  4  37 124 771  50   1  12   0   1   0]\n",
            " [  3   3 323  53 565   0  51   0   2   0]\n",
            " [  0   0   0   1   0 605   0 325  16  53]\n",
            " [ 27  15 486 101 164   0 185   0  22   0]\n",
            " [  0   0   0   0   0  54   0 937   3   6]\n",
            " [ 10   1  11   6  13   8  70  28 851   2]\n",
            " [  0   0   0   0   0  72   0 400   9 519]]\n",
            "Execution time 240.38440442085266 seconds\n",
            "\n",
            "True Positive Rate:\n",
            "TPR: [0.051 0.766 0.678 0.771 0.565 0.605 0.185 0.937 0.851 0.519] \n",
            "\n",
            "Most dificult class 0\n"
          ]
        },
        {
          "data": {
            "text/plain": [
              "(0.5928,\n",
              " array([[ 51,  21, 371, 150,  33,   0, 365,   0,   8,   1],\n",
              "        [  5, 766,  13, 200,   8,   0,   8,   0,   0,   0],\n",
              "        [  9,   2, 678,  11, 216,   0,  80,   0,   4,   0],\n",
              "        [  4,  37, 124, 771,  50,   1,  12,   0,   1,   0],\n",
              "        [  3,   3, 323,  53, 565,   0,  51,   0,   2,   0],\n",
              "        [  0,   0,   0,   1,   0, 605,   0, 325,  16,  53],\n",
              "        [ 27,  15, 486, 101, 164,   0, 185,   0,  22,   0],\n",
              "        [  0,   0,   0,   0,   0,  54,   0, 937,   3,   6],\n",
              "        [ 10,   1,  11,   6,  13,   8,  70,  28, 851,   2],\n",
              "        [  0,   0,   0,   0,   0,  72,   0, 400,   9, 519]]),\n",
              " <function sklearn.metrics._classification.classification_report(y_true, y_pred, *, labels=None, target_names=None, sample_weight=None, digits=2, output_dict=False, zero_division='warn')>,\n",
              " 240.38440442085266,\n",
              " [0.587, 0.562, 0.718, 0.499, 0.61, 0.542, 0.04, 0.051])"
            ]
          },
          "execution_count": 84,
          "metadata": {},
          "output_type": "execute_result"
        }
      ],
      "source": [
        "# AdaBoost classifier\n",
        "ada_classifier = AdaBoostClassifier(\n",
        "    n_estimators=100,\n",
        "    random_state=42)\n",
        "\n",
        "ada_exec_time = get_execution_time(ada_classifier)\n",
        "evaluate_base_model(\n",
        "    'AdaBoost',\n",
        "    ada_classifier,\n",
        "    ada_exec_time)"
      ]
    },
    {
      "cell_type": "markdown",
      "metadata": {
        "id": "zxc3SvpAlQo5"
      },
      "source": [
        "## Base Models Comparative Analysis"
      ]
    },
    {
      "cell_type": "code",
      "execution_count": null,
      "metadata": {
        "colab": {
          "base_uri": "https://localhost:8080/"
        },
        "id": "BHarvL0WlTjP",
        "outputId": "86649796-4b7b-4766-8261-73c427f3a5e1"
      },
      "outputs": [
        {
          "name": "stdout",
          "output_type": "stream",
          "text": [
            "            Base Model  Accuracy Execution Time(s)\n",
            "0        Random Forest    0.8773           98.2990\n",
            "1            SVCLinear    0.8463          362.3468\n",
            "2                  SVM    0.9002          258.6090\n",
            "3        Decision tree    0.8008           21.8467\n",
            "4                  KNN    0.8577            0.0227\n",
            "5  Logistic Regression    0.8413           26.3970\n",
            "6          Naive Bayes    0.5856            0.2897\n",
            "7             AdaBoost    0.5928          240.3844\n"
          ]
        }
      ],
      "source": [
        "# Create a dataframe to store the results of the base models and their execution time and accuracy and print it out in a table\n",
        "results = pd.DataFrame({'Base Model': MODELS_LISTS, 'Accuracy': ACCURACIES, 'Execution Time(s)': [f\"{time:.4f}\" for time in EXECUTION_TIMES]})\n",
        "print(results)\n"
      ]
    },
    {
      "cell_type": "code",
      "execution_count": null,
      "metadata": {
        "colab": {
          "base_uri": "https://localhost:8080/",
          "height": 717
        },
        "id": "ocxQZrpo2LMI",
        "outputId": "0bed88d9-475c-4957-8d4e-65478f3c3964"
      },
      "outputs": [
        {
          "data": {
            "text/html": [
              "<html>\n",
              "<head><meta charset=\"utf-8\" /></head>\n",
              "<body>\n",
              "    <div>            <script src=\"https://cdnjs.cloudflare.com/ajax/libs/mathjax/2.7.5/MathJax.js?config=TeX-AMS-MML_SVG\"></script><script type=\"text/javascript\">if (window.MathJax && window.MathJax.Hub && window.MathJax.Hub.Config) {window.MathJax.Hub.Config({SVG: {font: \"STIX-Web\"}});}</script>                <script type=\"text/javascript\">window.PlotlyConfig = {MathJaxConfig: 'local'};</script>\n",
              "        <script charset=\"utf-8\" src=\"https://cdn.plot.ly/plotly-2.24.1.min.js\"></script>                <div id=\"e5cfb594-0ae9-42f1-86f3-bd2ec66d01a8\" class=\"plotly-graph-div\" style=\"height:700px; width:100%;\"></div>            <script type=\"text/javascript\">                                    window.PLOTLYENV=window.PLOTLYENV || {};                                    if (document.getElementById(\"e5cfb594-0ae9-42f1-86f3-bd2ec66d01a8\")) {                    Plotly.newPlot(                        \"e5cfb594-0ae9-42f1-86f3-bd2ec66d01a8\",                        [{\"alignmentgroup\":\"True\",\"hovertemplate\":\"Base Model=%{x}\\u003cbr\\u003eAccuracy=%{text}\\u003cextra\\u003e\\u003c\\u002fextra\\u003e\",\"legendgroup\":\"SVM\",\"marker\":{\"color\":\"#636efa\",\"pattern\":{\"shape\":\"\"}},\"name\":\"SVM\",\"offsetgroup\":\"SVM\",\"orientation\":\"v\",\"showlegend\":true,\"text\":[0.9002],\"textposition\":\"outside\",\"x\":[\"SVM\"],\"xaxis\":\"x\",\"y\":[0.9002],\"yaxis\":\"y\",\"type\":\"bar\",\"texttemplate\":\"%{text:.2%}\"},{\"alignmentgroup\":\"True\",\"hovertemplate\":\"Base Model=%{x}\\u003cbr\\u003eAccuracy=%{text}\\u003cextra\\u003e\\u003c\\u002fextra\\u003e\",\"legendgroup\":\"Random Forest\",\"marker\":{\"color\":\"#EF553B\",\"pattern\":{\"shape\":\"\"}},\"name\":\"Random Forest\",\"offsetgroup\":\"Random Forest\",\"orientation\":\"v\",\"showlegend\":true,\"text\":[0.8773],\"textposition\":\"outside\",\"x\":[\"Random Forest\"],\"xaxis\":\"x\",\"y\":[0.8773],\"yaxis\":\"y\",\"type\":\"bar\",\"texttemplate\":\"%{text:.2%}\"},{\"alignmentgroup\":\"True\",\"hovertemplate\":\"Base Model=%{x}\\u003cbr\\u003eAccuracy=%{text}\\u003cextra\\u003e\\u003c\\u002fextra\\u003e\",\"legendgroup\":\"KNN\",\"marker\":{\"color\":\"#00cc96\",\"pattern\":{\"shape\":\"\"}},\"name\":\"KNN\",\"offsetgroup\":\"KNN\",\"orientation\":\"v\",\"showlegend\":true,\"text\":[0.8577],\"textposition\":\"outside\",\"x\":[\"KNN\"],\"xaxis\":\"x\",\"y\":[0.8577],\"yaxis\":\"y\",\"type\":\"bar\",\"texttemplate\":\"%{text:.2%}\"},{\"alignmentgroup\":\"True\",\"hovertemplate\":\"Base Model=%{x}\\u003cbr\\u003eAccuracy=%{text}\\u003cextra\\u003e\\u003c\\u002fextra\\u003e\",\"legendgroup\":\"SVCLinear\",\"marker\":{\"color\":\"#ab63fa\",\"pattern\":{\"shape\":\"\"}},\"name\":\"SVCLinear\",\"offsetgroup\":\"SVCLinear\",\"orientation\":\"v\",\"showlegend\":true,\"text\":[0.8463],\"textposition\":\"outside\",\"x\":[\"SVCLinear\"],\"xaxis\":\"x\",\"y\":[0.8463],\"yaxis\":\"y\",\"type\":\"bar\",\"texttemplate\":\"%{text:.2%}\"},{\"alignmentgroup\":\"True\",\"hovertemplate\":\"Base Model=%{x}\\u003cbr\\u003eAccuracy=%{text}\\u003cextra\\u003e\\u003c\\u002fextra\\u003e\",\"legendgroup\":\"Logistic Regression\",\"marker\":{\"color\":\"#FFA15A\",\"pattern\":{\"shape\":\"\"}},\"name\":\"Logistic Regression\",\"offsetgroup\":\"Logistic Regression\",\"orientation\":\"v\",\"showlegend\":true,\"text\":[0.8413],\"textposition\":\"outside\",\"x\":[\"Logistic Regression\"],\"xaxis\":\"x\",\"y\":[0.8413],\"yaxis\":\"y\",\"type\":\"bar\",\"texttemplate\":\"%{text:.2%}\"},{\"alignmentgroup\":\"True\",\"hovertemplate\":\"Base Model=%{x}\\u003cbr\\u003eAccuracy=%{text}\\u003cextra\\u003e\\u003c\\u002fextra\\u003e\",\"legendgroup\":\"Decision tree\",\"marker\":{\"color\":\"#19d3f3\",\"pattern\":{\"shape\":\"\"}},\"name\":\"Decision tree\",\"offsetgroup\":\"Decision tree\",\"orientation\":\"v\",\"showlegend\":true,\"text\":[0.8008],\"textposition\":\"outside\",\"x\":[\"Decision tree\"],\"xaxis\":\"x\",\"y\":[0.8008],\"yaxis\":\"y\",\"type\":\"bar\",\"texttemplate\":\"%{text:.2%}\"},{\"alignmentgroup\":\"True\",\"hovertemplate\":\"Base Model=%{x}\\u003cbr\\u003eAccuracy=%{text}\\u003cextra\\u003e\\u003c\\u002fextra\\u003e\",\"legendgroup\":\"AdaBoost\",\"marker\":{\"color\":\"#FF6692\",\"pattern\":{\"shape\":\"\"}},\"name\":\"AdaBoost\",\"offsetgroup\":\"AdaBoost\",\"orientation\":\"v\",\"showlegend\":true,\"text\":[0.5928],\"textposition\":\"outside\",\"x\":[\"AdaBoost\"],\"xaxis\":\"x\",\"y\":[0.5928],\"yaxis\":\"y\",\"type\":\"bar\",\"texttemplate\":\"%{text:.2%}\"},{\"alignmentgroup\":\"True\",\"hovertemplate\":\"Base Model=%{x}\\u003cbr\\u003eAccuracy=%{text}\\u003cextra\\u003e\\u003c\\u002fextra\\u003e\",\"legendgroup\":\"Naive Bayes\",\"marker\":{\"color\":\"#B6E880\",\"pattern\":{\"shape\":\"\"}},\"name\":\"Naive Bayes\",\"offsetgroup\":\"Naive Bayes\",\"orientation\":\"v\",\"showlegend\":true,\"text\":[0.5856],\"textposition\":\"outside\",\"x\":[\"Naive Bayes\"],\"xaxis\":\"x\",\"y\":[0.5856],\"yaxis\":\"y\",\"type\":\"bar\",\"texttemplate\":\"%{text:.2%}\"}],                        {\"template\":{\"data\":{\"histogram2dcontour\":[{\"type\":\"histogram2dcontour\",\"colorbar\":{\"outlinewidth\":0,\"ticks\":\"\"},\"colorscale\":[[0.0,\"#0d0887\"],[0.1111111111111111,\"#46039f\"],[0.2222222222222222,\"#7201a8\"],[0.3333333333333333,\"#9c179e\"],[0.4444444444444444,\"#bd3786\"],[0.5555555555555556,\"#d8576b\"],[0.6666666666666666,\"#ed7953\"],[0.7777777777777778,\"#fb9f3a\"],[0.8888888888888888,\"#fdca26\"],[1.0,\"#f0f921\"]]}],\"choropleth\":[{\"type\":\"choropleth\",\"colorbar\":{\"outlinewidth\":0,\"ticks\":\"\"}}],\"histogram2d\":[{\"type\":\"histogram2d\",\"colorbar\":{\"outlinewidth\":0,\"ticks\":\"\"},\"colorscale\":[[0.0,\"#0d0887\"],[0.1111111111111111,\"#46039f\"],[0.2222222222222222,\"#7201a8\"],[0.3333333333333333,\"#9c179e\"],[0.4444444444444444,\"#bd3786\"],[0.5555555555555556,\"#d8576b\"],[0.6666666666666666,\"#ed7953\"],[0.7777777777777778,\"#fb9f3a\"],[0.8888888888888888,\"#fdca26\"],[1.0,\"#f0f921\"]]}],\"heatmap\":[{\"type\":\"heatmap\",\"colorbar\":{\"outlinewidth\":0,\"ticks\":\"\"},\"colorscale\":[[0.0,\"#0d0887\"],[0.1111111111111111,\"#46039f\"],[0.2222222222222222,\"#7201a8\"],[0.3333333333333333,\"#9c179e\"],[0.4444444444444444,\"#bd3786\"],[0.5555555555555556,\"#d8576b\"],[0.6666666666666666,\"#ed7953\"],[0.7777777777777778,\"#fb9f3a\"],[0.8888888888888888,\"#fdca26\"],[1.0,\"#f0f921\"]]}],\"heatmapgl\":[{\"type\":\"heatmapgl\",\"colorbar\":{\"outlinewidth\":0,\"ticks\":\"\"},\"colorscale\":[[0.0,\"#0d0887\"],[0.1111111111111111,\"#46039f\"],[0.2222222222222222,\"#7201a8\"],[0.3333333333333333,\"#9c179e\"],[0.4444444444444444,\"#bd3786\"],[0.5555555555555556,\"#d8576b\"],[0.6666666666666666,\"#ed7953\"],[0.7777777777777778,\"#fb9f3a\"],[0.8888888888888888,\"#fdca26\"],[1.0,\"#f0f921\"]]}],\"contourcarpet\":[{\"type\":\"contourcarpet\",\"colorbar\":{\"outlinewidth\":0,\"ticks\":\"\"}}],\"contour\":[{\"type\":\"contour\",\"colorbar\":{\"outlinewidth\":0,\"ticks\":\"\"},\"colorscale\":[[0.0,\"#0d0887\"],[0.1111111111111111,\"#46039f\"],[0.2222222222222222,\"#7201a8\"],[0.3333333333333333,\"#9c179e\"],[0.4444444444444444,\"#bd3786\"],[0.5555555555555556,\"#d8576b\"],[0.6666666666666666,\"#ed7953\"],[0.7777777777777778,\"#fb9f3a\"],[0.8888888888888888,\"#fdca26\"],[1.0,\"#f0f921\"]]}],\"surface\":[{\"type\":\"surface\",\"colorbar\":{\"outlinewidth\":0,\"ticks\":\"\"},\"colorscale\":[[0.0,\"#0d0887\"],[0.1111111111111111,\"#46039f\"],[0.2222222222222222,\"#7201a8\"],[0.3333333333333333,\"#9c179e\"],[0.4444444444444444,\"#bd3786\"],[0.5555555555555556,\"#d8576b\"],[0.6666666666666666,\"#ed7953\"],[0.7777777777777778,\"#fb9f3a\"],[0.8888888888888888,\"#fdca26\"],[1.0,\"#f0f921\"]]}],\"mesh3d\":[{\"type\":\"mesh3d\",\"colorbar\":{\"outlinewidth\":0,\"ticks\":\"\"}}],\"scatter\":[{\"fillpattern\":{\"fillmode\":\"overlay\",\"size\":10,\"solidity\":0.2},\"type\":\"scatter\"}],\"parcoords\":[{\"type\":\"parcoords\",\"line\":{\"colorbar\":{\"outlinewidth\":0,\"ticks\":\"\"}}}],\"scatterpolargl\":[{\"type\":\"scatterpolargl\",\"marker\":{\"colorbar\":{\"outlinewidth\":0,\"ticks\":\"\"}}}],\"bar\":[{\"error_x\":{\"color\":\"#2a3f5f\"},\"error_y\":{\"color\":\"#2a3f5f\"},\"marker\":{\"line\":{\"color\":\"#E5ECF6\",\"width\":0.5},\"pattern\":{\"fillmode\":\"overlay\",\"size\":10,\"solidity\":0.2}},\"type\":\"bar\"}],\"scattergeo\":[{\"type\":\"scattergeo\",\"marker\":{\"colorbar\":{\"outlinewidth\":0,\"ticks\":\"\"}}}],\"scatterpolar\":[{\"type\":\"scatterpolar\",\"marker\":{\"colorbar\":{\"outlinewidth\":0,\"ticks\":\"\"}}}],\"histogram\":[{\"marker\":{\"pattern\":{\"fillmode\":\"overlay\",\"size\":10,\"solidity\":0.2}},\"type\":\"histogram\"}],\"scattergl\":[{\"type\":\"scattergl\",\"marker\":{\"colorbar\":{\"outlinewidth\":0,\"ticks\":\"\"}}}],\"scatter3d\":[{\"type\":\"scatter3d\",\"line\":{\"colorbar\":{\"outlinewidth\":0,\"ticks\":\"\"}},\"marker\":{\"colorbar\":{\"outlinewidth\":0,\"ticks\":\"\"}}}],\"scattermapbox\":[{\"type\":\"scattermapbox\",\"marker\":{\"colorbar\":{\"outlinewidth\":0,\"ticks\":\"\"}}}],\"scatterternary\":[{\"type\":\"scatterternary\",\"marker\":{\"colorbar\":{\"outlinewidth\":0,\"ticks\":\"\"}}}],\"scattercarpet\":[{\"type\":\"scattercarpet\",\"marker\":{\"colorbar\":{\"outlinewidth\":0,\"ticks\":\"\"}}}],\"carpet\":[{\"aaxis\":{\"endlinecolor\":\"#2a3f5f\",\"gridcolor\":\"white\",\"linecolor\":\"white\",\"minorgridcolor\":\"white\",\"startlinecolor\":\"#2a3f5f\"},\"baxis\":{\"endlinecolor\":\"#2a3f5f\",\"gridcolor\":\"white\",\"linecolor\":\"white\",\"minorgridcolor\":\"white\",\"startlinecolor\":\"#2a3f5f\"},\"type\":\"carpet\"}],\"table\":[{\"cells\":{\"fill\":{\"color\":\"#EBF0F8\"},\"line\":{\"color\":\"white\"}},\"header\":{\"fill\":{\"color\":\"#C8D4E3\"},\"line\":{\"color\":\"white\"}},\"type\":\"table\"}],\"barpolar\":[{\"marker\":{\"line\":{\"color\":\"#E5ECF6\",\"width\":0.5},\"pattern\":{\"fillmode\":\"overlay\",\"size\":10,\"solidity\":0.2}},\"type\":\"barpolar\"}],\"pie\":[{\"automargin\":true,\"type\":\"pie\"}]},\"layout\":{\"autotypenumbers\":\"strict\",\"colorway\":[\"#636efa\",\"#EF553B\",\"#00cc96\",\"#ab63fa\",\"#FFA15A\",\"#19d3f3\",\"#FF6692\",\"#B6E880\",\"#FF97FF\",\"#FECB52\"],\"font\":{\"color\":\"#2a3f5f\"},\"hovermode\":\"closest\",\"hoverlabel\":{\"align\":\"left\"},\"paper_bgcolor\":\"white\",\"plot_bgcolor\":\"#E5ECF6\",\"polar\":{\"bgcolor\":\"#E5ECF6\",\"angularaxis\":{\"gridcolor\":\"white\",\"linecolor\":\"white\",\"ticks\":\"\"},\"radialaxis\":{\"gridcolor\":\"white\",\"linecolor\":\"white\",\"ticks\":\"\"}},\"ternary\":{\"bgcolor\":\"#E5ECF6\",\"aaxis\":{\"gridcolor\":\"white\",\"linecolor\":\"white\",\"ticks\":\"\"},\"baxis\":{\"gridcolor\":\"white\",\"linecolor\":\"white\",\"ticks\":\"\"},\"caxis\":{\"gridcolor\":\"white\",\"linecolor\":\"white\",\"ticks\":\"\"}},\"coloraxis\":{\"colorbar\":{\"outlinewidth\":0,\"ticks\":\"\"}},\"colorscale\":{\"sequential\":[[0.0,\"#0d0887\"],[0.1111111111111111,\"#46039f\"],[0.2222222222222222,\"#7201a8\"],[0.3333333333333333,\"#9c179e\"],[0.4444444444444444,\"#bd3786\"],[0.5555555555555556,\"#d8576b\"],[0.6666666666666666,\"#ed7953\"],[0.7777777777777778,\"#fb9f3a\"],[0.8888888888888888,\"#fdca26\"],[1.0,\"#f0f921\"]],\"sequentialminus\":[[0.0,\"#0d0887\"],[0.1111111111111111,\"#46039f\"],[0.2222222222222222,\"#7201a8\"],[0.3333333333333333,\"#9c179e\"],[0.4444444444444444,\"#bd3786\"],[0.5555555555555556,\"#d8576b\"],[0.6666666666666666,\"#ed7953\"],[0.7777777777777778,\"#fb9f3a\"],[0.8888888888888888,\"#fdca26\"],[1.0,\"#f0f921\"]],\"diverging\":[[0,\"#8e0152\"],[0.1,\"#c51b7d\"],[0.2,\"#de77ae\"],[0.3,\"#f1b6da\"],[0.4,\"#fde0ef\"],[0.5,\"#f7f7f7\"],[0.6,\"#e6f5d0\"],[0.7,\"#b8e186\"],[0.8,\"#7fbc41\"],[0.9,\"#4d9221\"],[1,\"#276419\"]]},\"xaxis\":{\"gridcolor\":\"white\",\"linecolor\":\"white\",\"ticks\":\"\",\"title\":{\"standoff\":15},\"zerolinecolor\":\"white\",\"automargin\":true,\"zerolinewidth\":2},\"yaxis\":{\"gridcolor\":\"white\",\"linecolor\":\"white\",\"ticks\":\"\",\"title\":{\"standoff\":15},\"zerolinecolor\":\"white\",\"automargin\":true,\"zerolinewidth\":2},\"scene\":{\"xaxis\":{\"backgroundcolor\":\"#E5ECF6\",\"gridcolor\":\"white\",\"linecolor\":\"white\",\"showbackground\":true,\"ticks\":\"\",\"zerolinecolor\":\"white\",\"gridwidth\":2},\"yaxis\":{\"backgroundcolor\":\"#E5ECF6\",\"gridcolor\":\"white\",\"linecolor\":\"white\",\"showbackground\":true,\"ticks\":\"\",\"zerolinecolor\":\"white\",\"gridwidth\":2},\"zaxis\":{\"backgroundcolor\":\"#E5ECF6\",\"gridcolor\":\"white\",\"linecolor\":\"white\",\"showbackground\":true,\"ticks\":\"\",\"zerolinecolor\":\"white\",\"gridwidth\":2}},\"shapedefaults\":{\"line\":{\"color\":\"#2a3f5f\"}},\"annotationdefaults\":{\"arrowcolor\":\"#2a3f5f\",\"arrowhead\":0,\"arrowwidth\":1},\"geo\":{\"bgcolor\":\"white\",\"landcolor\":\"#E5ECF6\",\"subunitcolor\":\"white\",\"showland\":true,\"showlakes\":true,\"lakecolor\":\"white\"},\"title\":{\"x\":0.05},\"mapbox\":{\"style\":\"light\"}}},\"xaxis\":{\"anchor\":\"y\",\"domain\":[0.0,1.0],\"title\":{\"text\":\"Base Models\"},\"categoryorder\":\"array\",\"categoryarray\":[\"SVM\",\"Random Forest\",\"KNN\",\"SVCLinear\",\"Logistic Regression\",\"Decision tree\",\"AdaBoost\",\"Naive Bayes\"],\"tickangle\":0},\"yaxis\":{\"anchor\":\"x\",\"domain\":[0.0,1.0],\"title\":{\"text\":\"Accuracy\"}},\"legend\":{\"title\":{\"text\":\"Base Model\"},\"tracegroupgap\":0},\"title\":{\"text\":\"Model Accuracy Comparison\"},\"barmode\":\"relative\",\"height\":700,\"bargap\":0.2,\"hovermode\":\"x\"},                        {\"responsive\": true}                    ).then(function(){\n",
              "                            \n",
              "var gd = document.getElementById('e5cfb594-0ae9-42f1-86f3-bd2ec66d01a8');\n",
              "var x = new MutationObserver(function (mutations, observer) {{\n",
              "        var display = window.getComputedStyle(gd).display;\n",
              "        if (!display || display === 'none') {{\n",
              "            console.log([gd, 'removed!']);\n",
              "            Plotly.purge(gd);\n",
              "            observer.disconnect();\n",
              "        }}\n",
              "}});\n",
              "\n",
              "// Listen for the removal of the full notebook cells\n",
              "var notebookContainer = gd.closest('#notebook-container');\n",
              "if (notebookContainer) {{\n",
              "    x.observe(notebookContainer, {childList: true});\n",
              "}}\n",
              "\n",
              "// Listen for the clearing of the current output cell\n",
              "var outputEl = gd.closest('.output');\n",
              "if (outputEl) {{\n",
              "    x.observe(outputEl, {childList: true});\n",
              "}}\n",
              "\n",
              "                        })                };                            </script>        </div>\n",
              "</body>\n",
              "</html>"
            ]
          },
          "metadata": {},
          "output_type": "display_data"
        }
      ],
      "source": [
        "results = results.sort_values(by='Accuracy', ascending=False)\n",
        "\n",
        "# Bar plot using Plotly Express\n",
        "fig = px.bar(\n",
        "    results,\n",
        "    x='Base Model',\n",
        "    y='Accuracy',\n",
        "    color='Base Model',\n",
        "    text='Accuracy',\n",
        "    title='Model Accuracy Comparison',\n",
        "    labels={'Accuracy': 'Accuracy'},\n",
        "    height=700\n",
        ")\n",
        "\n",
        "# Add accuracy values on top of each bar\n",
        "fig.update_traces(texttemplate='%{text:.2%}', textposition='outside')\n",
        "\n",
        "# Customize layout\n",
        "fig.update_layout(\n",
        "    xaxis_title='Base Models',\n",
        "    yaxis_title='Accuracy',\n",
        "    xaxis_tickangle=0,\n",
        "    bargap=0.2,\n",
        "    hovermode='x',\n",
        ")\n",
        "\n",
        "# Show the plot\n",
        "fig.show()"
      ]
    },
    {
      "cell_type": "code",
      "execution_count": null,
      "metadata": {
        "colab": {
          "base_uri": "https://localhost:8080/",
          "height": 717
        },
        "id": "Bq0Qdtua3NZu",
        "outputId": "74e90dbe-5648-499b-dc8e-0f4036ff57c3"
      },
      "outputs": [
        {
          "data": {
            "text/html": [
              "<html>\n",
              "<head><meta charset=\"utf-8\" /></head>\n",
              "<body>\n",
              "    <div>            <script src=\"https://cdnjs.cloudflare.com/ajax/libs/mathjax/2.7.5/MathJax.js?config=TeX-AMS-MML_SVG\"></script><script type=\"text/javascript\">if (window.MathJax && window.MathJax.Hub && window.MathJax.Hub.Config) {window.MathJax.Hub.Config({SVG: {font: \"STIX-Web\"}});}</script>                <script type=\"text/javascript\">window.PlotlyConfig = {MathJaxConfig: 'local'};</script>\n",
              "        <script charset=\"utf-8\" src=\"https://cdn.plot.ly/plotly-2.24.1.min.js\"></script>                <div id=\"fbb2f374-7a0c-4072-9bb2-e3b68a8994bc\" class=\"plotly-graph-div\" style=\"height:700px; width:100%;\"></div>            <script type=\"text/javascript\">                                    window.PLOTLYENV=window.PLOTLYENV || {};                                    if (document.getElementById(\"fbb2f374-7a0c-4072-9bb2-e3b68a8994bc\")) {                    Plotly.newPlot(                        \"fbb2f374-7a0c-4072-9bb2-e3b68a8994bc\",                        [{\"alignmentgroup\":\"True\",\"hovertemplate\":\"Base Model=%{x}\\u003cbr\\u003eSeconds=%{text}\\u003cextra\\u003e\\u003c\\u002fextra\\u003e\",\"legendgroup\":\"SVCLinear\",\"marker\":{\"color\":\"#636efa\",\"pattern\":{\"shape\":\"\"}},\"name\":\"SVCLinear\",\"offsetgroup\":\"SVCLinear\",\"orientation\":\"v\",\"showlegend\":true,\"text\":[362.3468],\"textposition\":\"outside\",\"x\":[\"SVCLinear\"],\"xaxis\":\"x\",\"y\":[362.3468],\"yaxis\":\"y\",\"type\":\"bar\",\"texttemplate\":\"%{text:.2f} seconds\"},{\"alignmentgroup\":\"True\",\"hovertemplate\":\"Base Model=%{x}\\u003cbr\\u003eSeconds=%{text}\\u003cextra\\u003e\\u003c\\u002fextra\\u003e\",\"legendgroup\":\"SVM\",\"marker\":{\"color\":\"#EF553B\",\"pattern\":{\"shape\":\"\"}},\"name\":\"SVM\",\"offsetgroup\":\"SVM\",\"orientation\":\"v\",\"showlegend\":true,\"text\":[258.609],\"textposition\":\"outside\",\"x\":[\"SVM\"],\"xaxis\":\"x\",\"y\":[258.609],\"yaxis\":\"y\",\"type\":\"bar\",\"texttemplate\":\"%{text:.2f} seconds\"},{\"alignmentgroup\":\"True\",\"hovertemplate\":\"Base Model=%{x}\\u003cbr\\u003eSeconds=%{text}\\u003cextra\\u003e\\u003c\\u002fextra\\u003e\",\"legendgroup\":\"AdaBoost\",\"marker\":{\"color\":\"#00cc96\",\"pattern\":{\"shape\":\"\"}},\"name\":\"AdaBoost\",\"offsetgroup\":\"AdaBoost\",\"orientation\":\"v\",\"showlegend\":true,\"text\":[240.3844],\"textposition\":\"outside\",\"x\":[\"AdaBoost\"],\"xaxis\":\"x\",\"y\":[240.3844],\"yaxis\":\"y\",\"type\":\"bar\",\"texttemplate\":\"%{text:.2f} seconds\"},{\"alignmentgroup\":\"True\",\"hovertemplate\":\"Base Model=%{x}\\u003cbr\\u003eSeconds=%{text}\\u003cextra\\u003e\\u003c\\u002fextra\\u003e\",\"legendgroup\":\"Random Forest\",\"marker\":{\"color\":\"#ab63fa\",\"pattern\":{\"shape\":\"\"}},\"name\":\"Random Forest\",\"offsetgroup\":\"Random Forest\",\"orientation\":\"v\",\"showlegend\":true,\"text\":[98.299],\"textposition\":\"outside\",\"x\":[\"Random Forest\"],\"xaxis\":\"x\",\"y\":[98.299],\"yaxis\":\"y\",\"type\":\"bar\",\"texttemplate\":\"%{text:.2f} seconds\"},{\"alignmentgroup\":\"True\",\"hovertemplate\":\"Base Model=%{x}\\u003cbr\\u003eSeconds=%{text}\\u003cextra\\u003e\\u003c\\u002fextra\\u003e\",\"legendgroup\":\"Logistic Regression\",\"marker\":{\"color\":\"#FFA15A\",\"pattern\":{\"shape\":\"\"}},\"name\":\"Logistic Regression\",\"offsetgroup\":\"Logistic Regression\",\"orientation\":\"v\",\"showlegend\":true,\"text\":[26.397],\"textposition\":\"outside\",\"x\":[\"Logistic Regression\"],\"xaxis\":\"x\",\"y\":[26.397],\"yaxis\":\"y\",\"type\":\"bar\",\"texttemplate\":\"%{text:.2f} seconds\"},{\"alignmentgroup\":\"True\",\"hovertemplate\":\"Base Model=%{x}\\u003cbr\\u003eSeconds=%{text}\\u003cextra\\u003e\\u003c\\u002fextra\\u003e\",\"legendgroup\":\"Decision tree\",\"marker\":{\"color\":\"#19d3f3\",\"pattern\":{\"shape\":\"\"}},\"name\":\"Decision tree\",\"offsetgroup\":\"Decision tree\",\"orientation\":\"v\",\"showlegend\":true,\"text\":[21.8467],\"textposition\":\"outside\",\"x\":[\"Decision tree\"],\"xaxis\":\"x\",\"y\":[21.8467],\"yaxis\":\"y\",\"type\":\"bar\",\"texttemplate\":\"%{text:.2f} seconds\"},{\"alignmentgroup\":\"True\",\"hovertemplate\":\"Base Model=%{x}\\u003cbr\\u003eSeconds=%{text}\\u003cextra\\u003e\\u003c\\u002fextra\\u003e\",\"legendgroup\":\"Naive Bayes\",\"marker\":{\"color\":\"#FF6692\",\"pattern\":{\"shape\":\"\"}},\"name\":\"Naive Bayes\",\"offsetgroup\":\"Naive Bayes\",\"orientation\":\"v\",\"showlegend\":true,\"text\":[0.2897],\"textposition\":\"outside\",\"x\":[\"Naive Bayes\"],\"xaxis\":\"x\",\"y\":[0.2897],\"yaxis\":\"y\",\"type\":\"bar\",\"texttemplate\":\"%{text:.2f} seconds\"},{\"alignmentgroup\":\"True\",\"hovertemplate\":\"Base Model=%{x}\\u003cbr\\u003eSeconds=%{text}\\u003cextra\\u003e\\u003c\\u002fextra\\u003e\",\"legendgroup\":\"KNN\",\"marker\":{\"color\":\"#B6E880\",\"pattern\":{\"shape\":\"\"}},\"name\":\"KNN\",\"offsetgroup\":\"KNN\",\"orientation\":\"v\",\"showlegend\":true,\"text\":[0.0227],\"textposition\":\"outside\",\"x\":[\"KNN\"],\"xaxis\":\"x\",\"y\":[0.0227],\"yaxis\":\"y\",\"type\":\"bar\",\"texttemplate\":\"%{text:.2f} seconds\"}],                        {\"template\":{\"data\":{\"histogram2dcontour\":[{\"type\":\"histogram2dcontour\",\"colorbar\":{\"outlinewidth\":0,\"ticks\":\"\"},\"colorscale\":[[0.0,\"#0d0887\"],[0.1111111111111111,\"#46039f\"],[0.2222222222222222,\"#7201a8\"],[0.3333333333333333,\"#9c179e\"],[0.4444444444444444,\"#bd3786\"],[0.5555555555555556,\"#d8576b\"],[0.6666666666666666,\"#ed7953\"],[0.7777777777777778,\"#fb9f3a\"],[0.8888888888888888,\"#fdca26\"],[1.0,\"#f0f921\"]]}],\"choropleth\":[{\"type\":\"choropleth\",\"colorbar\":{\"outlinewidth\":0,\"ticks\":\"\"}}],\"histogram2d\":[{\"type\":\"histogram2d\",\"colorbar\":{\"outlinewidth\":0,\"ticks\":\"\"},\"colorscale\":[[0.0,\"#0d0887\"],[0.1111111111111111,\"#46039f\"],[0.2222222222222222,\"#7201a8\"],[0.3333333333333333,\"#9c179e\"],[0.4444444444444444,\"#bd3786\"],[0.5555555555555556,\"#d8576b\"],[0.6666666666666666,\"#ed7953\"],[0.7777777777777778,\"#fb9f3a\"],[0.8888888888888888,\"#fdca26\"],[1.0,\"#f0f921\"]]}],\"heatmap\":[{\"type\":\"heatmap\",\"colorbar\":{\"outlinewidth\":0,\"ticks\":\"\"},\"colorscale\":[[0.0,\"#0d0887\"],[0.1111111111111111,\"#46039f\"],[0.2222222222222222,\"#7201a8\"],[0.3333333333333333,\"#9c179e\"],[0.4444444444444444,\"#bd3786\"],[0.5555555555555556,\"#d8576b\"],[0.6666666666666666,\"#ed7953\"],[0.7777777777777778,\"#fb9f3a\"],[0.8888888888888888,\"#fdca26\"],[1.0,\"#f0f921\"]]}],\"heatmapgl\":[{\"type\":\"heatmapgl\",\"colorbar\":{\"outlinewidth\":0,\"ticks\":\"\"},\"colorscale\":[[0.0,\"#0d0887\"],[0.1111111111111111,\"#46039f\"],[0.2222222222222222,\"#7201a8\"],[0.3333333333333333,\"#9c179e\"],[0.4444444444444444,\"#bd3786\"],[0.5555555555555556,\"#d8576b\"],[0.6666666666666666,\"#ed7953\"],[0.7777777777777778,\"#fb9f3a\"],[0.8888888888888888,\"#fdca26\"],[1.0,\"#f0f921\"]]}],\"contourcarpet\":[{\"type\":\"contourcarpet\",\"colorbar\":{\"outlinewidth\":0,\"ticks\":\"\"}}],\"contour\":[{\"type\":\"contour\",\"colorbar\":{\"outlinewidth\":0,\"ticks\":\"\"},\"colorscale\":[[0.0,\"#0d0887\"],[0.1111111111111111,\"#46039f\"],[0.2222222222222222,\"#7201a8\"],[0.3333333333333333,\"#9c179e\"],[0.4444444444444444,\"#bd3786\"],[0.5555555555555556,\"#d8576b\"],[0.6666666666666666,\"#ed7953\"],[0.7777777777777778,\"#fb9f3a\"],[0.8888888888888888,\"#fdca26\"],[1.0,\"#f0f921\"]]}],\"surface\":[{\"type\":\"surface\",\"colorbar\":{\"outlinewidth\":0,\"ticks\":\"\"},\"colorscale\":[[0.0,\"#0d0887\"],[0.1111111111111111,\"#46039f\"],[0.2222222222222222,\"#7201a8\"],[0.3333333333333333,\"#9c179e\"],[0.4444444444444444,\"#bd3786\"],[0.5555555555555556,\"#d8576b\"],[0.6666666666666666,\"#ed7953\"],[0.7777777777777778,\"#fb9f3a\"],[0.8888888888888888,\"#fdca26\"],[1.0,\"#f0f921\"]]}],\"mesh3d\":[{\"type\":\"mesh3d\",\"colorbar\":{\"outlinewidth\":0,\"ticks\":\"\"}}],\"scatter\":[{\"fillpattern\":{\"fillmode\":\"overlay\",\"size\":10,\"solidity\":0.2},\"type\":\"scatter\"}],\"parcoords\":[{\"type\":\"parcoords\",\"line\":{\"colorbar\":{\"outlinewidth\":0,\"ticks\":\"\"}}}],\"scatterpolargl\":[{\"type\":\"scatterpolargl\",\"marker\":{\"colorbar\":{\"outlinewidth\":0,\"ticks\":\"\"}}}],\"bar\":[{\"error_x\":{\"color\":\"#2a3f5f\"},\"error_y\":{\"color\":\"#2a3f5f\"},\"marker\":{\"line\":{\"color\":\"#E5ECF6\",\"width\":0.5},\"pattern\":{\"fillmode\":\"overlay\",\"size\":10,\"solidity\":0.2}},\"type\":\"bar\"}],\"scattergeo\":[{\"type\":\"scattergeo\",\"marker\":{\"colorbar\":{\"outlinewidth\":0,\"ticks\":\"\"}}}],\"scatterpolar\":[{\"type\":\"scatterpolar\",\"marker\":{\"colorbar\":{\"outlinewidth\":0,\"ticks\":\"\"}}}],\"histogram\":[{\"marker\":{\"pattern\":{\"fillmode\":\"overlay\",\"size\":10,\"solidity\":0.2}},\"type\":\"histogram\"}],\"scattergl\":[{\"type\":\"scattergl\",\"marker\":{\"colorbar\":{\"outlinewidth\":0,\"ticks\":\"\"}}}],\"scatter3d\":[{\"type\":\"scatter3d\",\"line\":{\"colorbar\":{\"outlinewidth\":0,\"ticks\":\"\"}},\"marker\":{\"colorbar\":{\"outlinewidth\":0,\"ticks\":\"\"}}}],\"scattermapbox\":[{\"type\":\"scattermapbox\",\"marker\":{\"colorbar\":{\"outlinewidth\":0,\"ticks\":\"\"}}}],\"scatterternary\":[{\"type\":\"scatterternary\",\"marker\":{\"colorbar\":{\"outlinewidth\":0,\"ticks\":\"\"}}}],\"scattercarpet\":[{\"type\":\"scattercarpet\",\"marker\":{\"colorbar\":{\"outlinewidth\":0,\"ticks\":\"\"}}}],\"carpet\":[{\"aaxis\":{\"endlinecolor\":\"#2a3f5f\",\"gridcolor\":\"white\",\"linecolor\":\"white\",\"minorgridcolor\":\"white\",\"startlinecolor\":\"#2a3f5f\"},\"baxis\":{\"endlinecolor\":\"#2a3f5f\",\"gridcolor\":\"white\",\"linecolor\":\"white\",\"minorgridcolor\":\"white\",\"startlinecolor\":\"#2a3f5f\"},\"type\":\"carpet\"}],\"table\":[{\"cells\":{\"fill\":{\"color\":\"#EBF0F8\"},\"line\":{\"color\":\"white\"}},\"header\":{\"fill\":{\"color\":\"#C8D4E3\"},\"line\":{\"color\":\"white\"}},\"type\":\"table\"}],\"barpolar\":[{\"marker\":{\"line\":{\"color\":\"#E5ECF6\",\"width\":0.5},\"pattern\":{\"fillmode\":\"overlay\",\"size\":10,\"solidity\":0.2}},\"type\":\"barpolar\"}],\"pie\":[{\"automargin\":true,\"type\":\"pie\"}]},\"layout\":{\"autotypenumbers\":\"strict\",\"colorway\":[\"#636efa\",\"#EF553B\",\"#00cc96\",\"#ab63fa\",\"#FFA15A\",\"#19d3f3\",\"#FF6692\",\"#B6E880\",\"#FF97FF\",\"#FECB52\"],\"font\":{\"color\":\"#2a3f5f\"},\"hovermode\":\"closest\",\"hoverlabel\":{\"align\":\"left\"},\"paper_bgcolor\":\"white\",\"plot_bgcolor\":\"#E5ECF6\",\"polar\":{\"bgcolor\":\"#E5ECF6\",\"angularaxis\":{\"gridcolor\":\"white\",\"linecolor\":\"white\",\"ticks\":\"\"},\"radialaxis\":{\"gridcolor\":\"white\",\"linecolor\":\"white\",\"ticks\":\"\"}},\"ternary\":{\"bgcolor\":\"#E5ECF6\",\"aaxis\":{\"gridcolor\":\"white\",\"linecolor\":\"white\",\"ticks\":\"\"},\"baxis\":{\"gridcolor\":\"white\",\"linecolor\":\"white\",\"ticks\":\"\"},\"caxis\":{\"gridcolor\":\"white\",\"linecolor\":\"white\",\"ticks\":\"\"}},\"coloraxis\":{\"colorbar\":{\"outlinewidth\":0,\"ticks\":\"\"}},\"colorscale\":{\"sequential\":[[0.0,\"#0d0887\"],[0.1111111111111111,\"#46039f\"],[0.2222222222222222,\"#7201a8\"],[0.3333333333333333,\"#9c179e\"],[0.4444444444444444,\"#bd3786\"],[0.5555555555555556,\"#d8576b\"],[0.6666666666666666,\"#ed7953\"],[0.7777777777777778,\"#fb9f3a\"],[0.8888888888888888,\"#fdca26\"],[1.0,\"#f0f921\"]],\"sequentialminus\":[[0.0,\"#0d0887\"],[0.1111111111111111,\"#46039f\"],[0.2222222222222222,\"#7201a8\"],[0.3333333333333333,\"#9c179e\"],[0.4444444444444444,\"#bd3786\"],[0.5555555555555556,\"#d8576b\"],[0.6666666666666666,\"#ed7953\"],[0.7777777777777778,\"#fb9f3a\"],[0.8888888888888888,\"#fdca26\"],[1.0,\"#f0f921\"]],\"diverging\":[[0,\"#8e0152\"],[0.1,\"#c51b7d\"],[0.2,\"#de77ae\"],[0.3,\"#f1b6da\"],[0.4,\"#fde0ef\"],[0.5,\"#f7f7f7\"],[0.6,\"#e6f5d0\"],[0.7,\"#b8e186\"],[0.8,\"#7fbc41\"],[0.9,\"#4d9221\"],[1,\"#276419\"]]},\"xaxis\":{\"gridcolor\":\"white\",\"linecolor\":\"white\",\"ticks\":\"\",\"title\":{\"standoff\":15},\"zerolinecolor\":\"white\",\"automargin\":true,\"zerolinewidth\":2},\"yaxis\":{\"gridcolor\":\"white\",\"linecolor\":\"white\",\"ticks\":\"\",\"title\":{\"standoff\":15},\"zerolinecolor\":\"white\",\"automargin\":true,\"zerolinewidth\":2},\"scene\":{\"xaxis\":{\"backgroundcolor\":\"#E5ECF6\",\"gridcolor\":\"white\",\"linecolor\":\"white\",\"showbackground\":true,\"ticks\":\"\",\"zerolinecolor\":\"white\",\"gridwidth\":2},\"yaxis\":{\"backgroundcolor\":\"#E5ECF6\",\"gridcolor\":\"white\",\"linecolor\":\"white\",\"showbackground\":true,\"ticks\":\"\",\"zerolinecolor\":\"white\",\"gridwidth\":2},\"zaxis\":{\"backgroundcolor\":\"#E5ECF6\",\"gridcolor\":\"white\",\"linecolor\":\"white\",\"showbackground\":true,\"ticks\":\"\",\"zerolinecolor\":\"white\",\"gridwidth\":2}},\"shapedefaults\":{\"line\":{\"color\":\"#2a3f5f\"}},\"annotationdefaults\":{\"arrowcolor\":\"#2a3f5f\",\"arrowhead\":0,\"arrowwidth\":1},\"geo\":{\"bgcolor\":\"white\",\"landcolor\":\"#E5ECF6\",\"subunitcolor\":\"white\",\"showland\":true,\"showlakes\":true,\"lakecolor\":\"white\"},\"title\":{\"x\":0.05},\"mapbox\":{\"style\":\"light\"}}},\"xaxis\":{\"anchor\":\"y\",\"domain\":[0.0,1.0],\"title\":{\"text\":\"Base Model\"},\"categoryorder\":\"array\",\"categoryarray\":[\"SVCLinear\",\"SVM\",\"AdaBoost\",\"Random Forest\",\"Logistic Regression\",\"Decision tree\",\"Naive Bayes\",\"KNN\"],\"tickangle\":0},\"yaxis\":{\"anchor\":\"x\",\"domain\":[0.0,1.0],\"title\":{\"text\":\"Execution Time (s)\"}},\"legend\":{\"title\":{\"text\":\"Base Model\"},\"tracegroupgap\":0},\"title\":{\"text\":\"Execution time comparasion\"},\"barmode\":\"relative\",\"height\":700,\"bargap\":0.2,\"hovermode\":\"x\"},                        {\"responsive\": true}                    ).then(function(){\n",
              "                            \n",
              "var gd = document.getElementById('fbb2f374-7a0c-4072-9bb2-e3b68a8994bc');\n",
              "var x = new MutationObserver(function (mutations, observer) {{\n",
              "        var display = window.getComputedStyle(gd).display;\n",
              "        if (!display || display === 'none') {{\n",
              "            console.log([gd, 'removed!']);\n",
              "            Plotly.purge(gd);\n",
              "            observer.disconnect();\n",
              "        }}\n",
              "}});\n",
              "\n",
              "// Listen for the removal of the full notebook cells\n",
              "var notebookContainer = gd.closest('#notebook-container');\n",
              "if (notebookContainer) {{\n",
              "    x.observe(notebookContainer, {childList: true});\n",
              "}}\n",
              "\n",
              "// Listen for the clearing of the current output cell\n",
              "var outputEl = gd.closest('.output');\n",
              "if (outputEl) {{\n",
              "    x.observe(outputEl, {childList: true});\n",
              "}}\n",
              "\n",
              "                        })                };                            </script>        </div>\n",
              "</body>\n",
              "</html>"
            ]
          },
          "metadata": {},
          "output_type": "display_data"
        }
      ],
      "source": [
        "#Convert 'Execution Time(s)' to numeric for sorting\n",
        "results['Execution Time(s)'] = pd.to_numeric(results['Execution Time(s)'])\n",
        "\n",
        "# Sort the dataframe by 'Execution Time(s)'\n",
        "results = results.sort_values(by='Execution Time(s)', ascending=False)\n",
        "\n",
        "# Bar plot using Plotly Express\n",
        "fig = px.bar(\n",
        "    results,\n",
        "    x='Base Model',\n",
        "    y='Execution Time(s)',\n",
        "    color='Base Model',\n",
        "    text='Execution Time(s)',\n",
        "    title='Execution time comparasion',\n",
        "    labels={'Execution Time(s)': 'Seconds'},\n",
        "    height=700\n",
        ")\n",
        "\n",
        "# Add time values on top of each bar\n",
        "fig.update_traces(texttemplate='%{text:.2f} seconds', textposition='outside')\n",
        "\n",
        "# Customize layout\n",
        "fig.update_layout(\n",
        "    xaxis_title='Base Model',\n",
        "    yaxis_title='Execution Time (s)',\n",
        "    xaxis_tickangle=0,\n",
        "    bargap=0.2,\n",
        "    hovermode='x',\n",
        ")\n",
        "\n",
        "# Show the plot\n",
        "fig.show()"
      ]
    },
    {
      "cell_type": "markdown",
      "metadata": {
        "id": "k22svyS6jVbs"
      },
      "source": [
        "# Data preparation for DL"
      ]
    },
    {
      "cell_type": "code",
      "execution_count": 9,
      "metadata": {
        "colab": {
          "base_uri": "https://localhost:8080/"
        },
        "id": "6aztpca_h1VW",
        "outputId": "7cb479f3-abeb-4852-ca0b-17b95fb3613c"
      },
      "outputs": [
        {
          "name": "stdout",
          "output_type": "stream",
          "text": [
            "torch.Size([64, 1, 28, 28])\n"
          ]
        }
      ],
      "source": [
        "import torchvision.transforms as transforms\n",
        "\n",
        "# Transformações para normalização adicional (média e desvio padrão)\n",
        "transform = transforms.Compose([\n",
        "    transforms.ToTensor(),\n",
        "    transforms.Normalize((0.5,), (0.5,))\n",
        "])\n",
        "\n",
        "# Carregamento do conjunto de dados com transformação\n",
        "train_dataset = datasets.FashionMNIST(root='./data', train=True, transform=transform, download=True)\n",
        "test_dataset = datasets.FashionMNIST(root='./data', train=False, transform=transform, download=True)\n",
        "\n",
        "# Carregamento dos dados\n",
        "train_loader = torch.utils.data.DataLoader(dataset=train_dataset, batch_size=64, shuffle=True)\n",
        "test_loader = torch.utils.data.DataLoader(dataset=test_dataset, batch_size=64, shuffle=False)\n",
        "\n",
        "# Extraindo um batch de dados para exemplos\n",
        "dataiter = iter(train_loader)\n",
        "images, labels = next(dataiter)\n",
        "\n",
        "# Verificando a forma dos dados\n",
        "print(images.shape)  # Saída: torch.Size([64, 1, 28, 28]) - (número de amostras, canais, altura, largura)\n",
        "\n",
        "# Normalizando os rótulos\n",
        "train_y = train_dataset.targets\n",
        "test_y = test_dataset.targets\n"
      ]
    },
    {
      "cell_type": "code",
      "execution_count": 10,
      "metadata": {
        "colab": {
          "base_uri": "https://localhost:8080/"
        },
        "id": "LtjXLsvXjYSf",
        "outputId": "79625d38-535e-42d1-d6bb-86340d8223dd"
      },
      "outputs": [
        {
          "name": "stderr",
          "output_type": "stream",
          "text": [
            "<ipython-input-10-1f900c9c747f>:3: UserWarning:\n",
            "\n",
            "To copy construct from a tensor, it is recommended to use sourceTensor.clone().detach() or sourceTensor.clone().detach().requires_grad_(True), rather than torch.tensor(sourceTensor).\n",
            "\n",
            "<ipython-input-10-1f900c9c747f>:4: UserWarning:\n",
            "\n",
            "To copy construct from a tensor, it is recommended to use sourceTensor.clone().detach() or sourceTensor.clone().detach().requires_grad_(True), rather than torch.tensor(sourceTensor).\n",
            "\n",
            "<ipython-input-10-1f900c9c747f>:5: UserWarning:\n",
            "\n",
            "To copy construct from a tensor, it is recommended to use sourceTensor.clone().detach() or sourceTensor.clone().detach().requires_grad_(True), rather than torch.tensor(sourceTensor).\n",
            "\n",
            "<ipython-input-10-1f900c9c747f>:6: UserWarning:\n",
            "\n",
            "To copy construct from a tensor, it is recommended to use sourceTensor.clone().detach() or sourceTensor.clone().detach().requires_grad_(True), rather than torch.tensor(sourceTensor).\n",
            "\n"
          ]
        }
      ],
      "source": [
        "# prepare the data for training a MLP model\n",
        "train_data_tensor = torch.tensor(train_x, dtype=torch.float)\n",
        "train_labels_tensor = torch.tensor(train_y, dtype=torch.long)\n",
        "test_data_tensor = torch.tensor(test_x, dtype=torch.float)\n",
        "test_labels_tensor = torch.tensor(test_y, dtype=torch.long)\n",
        "\n",
        "# Reshape the data\n",
        "train_data_tensor = train_data_tensor.reshape(-1, 1, 28, 28)\n",
        "test_data_tensor = test_data_tensor.reshape(-1, 1, 28, 28)\n",
        "\n",
        "# Create a dataset and a data loader\n",
        "from torch.utils.data import TensorDataset, DataLoader\n",
        "train_dataset = TensorDataset(train_data_tensor, train_labels_tensor)\n",
        "train_loader = DataLoader(train_dataset, batch_size=64, shuffle=True)"
      ]
    },
    {
      "cell_type": "markdown",
      "metadata": {
        "id": "2jx1ioMnCqC3"
      },
      "source": [
        "# Multilayer Perceptron"
      ]
    },
    {
      "cell_type": "code",
      "execution_count": 11,
      "metadata": {
        "id": "dh_cQPsCCu7Y"
      },
      "outputs": [],
      "source": [
        "mlp_model = torch.nn.Sequential(\n",
        "    torch.nn.Flatten(),\n",
        "    torch.nn.Linear(784, 512),  # Additional dense layer with 256 neurons\n",
        "    torch.nn.ReLU(),\n",
        "    torch.nn.Dropout(0.2),\n",
        "    torch.nn.Linear(512, 256),  # Original dense layer with 128 neurons\n",
        "    torch.nn.ReLU(),\n",
        "    torch.nn.Dropout(0.2),\n",
        "    torch.nn.Linear(256, 128),\n",
        "    torch.nn.ReLU(),\n",
        "    torch.nn.Dropout(0.2),\n",
        "    torch.nn.Linear(128, 64),\n",
        "    torch.nn.Linear(64, 10),\n",
        "\n",
        "    torch.nn.Softmax(dim=1)\n",
        ")\n",
        "\n",
        "\n",
        "# Move the model to GPU\n",
        "mlp_model = mlp_model.to(DEVICE)\n",
        "test_data_tensor = test_data_tensor.to(DEVICE)\n",
        "test_labels_tensor = test_labels_tensor.to(DEVICE)"
      ]
    },
    {
      "cell_type": "code",
      "execution_count": 15,
      "metadata": {
        "colab": {
          "base_uri": "https://localhost:8080/"
        },
        "id": "wEZvHQf-DFL6",
        "outputId": "3ed350cf-1687-414c-d884-722da5edfc52"
      },
      "outputs": [
        {
          "name": "stdout",
          "output_type": "stream",
          "text": [
            "Epoch 1/10, Loss: 1.632645845413208\n",
            "Epoch 2/10, Loss: 1.5933200120925903\n",
            "Epoch 3/10, Loss: 1.705098032951355\n",
            "Epoch 4/10, Loss: 1.6214332580566406\n",
            "Epoch 5/10, Loss: 1.6350212097167969\n",
            "Epoch 6/10, Loss: 1.6254645586013794\n",
            "Epoch 7/10, Loss: 1.6499460935592651\n",
            "Epoch 8/10, Loss: 1.5271286964416504\n",
            "Epoch 9/10, Loss: 1.6486873626708984\n",
            "Epoch 10/10, Loss: 1.6937510967254639\n",
            "Classification Report\n",
            "              precision    recall  f1-score   support\n",
            "\n",
            "           0       0.77      0.81      0.79      1000\n",
            "           1       0.99      0.95      0.97      1000\n",
            "           2       0.79      0.66      0.72      1000\n",
            "           3       0.75      0.91      0.83      1000\n",
            "           4       0.70      0.81      0.75      1000\n",
            "           5       0.95      0.93      0.94      1000\n",
            "           6       0.66      0.51      0.58      1000\n",
            "           7       0.92      0.92      0.92      1000\n",
            "           8       0.95      0.95      0.95      1000\n",
            "           9       0.92      0.94      0.93      1000\n",
            "\n",
            "    accuracy                           0.84     10000\n",
            "   macro avg       0.84      0.84      0.84     10000\n",
            "weighted avg       0.84      0.84      0.84     10000\n",
            "\n",
            "\n",
            "Confusion Matrix\n",
            "[[809   2  11 104   6   3  52   0  13   0]\n",
            " [  3 948   7  33   7   0   0   0   2   0]\n",
            " [ 17   0 663  19 201   1  94   0   5   0]\n",
            " [ 22   9   5 912  31   0  19   0   2   0]\n",
            " [  0   0  55  47 809   1  84   0   4   0]\n",
            " [  1   0   0   2   0 933   0  39   1  24]\n",
            " [197   1  86  82  99   1 514   0  20   0]\n",
            " [  0   0   0   0   0  25   0 918   0  57]\n",
            " [  4   0   7   8   7   6  11   5 952   0]\n",
            " [  0   0   0   1   0  13   0  40   1 945]]\n",
            "\n",
            "True Positive Rate\n",
            "TPR: [0.809 0.948 0.663 0.912 0.809 0.933 0.514 0.918 0.952 0.945]\n",
            "\n",
            "The most difficult class is 6 - Shirt\n",
            "\n",
            "Execution time: 31.261940479278564 seconds\n"
          ]
        }
      ],
      "source": [
        "# Assuming you have defined your model, data loader, optimizer, and loss function\n",
        "execution_time = train_neural_network('MLP', mlp_model, train_loader, 10)\n",
        "\n",
        "# Assuming you have defined your model, test data tensor, and test labels tensor\n",
        "test_accuracy = evaluate_model('MLP', mlp_model, test_data_tensor, test_labels_tensor, execution_time)\n"
      ]
    },
    {
      "cell_type": "markdown",
      "metadata": {
        "id": "3zV0XIuwCvbL"
      },
      "source": [
        "# Convolutional network"
      ]
    },
    {
      "cell_type": "code",
      "execution_count": 16,
      "metadata": {
        "id": "cPGE7nE-Suz8"
      },
      "outputs": [],
      "source": [
        "# convolutional neural network\n",
        "cnn_model = torch.nn.Sequential(\n",
        "    torch.nn.Conv2d(1, 32, kernel_size=3, padding=1),\n",
        "    torch.nn.ReLU(),\n",
        "    torch.nn.MaxPool2d(kernel_size=2, stride=2),\n",
        "    torch.nn.Conv2d(32, 64, kernel_size=3, padding=1),\n",
        "    torch.nn.ReLU(),\n",
        "    torch.nn.MaxPool2d(kernel_size=2, stride=2),\n",
        "    torch.nn.Conv2d(64, 128, kernel_size=3, padding=1),\n",
        "    torch.nn.ReLU(),\n",
        "    torch.nn.MaxPool2d(kernel_size=2, stride=2),\n",
        "    torch.nn.Flatten(),\n",
        "\n",
        "    torch.nn.Linear(128 * (28 // 8) * (28 // 8), 10),  # Adjust the input size\n",
        "    torch.nn.ReLU(),\n",
        "    torch.nn.Linear(10, 10)  # No activation function needed for the last linear layer\n",
        ")\n",
        "\n",
        "# Move the model to GPU\n",
        "cnn_model = cnn_model.to(DEVICE)"
      ]
    },
    {
      "cell_type": "code",
      "execution_count": 17,
      "metadata": {
        "colab": {
          "base_uri": "https://localhost:8080/"
        },
        "id": "HGzMjVn_HZE3",
        "outputId": "40f4d5f0-2e37-4ad8-da70-7cbc64514e60"
      },
      "outputs": [
        {
          "name": "stdout",
          "output_type": "stream",
          "text": [
            "Epoch 1/10, Loss: 0.4333302080631256\n",
            "Epoch 2/10, Loss: 0.4021313190460205\n",
            "Epoch 3/10, Loss: 0.15140871703624725\n",
            "Epoch 4/10, Loss: 0.4650236666202545\n",
            "Epoch 5/10, Loss: 0.29488059878349304\n",
            "Epoch 6/10, Loss: 0.1652459353208542\n",
            "Epoch 7/10, Loss: 0.1362689882516861\n",
            "Epoch 8/10, Loss: 0.12583185732364655\n",
            "Epoch 9/10, Loss: 0.25474604964256287\n",
            "Epoch 10/10, Loss: 0.20353783667087555\n",
            "Classification Report\n",
            "              precision    recall  f1-score   support\n",
            "\n",
            "           0       0.79      0.91      0.84      1000\n",
            "           1       0.99      0.97      0.98      1000\n",
            "           2       0.83      0.89      0.86      1000\n",
            "           3       0.93      0.86      0.89      1000\n",
            "           4       0.84      0.85      0.84      1000\n",
            "           5       0.99      0.98      0.98      1000\n",
            "           6       0.75      0.62      0.68      1000\n",
            "           7       0.93      0.99      0.96      1000\n",
            "           8       0.97      0.98      0.98      1000\n",
            "           9       0.99      0.94      0.96      1000\n",
            "\n",
            "    accuracy                           0.90     10000\n",
            "   macro avg       0.90      0.90      0.90     10000\n",
            "weighted avg       0.90      0.90      0.90     10000\n",
            "\n",
            "\n",
            "Confusion Matrix\n",
            "[[911   0  21  11   2   1  46   0   8   0]\n",
            " [  1 973   1  18   5   0   1   0   1   0]\n",
            " [ 10   2 888   3  42   0  52   0   3   0]\n",
            " [ 33   6   5 858  47   0  46   0   5   0]\n",
            " [  2   1  69  10 853   0  61   0   4   0]\n",
            " [  0   0   0   1   0 976   0  16   0   7]\n",
            " [201   0  82  20  65   0 622   0  10   0]\n",
            " [  0   0   0   0   0   6   0 987   0   7]\n",
            " [  2   2   1   0   5   1   1   5 983   0]\n",
            " [  0   0   0   0   0   6   0  53   1 940]]\n",
            "\n",
            "True Positive Rate\n",
            "TPR: [0.911 0.973 0.888 0.858 0.853 0.976 0.622 0.987 0.983 0.94 ]\n",
            "\n",
            "The most difficult class is 6 - Shirt\n",
            "\n",
            "Execution time: 51.384363651275635 seconds\n"
          ]
        }
      ],
      "source": [
        "# Assuming you have defined your model, data loader, optimizer, and loss function\n",
        "execution_time = train_neural_network('CNN_model', cnn_model, train_loader, 10)\n",
        "\n",
        "# Assuming you have defined your model, test data tensor, and test labels tensor\n",
        "test_accuracy = evaluate_model('CNN_model', cnn_model, test_data_tensor, test_labels_tensor, execution_time)\n"
      ]
    },
    {
      "cell_type": "markdown",
      "metadata": {
        "id": "sUxkMdIuC1-8"
      },
      "source": [
        "# Transfer learning models"
      ]
    },
    {
      "cell_type": "markdown",
      "metadata": {
        "id": "y4y2s-ZatVxN"
      },
      "source": [
        "## Downloading the dataset"
      ]
    },
    {
      "cell_type": "code",
      "execution_count": 18,
      "metadata": {
        "id": "kOKBqn3mLTjg"
      },
      "outputs": [],
      "source": [
        "# Normalize the data\n",
        "preprocess  = transforms.Compose([\n",
        "    transforms.Resize(224),\n",
        "    transforms.Grayscale(num_output_channels=3),  # Convert to pseudo-RGB\n",
        "    transforms.ToTensor(),\n",
        "    transforms.Normalize((0.5, 0.5, 0.5), (0.5, 0.5, 0.5))\n",
        "])\n"
      ]
    },
    {
      "cell_type": "code",
      "execution_count": 19,
      "metadata": {
        "id": "WM0cOk9PJ8aP"
      },
      "outputs": [],
      "source": [
        "# Load the FashionMNIST dataset\n",
        "train_dataset = torchvision.datasets.FashionMNIST(root='./data', train=True, download=True, transform=preprocess)\n",
        "test_dataset = torchvision.datasets.FashionMNIST(root='./data', train=False, download=True, transform=preprocess)"
      ]
    },
    {
      "cell_type": "code",
      "execution_count": 20,
      "metadata": {
        "id": "U01qZWzCKBPT"
      },
      "outputs": [],
      "source": [
        "train_loader = torch.utils.data.DataLoader(train_dataset, batch_size=128, shuffle=True)\n",
        "test_loader = torch.utils.data.DataLoader(test_dataset, batch_size=128, shuffle=False)"
      ]
    },
    {
      "cell_type": "code",
      "execution_count": 21,
      "metadata": {
        "colab": {
          "base_uri": "https://localhost:8080/"
        },
        "id": "gvxRDbeaMDLy",
        "outputId": "1bd4b5f5-4b9f-4371-f042-d16396d67df6"
      },
      "outputs": [
        {
          "name": "stderr",
          "output_type": "stream",
          "text": [
            "<ipython-input-21-9f9ab7a26d33>:2: UserWarning:\n",
            "\n",
            "To copy construct from a tensor, it is recommended to use sourceTensor.clone().detach() or sourceTensor.clone().detach().requires_grad_(True), rather than torch.tensor(sourceTensor).\n",
            "\n",
            "<ipython-input-21-9f9ab7a26d33>:4: UserWarning:\n",
            "\n",
            "To copy construct from a tensor, it is recommended to use sourceTensor.clone().detach() or sourceTensor.clone().detach().requires_grad_(True), rather than torch.tensor(sourceTensor).\n",
            "\n"
          ]
        }
      ],
      "source": [
        "# Expand the dimensions of the data to be compatible with the pre-trained models\n",
        "train_data_tensor = torch.tensor(train_x, dtype=torch.float)\n",
        "train_data_tensor = train_data_tensor.unsqueeze(1)\n",
        "test_data_tensor = torch.tensor(test_x, dtype=torch.float)\n",
        "test_data_tensor = test_data_tensor.unsqueeze(1)\n",
        "\n",
        "# Encode the labels\n",
        "from sklearn.preprocessing import LabelEncoder\n",
        "le = LabelEncoder()\n",
        "train_labels_tensor = torch.tensor(le.fit_transform(train_y), dtype=torch.long)\n",
        "test_labels_tensor = torch.tensor(le.transform(test_y), dtype=torch.long)\n"
      ]
    },
    {
      "cell_type": "markdown",
      "metadata": {
        "id": "sQ46At98TPpb"
      },
      "source": [
        "## VGG16"
      ]
    },
    {
      "cell_type": "code",
      "execution_count": 22,
      "metadata": {
        "colab": {
          "base_uri": "https://localhost:8080/"
        },
        "id": "u2fUig8PBIa4",
        "outputId": "8f7c0586-840d-4d97-e718-1a3e96285b17"
      },
      "outputs": [
        {
          "name": "stderr",
          "output_type": "stream",
          "text": [
            "Downloading: \"https://github.com/pytorch/vision/zipball/v0.10.0\" to /root/.cache/torch/hub/v0.10.0.zip\n",
            "Downloading: \"https://download.pytorch.org/models/vgg16-397923af.pth\" to /root/.cache/torch/hub/checkpoints/vgg16-397923af.pth\n",
            "100%|██████████| 528M/528M [00:09<00:00, 55.7MB/s]\n"
          ]
        }
      ],
      "source": [
        "# Load VGG16 model from pytorch hub and set the pretrained parameter to True to load the pretrained weights for the model from ImageNet\n",
        "vgg16_model = torch.hub.load('pytorch/vision:v0.10.0', 'vgg16', weights = 'VGG16_Weights.DEFAULT')\n",
        "# Print the model architecture\n",
        "#print(vgg16_model)"
      ]
    },
    {
      "cell_type": "code",
      "execution_count": null,
      "metadata": {
        "id": "260nXCF-JQKR"
      },
      "outputs": [],
      "source": [
        "vgg16_model.to('cuda')  # Move the model to GPU\n",
        "execution_time = train_neural_network('VGG16', vgg16_model, train_loader, 10)\n",
        "\n",
        "# Assuming you have defined your model, test data tensor, and test labels tensor\n",
        "test_accuracy = evaluate_model('VGG16', vgg16_model, test_data_tensor, test_labels_tensor, execution_time)\n"
      ]
    },
    {
      "cell_type": "code",
      "execution_count": null,
      "metadata": {},
      "outputs": [],
      "source": [
        "# Create a torchviz image of this model\n",
        "from torchviz import make_dot\n",
        "make_dot(vgg16_model(test_data_tensor), params=dict(vgg16_model.named_parameters())).render(\"vgg16_model\", format=\"png\")"
      ]
    },
    {
      "cell_type": "markdown",
      "metadata": {
        "id": "5u7Ny5GL25Oz"
      },
      "source": [
        "## ResNet 50"
      ]
    },
    {
      "cell_type": "code",
      "execution_count": null,
      "metadata": {
        "id": "OoaEbx8ZRt6A"
      },
      "outputs": [],
      "source": [
        "resnet50_model = torch.hub.load('NVIDIA/DeepLearningExamples:torchhub', 'nvidia_resnet50', weights='ResNet50_Weights.DEFAULT')\n",
        "resnet50_model.to(DEVICE)  # Move the model to GPU"
      ]
    },
    {
      "cell_type": "code",
      "execution_count": null,
      "metadata": {
        "id": "XO_FxbewWwjf"
      },
      "outputs": [],
      "source": [
        "execution_time = train_neural_network('ResNet50', resnet50_model, train_loader, 10)\n",
        "\n",
        "# Assuming you have defined your model, test data tensor, and test labels tensor\n",
        "test_accuracy = evaluate_model('ResNet50', resnet50_model, test_data_tensor, test_labels_tensor, execution_time)"
      ]
    },
    {
      "cell_type": "code",
      "execution_count": null,
      "metadata": {},
      "outputs": [],
      "source": [
        "# Create a torchviz image of this model\n",
        "from torchviz import make_dot\n",
        "make_dot(resnet50_model(test_data_tensor), params=dict(resnet50_model.named_parameters())).render(\"resnet50_model\", format=\"png\")\n"
      ]
    },
    {
      "cell_type": "markdown",
      "metadata": {
        "id": "lvpAbVeUN5Xz"
      },
      "source": [
        "## GoogLeNet"
      ]
    },
    {
      "cell_type": "code",
      "execution_count": null,
      "metadata": {
        "id": "v0lm-UVHXFa3"
      },
      "outputs": [],
      "source": [
        "googlenet = torch.hub.load('pytorch/vision:v0.10.0', 'googlenet', weights='GoogLeNet_Weights.DEFAULT')\n",
        "googlenet.to(DEVICE)"
      ]
    },
    {
      "cell_type": "code",
      "execution_count": null,
      "metadata": {
        "id": "9OSeBH_PXKlk"
      },
      "outputs": [],
      "source": [
        "execution_time = train_neural_network('GoogLeNet', googlenet, train_loader, 10)\n",
        "test_accuracy = evaluate_model('GoogLeNet', googlenet, test_data_tensor, test_labels_tensor, execution_time)"
      ]
    },
    {
      "cell_type": "markdown",
      "metadata": {
        "id": "NpiZ9wBtC9OS"
      },
      "source": [
        "# Comparative analysis"
      ]
    },
    {
      "cell_type": "code",
      "execution_count": null,
      "metadata": {
        "colab": {
          "base_uri": "https://localhost:8080/",
          "height": 1000
        },
        "id": "K0dPyNTdC-gN",
        "outputId": "472fc5dc-abf6-4c89-9c2c-767deb66c498"
      },
      "outputs": [
        {
          "name": "stdout",
          "output_type": "stream",
          "text": [
            "                  Model  Accuracy Execution Time(s)\n",
            "0         Random Forest    0.8773           98.2990\n",
            "1             SVCLinear    0.8463          362.3468\n",
            "2                   SVM    0.9002          258.6090\n",
            "3         Decision tree    0.8008           21.8467\n",
            "4                   KNN    0.8577            0.0227\n",
            "5   Logistic Regression    0.8413           26.3970\n",
            "6           Naive Bayes    0.5856            0.2897\n",
            "7              AdaBoost    0.5928          240.3844\n",
            "8                 VGG16    0.7850            8.5534\n",
            "9                 VGG19    0.8290            9.5304\n",
            "10             ResNet50    0.8250           12.0556\n",
            "11            ResNet152    0.3850           22.9346\n",
            "12          InceptionV3    0.6310            9.7400\n",
            "13          DenseNet121    0.6790           13.7981\n",
            "14          DenseNet201    0.6580          121.0056\n",
            "15                  MLP    0.9111           27.8681\n",
            "16            CNN_model    0.9111           27.8681\n"
          ]
        },
        {
          "data": {
            "text/html": [
              "<html>\n",
              "<head><meta charset=\"utf-8\" /></head>\n",
              "<body>\n",
              "    <div>            <script src=\"https://cdnjs.cloudflare.com/ajax/libs/mathjax/2.7.5/MathJax.js?config=TeX-AMS-MML_SVG\"></script><script type=\"text/javascript\">if (window.MathJax && window.MathJax.Hub && window.MathJax.Hub.Config) {window.MathJax.Hub.Config({SVG: {font: \"STIX-Web\"}});}</script>                <script type=\"text/javascript\">window.PlotlyConfig = {MathJaxConfig: 'local'};</script>\n",
              "        <script charset=\"utf-8\" src=\"https://cdn.plot.ly/plotly-2.24.1.min.js\"></script>                <div id=\"3fd350c0-76a6-48ef-bf8e-ddb2c6fc09e1\" class=\"plotly-graph-div\" style=\"height:700px; width:100%;\"></div>            <script type=\"text/javascript\">                                    window.PLOTLYENV=window.PLOTLYENV || {};                                    if (document.getElementById(\"3fd350c0-76a6-48ef-bf8e-ddb2c6fc09e1\")) {                    Plotly.newPlot(                        \"3fd350c0-76a6-48ef-bf8e-ddb2c6fc09e1\",                        [{\"alignmentgroup\":\"True\",\"hovertemplate\":\"Model=%{x}\\u003cbr\\u003eAccuracy=%{text}\\u003cextra\\u003e\\u003c\\u002fextra\\u003e\",\"legendgroup\":\"CNN_model\",\"marker\":{\"color\":\"#636efa\",\"pattern\":{\"shape\":\"\"}},\"name\":\"CNN_model\",\"offsetgroup\":\"CNN_model\",\"orientation\":\"v\",\"showlegend\":true,\"text\":[0.9111],\"textposition\":\"outside\",\"x\":[\"CNN_model\"],\"xaxis\":\"x\",\"y\":[0.9111],\"yaxis\":\"y\",\"type\":\"bar\",\"texttemplate\":\"%{text:.2%}\"},{\"alignmentgroup\":\"True\",\"hovertemplate\":\"Model=%{x}\\u003cbr\\u003eAccuracy=%{text}\\u003cextra\\u003e\\u003c\\u002fextra\\u003e\",\"legendgroup\":\"MLP\",\"marker\":{\"color\":\"#EF553B\",\"pattern\":{\"shape\":\"\"}},\"name\":\"MLP\",\"offsetgroup\":\"MLP\",\"orientation\":\"v\",\"showlegend\":true,\"text\":[0.9111],\"textposition\":\"outside\",\"x\":[\"MLP\"],\"xaxis\":\"x\",\"y\":[0.9111],\"yaxis\":\"y\",\"type\":\"bar\",\"texttemplate\":\"%{text:.2%}\"},{\"alignmentgroup\":\"True\",\"hovertemplate\":\"Model=%{x}\\u003cbr\\u003eAccuracy=%{text}\\u003cextra\\u003e\\u003c\\u002fextra\\u003e\",\"legendgroup\":\"SVM\",\"marker\":{\"color\":\"#00cc96\",\"pattern\":{\"shape\":\"\"}},\"name\":\"SVM\",\"offsetgroup\":\"SVM\",\"orientation\":\"v\",\"showlegend\":true,\"text\":[0.9002],\"textposition\":\"outside\",\"x\":[\"SVM\"],\"xaxis\":\"x\",\"y\":[0.9002],\"yaxis\":\"y\",\"type\":\"bar\",\"texttemplate\":\"%{text:.2%}\"},{\"alignmentgroup\":\"True\",\"hovertemplate\":\"Model=%{x}\\u003cbr\\u003eAccuracy=%{text}\\u003cextra\\u003e\\u003c\\u002fextra\\u003e\",\"legendgroup\":\"Random Forest\",\"marker\":{\"color\":\"#ab63fa\",\"pattern\":{\"shape\":\"\"}},\"name\":\"Random Forest\",\"offsetgroup\":\"Random Forest\",\"orientation\":\"v\",\"showlegend\":true,\"text\":[0.8773],\"textposition\":\"outside\",\"x\":[\"Random Forest\"],\"xaxis\":\"x\",\"y\":[0.8773],\"yaxis\":\"y\",\"type\":\"bar\",\"texttemplate\":\"%{text:.2%}\"},{\"alignmentgroup\":\"True\",\"hovertemplate\":\"Model=%{x}\\u003cbr\\u003eAccuracy=%{text}\\u003cextra\\u003e\\u003c\\u002fextra\\u003e\",\"legendgroup\":\"KNN\",\"marker\":{\"color\":\"#FFA15A\",\"pattern\":{\"shape\":\"\"}},\"name\":\"KNN\",\"offsetgroup\":\"KNN\",\"orientation\":\"v\",\"showlegend\":true,\"text\":[0.8577],\"textposition\":\"outside\",\"x\":[\"KNN\"],\"xaxis\":\"x\",\"y\":[0.8577],\"yaxis\":\"y\",\"type\":\"bar\",\"texttemplate\":\"%{text:.2%}\"},{\"alignmentgroup\":\"True\",\"hovertemplate\":\"Model=%{x}\\u003cbr\\u003eAccuracy=%{text}\\u003cextra\\u003e\\u003c\\u002fextra\\u003e\",\"legendgroup\":\"SVCLinear\",\"marker\":{\"color\":\"#19d3f3\",\"pattern\":{\"shape\":\"\"}},\"name\":\"SVCLinear\",\"offsetgroup\":\"SVCLinear\",\"orientation\":\"v\",\"showlegend\":true,\"text\":[0.8463],\"textposition\":\"outside\",\"x\":[\"SVCLinear\"],\"xaxis\":\"x\",\"y\":[0.8463],\"yaxis\":\"y\",\"type\":\"bar\",\"texttemplate\":\"%{text:.2%}\"},{\"alignmentgroup\":\"True\",\"hovertemplate\":\"Model=%{x}\\u003cbr\\u003eAccuracy=%{text}\\u003cextra\\u003e\\u003c\\u002fextra\\u003e\",\"legendgroup\":\"Logistic Regression\",\"marker\":{\"color\":\"#FF6692\",\"pattern\":{\"shape\":\"\"}},\"name\":\"Logistic Regression\",\"offsetgroup\":\"Logistic Regression\",\"orientation\":\"v\",\"showlegend\":true,\"text\":[0.8413],\"textposition\":\"outside\",\"x\":[\"Logistic Regression\"],\"xaxis\":\"x\",\"y\":[0.8413],\"yaxis\":\"y\",\"type\":\"bar\",\"texttemplate\":\"%{text:.2%}\"},{\"alignmentgroup\":\"True\",\"hovertemplate\":\"Model=%{x}\\u003cbr\\u003eAccuracy=%{text}\\u003cextra\\u003e\\u003c\\u002fextra\\u003e\",\"legendgroup\":\"VGG19\",\"marker\":{\"color\":\"#B6E880\",\"pattern\":{\"shape\":\"\"}},\"name\":\"VGG19\",\"offsetgroup\":\"VGG19\",\"orientation\":\"v\",\"showlegend\":true,\"text\":[0.829],\"textposition\":\"outside\",\"x\":[\"VGG19\"],\"xaxis\":\"x\",\"y\":[0.829],\"yaxis\":\"y\",\"type\":\"bar\",\"texttemplate\":\"%{text:.2%}\"},{\"alignmentgroup\":\"True\",\"hovertemplate\":\"Model=%{x}\\u003cbr\\u003eAccuracy=%{text}\\u003cextra\\u003e\\u003c\\u002fextra\\u003e\",\"legendgroup\":\"ResNet50\",\"marker\":{\"color\":\"#FF97FF\",\"pattern\":{\"shape\":\"\"}},\"name\":\"ResNet50\",\"offsetgroup\":\"ResNet50\",\"orientation\":\"v\",\"showlegend\":true,\"text\":[0.825],\"textposition\":\"outside\",\"x\":[\"ResNet50\"],\"xaxis\":\"x\",\"y\":[0.825],\"yaxis\":\"y\",\"type\":\"bar\",\"texttemplate\":\"%{text:.2%}\"},{\"alignmentgroup\":\"True\",\"hovertemplate\":\"Model=%{x}\\u003cbr\\u003eAccuracy=%{text}\\u003cextra\\u003e\\u003c\\u002fextra\\u003e\",\"legendgroup\":\"Decision tree\",\"marker\":{\"color\":\"#FECB52\",\"pattern\":{\"shape\":\"\"}},\"name\":\"Decision tree\",\"offsetgroup\":\"Decision tree\",\"orientation\":\"v\",\"showlegend\":true,\"text\":[0.8008],\"textposition\":\"outside\",\"x\":[\"Decision tree\"],\"xaxis\":\"x\",\"y\":[0.8008],\"yaxis\":\"y\",\"type\":\"bar\",\"texttemplate\":\"%{text:.2%}\"},{\"alignmentgroup\":\"True\",\"hovertemplate\":\"Model=%{x}\\u003cbr\\u003eAccuracy=%{text}\\u003cextra\\u003e\\u003c\\u002fextra\\u003e\",\"legendgroup\":\"VGG16\",\"marker\":{\"color\":\"#636efa\",\"pattern\":{\"shape\":\"\"}},\"name\":\"VGG16\",\"offsetgroup\":\"VGG16\",\"orientation\":\"v\",\"showlegend\":true,\"text\":[0.785],\"textposition\":\"outside\",\"x\":[\"VGG16\"],\"xaxis\":\"x\",\"y\":[0.785],\"yaxis\":\"y\",\"type\":\"bar\",\"texttemplate\":\"%{text:.2%}\"},{\"alignmentgroup\":\"True\",\"hovertemplate\":\"Model=%{x}\\u003cbr\\u003eAccuracy=%{text}\\u003cextra\\u003e\\u003c\\u002fextra\\u003e\",\"legendgroup\":\"DenseNet121\",\"marker\":{\"color\":\"#EF553B\",\"pattern\":{\"shape\":\"\"}},\"name\":\"DenseNet121\",\"offsetgroup\":\"DenseNet121\",\"orientation\":\"v\",\"showlegend\":true,\"text\":[0.679],\"textposition\":\"outside\",\"x\":[\"DenseNet121\"],\"xaxis\":\"x\",\"y\":[0.679],\"yaxis\":\"y\",\"type\":\"bar\",\"texttemplate\":\"%{text:.2%}\"},{\"alignmentgroup\":\"True\",\"hovertemplate\":\"Model=%{x}\\u003cbr\\u003eAccuracy=%{text}\\u003cextra\\u003e\\u003c\\u002fextra\\u003e\",\"legendgroup\":\"DenseNet201\",\"marker\":{\"color\":\"#00cc96\",\"pattern\":{\"shape\":\"\"}},\"name\":\"DenseNet201\",\"offsetgroup\":\"DenseNet201\",\"orientation\":\"v\",\"showlegend\":true,\"text\":[0.658],\"textposition\":\"outside\",\"x\":[\"DenseNet201\"],\"xaxis\":\"x\",\"y\":[0.658],\"yaxis\":\"y\",\"type\":\"bar\",\"texttemplate\":\"%{text:.2%}\"},{\"alignmentgroup\":\"True\",\"hovertemplate\":\"Model=%{x}\\u003cbr\\u003eAccuracy=%{text}\\u003cextra\\u003e\\u003c\\u002fextra\\u003e\",\"legendgroup\":\"InceptionV3\",\"marker\":{\"color\":\"#ab63fa\",\"pattern\":{\"shape\":\"\"}},\"name\":\"InceptionV3\",\"offsetgroup\":\"InceptionV3\",\"orientation\":\"v\",\"showlegend\":true,\"text\":[0.631],\"textposition\":\"outside\",\"x\":[\"InceptionV3\"],\"xaxis\":\"x\",\"y\":[0.631],\"yaxis\":\"y\",\"type\":\"bar\",\"texttemplate\":\"%{text:.2%}\"},{\"alignmentgroup\":\"True\",\"hovertemplate\":\"Model=%{x}\\u003cbr\\u003eAccuracy=%{text}\\u003cextra\\u003e\\u003c\\u002fextra\\u003e\",\"legendgroup\":\"AdaBoost\",\"marker\":{\"color\":\"#FFA15A\",\"pattern\":{\"shape\":\"\"}},\"name\":\"AdaBoost\",\"offsetgroup\":\"AdaBoost\",\"orientation\":\"v\",\"showlegend\":true,\"text\":[0.5928],\"textposition\":\"outside\",\"x\":[\"AdaBoost\"],\"xaxis\":\"x\",\"y\":[0.5928],\"yaxis\":\"y\",\"type\":\"bar\",\"texttemplate\":\"%{text:.2%}\"},{\"alignmentgroup\":\"True\",\"hovertemplate\":\"Model=%{x}\\u003cbr\\u003eAccuracy=%{text}\\u003cextra\\u003e\\u003c\\u002fextra\\u003e\",\"legendgroup\":\"Naive Bayes\",\"marker\":{\"color\":\"#19d3f3\",\"pattern\":{\"shape\":\"\"}},\"name\":\"Naive Bayes\",\"offsetgroup\":\"Naive Bayes\",\"orientation\":\"v\",\"showlegend\":true,\"text\":[0.5856],\"textposition\":\"outside\",\"x\":[\"Naive Bayes\"],\"xaxis\":\"x\",\"y\":[0.5856],\"yaxis\":\"y\",\"type\":\"bar\",\"texttemplate\":\"%{text:.2%}\"},{\"alignmentgroup\":\"True\",\"hovertemplate\":\"Model=%{x}\\u003cbr\\u003eAccuracy=%{text}\\u003cextra\\u003e\\u003c\\u002fextra\\u003e\",\"legendgroup\":\"ResNet152\",\"marker\":{\"color\":\"#FF6692\",\"pattern\":{\"shape\":\"\"}},\"name\":\"ResNet152\",\"offsetgroup\":\"ResNet152\",\"orientation\":\"v\",\"showlegend\":true,\"text\":[0.385],\"textposition\":\"outside\",\"x\":[\"ResNet152\"],\"xaxis\":\"x\",\"y\":[0.385],\"yaxis\":\"y\",\"type\":\"bar\",\"texttemplate\":\"%{text:.2%}\"}],                        {\"template\":{\"data\":{\"histogram2dcontour\":[{\"type\":\"histogram2dcontour\",\"colorbar\":{\"outlinewidth\":0,\"ticks\":\"\"},\"colorscale\":[[0.0,\"#0d0887\"],[0.1111111111111111,\"#46039f\"],[0.2222222222222222,\"#7201a8\"],[0.3333333333333333,\"#9c179e\"],[0.4444444444444444,\"#bd3786\"],[0.5555555555555556,\"#d8576b\"],[0.6666666666666666,\"#ed7953\"],[0.7777777777777778,\"#fb9f3a\"],[0.8888888888888888,\"#fdca26\"],[1.0,\"#f0f921\"]]}],\"choropleth\":[{\"type\":\"choropleth\",\"colorbar\":{\"outlinewidth\":0,\"ticks\":\"\"}}],\"histogram2d\":[{\"type\":\"histogram2d\",\"colorbar\":{\"outlinewidth\":0,\"ticks\":\"\"},\"colorscale\":[[0.0,\"#0d0887\"],[0.1111111111111111,\"#46039f\"],[0.2222222222222222,\"#7201a8\"],[0.3333333333333333,\"#9c179e\"],[0.4444444444444444,\"#bd3786\"],[0.5555555555555556,\"#d8576b\"],[0.6666666666666666,\"#ed7953\"],[0.7777777777777778,\"#fb9f3a\"],[0.8888888888888888,\"#fdca26\"],[1.0,\"#f0f921\"]]}],\"heatmap\":[{\"type\":\"heatmap\",\"colorbar\":{\"outlinewidth\":0,\"ticks\":\"\"},\"colorscale\":[[0.0,\"#0d0887\"],[0.1111111111111111,\"#46039f\"],[0.2222222222222222,\"#7201a8\"],[0.3333333333333333,\"#9c179e\"],[0.4444444444444444,\"#bd3786\"],[0.5555555555555556,\"#d8576b\"],[0.6666666666666666,\"#ed7953\"],[0.7777777777777778,\"#fb9f3a\"],[0.8888888888888888,\"#fdca26\"],[1.0,\"#f0f921\"]]}],\"heatmapgl\":[{\"type\":\"heatmapgl\",\"colorbar\":{\"outlinewidth\":0,\"ticks\":\"\"},\"colorscale\":[[0.0,\"#0d0887\"],[0.1111111111111111,\"#46039f\"],[0.2222222222222222,\"#7201a8\"],[0.3333333333333333,\"#9c179e\"],[0.4444444444444444,\"#bd3786\"],[0.5555555555555556,\"#d8576b\"],[0.6666666666666666,\"#ed7953\"],[0.7777777777777778,\"#fb9f3a\"],[0.8888888888888888,\"#fdca26\"],[1.0,\"#f0f921\"]]}],\"contourcarpet\":[{\"type\":\"contourcarpet\",\"colorbar\":{\"outlinewidth\":0,\"ticks\":\"\"}}],\"contour\":[{\"type\":\"contour\",\"colorbar\":{\"outlinewidth\":0,\"ticks\":\"\"},\"colorscale\":[[0.0,\"#0d0887\"],[0.1111111111111111,\"#46039f\"],[0.2222222222222222,\"#7201a8\"],[0.3333333333333333,\"#9c179e\"],[0.4444444444444444,\"#bd3786\"],[0.5555555555555556,\"#d8576b\"],[0.6666666666666666,\"#ed7953\"],[0.7777777777777778,\"#fb9f3a\"],[0.8888888888888888,\"#fdca26\"],[1.0,\"#f0f921\"]]}],\"surface\":[{\"type\":\"surface\",\"colorbar\":{\"outlinewidth\":0,\"ticks\":\"\"},\"colorscale\":[[0.0,\"#0d0887\"],[0.1111111111111111,\"#46039f\"],[0.2222222222222222,\"#7201a8\"],[0.3333333333333333,\"#9c179e\"],[0.4444444444444444,\"#bd3786\"],[0.5555555555555556,\"#d8576b\"],[0.6666666666666666,\"#ed7953\"],[0.7777777777777778,\"#fb9f3a\"],[0.8888888888888888,\"#fdca26\"],[1.0,\"#f0f921\"]]}],\"mesh3d\":[{\"type\":\"mesh3d\",\"colorbar\":{\"outlinewidth\":0,\"ticks\":\"\"}}],\"scatter\":[{\"fillpattern\":{\"fillmode\":\"overlay\",\"size\":10,\"solidity\":0.2},\"type\":\"scatter\"}],\"parcoords\":[{\"type\":\"parcoords\",\"line\":{\"colorbar\":{\"outlinewidth\":0,\"ticks\":\"\"}}}],\"scatterpolargl\":[{\"type\":\"scatterpolargl\",\"marker\":{\"colorbar\":{\"outlinewidth\":0,\"ticks\":\"\"}}}],\"bar\":[{\"error_x\":{\"color\":\"#2a3f5f\"},\"error_y\":{\"color\":\"#2a3f5f\"},\"marker\":{\"line\":{\"color\":\"#E5ECF6\",\"width\":0.5},\"pattern\":{\"fillmode\":\"overlay\",\"size\":10,\"solidity\":0.2}},\"type\":\"bar\"}],\"scattergeo\":[{\"type\":\"scattergeo\",\"marker\":{\"colorbar\":{\"outlinewidth\":0,\"ticks\":\"\"}}}],\"scatterpolar\":[{\"type\":\"scatterpolar\",\"marker\":{\"colorbar\":{\"outlinewidth\":0,\"ticks\":\"\"}}}],\"histogram\":[{\"marker\":{\"pattern\":{\"fillmode\":\"overlay\",\"size\":10,\"solidity\":0.2}},\"type\":\"histogram\"}],\"scattergl\":[{\"type\":\"scattergl\",\"marker\":{\"colorbar\":{\"outlinewidth\":0,\"ticks\":\"\"}}}],\"scatter3d\":[{\"type\":\"scatter3d\",\"line\":{\"colorbar\":{\"outlinewidth\":0,\"ticks\":\"\"}},\"marker\":{\"colorbar\":{\"outlinewidth\":0,\"ticks\":\"\"}}}],\"scattermapbox\":[{\"type\":\"scattermapbox\",\"marker\":{\"colorbar\":{\"outlinewidth\":0,\"ticks\":\"\"}}}],\"scatterternary\":[{\"type\":\"scatterternary\",\"marker\":{\"colorbar\":{\"outlinewidth\":0,\"ticks\":\"\"}}}],\"scattercarpet\":[{\"type\":\"scattercarpet\",\"marker\":{\"colorbar\":{\"outlinewidth\":0,\"ticks\":\"\"}}}],\"carpet\":[{\"aaxis\":{\"endlinecolor\":\"#2a3f5f\",\"gridcolor\":\"white\",\"linecolor\":\"white\",\"minorgridcolor\":\"white\",\"startlinecolor\":\"#2a3f5f\"},\"baxis\":{\"endlinecolor\":\"#2a3f5f\",\"gridcolor\":\"white\",\"linecolor\":\"white\",\"minorgridcolor\":\"white\",\"startlinecolor\":\"#2a3f5f\"},\"type\":\"carpet\"}],\"table\":[{\"cells\":{\"fill\":{\"color\":\"#EBF0F8\"},\"line\":{\"color\":\"white\"}},\"header\":{\"fill\":{\"color\":\"#C8D4E3\"},\"line\":{\"color\":\"white\"}},\"type\":\"table\"}],\"barpolar\":[{\"marker\":{\"line\":{\"color\":\"#E5ECF6\",\"width\":0.5},\"pattern\":{\"fillmode\":\"overlay\",\"size\":10,\"solidity\":0.2}},\"type\":\"barpolar\"}],\"pie\":[{\"automargin\":true,\"type\":\"pie\"}]},\"layout\":{\"autotypenumbers\":\"strict\",\"colorway\":[\"#636efa\",\"#EF553B\",\"#00cc96\",\"#ab63fa\",\"#FFA15A\",\"#19d3f3\",\"#FF6692\",\"#B6E880\",\"#FF97FF\",\"#FECB52\"],\"font\":{\"color\":\"#2a3f5f\"},\"hovermode\":\"closest\",\"hoverlabel\":{\"align\":\"left\"},\"paper_bgcolor\":\"white\",\"plot_bgcolor\":\"#E5ECF6\",\"polar\":{\"bgcolor\":\"#E5ECF6\",\"angularaxis\":{\"gridcolor\":\"white\",\"linecolor\":\"white\",\"ticks\":\"\"},\"radialaxis\":{\"gridcolor\":\"white\",\"linecolor\":\"white\",\"ticks\":\"\"}},\"ternary\":{\"bgcolor\":\"#E5ECF6\",\"aaxis\":{\"gridcolor\":\"white\",\"linecolor\":\"white\",\"ticks\":\"\"},\"baxis\":{\"gridcolor\":\"white\",\"linecolor\":\"white\",\"ticks\":\"\"},\"caxis\":{\"gridcolor\":\"white\",\"linecolor\":\"white\",\"ticks\":\"\"}},\"coloraxis\":{\"colorbar\":{\"outlinewidth\":0,\"ticks\":\"\"}},\"colorscale\":{\"sequential\":[[0.0,\"#0d0887\"],[0.1111111111111111,\"#46039f\"],[0.2222222222222222,\"#7201a8\"],[0.3333333333333333,\"#9c179e\"],[0.4444444444444444,\"#bd3786\"],[0.5555555555555556,\"#d8576b\"],[0.6666666666666666,\"#ed7953\"],[0.7777777777777778,\"#fb9f3a\"],[0.8888888888888888,\"#fdca26\"],[1.0,\"#f0f921\"]],\"sequentialminus\":[[0.0,\"#0d0887\"],[0.1111111111111111,\"#46039f\"],[0.2222222222222222,\"#7201a8\"],[0.3333333333333333,\"#9c179e\"],[0.4444444444444444,\"#bd3786\"],[0.5555555555555556,\"#d8576b\"],[0.6666666666666666,\"#ed7953\"],[0.7777777777777778,\"#fb9f3a\"],[0.8888888888888888,\"#fdca26\"],[1.0,\"#f0f921\"]],\"diverging\":[[0,\"#8e0152\"],[0.1,\"#c51b7d\"],[0.2,\"#de77ae\"],[0.3,\"#f1b6da\"],[0.4,\"#fde0ef\"],[0.5,\"#f7f7f7\"],[0.6,\"#e6f5d0\"],[0.7,\"#b8e186\"],[0.8,\"#7fbc41\"],[0.9,\"#4d9221\"],[1,\"#276419\"]]},\"xaxis\":{\"gridcolor\":\"white\",\"linecolor\":\"white\",\"ticks\":\"\",\"title\":{\"standoff\":15},\"zerolinecolor\":\"white\",\"automargin\":true,\"zerolinewidth\":2},\"yaxis\":{\"gridcolor\":\"white\",\"linecolor\":\"white\",\"ticks\":\"\",\"title\":{\"standoff\":15},\"zerolinecolor\":\"white\",\"automargin\":true,\"zerolinewidth\":2},\"scene\":{\"xaxis\":{\"backgroundcolor\":\"#E5ECF6\",\"gridcolor\":\"white\",\"linecolor\":\"white\",\"showbackground\":true,\"ticks\":\"\",\"zerolinecolor\":\"white\",\"gridwidth\":2},\"yaxis\":{\"backgroundcolor\":\"#E5ECF6\",\"gridcolor\":\"white\",\"linecolor\":\"white\",\"showbackground\":true,\"ticks\":\"\",\"zerolinecolor\":\"white\",\"gridwidth\":2},\"zaxis\":{\"backgroundcolor\":\"#E5ECF6\",\"gridcolor\":\"white\",\"linecolor\":\"white\",\"showbackground\":true,\"ticks\":\"\",\"zerolinecolor\":\"white\",\"gridwidth\":2}},\"shapedefaults\":{\"line\":{\"color\":\"#2a3f5f\"}},\"annotationdefaults\":{\"arrowcolor\":\"#2a3f5f\",\"arrowhead\":0,\"arrowwidth\":1},\"geo\":{\"bgcolor\":\"white\",\"landcolor\":\"#E5ECF6\",\"subunitcolor\":\"white\",\"showland\":true,\"showlakes\":true,\"lakecolor\":\"white\"},\"title\":{\"x\":0.05},\"mapbox\":{\"style\":\"light\"}}},\"xaxis\":{\"anchor\":\"y\",\"domain\":[0.0,1.0],\"title\":{\"text\":\"Model\"},\"categoryorder\":\"array\",\"categoryarray\":[\"CNN_model\",\"MLP\",\"SVM\",\"Random Forest\",\"KNN\",\"SVCLinear\",\"Logistic Regression\",\"VGG19\",\"ResNet50\",\"Decision tree\",\"VGG16\",\"DenseNet121\",\"DenseNet201\",\"InceptionV3\",\"AdaBoost\",\"Naive Bayes\",\"ResNet152\"],\"tickangle\":0},\"yaxis\":{\"anchor\":\"x\",\"domain\":[0.0,1.0],\"title\":{\"text\":\"Accuracy\"}},\"legend\":{\"title\":{\"text\":\"Model\"},\"tracegroupgap\":0},\"title\":{\"text\":\"Model Accuracy Comparison\"},\"barmode\":\"relative\",\"height\":700,\"bargap\":0.2,\"hovermode\":\"x\"},                        {\"responsive\": true}                    ).then(function(){\n",
              "                            \n",
              "var gd = document.getElementById('3fd350c0-76a6-48ef-bf8e-ddb2c6fc09e1');\n",
              "var x = new MutationObserver(function (mutations, observer) {{\n",
              "        var display = window.getComputedStyle(gd).display;\n",
              "        if (!display || display === 'none') {{\n",
              "            console.log([gd, 'removed!']);\n",
              "            Plotly.purge(gd);\n",
              "            observer.disconnect();\n",
              "        }}\n",
              "}});\n",
              "\n",
              "// Listen for the removal of the full notebook cells\n",
              "var notebookContainer = gd.closest('#notebook-container');\n",
              "if (notebookContainer) {{\n",
              "    x.observe(notebookContainer, {childList: true});\n",
              "}}\n",
              "\n",
              "// Listen for the clearing of the current output cell\n",
              "var outputEl = gd.closest('.output');\n",
              "if (outputEl) {{\n",
              "    x.observe(outputEl, {childList: true});\n",
              "}}\n",
              "\n",
              "                        })                };                            </script>        </div>\n",
              "</body>\n",
              "</html>"
            ]
          },
          "metadata": {},
          "output_type": "display_data"
        }
      ],
      "source": [
        "# Create a dataframe to store the results of the base models and their execution time and accuracy and print it out in a table\n",
        "results = pd.DataFrame({'Model': MODELS_LISTS, 'Accuracy': ACCURACIES, 'Execution Time(s)': [f\"{time:.4f}\" for time in EXECUTION_TIMES]})\n",
        "print(results)\n",
        "\n",
        "\n",
        "results = results.sort_values(by='Accuracy', ascending=False)\n",
        "\n",
        "# Bar plot using Plotly Express\n",
        "fig = px.bar(\n",
        "    results,\n",
        "    x='Model',\n",
        "    y='Accuracy',\n",
        "    color='Model',\n",
        "    text='Accuracy',\n",
        "    title='Model Accuracy Comparison',\n",
        "    labels={'Accuracy': 'Accuracy'},\n",
        "    height=700\n",
        ")\n",
        "\n",
        "# Add accuracy values on top of each bar\n",
        "fig.update_traces(texttemplate='%{text:.2%}', textposition='outside')\n",
        "\n",
        "# Customize layout\n",
        "fig.update_layout(\n",
        "    xaxis_title='Model',\n",
        "    yaxis_title='Accuracy',\n",
        "    xaxis_tickangle=0,\n",
        "    bargap=0.2,\n",
        "    hovermode='x',\n",
        ")\n",
        "\n",
        "# Show the plot\n",
        "fig.show()"
      ]
    },
    {
      "cell_type": "code",
      "execution_count": null,
      "metadata": {
        "colab": {
          "base_uri": "https://localhost:8080/",
          "height": 717
        },
        "id": "Si_stjKzE_HV",
        "outputId": "43ded9d4-1569-4fff-a778-23e53d8ebfc6"
      },
      "outputs": [
        {
          "data": {
            "text/html": [
              "<html>\n",
              "<head><meta charset=\"utf-8\" /></head>\n",
              "<body>\n",
              "    <div>            <script src=\"https://cdnjs.cloudflare.com/ajax/libs/mathjax/2.7.5/MathJax.js?config=TeX-AMS-MML_SVG\"></script><script type=\"text/javascript\">if (window.MathJax && window.MathJax.Hub && window.MathJax.Hub.Config) {window.MathJax.Hub.Config({SVG: {font: \"STIX-Web\"}});}</script>                <script type=\"text/javascript\">window.PlotlyConfig = {MathJaxConfig: 'local'};</script>\n",
              "        <script charset=\"utf-8\" src=\"https://cdn.plot.ly/plotly-2.24.1.min.js\"></script>                <div id=\"e7e80aed-0d02-46ea-b51a-f0d2ea238a95\" class=\"plotly-graph-div\" style=\"height:700px; width:100%;\"></div>            <script type=\"text/javascript\">                                    window.PLOTLYENV=window.PLOTLYENV || {};                                    if (document.getElementById(\"e7e80aed-0d02-46ea-b51a-f0d2ea238a95\")) {                    Plotly.newPlot(                        \"e7e80aed-0d02-46ea-b51a-f0d2ea238a95\",                        [{\"alignmentgroup\":\"True\",\"hovertemplate\":\"Model=%{x}\\u003cbr\\u003eSeconds=%{text}\\u003cextra\\u003e\\u003c\\u002fextra\\u003e\",\"legendgroup\":\"SVCLinear\",\"marker\":{\"color\":\"#636efa\",\"pattern\":{\"shape\":\"\"}},\"name\":\"SVCLinear\",\"offsetgroup\":\"SVCLinear\",\"orientation\":\"v\",\"showlegend\":true,\"text\":[362.3468],\"textposition\":\"outside\",\"x\":[\"SVCLinear\"],\"xaxis\":\"x\",\"y\":[362.3468],\"yaxis\":\"y\",\"type\":\"bar\",\"texttemplate\":\"%{text:.2f} seconds\"},{\"alignmentgroup\":\"True\",\"hovertemplate\":\"Model=%{x}\\u003cbr\\u003eSeconds=%{text}\\u003cextra\\u003e\\u003c\\u002fextra\\u003e\",\"legendgroup\":\"SVM\",\"marker\":{\"color\":\"#EF553B\",\"pattern\":{\"shape\":\"\"}},\"name\":\"SVM\",\"offsetgroup\":\"SVM\",\"orientation\":\"v\",\"showlegend\":true,\"text\":[258.609],\"textposition\":\"outside\",\"x\":[\"SVM\"],\"xaxis\":\"x\",\"y\":[258.609],\"yaxis\":\"y\",\"type\":\"bar\",\"texttemplate\":\"%{text:.2f} seconds\"},{\"alignmentgroup\":\"True\",\"hovertemplate\":\"Model=%{x}\\u003cbr\\u003eSeconds=%{text}\\u003cextra\\u003e\\u003c\\u002fextra\\u003e\",\"legendgroup\":\"AdaBoost\",\"marker\":{\"color\":\"#00cc96\",\"pattern\":{\"shape\":\"\"}},\"name\":\"AdaBoost\",\"offsetgroup\":\"AdaBoost\",\"orientation\":\"v\",\"showlegend\":true,\"text\":[240.3844],\"textposition\":\"outside\",\"x\":[\"AdaBoost\"],\"xaxis\":\"x\",\"y\":[240.3844],\"yaxis\":\"y\",\"type\":\"bar\",\"texttemplate\":\"%{text:.2f} seconds\"},{\"alignmentgroup\":\"True\",\"hovertemplate\":\"Model=%{x}\\u003cbr\\u003eSeconds=%{text}\\u003cextra\\u003e\\u003c\\u002fextra\\u003e\",\"legendgroup\":\"DenseNet201\",\"marker\":{\"color\":\"#ab63fa\",\"pattern\":{\"shape\":\"\"}},\"name\":\"DenseNet201\",\"offsetgroup\":\"DenseNet201\",\"orientation\":\"v\",\"showlegend\":true,\"text\":[121.0056],\"textposition\":\"outside\",\"x\":[\"DenseNet201\"],\"xaxis\":\"x\",\"y\":[121.0056],\"yaxis\":\"y\",\"type\":\"bar\",\"texttemplate\":\"%{text:.2f} seconds\"},{\"alignmentgroup\":\"True\",\"hovertemplate\":\"Model=%{x}\\u003cbr\\u003eSeconds=%{text}\\u003cextra\\u003e\\u003c\\u002fextra\\u003e\",\"legendgroup\":\"Random Forest\",\"marker\":{\"color\":\"#FFA15A\",\"pattern\":{\"shape\":\"\"}},\"name\":\"Random Forest\",\"offsetgroup\":\"Random Forest\",\"orientation\":\"v\",\"showlegend\":true,\"text\":[98.299],\"textposition\":\"outside\",\"x\":[\"Random Forest\"],\"xaxis\":\"x\",\"y\":[98.299],\"yaxis\":\"y\",\"type\":\"bar\",\"texttemplate\":\"%{text:.2f} seconds\"},{\"alignmentgroup\":\"True\",\"hovertemplate\":\"Model=%{x}\\u003cbr\\u003eSeconds=%{text}\\u003cextra\\u003e\\u003c\\u002fextra\\u003e\",\"legendgroup\":\"CNN_model\",\"marker\":{\"color\":\"#19d3f3\",\"pattern\":{\"shape\":\"\"}},\"name\":\"CNN_model\",\"offsetgroup\":\"CNN_model\",\"orientation\":\"v\",\"showlegend\":true,\"text\":[27.8681],\"textposition\":\"outside\",\"x\":[\"CNN_model\"],\"xaxis\":\"x\",\"y\":[27.8681],\"yaxis\":\"y\",\"type\":\"bar\",\"texttemplate\":\"%{text:.2f} seconds\"},{\"alignmentgroup\":\"True\",\"hovertemplate\":\"Model=%{x}\\u003cbr\\u003eSeconds=%{text}\\u003cextra\\u003e\\u003c\\u002fextra\\u003e\",\"legendgroup\":\"MLP\",\"marker\":{\"color\":\"#FF6692\",\"pattern\":{\"shape\":\"\"}},\"name\":\"MLP\",\"offsetgroup\":\"MLP\",\"orientation\":\"v\",\"showlegend\":true,\"text\":[27.8681],\"textposition\":\"outside\",\"x\":[\"MLP\"],\"xaxis\":\"x\",\"y\":[27.8681],\"yaxis\":\"y\",\"type\":\"bar\",\"texttemplate\":\"%{text:.2f} seconds\"},{\"alignmentgroup\":\"True\",\"hovertemplate\":\"Model=%{x}\\u003cbr\\u003eSeconds=%{text}\\u003cextra\\u003e\\u003c\\u002fextra\\u003e\",\"legendgroup\":\"Logistic Regression\",\"marker\":{\"color\":\"#B6E880\",\"pattern\":{\"shape\":\"\"}},\"name\":\"Logistic Regression\",\"offsetgroup\":\"Logistic Regression\",\"orientation\":\"v\",\"showlegend\":true,\"text\":[26.397],\"textposition\":\"outside\",\"x\":[\"Logistic Regression\"],\"xaxis\":\"x\",\"y\":[26.397],\"yaxis\":\"y\",\"type\":\"bar\",\"texttemplate\":\"%{text:.2f} seconds\"},{\"alignmentgroup\":\"True\",\"hovertemplate\":\"Model=%{x}\\u003cbr\\u003eSeconds=%{text}\\u003cextra\\u003e\\u003c\\u002fextra\\u003e\",\"legendgroup\":\"ResNet152\",\"marker\":{\"color\":\"#FF97FF\",\"pattern\":{\"shape\":\"\"}},\"name\":\"ResNet152\",\"offsetgroup\":\"ResNet152\",\"orientation\":\"v\",\"showlegend\":true,\"text\":[22.9346],\"textposition\":\"outside\",\"x\":[\"ResNet152\"],\"xaxis\":\"x\",\"y\":[22.9346],\"yaxis\":\"y\",\"type\":\"bar\",\"texttemplate\":\"%{text:.2f} seconds\"},{\"alignmentgroup\":\"True\",\"hovertemplate\":\"Model=%{x}\\u003cbr\\u003eSeconds=%{text}\\u003cextra\\u003e\\u003c\\u002fextra\\u003e\",\"legendgroup\":\"Decision tree\",\"marker\":{\"color\":\"#FECB52\",\"pattern\":{\"shape\":\"\"}},\"name\":\"Decision tree\",\"offsetgroup\":\"Decision tree\",\"orientation\":\"v\",\"showlegend\":true,\"text\":[21.8467],\"textposition\":\"outside\",\"x\":[\"Decision tree\"],\"xaxis\":\"x\",\"y\":[21.8467],\"yaxis\":\"y\",\"type\":\"bar\",\"texttemplate\":\"%{text:.2f} seconds\"},{\"alignmentgroup\":\"True\",\"hovertemplate\":\"Model=%{x}\\u003cbr\\u003eSeconds=%{text}\\u003cextra\\u003e\\u003c\\u002fextra\\u003e\",\"legendgroup\":\"DenseNet121\",\"marker\":{\"color\":\"#636efa\",\"pattern\":{\"shape\":\"\"}},\"name\":\"DenseNet121\",\"offsetgroup\":\"DenseNet121\",\"orientation\":\"v\",\"showlegend\":true,\"text\":[13.7981],\"textposition\":\"outside\",\"x\":[\"DenseNet121\"],\"xaxis\":\"x\",\"y\":[13.7981],\"yaxis\":\"y\",\"type\":\"bar\",\"texttemplate\":\"%{text:.2f} seconds\"},{\"alignmentgroup\":\"True\",\"hovertemplate\":\"Model=%{x}\\u003cbr\\u003eSeconds=%{text}\\u003cextra\\u003e\\u003c\\u002fextra\\u003e\",\"legendgroup\":\"ResNet50\",\"marker\":{\"color\":\"#EF553B\",\"pattern\":{\"shape\":\"\"}},\"name\":\"ResNet50\",\"offsetgroup\":\"ResNet50\",\"orientation\":\"v\",\"showlegend\":true,\"text\":[12.0556],\"textposition\":\"outside\",\"x\":[\"ResNet50\"],\"xaxis\":\"x\",\"y\":[12.0556],\"yaxis\":\"y\",\"type\":\"bar\",\"texttemplate\":\"%{text:.2f} seconds\"},{\"alignmentgroup\":\"True\",\"hovertemplate\":\"Model=%{x}\\u003cbr\\u003eSeconds=%{text}\\u003cextra\\u003e\\u003c\\u002fextra\\u003e\",\"legendgroup\":\"InceptionV3\",\"marker\":{\"color\":\"#00cc96\",\"pattern\":{\"shape\":\"\"}},\"name\":\"InceptionV3\",\"offsetgroup\":\"InceptionV3\",\"orientation\":\"v\",\"showlegend\":true,\"text\":[9.74],\"textposition\":\"outside\",\"x\":[\"InceptionV3\"],\"xaxis\":\"x\",\"y\":[9.74],\"yaxis\":\"y\",\"type\":\"bar\",\"texttemplate\":\"%{text:.2f} seconds\"},{\"alignmentgroup\":\"True\",\"hovertemplate\":\"Model=%{x}\\u003cbr\\u003eSeconds=%{text}\\u003cextra\\u003e\\u003c\\u002fextra\\u003e\",\"legendgroup\":\"VGG19\",\"marker\":{\"color\":\"#ab63fa\",\"pattern\":{\"shape\":\"\"}},\"name\":\"VGG19\",\"offsetgroup\":\"VGG19\",\"orientation\":\"v\",\"showlegend\":true,\"text\":[9.5304],\"textposition\":\"outside\",\"x\":[\"VGG19\"],\"xaxis\":\"x\",\"y\":[9.5304],\"yaxis\":\"y\",\"type\":\"bar\",\"texttemplate\":\"%{text:.2f} seconds\"},{\"alignmentgroup\":\"True\",\"hovertemplate\":\"Model=%{x}\\u003cbr\\u003eSeconds=%{text}\\u003cextra\\u003e\\u003c\\u002fextra\\u003e\",\"legendgroup\":\"VGG16\",\"marker\":{\"color\":\"#FFA15A\",\"pattern\":{\"shape\":\"\"}},\"name\":\"VGG16\",\"offsetgroup\":\"VGG16\",\"orientation\":\"v\",\"showlegend\":true,\"text\":[8.5534],\"textposition\":\"outside\",\"x\":[\"VGG16\"],\"xaxis\":\"x\",\"y\":[8.5534],\"yaxis\":\"y\",\"type\":\"bar\",\"texttemplate\":\"%{text:.2f} seconds\"},{\"alignmentgroup\":\"True\",\"hovertemplate\":\"Model=%{x}\\u003cbr\\u003eSeconds=%{text}\\u003cextra\\u003e\\u003c\\u002fextra\\u003e\",\"legendgroup\":\"Naive Bayes\",\"marker\":{\"color\":\"#19d3f3\",\"pattern\":{\"shape\":\"\"}},\"name\":\"Naive Bayes\",\"offsetgroup\":\"Naive Bayes\",\"orientation\":\"v\",\"showlegend\":true,\"text\":[0.2897],\"textposition\":\"outside\",\"x\":[\"Naive Bayes\"],\"xaxis\":\"x\",\"y\":[0.2897],\"yaxis\":\"y\",\"type\":\"bar\",\"texttemplate\":\"%{text:.2f} seconds\"},{\"alignmentgroup\":\"True\",\"hovertemplate\":\"Model=%{x}\\u003cbr\\u003eSeconds=%{text}\\u003cextra\\u003e\\u003c\\u002fextra\\u003e\",\"legendgroup\":\"KNN\",\"marker\":{\"color\":\"#FF6692\",\"pattern\":{\"shape\":\"\"}},\"name\":\"KNN\",\"offsetgroup\":\"KNN\",\"orientation\":\"v\",\"showlegend\":true,\"text\":[0.0227],\"textposition\":\"outside\",\"x\":[\"KNN\"],\"xaxis\":\"x\",\"y\":[0.0227],\"yaxis\":\"y\",\"type\":\"bar\",\"texttemplate\":\"%{text:.2f} seconds\"}],                        {\"template\":{\"data\":{\"histogram2dcontour\":[{\"type\":\"histogram2dcontour\",\"colorbar\":{\"outlinewidth\":0,\"ticks\":\"\"},\"colorscale\":[[0.0,\"#0d0887\"],[0.1111111111111111,\"#46039f\"],[0.2222222222222222,\"#7201a8\"],[0.3333333333333333,\"#9c179e\"],[0.4444444444444444,\"#bd3786\"],[0.5555555555555556,\"#d8576b\"],[0.6666666666666666,\"#ed7953\"],[0.7777777777777778,\"#fb9f3a\"],[0.8888888888888888,\"#fdca26\"],[1.0,\"#f0f921\"]]}],\"choropleth\":[{\"type\":\"choropleth\",\"colorbar\":{\"outlinewidth\":0,\"ticks\":\"\"}}],\"histogram2d\":[{\"type\":\"histogram2d\",\"colorbar\":{\"outlinewidth\":0,\"ticks\":\"\"},\"colorscale\":[[0.0,\"#0d0887\"],[0.1111111111111111,\"#46039f\"],[0.2222222222222222,\"#7201a8\"],[0.3333333333333333,\"#9c179e\"],[0.4444444444444444,\"#bd3786\"],[0.5555555555555556,\"#d8576b\"],[0.6666666666666666,\"#ed7953\"],[0.7777777777777778,\"#fb9f3a\"],[0.8888888888888888,\"#fdca26\"],[1.0,\"#f0f921\"]]}],\"heatmap\":[{\"type\":\"heatmap\",\"colorbar\":{\"outlinewidth\":0,\"ticks\":\"\"},\"colorscale\":[[0.0,\"#0d0887\"],[0.1111111111111111,\"#46039f\"],[0.2222222222222222,\"#7201a8\"],[0.3333333333333333,\"#9c179e\"],[0.4444444444444444,\"#bd3786\"],[0.5555555555555556,\"#d8576b\"],[0.6666666666666666,\"#ed7953\"],[0.7777777777777778,\"#fb9f3a\"],[0.8888888888888888,\"#fdca26\"],[1.0,\"#f0f921\"]]}],\"heatmapgl\":[{\"type\":\"heatmapgl\",\"colorbar\":{\"outlinewidth\":0,\"ticks\":\"\"},\"colorscale\":[[0.0,\"#0d0887\"],[0.1111111111111111,\"#46039f\"],[0.2222222222222222,\"#7201a8\"],[0.3333333333333333,\"#9c179e\"],[0.4444444444444444,\"#bd3786\"],[0.5555555555555556,\"#d8576b\"],[0.6666666666666666,\"#ed7953\"],[0.7777777777777778,\"#fb9f3a\"],[0.8888888888888888,\"#fdca26\"],[1.0,\"#f0f921\"]]}],\"contourcarpet\":[{\"type\":\"contourcarpet\",\"colorbar\":{\"outlinewidth\":0,\"ticks\":\"\"}}],\"contour\":[{\"type\":\"contour\",\"colorbar\":{\"outlinewidth\":0,\"ticks\":\"\"},\"colorscale\":[[0.0,\"#0d0887\"],[0.1111111111111111,\"#46039f\"],[0.2222222222222222,\"#7201a8\"],[0.3333333333333333,\"#9c179e\"],[0.4444444444444444,\"#bd3786\"],[0.5555555555555556,\"#d8576b\"],[0.6666666666666666,\"#ed7953\"],[0.7777777777777778,\"#fb9f3a\"],[0.8888888888888888,\"#fdca26\"],[1.0,\"#f0f921\"]]}],\"surface\":[{\"type\":\"surface\",\"colorbar\":{\"outlinewidth\":0,\"ticks\":\"\"},\"colorscale\":[[0.0,\"#0d0887\"],[0.1111111111111111,\"#46039f\"],[0.2222222222222222,\"#7201a8\"],[0.3333333333333333,\"#9c179e\"],[0.4444444444444444,\"#bd3786\"],[0.5555555555555556,\"#d8576b\"],[0.6666666666666666,\"#ed7953\"],[0.7777777777777778,\"#fb9f3a\"],[0.8888888888888888,\"#fdca26\"],[1.0,\"#f0f921\"]]}],\"mesh3d\":[{\"type\":\"mesh3d\",\"colorbar\":{\"outlinewidth\":0,\"ticks\":\"\"}}],\"scatter\":[{\"fillpattern\":{\"fillmode\":\"overlay\",\"size\":10,\"solidity\":0.2},\"type\":\"scatter\"}],\"parcoords\":[{\"type\":\"parcoords\",\"line\":{\"colorbar\":{\"outlinewidth\":0,\"ticks\":\"\"}}}],\"scatterpolargl\":[{\"type\":\"scatterpolargl\",\"marker\":{\"colorbar\":{\"outlinewidth\":0,\"ticks\":\"\"}}}],\"bar\":[{\"error_x\":{\"color\":\"#2a3f5f\"},\"error_y\":{\"color\":\"#2a3f5f\"},\"marker\":{\"line\":{\"color\":\"#E5ECF6\",\"width\":0.5},\"pattern\":{\"fillmode\":\"overlay\",\"size\":10,\"solidity\":0.2}},\"type\":\"bar\"}],\"scattergeo\":[{\"type\":\"scattergeo\",\"marker\":{\"colorbar\":{\"outlinewidth\":0,\"ticks\":\"\"}}}],\"scatterpolar\":[{\"type\":\"scatterpolar\",\"marker\":{\"colorbar\":{\"outlinewidth\":0,\"ticks\":\"\"}}}],\"histogram\":[{\"marker\":{\"pattern\":{\"fillmode\":\"overlay\",\"size\":10,\"solidity\":0.2}},\"type\":\"histogram\"}],\"scattergl\":[{\"type\":\"scattergl\",\"marker\":{\"colorbar\":{\"outlinewidth\":0,\"ticks\":\"\"}}}],\"scatter3d\":[{\"type\":\"scatter3d\",\"line\":{\"colorbar\":{\"outlinewidth\":0,\"ticks\":\"\"}},\"marker\":{\"colorbar\":{\"outlinewidth\":0,\"ticks\":\"\"}}}],\"scattermapbox\":[{\"type\":\"scattermapbox\",\"marker\":{\"colorbar\":{\"outlinewidth\":0,\"ticks\":\"\"}}}],\"scatterternary\":[{\"type\":\"scatterternary\",\"marker\":{\"colorbar\":{\"outlinewidth\":0,\"ticks\":\"\"}}}],\"scattercarpet\":[{\"type\":\"scattercarpet\",\"marker\":{\"colorbar\":{\"outlinewidth\":0,\"ticks\":\"\"}}}],\"carpet\":[{\"aaxis\":{\"endlinecolor\":\"#2a3f5f\",\"gridcolor\":\"white\",\"linecolor\":\"white\",\"minorgridcolor\":\"white\",\"startlinecolor\":\"#2a3f5f\"},\"baxis\":{\"endlinecolor\":\"#2a3f5f\",\"gridcolor\":\"white\",\"linecolor\":\"white\",\"minorgridcolor\":\"white\",\"startlinecolor\":\"#2a3f5f\"},\"type\":\"carpet\"}],\"table\":[{\"cells\":{\"fill\":{\"color\":\"#EBF0F8\"},\"line\":{\"color\":\"white\"}},\"header\":{\"fill\":{\"color\":\"#C8D4E3\"},\"line\":{\"color\":\"white\"}},\"type\":\"table\"}],\"barpolar\":[{\"marker\":{\"line\":{\"color\":\"#E5ECF6\",\"width\":0.5},\"pattern\":{\"fillmode\":\"overlay\",\"size\":10,\"solidity\":0.2}},\"type\":\"barpolar\"}],\"pie\":[{\"automargin\":true,\"type\":\"pie\"}]},\"layout\":{\"autotypenumbers\":\"strict\",\"colorway\":[\"#636efa\",\"#EF553B\",\"#00cc96\",\"#ab63fa\",\"#FFA15A\",\"#19d3f3\",\"#FF6692\",\"#B6E880\",\"#FF97FF\",\"#FECB52\"],\"font\":{\"color\":\"#2a3f5f\"},\"hovermode\":\"closest\",\"hoverlabel\":{\"align\":\"left\"},\"paper_bgcolor\":\"white\",\"plot_bgcolor\":\"#E5ECF6\",\"polar\":{\"bgcolor\":\"#E5ECF6\",\"angularaxis\":{\"gridcolor\":\"white\",\"linecolor\":\"white\",\"ticks\":\"\"},\"radialaxis\":{\"gridcolor\":\"white\",\"linecolor\":\"white\",\"ticks\":\"\"}},\"ternary\":{\"bgcolor\":\"#E5ECF6\",\"aaxis\":{\"gridcolor\":\"white\",\"linecolor\":\"white\",\"ticks\":\"\"},\"baxis\":{\"gridcolor\":\"white\",\"linecolor\":\"white\",\"ticks\":\"\"},\"caxis\":{\"gridcolor\":\"white\",\"linecolor\":\"white\",\"ticks\":\"\"}},\"coloraxis\":{\"colorbar\":{\"outlinewidth\":0,\"ticks\":\"\"}},\"colorscale\":{\"sequential\":[[0.0,\"#0d0887\"],[0.1111111111111111,\"#46039f\"],[0.2222222222222222,\"#7201a8\"],[0.3333333333333333,\"#9c179e\"],[0.4444444444444444,\"#bd3786\"],[0.5555555555555556,\"#d8576b\"],[0.6666666666666666,\"#ed7953\"],[0.7777777777777778,\"#fb9f3a\"],[0.8888888888888888,\"#fdca26\"],[1.0,\"#f0f921\"]],\"sequentialminus\":[[0.0,\"#0d0887\"],[0.1111111111111111,\"#46039f\"],[0.2222222222222222,\"#7201a8\"],[0.3333333333333333,\"#9c179e\"],[0.4444444444444444,\"#bd3786\"],[0.5555555555555556,\"#d8576b\"],[0.6666666666666666,\"#ed7953\"],[0.7777777777777778,\"#fb9f3a\"],[0.8888888888888888,\"#fdca26\"],[1.0,\"#f0f921\"]],\"diverging\":[[0,\"#8e0152\"],[0.1,\"#c51b7d\"],[0.2,\"#de77ae\"],[0.3,\"#f1b6da\"],[0.4,\"#fde0ef\"],[0.5,\"#f7f7f7\"],[0.6,\"#e6f5d0\"],[0.7,\"#b8e186\"],[0.8,\"#7fbc41\"],[0.9,\"#4d9221\"],[1,\"#276419\"]]},\"xaxis\":{\"gridcolor\":\"white\",\"linecolor\":\"white\",\"ticks\":\"\",\"title\":{\"standoff\":15},\"zerolinecolor\":\"white\",\"automargin\":true,\"zerolinewidth\":2},\"yaxis\":{\"gridcolor\":\"white\",\"linecolor\":\"white\",\"ticks\":\"\",\"title\":{\"standoff\":15},\"zerolinecolor\":\"white\",\"automargin\":true,\"zerolinewidth\":2},\"scene\":{\"xaxis\":{\"backgroundcolor\":\"#E5ECF6\",\"gridcolor\":\"white\",\"linecolor\":\"white\",\"showbackground\":true,\"ticks\":\"\",\"zerolinecolor\":\"white\",\"gridwidth\":2},\"yaxis\":{\"backgroundcolor\":\"#E5ECF6\",\"gridcolor\":\"white\",\"linecolor\":\"white\",\"showbackground\":true,\"ticks\":\"\",\"zerolinecolor\":\"white\",\"gridwidth\":2},\"zaxis\":{\"backgroundcolor\":\"#E5ECF6\",\"gridcolor\":\"white\",\"linecolor\":\"white\",\"showbackground\":true,\"ticks\":\"\",\"zerolinecolor\":\"white\",\"gridwidth\":2}},\"shapedefaults\":{\"line\":{\"color\":\"#2a3f5f\"}},\"annotationdefaults\":{\"arrowcolor\":\"#2a3f5f\",\"arrowhead\":0,\"arrowwidth\":1},\"geo\":{\"bgcolor\":\"white\",\"landcolor\":\"#E5ECF6\",\"subunitcolor\":\"white\",\"showland\":true,\"showlakes\":true,\"lakecolor\":\"white\"},\"title\":{\"x\":0.05},\"mapbox\":{\"style\":\"light\"}}},\"xaxis\":{\"anchor\":\"y\",\"domain\":[0.0,1.0],\"title\":{\"text\":\"Model\"},\"categoryorder\":\"array\",\"categoryarray\":[\"SVCLinear\",\"SVM\",\"AdaBoost\",\"DenseNet201\",\"Random Forest\",\"CNN_model\",\"MLP\",\"Logistic Regression\",\"ResNet152\",\"Decision tree\",\"DenseNet121\",\"ResNet50\",\"InceptionV3\",\"VGG19\",\"VGG16\",\"Naive Bayes\",\"KNN\"],\"tickangle\":0},\"yaxis\":{\"anchor\":\"x\",\"domain\":[0.0,1.0],\"title\":{\"text\":\"Execution Time (s)\"}},\"legend\":{\"title\":{\"text\":\"Model\"},\"tracegroupgap\":0},\"title\":{\"text\":\"Execution time comparasion\"},\"barmode\":\"relative\",\"height\":700,\"bargap\":0.2,\"hovermode\":\"x\"},                        {\"responsive\": true}                    ).then(function(){\n",
              "                            \n",
              "var gd = document.getElementById('e7e80aed-0d02-46ea-b51a-f0d2ea238a95');\n",
              "var x = new MutationObserver(function (mutations, observer) {{\n",
              "        var display = window.getComputedStyle(gd).display;\n",
              "        if (!display || display === 'none') {{\n",
              "            console.log([gd, 'removed!']);\n",
              "            Plotly.purge(gd);\n",
              "            observer.disconnect();\n",
              "        }}\n",
              "}});\n",
              "\n",
              "// Listen for the removal of the full notebook cells\n",
              "var notebookContainer = gd.closest('#notebook-container');\n",
              "if (notebookContainer) {{\n",
              "    x.observe(notebookContainer, {childList: true});\n",
              "}}\n",
              "\n",
              "// Listen for the clearing of the current output cell\n",
              "var outputEl = gd.closest('.output');\n",
              "if (outputEl) {{\n",
              "    x.observe(outputEl, {childList: true});\n",
              "}}\n",
              "\n",
              "                        })                };                            </script>        </div>\n",
              "</body>\n",
              "</html>"
            ]
          },
          "metadata": {},
          "output_type": "display_data"
        }
      ],
      "source": [
        "#Convert 'Execution Time(s)' to numeric for sorting\n",
        "results['Execution Time(s)'] = pd.to_numeric(results['Execution Time(s)'])\n",
        "\n",
        "# Sort the dataframe by 'Execution Time(s)'\n",
        "results = results.sort_values(by='Execution Time(s)', ascending=False)\n",
        "\n",
        "# Bar plot using Plotly Express\n",
        "fig = px.bar(\n",
        "    results,\n",
        "    x='Model',\n",
        "    y='Execution Time(s)',\n",
        "    color='Model',\n",
        "    text='Execution Time(s)',\n",
        "    title='Execution time comparasion',\n",
        "    labels={'Execution Time(s)': 'Seconds'},\n",
        "    height=700\n",
        ")\n",
        "\n",
        "# Add time values on top of each bar\n",
        "fig.update_traces(texttemplate='%{text:.2f} seconds', textposition='outside')\n",
        "\n",
        "# Customize layout\n",
        "fig.update_layout(\n",
        "    xaxis_title='Model',\n",
        "    yaxis_title='Execution Time (s)',\n",
        "    xaxis_tickangle=0,\n",
        "    bargap=0.2,\n",
        "    hovermode='x',\n",
        ")\n",
        "\n",
        "# Show the plot\n",
        "fig.show()"
      ]
    },
    {
      "cell_type": "markdown",
      "metadata": {
        "id": "Rl81rqIsGP0f"
      },
      "source": [
        "## Conclusões\n",
        "\n",
        "1. **Base modelss:**\n",
        "   - Árvore de Decisão: Obteve uma precisão de 80,08% com um tempo de execução relativamente baixo de 21,85 segundos.\n",
        "   - Random Forest: Superou a Árvore de Decisão com uma precisão de 87,73%, mas levou mais tempo para executar (98,30 segundos).\n",
        "   - SVM: Alcançou a maior precisão entre os modelos base (90,02%), mas com um tempo de execução moderado de 258,61 segundos.\n",
        "   - KNN: Alcançou um bom equilíbrio entre precisão (85,77%) e um tempo de execução muito baixo (0,02 segundos).\n",
        "   - Regressão Logística: Mostrou uma precisão decente (84,13%) e um tempo de execução razoável de 26,40 segundos.\n",
        "   - Naive Bayes: A menor precisão entre os modelos base (58,56%), mas executou muito rápido (0,29 segundos).\n",
        "   - AdaBoost: Semelhante ao Naive Bayes em termos de precisão (59,28%), mas demorou significativamente mais (240,38 segundos).\n",
        "\n",
        "2. **Redes Neurais Convolucionais (CNNs):**\n",
        "   - VGG16: Obteve uma precisão de 78,50% com um tempo de execução relativamente baixo de 8,55 segundos.\n",
        "   - VGG19: Melhorou ligeiramente a precisão em comparação com a VGG16 (82,90%)e  com um tempo de execução semelhante (9,53 segundos).\n",
        "   - ResNet50: Alcançou uma precisão competitiva de 82,50% com um tempo de execução moderado de 12,06 segundos.\n",
        "   - ResNet152: Menor precisão (38,50%) em comparação com outras CNNs e um tempo de execução mais longo (22,93 segundos).\n",
        "   - InceptionV3: Precisão moderada (63,10%) e tempo de execução moderado (9,74 segundos).\n",
        "   - DenseNet121: Alcançou um bom equilíbrio com uma precisão de 67,90% e um tempo de execução moderado de 13,80 segundos.\n",
        "   - DenseNet201: Precisão ligeiramente menor (65,80%) em comparação com a DenseNet121, mas com um tempo de execução mais longo (121,01 segundos).\n",
        "\n",
        "3. **MLP e CNN:**\n",
        "   - MLP: Obteve a maior precisão entre todos os modelos (91,11%) com um tempo de execução razoável de 27,87 segundos.\n",
        "   - CNN_model: Obteve a mesma precisão e tempo de execução do modelo MLP.\n",
        "\n",
        "**Resumo Geral:**\n",
        "- Entre os modelos base, o SVM alcançou a maior precisão, enquanto o KNN demonstrou um bom equilíbrio entre precisão e tempo de execução.\n",
        "- CNNs geralmente se saíram bem, com VGG19 e ResNet50 sendo escolhas competitivas.\n",
        "- O MLP superou outros modelos, alcançando a maior precisão com um tempo de execução razoável.\n",
        "\n",
        "Considerações para a Seleção do Modelo:\n",
        "- Se houver uma compensação entre precisão e tempo de execução, o KNN pode ser uma boa escolha.\n",
        "- CNNs como VGG19 e ResNet50 se saíram bem na análise.\n",
        "- Em relação ao tempo e a precisão, o CNN model ou MLP se mostram as melhores opções neste cenário.\n",
        "\n",
        "A escolha final depende de requisitos específicos, como a importância da precisão, os recursos computacionais disponíveis e a compensação entre precisão e tempo de execução."
      ]
    }
  ],
  "metadata": {
    "accelerator": "GPU",
    "colab": {
      "gpuType": "T4",
      "provenance": [],
      "toc_visible": true
    },
    "kernelspec": {
      "display_name": "Python 3",
      "name": "python3"
    },
    "language_info": {
      "codemirror_mode": {
        "name": "ipython",
        "version": 3
      },
      "file_extension": ".py",
      "mimetype": "text/x-python",
      "name": "python",
      "nbconvert_exporter": "python",
      "pygments_lexer": "ipython3",
      "version": "3.11.7"
    }
  },
  "nbformat": 4,
  "nbformat_minor": 0
}
